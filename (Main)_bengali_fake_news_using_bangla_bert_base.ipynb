{
  "cells": [
    {
      "cell_type": "markdown",
      "metadata": {
        "id": "view-in-github",
        "colab_type": "text"
      },
      "source": [
        "<a href=\"https://colab.research.google.com/github/TalhaOmi/-bengali-fake-news-using-bangla-bert-base/blob/main/(Main)_bengali_fake_news_using_bangla_bert_base.ipynb\" target=\"_parent\"><img src=\"https://colab.research.google.com/assets/colab-badge.svg\" alt=\"Open In Colab\"/></a>"
      ]
    },
    {
      "cell_type": "markdown",
      "metadata": {
        "id": "D9YuKV6Sb3nZ"
      },
      "source": [
        "**NLP**"
      ]
    },
    {
      "cell_type": "code",
      "execution_count": null,
      "metadata": {
        "id": "ecPyTwP5c8Ux"
      },
      "outputs": [],
      "source": []
    },
    {
      "cell_type": "code",
      "execution_count": null,
      "metadata": {
        "colab": {
          "base_uri": "https://localhost:8080/"
        },
        "id": "xG4cJgFdA8Ec",
        "outputId": "979d2e50-c4c9-4697-fa64-ab1c9427a898"
      },
      "outputs": [
        {
          "name": "stdout",
          "output_type": "stream",
          "text": [
            "Mounted at /content/drive\n"
          ]
        }
      ],
      "source": [
        "from google.colab import drive\n",
        "drive.mount('/content/drive')"
      ]
    },
    {
      "cell_type": "code",
      "execution_count": null,
      "metadata": {
        "id": "JWZYEF_Qbu8J"
      },
      "outputs": [],
      "source": [
        "import warnings\n",
        "warnings.filterwarnings('ignore')"
      ]
    },
    {
      "cell_type": "markdown",
      "metadata": {
        "id": "Zz41xf3Ibu8W"
      },
      "source": [
        "### Train and Test split: \n",
        "(only 20% data used for testing)\n",
        "- Total Dataset size: 10392\n",
        "- Total train size: 8313\n",
        "- Test train size: 2079"
      ]
    },
    {
      "cell_type": "code",
      "execution_count": null,
      "metadata": {
        "colab": {
          "base_uri": "https://localhost:8080/",
          "height": 1000,
          "referenced_widgets": [
            "9f6723c362c04b59b8a75ec4e9438aba",
            "65efc570b3d44d36a36a37b3830bfd96",
            "ca688adea8a94629820510e2540d70b0",
            "4443dac0fca4413598a6219061a3c3bd",
            "dd39a7a5eefc4a8b914c8b8bf5b84537",
            "60426a7c56514c7f97d0ab2b47269b33",
            "02f83d2857ac4cd48fee6e1b2808ccd8",
            "4e3ed5a3f3814306afb6644007c11ec7",
            "2e1df52bfb5546f18153329b180fd924",
            "237ec9a46ba645f68203e82e9434fb3e",
            "7888a0ad517344e4b1566b513474222d"
          ]
        },
        "id": "g53Lht50-3UD",
        "outputId": "809547ed-9ff7-4e08-c7a3-dd241914a970"
      },
      "outputs": [
        {
          "name": "stdout",
          "output_type": "stream",
          "text": [
            "Looking in indexes: https://pypi.org/simple, https://us-python.pkg.dev/colab-wheels/public/simple/\n",
            "Collecting transformers\n",
            "  Downloading transformers-4.22.1-py3-none-any.whl (4.9 MB)\n",
            "\u001b[K     |████████████████████████████████| 4.9 MB 8.1 MB/s \n",
            "\u001b[?25hCollecting tokenizers!=0.11.3,<0.13,>=0.11.1\n",
            "  Downloading tokenizers-0.12.1-cp37-cp37m-manylinux_2_12_x86_64.manylinux2010_x86_64.whl (6.6 MB)\n",
            "\u001b[K     |████████████████████████████████| 6.6 MB 42.6 MB/s \n",
            "\u001b[?25hRequirement already satisfied: tqdm>=4.27 in /usr/local/lib/python3.7/dist-packages (from transformers) (4.64.1)\n",
            "Requirement already satisfied: pyyaml>=5.1 in /usr/local/lib/python3.7/dist-packages (from transformers) (6.0)\n",
            "Requirement already satisfied: numpy>=1.17 in /usr/local/lib/python3.7/dist-packages (from transformers) (1.21.6)\n",
            "Requirement already satisfied: requests in /usr/local/lib/python3.7/dist-packages (from transformers) (2.23.0)\n",
            "Requirement already satisfied: regex!=2019.12.17 in /usr/local/lib/python3.7/dist-packages (from transformers) (2022.6.2)\n",
            "Requirement already satisfied: filelock in /usr/local/lib/python3.7/dist-packages (from transformers) (3.8.0)\n",
            "Collecting huggingface-hub<1.0,>=0.9.0\n",
            "  Downloading huggingface_hub-0.9.1-py3-none-any.whl (120 kB)\n",
            "\u001b[K     |████████████████████████████████| 120 kB 74.3 MB/s \n",
            "\u001b[?25hRequirement already satisfied: packaging>=20.0 in /usr/local/lib/python3.7/dist-packages (from transformers) (21.3)\n",
            "Requirement already satisfied: importlib-metadata in /usr/local/lib/python3.7/dist-packages (from transformers) (4.12.0)\n",
            "Requirement already satisfied: typing-extensions>=3.7.4.3 in /usr/local/lib/python3.7/dist-packages (from huggingface-hub<1.0,>=0.9.0->transformers) (4.1.1)\n",
            "Requirement already satisfied: pyparsing!=3.0.5,>=2.0.2 in /usr/local/lib/python3.7/dist-packages (from packaging>=20.0->transformers) (3.0.9)\n",
            "Requirement already satisfied: zipp>=0.5 in /usr/local/lib/python3.7/dist-packages (from importlib-metadata->transformers) (3.8.1)\n",
            "Requirement already satisfied: idna<3,>=2.5 in /usr/local/lib/python3.7/dist-packages (from requests->transformers) (2.10)\n",
            "Requirement already satisfied: chardet<4,>=3.0.2 in /usr/local/lib/python3.7/dist-packages (from requests->transformers) (3.0.4)\n",
            "Requirement already satisfied: certifi>=2017.4.17 in /usr/local/lib/python3.7/dist-packages (from requests->transformers) (2022.6.15)\n",
            "Requirement already satisfied: urllib3!=1.25.0,!=1.25.1,<1.26,>=1.21.1 in /usr/local/lib/python3.7/dist-packages (from requests->transformers) (1.24.3)\n",
            "Installing collected packages: tokenizers, huggingface-hub, transformers\n",
            "Successfully installed huggingface-hub-0.9.1 tokenizers-0.12.1 transformers-4.22.1\n",
            "Looking in indexes: https://pypi.org/simple, https://us-python.pkg.dev/colab-wheels/public/simple/\n",
            "Collecting bnlp_toolkit\n",
            "  Downloading bnlp_toolkit-3.1.2-py3-none-any.whl (17 kB)\n",
            "Requirement already satisfied: scipy in /usr/local/lib/python3.7/dist-packages (from bnlp_toolkit) (1.7.3)\n",
            "Requirement already satisfied: nltk in /usr/local/lib/python3.7/dist-packages (from bnlp_toolkit) (3.7)\n",
            "Collecting sentencepiece\n",
            "  Downloading sentencepiece-0.1.97-cp37-cp37m-manylinux_2_17_x86_64.manylinux2014_x86_64.whl (1.3 MB)\n",
            "\u001b[K     |████████████████████████████████| 1.3 MB 7.2 MB/s \n",
            "\u001b[?25hRequirement already satisfied: numpy in /usr/local/lib/python3.7/dist-packages (from bnlp_toolkit) (1.21.6)\n",
            "Requirement already satisfied: wasabi in /usr/local/lib/python3.7/dist-packages (from bnlp_toolkit) (0.10.1)\n",
            "Collecting gensim==4.0.1\n",
            "  Downloading gensim-4.0.1-cp37-cp37m-manylinux1_x86_64.whl (23.9 MB)\n",
            "\u001b[K     |████████████████████████████████| 23.9 MB 1.4 MB/s \n",
            "\u001b[?25hCollecting sklearn-crfsuite\n",
            "  Downloading sklearn_crfsuite-0.3.6-py2.py3-none-any.whl (12 kB)\n",
            "Requirement already satisfied: smart-open>=1.8.1 in /usr/local/lib/python3.7/dist-packages (from gensim==4.0.1->bnlp_toolkit) (5.2.1)\n",
            "Requirement already satisfied: click in /usr/local/lib/python3.7/dist-packages (from nltk->bnlp_toolkit) (7.1.2)\n",
            "Requirement already satisfied: tqdm in /usr/local/lib/python3.7/dist-packages (from nltk->bnlp_toolkit) (4.64.1)\n",
            "Requirement already satisfied: regex>=2021.8.3 in /usr/local/lib/python3.7/dist-packages (from nltk->bnlp_toolkit) (2022.6.2)\n",
            "Requirement already satisfied: joblib in /usr/local/lib/python3.7/dist-packages (from nltk->bnlp_toolkit) (1.1.0)\n",
            "Collecting python-crfsuite>=0.8.3\n",
            "  Downloading python_crfsuite-0.9.8-cp37-cp37m-manylinux_2_17_x86_64.manylinux2014_x86_64.whl (965 kB)\n",
            "\u001b[K     |████████████████████████████████| 965 kB 72.8 MB/s \n",
            "\u001b[?25hRequirement already satisfied: tabulate in /usr/local/lib/python3.7/dist-packages (from sklearn-crfsuite->bnlp_toolkit) (0.8.10)\n",
            "Requirement already satisfied: six in /usr/local/lib/python3.7/dist-packages (from sklearn-crfsuite->bnlp_toolkit) (1.15.0)\n",
            "Installing collected packages: python-crfsuite, sklearn-crfsuite, sentencepiece, gensim, bnlp-toolkit\n",
            "  Attempting uninstall: gensim\n",
            "    Found existing installation: gensim 3.6.0\n",
            "    Uninstalling gensim-3.6.0:\n",
            "      Successfully uninstalled gensim-3.6.0\n",
            "Successfully installed bnlp-toolkit-3.1.2 gensim-4.0.1 python-crfsuite-0.9.8 sentencepiece-0.1.97 sklearn-crfsuite-0.3.6\n"
          ]
        },
        {
          "name": "stderr",
          "output_type": "stream",
          "text": [
            "The cache for model files in Transformers v4.22.0 has been updated. Migrating your old cache. This is a one-time only operation. You can interrupt this and resume the migration later on by calling `transformers.utils.move_cache()`.\n"
          ]
        },
        {
          "name": "stdout",
          "output_type": "stream",
          "text": [
            "Moving 0 files to the new cache system\n"
          ]
        },
        {
          "data": {
            "application/vnd.jupyter.widget-view+json": {
              "model_id": "9f6723c362c04b59b8a75ec4e9438aba",
              "version_major": 2,
              "version_minor": 0
            },
            "text/plain": [
              "0it [00:00, ?it/s]"
            ]
          },
          "metadata": {},
          "output_type": "display_data"
        }
      ],
      "source": [
        "!pip install transformers\n",
        "!pip install bnlp_toolkit\n",
        "import time\n",
        "\n",
        "import numpy as np\n",
        "import pandas as pd\n",
        "import torch\n",
        "import torch.nn as nn\n",
        "from torch.optim import AdamW\n",
        "from torch.utils.data import DataLoader\n",
        "from torch.utils.data import Dataset\n",
        "from tqdm.notebook import tqdm\n",
        "from transformers import BertModel, BertTokenizer, BertForSequenceClassification\n",
        "from imblearn.over_sampling import SMOTE\n",
        "import matplotlib.pyplot as plt\n",
        "from sklearn.datasets import make_classification\n",
        "from sklearn.metrics import plot_confusion_matrix\n",
        "from sklearn.metrics import confusion_matrix"
      ]
    },
    {
      "cell_type": "code",
      "execution_count": null,
      "metadata": {
        "id": "iiervAAzbu8W"
      },
      "outputs": [],
      "source": [
        "class NewsDatasets(Dataset):\n",
        "    def __init__(self, data, max_length=100):\n",
        "        self.data = data\n",
        "        \n",
        "        self.config = {\n",
        "            \"max_length\": max_length,\n",
        "            \"padding\": \"max_length\",\n",
        "            \"return_tensors\": \"pt\",\n",
        "            \"truncation\": True,\n",
        "            \"add_special_tokens\": True\n",
        "        }\n",
        "\n",
        "    def __len__(self):\n",
        "        return len(self.data)\n",
        "\n",
        "    def __getitem__(self, idx):\n",
        "        value = self.data.iloc[idx]\n",
        "        return value['head']+\"[SEP]\"+value['con'] , value['label']"
      ]
    },
    {
      "cell_type": "code",
      "execution_count": null,
      "metadata": {
        "colab": {
          "base_uri": "https://localhost:8080/"
        },
        "id": "c7OJwcXpbu8X",
        "outputId": "637fdbbd-3405-46cb-ef73-d8efe3cce221"
      },
      "outputs": [
        {
          "name": "stdout",
          "output_type": "stream",
          "text": [
            "1497\n",
            "40\n"
          ]
        }
      ],
      "source": [
        "auth = pd.read_csv(\"/content/drive/MyDrive/Colab Notebooks/Dataset/For Sentiment/Division /40%/auth_set_1.csv\",encoding='UTF-8')\n",
        "fake = pd.read_csv(\"/content/drive/MyDrive/Colab Notebooks/Dataset/For Sentiment/Division /40%/fake_set_1.csv\",encoding='UTF-8')\n",
        "\n",
        "\n",
        "print(len(auth))\n",
        "print(len(fake))"
      ]
    },
    {
      "cell_type": "code",
      "execution_count": null,
      "metadata": {
        "colab": {
          "base_uri": "https://localhost:8080/"
        },
        "id": "w0ZlkKmK8xFc",
        "outputId": "e3844f38-2ef8-4e1d-8e1a-43a764e4d59c"
      },
      "outputs": [
        {
          "data": {
            "text/plain": [
              "1537"
            ]
          },
          "execution_count": 6,
          "metadata": {},
          "output_type": "execute_result"
        }
      ],
      "source": [
        "\n",
        "#df = auth[:fake.shape[0]* 7]\n",
        "df = auth.append(fake)\n",
        "df = df.sample(frac=1).reset_index(drop=True)\n",
        "len(df)\n",
        "\n"
      ]
    },
    {
      "cell_type": "code",
      "execution_count": null,
      "metadata": {
        "colab": {
          "base_uri": "https://localhost:8080/"
        },
        "id": "krDOyDqzbu8X",
        "outputId": "72d3f5c3-fe86-412b-ef60-5d080f4a471c"
      },
      "outputs": [
        {
          "name": "stdout",
          "output_type": "stream",
          "text": [
            "punkt not found. downloading...\n"
          ]
        },
        {
          "name": "stderr",
          "output_type": "stream",
          "text": [
            "[nltk_data] Downloading package punkt to /root/nltk_data...\n",
            "[nltk_data]   Unzipping tokenizers/punkt.zip.\n"
          ]
        },
        {
          "name": "stdout",
          "output_type": "stream",
          "text": [
            "********** Before ***************\n",
            "নানা পাটেকার ও তনুশ্রী দত্তের যৌন হেনস্তা নিয়ে কানাঘুষা চলছে বলিউডে। অভিনেত্রী যত অভিযোগ করছেন, নানা পাটেকার ততই সেই অভিযোগ খারিজ করে দিচ্ছেন। ইতিমধ্যেই সোমবার সামনে আসে তনুশ্রীর উপর হামলার ভিডিও। মুহূর্তের মধ্যে সোশ্যাল মিডিয়ায় ওই ভিডিও ভাইরালও হয়ে যায়। এবার হামলাকারীদের নিয়ে মুখ খুললেন তনুশ্রীঅ। মহারাষ্ট্র নবনির্মাণ সেনাকে পাকিস্তানি জঙ্গিগোষ্ঠী আইএসের সঙ্গে তুলনা করলেন তিনি। সমস্যার সূত্রপাত, ২০০৮ সালে। ওই সময় ‘হর্ন ওকে প্লিজ’-এর শুটিং নিয়ে ব্যস্ত ছিলেন তনুশ্রী দত্ত। অভিযোগ, ওই ছবির গানের শুটিং চলার সময় নানা পাটেকর তাঁকে অশালীনভাবে স্পর্শ করার চেষ্টা করেন। এরপর তিনি অভিনেতার সঙ্গে কোনও রকম ঘনিষ্ঠ দৃশ্যে অভিনয় করতে চাননি। ঘটনাটি এখানেই থামিয়ে দেননি তনুশ্রী। ‘অন্যায়ে’র বিরুদ্ধে তিনি এফআইআর দায়ের করেন। তাঁকে ছবি থেকে বের করে দেওয়া হয় বলেও অভিযোগ। কারণ নানা পাটেকার বড় অভিনেতা ও এই ছবির প্রধান নায়ক ছিলেন। শুধু নানা পাটেকরই নন, কোরিওগ্রাফার গণেশ আচারিয়ার বিরুদ্ধেও অভিযোগ এনেছেন তনুশ্রী। তাঁর অভিযোগ, গণেশ ঘনিষ্ঠ হয়ে নাচ করার জন্য জোর করেছিলেন। প্রযোজক অমিত সিদ্দিকি, রাকেশ সারঙ্গিও অভিযোগের বাইরে নেই। যদিও গণেশ আচারিয়া এই অভিযোগ অস্বীকার করেছেন। কিন্তু তনুশ্রীর কথায় সবাই সেদিন মিলেমিশেই তাঁকে নাস্তানাবুদ করেছে। এমনকী শুটিংয়ের সময় তাঁকে মারধরের পরিকল্পনা হয়েছিল বলেও অভিযোগ। অভিনেত্রীর আরও অভিযোগ, ফিল্মের সেটে মহারাষ্ট্র নবনির্মাণ সেনার লোকজনকে ডাকেন তাঁরা। দলের কর্মীরা তনুশ্রীর গাড়িতে হামলা চালান। গাড়িতে তখন তাঁর বাবা-মা ছিলেন। সেদিন গণপিটুনির শিকার হয়েছিলেন বলেও অভিযোগ করেন তনুশ্রী। এই ঘটনার ভিডিওই আপাতত ভাইরাল। তনুশ্রীর দাবি, মহারাষ্ট্র নবনির্মাণ সেনা আদতে কোনও রাজনৈতিক দল নয়। তাদের সঙ্গে পাক জঙ্গিগোষ্ঠী আইএসের কোনও পার্থক্য নেই। দাঙ্গা বা নীতিপুলিশের ভূমিকা নিতেই মহারাষ্ট্র নবনির্মাণ সেনা অভ্যস্ত বলেও তোপ দাগতে ছাড়েননি অভিনেত্রী। তনুশ্রীর প্রতিক্রিয়া নিয়ে যদিও মহারাষ্ট্র নবনির্মাণ সেনার তরফে এখনও কোনও প্রতিক্রিয়া পাওয়া যায়নি।\n",
            "\n",
            "********** After ***************\n",
            "পাটেকার তনুশ্রী দত্তের যৌন হেনস্তা কানাঘুষা চলছে বলিউডে অভিনেত্রী অভিযোগ পাটেকার ততই অভিযোগ খারিজ দিচ্ছেন ইতিমধ্যেই সোমবার আসে তনুশ্রীর হামলার ভিডিও মুহূর্তের সোশ্যাল মিডিয়ায় ভিডিও ভাইরালও হামলাকারীদের মুখ খুললেন তনুশ্রীঅ মহারাষ্ট্র নবনির্মাণ সেনাকে পাকিস্তানি জঙ্গিগোষ্ঠী আইএসের তুলনা সমস্যার সূত্রপাত ২০০৮ সালে সময় হর্ন প্লিজ শুটিং ব্যস্ত তনুশ্রী দত্ত অভিযোগ ছবির গানের শুটিং চলার সময় পাটেকর অশালীনভাবে স্পর্শ এরপর অভিনেতার ঘনিষ্ঠ দৃশ্যে অভিনয় চাননি ঘটনাটি থামিয়ে দেননি তনুশ্রী অন্যায়ে বিরুদ্ধে এফআইআর দায়ের ছবি বের বলেও অভিযোগ পাটেকার বড় অভিনেতা ছবির প্রধান নায়ক পাটেকরই নন কোরিওগ্রাফার গণেশ আচারিয়ার বিরুদ্ধেও অভিযোগ এনেছেন তনুশ্রী অভিযোগ গণেশ ঘনিষ্ঠ হয়ে নাচ জোর প্রযোজক অমিত সিদ্দিকি রাকেশ সারঙ্গিও অভিযোগের বাইরে গণেশ আচারিয়া অভিযোগ অস্বীকার তনুশ্রীর কথায় সবাই সেদিন মিলেমিশেই নাস্তানাবুদ শুটিংয়ের সময় মারধরের পরিকল্পনা হয়েছিল বলেও অভিযোগ অভিনেত্রীর অভিযোগ ফিল্মের সেটে মহারাষ্ট্র নবনির্মাণ সেনার লোকজনকে ডাকেন দলের কর্মীরা তনুশ্রীর গাড়িতে হামলা চালান গাড়িতে বাবা মা সেদিন গণপিটুনির শিকার হয়েছিলেন বলেও অভিযোগ তনুশ্রী ঘটনার ভিডিওই আপাতত ভাইরাল তনুশ্রীর দাবি মহারাষ্ট্র নবনির্মাণ সেনা আদতে রাজনৈতিক দল পাক জঙ্গিগোষ্ঠী আইএসের পার্থক্য দাঙ্গা নীতিপুলিশের ভূমিকা নিতেই মহারাষ্ট্র নবনির্মাণ সেনা অভ্যস্ত বলেও তোপ দাগতে ছাড়েননি অভিনেত্রী তনুশ্রীর প্রতিক্রিয়া মহারাষ্ট্র নবনির্মাণ সেনার তরফে প্রতিক্রিয়া যায়নি\n"
          ]
        }
      ],
      "source": [
        "from bnlp import BasicTokenizer\n",
        "from bnlp.corpus import stopwords, punctuations, letters, digits\n",
        "\n",
        "btokenizer = BasicTokenizer()\n",
        "\n",
        "def clean_text(text):\n",
        "    tokens = btokenizer.tokenize(text)\n",
        "    filtered = []\n",
        "    for i in tokens:\n",
        "        if i in stopwords:\n",
        "            continue\n",
        "    \n",
        "        if i in punctuations + '‘' + '’':\n",
        "            continue\n",
        "    \n",
        "        filtered.append(i)\n",
        "    \n",
        "    return \" \".join(filtered)\n",
        "\n",
        "print(\"********** Before ***************\")\n",
        "text = df.iloc[1]['content']\n",
        "print(text)\n",
        "print(\"\\n********** After ***************\")\n",
        "print(clean_text(text))"
      ]
    },
    {
      "cell_type": "code",
      "execution_count": null,
      "metadata": {
        "id": "K0Zd5s8AAXQ6"
      },
      "outputs": [],
      "source": [
        "import imblearn"
      ]
    },
    {
      "cell_type": "code",
      "execution_count": null,
      "metadata": {
        "id": "eoGUNc0TBCV7"
      },
      "outputs": [],
      "source": [
        "from imblearn.over_sampling import RandomOverSampler\n",
        "\n",
        "from imblearn.under_sampling import RandomUnderSampler"
      ]
    },
    {
      "cell_type": "code",
      "execution_count": null,
      "metadata": {
        "id": "_ZWgE5xyAaVi"
      },
      "outputs": [],
      "source": [
        "undersample = RandomUnderSampler(sampling_strategy='majority')"
      ]
    },
    {
      "cell_type": "code",
      "execution_count": null,
      "metadata": {
        "id": "Qrprfx7ebu8X"
      },
      "outputs": [],
      "source": [
        "df['head'] = df.headline.apply(clean_text)\n",
        "df['con'] = df.content.apply(clean_text)"
      ]
    },
    {
      "cell_type": "code",
      "execution_count": null,
      "metadata": {
        "id": "rrTTtmyRdRaG"
      },
      "outputs": [],
      "source": [
        "x= df.drop('label', axis=1)\n",
        "y= df.label"
      ]
    },
    {
      "cell_type": "code",
      "execution_count": null,
      "metadata": {
        "id": "_c1LCVlxBNQh"
      },
      "outputs": [],
      "source": [
        "X_train_resampled, y_train_resampled = undersample.fit_resample(x, y)"
      ]
    },
    {
      "cell_type": "code",
      "execution_count": null,
      "metadata": {
        "colab": {
          "base_uri": "https://localhost:8080/"
        },
        "id": "8F4cEu5hBbHy",
        "outputId": "cbc8a2dd-8ba3-449d-92ad-850cdbb95174"
      },
      "outputs": [
        {
          "data": {
            "text/plain": [
              "0     0\n",
              "1     0\n",
              "2     0\n",
              "3     0\n",
              "4     0\n",
              "     ..\n",
              "75    1\n",
              "76    1\n",
              "77    1\n",
              "78    1\n",
              "79    1\n",
              "Name: label, Length: 80, dtype: int64"
            ]
          },
          "execution_count": 14,
          "metadata": {},
          "output_type": "execute_result"
        }
      ],
      "source": [
        "y_train_resampled"
      ]
    },
    {
      "cell_type": "code",
      "execution_count": null,
      "metadata": {
        "id": "sulfrpuJBxeq"
      },
      "outputs": [],
      "source": [
        "df = X_train_resampled.join(y_train_resampled)"
      ]
    },
    {
      "cell_type": "code",
      "execution_count": null,
      "metadata": {
        "colab": {
          "base_uri": "https://localhost:8080/"
        },
        "id": "UMLafqq0CNtR",
        "outputId": "7f68242b-f1ce-4559-d256-17daa5553568"
      },
      "outputs": [
        {
          "name": "stdout",
          "output_type": "stream",
          "text": [
            "<class 'pandas.core.frame.DataFrame'>\n",
            "RangeIndex: 80 entries, 0 to 79\n",
            "Data columns (total 9 columns):\n",
            " #   Column      Non-Null Count  Dtype \n",
            "---  ------      --------------  ----- \n",
            " 0   Unnamed: 0  80 non-null     int64 \n",
            " 1   domain      80 non-null     object\n",
            " 2   date        80 non-null     object\n",
            " 3   category    80 non-null     object\n",
            " 4   headline    80 non-null     object\n",
            " 5   content     80 non-null     object\n",
            " 6   head        80 non-null     object\n",
            " 7   con         80 non-null     object\n",
            " 8   label       80 non-null     int64 \n",
            "dtypes: int64(2), object(7)\n",
            "memory usage: 5.8+ KB\n"
          ]
        }
      ],
      "source": [
        "df.info()"
      ]
    },
    {
      "cell_type": "code",
      "execution_count": null,
      "metadata": {
        "id": "KFfcTeOUbu8X"
      },
      "outputs": [],
      "source": [
        "from sklearn.model_selection import train_test_split\n",
        "\n",
        "train_df, test_df = train_test_split(df, test_size=0.2, random_state=121, stratify=df['label'])"
      ]
    },
    {
      "cell_type": "code",
      "execution_count": null,
      "metadata": {
        "colab": {
          "base_uri": "https://localhost:8080/"
        },
        "id": "YTBMUZd7bu8X",
        "outputId": "c375be49-586d-4bc2-f994-f8281602038e"
      },
      "outputs": [
        {
          "data": {
            "text/plain": [
              "(64, 16)"
            ]
          },
          "execution_count": 18,
          "metadata": {},
          "output_type": "execute_result"
        }
      ],
      "source": [
        "len(train_df), len(test_df)"
      ]
    },
    {
      "cell_type": "code",
      "execution_count": null,
      "metadata": {
        "colab": {
          "base_uri": "https://localhost:8080/",
          "height": 354
        },
        "id": "0TXliCKVhgNt",
        "outputId": "db431cb9-10ad-475d-b072-e455aba03fcd"
      },
      "outputs": [
        {
          "data": {
            "text/html": [
              "\n",
              "  <div id=\"df-9fbc665c-05bb-4657-b7b3-7237a96edffb\">\n",
              "    <div class=\"colab-df-container\">\n",
              "      <div>\n",
              "<style scoped>\n",
              "    .dataframe tbody tr th:only-of-type {\n",
              "        vertical-align: middle;\n",
              "    }\n",
              "\n",
              "    .dataframe tbody tr th {\n",
              "        vertical-align: top;\n",
              "    }\n",
              "\n",
              "    .dataframe thead th {\n",
              "        text-align: right;\n",
              "    }\n",
              "</style>\n",
              "<table border=\"1\" class=\"dataframe\">\n",
              "  <thead>\n",
              "    <tr style=\"text-align: right;\">\n",
              "      <th></th>\n",
              "      <th>Unnamed: 0</th>\n",
              "      <th>domain</th>\n",
              "      <th>date</th>\n",
              "      <th>category</th>\n",
              "      <th>headline</th>\n",
              "      <th>content</th>\n",
              "      <th>head</th>\n",
              "      <th>con</th>\n",
              "      <th>label</th>\n",
              "    </tr>\n",
              "  </thead>\n",
              "  <tbody>\n",
              "    <tr>\n",
              "      <th>73</th>\n",
              "      <td>272</td>\n",
              "      <td>jugantor.com</td>\n",
              "      <td>2018-10-02 22:31:19</td>\n",
              "      <td>Editorial</td>\n",
              "      <td>অ্যাকর্ডের টারমিনেশন নোটিশ স্থগিত</td>\n",
              "      <td>এক পোশাক কারখানাকে দেয়া ইউরোপীয় ক্রেতাদের জোট ...</td>\n",
              "      <td>অ্যাকর্ডের টারমিনেশন নোটিশ স্থগিত</td>\n",
              "      <td>এক পোশাক কারখানাকে দেয়া ইউরোপীয় ক্রেতাদের জোট ...</td>\n",
              "      <td>1</td>\n",
              "    </tr>\n",
              "    <tr>\n",
              "      <th>41</th>\n",
              "      <td>790</td>\n",
              "      <td>kalerkantho.com</td>\n",
              "      <td>2018-10-03 10:24:39</td>\n",
              "      <td>International</td>\n",
              "      <td>আসবাব ব্যবসার আড়ালে মাদক কারবার</td>\n",
              "      <td>কুমিল্লার মুরাদনগরে বিপুল পরিমাণ বিয়ার ও বিদেশ...</td>\n",
              "      <td>আসবাব ব্যবসার আড়ালে মাদক কারবার</td>\n",
              "      <td>কুমিল্লার মুরাদনগরে বিপুল পরিমাণ বিয়ার বিদেশি ...</td>\n",
              "      <td>1</td>\n",
              "    </tr>\n",
              "    <tr>\n",
              "      <th>2</th>\n",
              "      <td>4</td>\n",
              "      <td>channeldhaka.news</td>\n",
              "      <td>2019-03-31T18:12:19+00:00</td>\n",
              "      <td>Miscellaneous</td>\n",
              "      <td>প্রেমিকার ছবিতে 'লাভ রিয়েক্ট' দেয়ায় ঘুষিতে বন্...</td>\n",
              "      <td>কত ভাবে ভালোবাসা প্রকাশ করা যায়। আবার এই ভালোব...</td>\n",
              "      <td>প্রেমিকার ছবিতে লাভ রিয়েক্ট দেয়ায় ঘুষিতে বন্ধু...</td>\n",
              "      <td>ভালোবাসা প্রকাশ যায় ভালোবাসা কারণে ঘৃণার সৃষ্ট...</td>\n",
              "      <td>0</td>\n",
              "    </tr>\n",
              "    <tr>\n",
              "      <th>1</th>\n",
              "      <td>10</td>\n",
              "      <td>earki.com</td>\n",
              "      <td>১৬:৩৮, অক্টোবর ২৫, ২০১৮</td>\n",
              "      <td>Entertainment</td>\n",
              "      <td>যে ১০টি প্রশ্নের উত্তর সম্পর্কে দেবী সিনেমার র...</td>\n",
              "      <td>মুক্তি পেয়েছে হুমায়ূন আহমেদের ‘দেবী’ উপন্যাস অ...</td>\n",
              "      <td>১০টি প্রশ্নের সম্পর্কে দেবী সিনেমার রানুও অনুমান</td>\n",
              "      <td>মুক্তি পেয়েছে হুমায়ূন আহমেদের দেবী উপন্যাস অবল...</td>\n",
              "      <td>0</td>\n",
              "    </tr>\n",
              "    <tr>\n",
              "      <th>40</th>\n",
              "      <td>1060</td>\n",
              "      <td>prothomalo.com</td>\n",
              "      <td>2018-10-03 12:12:44</td>\n",
              "      <td>National</td>\n",
              "      <td>মালয়েশিয়া যাওয়ার বাধা কাটল ৭০ হাজার কর্মীর</td>\n",
              "      <td>১ সেপ্টেম্বরের আগে কাজের অনুমতি পাওয়া কর্মীদের...</td>\n",
              "      <td>মালয়েশিয়া যাওয়ার বাধা কাটল ৭০ কর্মীর</td>\n",
              "      <td>১ সেপ্টেম্বরের কাজের অনুমতি পাওয়া কর্মীদের নেও...</td>\n",
              "      <td>1</td>\n",
              "    </tr>\n",
              "  </tbody>\n",
              "</table>\n",
              "</div>\n",
              "      <button class=\"colab-df-convert\" onclick=\"convertToInteractive('df-9fbc665c-05bb-4657-b7b3-7237a96edffb')\"\n",
              "              title=\"Convert this dataframe to an interactive table.\"\n",
              "              style=\"display:none;\">\n",
              "        \n",
              "  <svg xmlns=\"http://www.w3.org/2000/svg\" height=\"24px\"viewBox=\"0 0 24 24\"\n",
              "       width=\"24px\">\n",
              "    <path d=\"M0 0h24v24H0V0z\" fill=\"none\"/>\n",
              "    <path d=\"M18.56 5.44l.94 2.06.94-2.06 2.06-.94-2.06-.94-.94-2.06-.94 2.06-2.06.94zm-11 1L8.5 8.5l.94-2.06 2.06-.94-2.06-.94L8.5 2.5l-.94 2.06-2.06.94zm10 10l.94 2.06.94-2.06 2.06-.94-2.06-.94-.94-2.06-.94 2.06-2.06.94z\"/><path d=\"M17.41 7.96l-1.37-1.37c-.4-.4-.92-.59-1.43-.59-.52 0-1.04.2-1.43.59L10.3 9.45l-7.72 7.72c-.78.78-.78 2.05 0 2.83L4 21.41c.39.39.9.59 1.41.59.51 0 1.02-.2 1.41-.59l7.78-7.78 2.81-2.81c.8-.78.8-2.07 0-2.86zM5.41 20L4 18.59l7.72-7.72 1.47 1.35L5.41 20z\"/>\n",
              "  </svg>\n",
              "      </button>\n",
              "      \n",
              "  <style>\n",
              "    .colab-df-container {\n",
              "      display:flex;\n",
              "      flex-wrap:wrap;\n",
              "      gap: 12px;\n",
              "    }\n",
              "\n",
              "    .colab-df-convert {\n",
              "      background-color: #E8F0FE;\n",
              "      border: none;\n",
              "      border-radius: 50%;\n",
              "      cursor: pointer;\n",
              "      display: none;\n",
              "      fill: #1967D2;\n",
              "      height: 32px;\n",
              "      padding: 0 0 0 0;\n",
              "      width: 32px;\n",
              "    }\n",
              "\n",
              "    .colab-df-convert:hover {\n",
              "      background-color: #E2EBFA;\n",
              "      box-shadow: 0px 1px 2px rgba(60, 64, 67, 0.3), 0px 1px 3px 1px rgba(60, 64, 67, 0.15);\n",
              "      fill: #174EA6;\n",
              "    }\n",
              "\n",
              "    [theme=dark] .colab-df-convert {\n",
              "      background-color: #3B4455;\n",
              "      fill: #D2E3FC;\n",
              "    }\n",
              "\n",
              "    [theme=dark] .colab-df-convert:hover {\n",
              "      background-color: #434B5C;\n",
              "      box-shadow: 0px 1px 3px 1px rgba(0, 0, 0, 0.15);\n",
              "      filter: drop-shadow(0px 1px 2px rgba(0, 0, 0, 0.3));\n",
              "      fill: #FFFFFF;\n",
              "    }\n",
              "  </style>\n",
              "\n",
              "      <script>\n",
              "        const buttonEl =\n",
              "          document.querySelector('#df-9fbc665c-05bb-4657-b7b3-7237a96edffb button.colab-df-convert');\n",
              "        buttonEl.style.display =\n",
              "          google.colab.kernel.accessAllowed ? 'block' : 'none';\n",
              "\n",
              "        async function convertToInteractive(key) {\n",
              "          const element = document.querySelector('#df-9fbc665c-05bb-4657-b7b3-7237a96edffb');\n",
              "          const dataTable =\n",
              "            await google.colab.kernel.invokeFunction('convertToInteractive',\n",
              "                                                     [key], {});\n",
              "          if (!dataTable) return;\n",
              "\n",
              "          const docLinkHtml = 'Like what you see? Visit the ' +\n",
              "            '<a target=\"_blank\" href=https://colab.research.google.com/notebooks/data_table.ipynb>data table notebook</a>'\n",
              "            + ' to learn more about interactive tables.';\n",
              "          element.innerHTML = '';\n",
              "          dataTable['output_type'] = 'display_data';\n",
              "          await google.colab.output.renderOutput(dataTable, element);\n",
              "          const docLink = document.createElement('div');\n",
              "          docLink.innerHTML = docLinkHtml;\n",
              "          element.appendChild(docLink);\n",
              "        }\n",
              "      </script>\n",
              "    </div>\n",
              "  </div>\n",
              "  "
            ],
            "text/plain": [
              "    Unnamed: 0             domain                       date       category  \\\n",
              "73         272       jugantor.com        2018-10-02 22:31:19      Editorial   \n",
              "41         790    kalerkantho.com        2018-10-03 10:24:39  International   \n",
              "2            4  channeldhaka.news  2019-03-31T18:12:19+00:00  Miscellaneous   \n",
              "1           10          earki.com   ১৬:৩৮, অক্টোবর ২৫, ২০১৮   Entertainment   \n",
              "40        1060     prothomalo.com        2018-10-03 12:12:44       National   \n",
              "\n",
              "                                             headline  \\\n",
              "73                  অ্যাকর্ডের টারমিনেশন নোটিশ স্থগিত   \n",
              "41                    আসবাব ব্যবসার আড়ালে মাদক কারবার   \n",
              "2   প্রেমিকার ছবিতে 'লাভ রিয়েক্ট' দেয়ায় ঘুষিতে বন্...   \n",
              "1   যে ১০টি প্রশ্নের উত্তর সম্পর্কে দেবী সিনেমার র...   \n",
              "40         মালয়েশিয়া যাওয়ার বাধা কাটল ৭০ হাজার কর্মীর   \n",
              "\n",
              "                                              content  \\\n",
              "73  এক পোশাক কারখানাকে দেয়া ইউরোপীয় ক্রেতাদের জোট ...   \n",
              "41  কুমিল্লার মুরাদনগরে বিপুল পরিমাণ বিয়ার ও বিদেশ...   \n",
              "2   কত ভাবে ভালোবাসা প্রকাশ করা যায়। আবার এই ভালোব...   \n",
              "1   মুক্তি পেয়েছে হুমায়ূন আহমেদের ‘দেবী’ উপন্যাস অ...   \n",
              "40  ১ সেপ্টেম্বরের আগে কাজের অনুমতি পাওয়া কর্মীদের...   \n",
              "\n",
              "                                                 head  \\\n",
              "73                  অ্যাকর্ডের টারমিনেশন নোটিশ স্থগিত   \n",
              "41                    আসবাব ব্যবসার আড়ালে মাদক কারবার   \n",
              "2   প্রেমিকার ছবিতে লাভ রিয়েক্ট দেয়ায় ঘুষিতে বন্ধু...   \n",
              "1    ১০টি প্রশ্নের সম্পর্কে দেবী সিনেমার রানুও অনুমান   \n",
              "40               মালয়েশিয়া যাওয়ার বাধা কাটল ৭০ কর্মীর   \n",
              "\n",
              "                                                  con  label  \n",
              "73  এক পোশাক কারখানাকে দেয়া ইউরোপীয় ক্রেতাদের জোট ...      1  \n",
              "41  কুমিল্লার মুরাদনগরে বিপুল পরিমাণ বিয়ার বিদেশি ...      1  \n",
              "2   ভালোবাসা প্রকাশ যায় ভালোবাসা কারণে ঘৃণার সৃষ্ট...      0  \n",
              "1   মুক্তি পেয়েছে হুমায়ূন আহমেদের দেবী উপন্যাস অবল...      0  \n",
              "40  ১ সেপ্টেম্বরের কাজের অনুমতি পাওয়া কর্মীদের নেও...      1  "
            ]
          },
          "execution_count": 19,
          "metadata": {},
          "output_type": "execute_result"
        }
      ],
      "source": [
        "test_df.head()"
      ]
    },
    {
      "cell_type": "code",
      "execution_count": null,
      "metadata": {
        "id": "JCw6xA-Fbu8Y"
      },
      "outputs": [],
      "source": [
        "training_data = NewsDatasets(train_df)\n",
        "train_dataloader = DataLoader(training_data, batch_size=1, shuffle=True)"
      ]
    },
    {
      "cell_type": "code",
      "execution_count": null,
      "metadata": {
        "id": "LMKKdss8bu8Y"
      },
      "outputs": [],
      "source": [
        "test_data = NewsDatasets(test_df)\n",
        "test_dataloader = DataLoader(test_data, batch_size=1, shuffle=True)"
      ]
    },
    {
      "cell_type": "code",
      "execution_count": null,
      "metadata": {
        "id": "f--tjx9JdSoF"
      },
      "outputs": [],
      "source": []
    },
    {
      "cell_type": "markdown",
      "metadata": {
        "id": "dHbm8ZIebu8Y"
      },
      "source": [
        "# Define Model\n",
        " `Bert` stands for Bidirectional Encoder Representations from Transformers used in this experiment with two additional `Fully Connected` Layers. \n",
        " \n",
        " For this experiment, [Bangla Bert](https://huggingface.co/sagorsarker/bangla-bert-base) pretrained model was used.\n",
        "\n",
        "#### FC layers\n",
        "- First Linear Layer: IO(768 -> 128)\n",
        "- Second Linear Layer: IO(128 -> 2)\n",
        "\n",
        "#### Additionals\n",
        "- Activation Fuction: Relu\n",
        "- Dropout: 20%\n",
        "- Optimizer: AdamW\n",
        "- Loss: CrossEntropyLoss\n",
        "- Scheduler: StepLR"
      ]
    },
    {
      "cell_type": "code",
      "execution_count": null,
      "metadata": {
        "id": "iU8RMEsAbu8Y"
      },
      "outputs": [],
      "source": [
        "class NewsBert(nn.Module):\n",
        "\n",
        "    def __init__(self, bert):\n",
        "        super(NewsBert, self).__init__()\n",
        "\n",
        "        self.bert = bert\n",
        "\n",
        "        # dropout layer\n",
        "        self.dropout = nn.Dropout(0.2)\n",
        "\n",
        "        # relu activation function\n",
        "        self.relu = nn.ReLU()\n",
        "\n",
        "        # dense layer 1\n",
        "        self.fc1 = nn.Linear(768, 128)\n",
        "\n",
        "        # dense layer 2 (Output layer)\n",
        "        self.fc2 = nn.Linear(128, 2)  \n",
        "\n",
        "    # define the forward pass\n",
        "    def forward(self, input_ids, token_type_ids, attention_mask):\n",
        "        # pass the inputs to the model\n",
        "        out = self.bert(input_ids, attention_mask=attention_mask, token_type_ids=token_type_ids)\n",
        "\n",
        "        x = self.fc1(out[1])\n",
        "        x = self.relu(x)\n",
        "        # output layer\n",
        "        x = self.fc2(self.dropout(x))\n",
        "        \n",
        "        return x"
      ]
    },
    {
      "cell_type": "code",
      "execution_count": null,
      "metadata": {
        "colab": {
          "base_uri": "https://localhost:8080/",
          "height": 185
        },
        "id": "mG2BrnBMbu8Y",
        "outputId": "4ebfa5e4-915f-4756-99f3-749e9db0d8c7"
      },
      "outputs": [
        {
          "data": {
            "application/vnd.jupyter.widget-view+json": {
              "model_id": "dfbf4e84e8ed46cb97c8fed8d8787df1",
              "version_major": 2,
              "version_minor": 0
            },
            "text/plain": [
              "Downloading:   0%|          | 0.00/491 [00:00<?, ?B/s]"
            ]
          },
          "metadata": {},
          "output_type": "display_data"
        },
        {
          "data": {
            "application/vnd.jupyter.widget-view+json": {
              "model_id": "a3f876560a15479a90efed93ea275f5d",
              "version_major": 2,
              "version_minor": 0
            },
            "text/plain": [
              "Downloading:   0%|          | 0.00/660M [00:00<?, ?B/s]"
            ]
          },
          "metadata": {},
          "output_type": "display_data"
        },
        {
          "name": "stderr",
          "output_type": "stream",
          "text": [
            "Some weights of the model checkpoint at sagorsarker/bangla-bert-base were not used when initializing BertModel: ['cls.predictions.bias', 'cls.seq_relationship.bias', 'cls.predictions.decoder.weight', 'cls.predictions.transform.dense.bias', 'cls.seq_relationship.weight', 'cls.predictions.transform.LayerNorm.weight', 'cls.predictions.transform.dense.weight', 'cls.predictions.transform.LayerNorm.bias']\n",
            "- This IS expected if you are initializing BertModel from the checkpoint of a model trained on another task or with another architecture (e.g. initializing a BertForSequenceClassification model from a BertForPreTraining model).\n",
            "- This IS NOT expected if you are initializing BertModel from the checkpoint of a model that you expect to be exactly identical (initializing a BertForSequenceClassification model from a BertForSequenceClassification model).\n"
          ]
        },
        {
          "data": {
            "application/vnd.jupyter.widget-view+json": {
              "model_id": "923416b2c2714e58a966133af9693ee9",
              "version_major": 2,
              "version_minor": 0
            },
            "text/plain": [
              "Downloading:   0%|          | 0.00/2.24M [00:00<?, ?B/s]"
            ]
          },
          "metadata": {},
          "output_type": "display_data"
        }
      ],
      "source": [
        "bert_model_name = \"sagorsarker/bangla-bert-base\"\n",
        "bert = BertModel.from_pretrained(bert_model_name)\n",
        "tokenizer = BertTokenizer.from_pretrained(bert_model_name)"
      ]
    },
    {
      "cell_type": "code",
      "execution_count": null,
      "metadata": {
        "id": "7RPfbugIbu8Z"
      },
      "outputs": [],
      "source": [
        "# for param in bert.parameters():\n",
        "#     param.requires_grad = False"
      ]
    },
    {
      "cell_type": "code",
      "execution_count": null,
      "metadata": {
        "id": "GdvWxTmEbu8Z"
      },
      "outputs": [],
      "source": [
        "device = torch.device(\"cuda\" if torch.cuda.is_available() else \"cpu\")\n",
        "model = NewsBert(bert)\n",
        "model.to(device);"
      ]
    },
    {
      "cell_type": "code",
      "execution_count": null,
      "metadata": {
        "colab": {
          "base_uri": "https://localhost:8080/"
        },
        "id": "itCzG6C5bu8Z",
        "outputId": "d29f4bc0-1f0b-4e02-a4b0-ae08c63be4b0"
      },
      "outputs": [
        {
          "name": "stdout",
          "output_type": "stream",
          "text": [
            "{'input_ids': tensor([[  101,  2169,  2492,  9294,  2552, 13985,  1014,   102,   102]]), 'token_type_ids': tensor([[0, 0, 0, 0, 0, 0, 0, 0, 0]]), 'attention_mask': tensor([[1, 1, 1, 1, 1, 1, 1, 1, 1]])}\n",
            "tensor([[-0.0741,  0.3042]], grad_fn=<AddmmBackward0>)\n"
          ]
        }
      ],
      "source": [
        "s = \"আমি বাংলায় গান গাই। [SEP]\"\n",
        "t = tokenizer.encode_plus(s, return_tensors=\"pt\").to(device)\n",
        "print(t)\n",
        "out = model(**t)\n",
        "print(out)"
      ]
    },
    {
      "cell_type": "code",
      "execution_count": null,
      "metadata": {
        "id": "i9waPb53bu8Z"
      },
      "outputs": [],
      "source": [
        "from torch.optim.lr_scheduler import StepLR\n",
        "\n",
        "optimizer = AdamW(model.parameters(), lr=1e-5)\n",
        "criterion = nn.CrossEntropyLoss()\n",
        "scheduler = StepLR(optimizer, step_size=2, gamma=0.1)"
      ]
    },
    {
      "cell_type": "markdown",
      "metadata": {
        "id": "_7xERccjbu8Z"
      },
      "source": [
        "# Lets Train"
      ]
    },
    {
      "cell_type": "code",
      "execution_count": null,
      "metadata": {
        "id": "w53v4s40bu8Z"
      },
      "outputs": [],
      "source": [
        "def train(model, dataloader, optimizer, criterion, config):\n",
        "    model.train()  # prep model for training\n",
        "    train_loss = 0\n",
        "    for batch in tqdm(dataloader):\n",
        "        text, labels = batch\n",
        "\n",
        "        model.zero_grad()\n",
        "\n",
        "        inputs = tokenizer.batch_encode_plus(\n",
        "            text, **config\n",
        "        )\n",
        "        input_ids = inputs['input_ids'].to(device)\n",
        "        token_type_ids = inputs['token_type_ids'].to(device)\n",
        "        attention_mask = inputs['attention_mask'].to(device)\n",
        "        labels = labels.to(device)\n",
        "\n",
        "        # move things to model\n",
        "        logs = model(token_type_ids=token_type_ids, input_ids=input_ids, attention_mask=attention_mask)\n",
        "\n",
        "        loss = criterion(logs, labels)\n",
        "        train_loss += loss.item() * input_ids.size(0)\n",
        "        loss.backward()\n",
        "\n",
        "        # clip the the gradients to 1.0. It helps in preventing the exploding gradient problem\n",
        "        nn.utils.clip_grad_norm_(model.parameters(), 1.0)\n",
        "        optimizer.step()\n",
        "\n",
        "    return train_loss"
      ]
    },
    {
      "cell_type": "code",
      "execution_count": null,
      "metadata": {
        "id": "vmUpCloVbu8a"
      },
      "outputs": [],
      "source": [
        "def evaluate(model, dataloader, criterion, config):\n",
        "    total = 0\n",
        "    correct = 0\n",
        "    valid_loss = 0.0\n",
        "\n",
        "    model.eval()  # prep model for evaluation\n",
        "    for batch in dataloader:\n",
        "        text, labels = batch\n",
        "        inputs = tokenizer.batch_encode_plus(\n",
        "            text, **config\n",
        "        )\n",
        "        input_ids = inputs['input_ids'].to(device)\n",
        "        token_type_ids = inputs['token_type_ids'].to(device)\n",
        "        attention_mask = inputs['attention_mask'].to(device)\n",
        "        labels = labels.to(device)\n",
        "\n",
        "        # move things to model\n",
        "        output = model(token_type_ids=token_type_ids, input_ids=input_ids, attention_mask=attention_mask)\n",
        "\n",
        "        loss_p = criterion(output, labels)\n",
        "        # update running validation loss\n",
        "        valid_loss += loss_p.item() * input_ids.size(0)\n",
        "        # calculate accuracy\n",
        "        proba = torch.exp(output)\n",
        "        top_p, top_class = proba.topk(1, dim=1)\n",
        "        equals = top_class == labels.view(*top_class.shape)\n",
        "        # accuracy += torch.mean(equals.type(torch.FloatTensor)).item()\n",
        "\n",
        "        _, predicted = torch.max(output.data, 1)\n",
        "        total += labels.size(0)\n",
        "        correct += (predicted == labels).sum().item()\n",
        "\n",
        "    return total, correct, valid_loss"
      ]
    },
    {
      "cell_type": "code",
      "execution_count": null,
      "metadata": {
        "id": "PWilZ7Zxbu8a"
      },
      "outputs": [],
      "source": [
        "epochs = 5\n",
        "tokenizer_config = {\n",
        "    \"max_length\": 100,\n",
        "    \"padding\": \"max_length\",\n",
        "    \"return_tensors\": \"pt\",\n",
        "    \"truncation\": True,\n",
        "    \"add_special_tokens\": True\n",
        "}"
      ]
    },
    {
      "cell_type": "code",
      "execution_count": null,
      "metadata": {
        "colab": {
          "base_uri": "https://localhost:8080/",
          "height": 368
        },
        "id": "8OKeaPyZbu8a",
        "outputId": "811bd7b7-2aa5-40de-daa0-f1d08068ffb4"
      },
      "outputs": [
        {
          "name": "stdout",
          "output_type": "stream",
          "text": [
            "Epoch: 1/5\n"
          ]
        },
        {
          "data": {
            "application/vnd.jupyter.widget-view+json": {
              "model_id": "ca5913759f534abdb58de30fce8845a5",
              "version_major": 2,
              "version_minor": 0
            },
            "text/plain": [
              "  0%|          | 0/64 [00:00<?, ?it/s]"
            ]
          },
          "metadata": {},
          "output_type": "display_data"
        },
        {
          "name": "stdout",
          "output_type": "stream",
          "text": [
            "\tTrain loss:0.722101.. \tValid Loss:0.648870.. \tAccuracy: 50.0000\n",
            "Epoch: 2/5\n"
          ]
        },
        {
          "data": {
            "application/vnd.jupyter.widget-view+json": {
              "model_id": "e10a56dad41f403a86cc72ace5d529dd",
              "version_major": 2,
              "version_minor": 0
            },
            "text/plain": [
              "  0%|          | 0/64 [00:00<?, ?it/s]"
            ]
          },
          "metadata": {},
          "output_type": "display_data"
        },
        {
          "name": "stdout",
          "output_type": "stream",
          "text": [
            "\tTrain loss:0.528185.. \tValid Loss:0.484131.. \tAccuracy: 81.2500\n",
            "Epoch: 3/5\n"
          ]
        },
        {
          "data": {
            "application/vnd.jupyter.widget-view+json": {
              "model_id": "32e0fd6067054c4bba3276aaaae5c295",
              "version_major": 2,
              "version_minor": 0
            },
            "text/plain": [
              "  0%|          | 0/64 [00:00<?, ?it/s]"
            ]
          },
          "metadata": {},
          "output_type": "display_data"
        },
        {
          "name": "stdout",
          "output_type": "stream",
          "text": [
            "\tTrain loss:0.303149.. \tValid Loss:0.439910.. \tAccuracy: 81.2500\n",
            "Epoch: 4/5\n"
          ]
        },
        {
          "data": {
            "application/vnd.jupyter.widget-view+json": {
              "model_id": "68c516c55bd64c12873be677da2033fb",
              "version_major": 2,
              "version_minor": 0
            },
            "text/plain": [
              "  0%|          | 0/64 [00:00<?, ?it/s]"
            ]
          },
          "metadata": {},
          "output_type": "display_data"
        },
        {
          "name": "stdout",
          "output_type": "stream",
          "text": [
            "\tTrain loss:0.265810.. \tValid Loss:0.426297.. \tAccuracy: 81.2500\n",
            "Epoch: 5/5\n"
          ]
        },
        {
          "data": {
            "application/vnd.jupyter.widget-view+json": {
              "model_id": "b2a7d80fa8894a2b895a1db33b5df5fc",
              "version_major": 2,
              "version_minor": 0
            },
            "text/plain": [
              "  0%|          | 0/64 [00:00<?, ?it/s]"
            ]
          },
          "metadata": {},
          "output_type": "display_data"
        },
        {
          "name": "stdout",
          "output_type": "stream",
          "text": [
            "\tTrain loss:0.231146.. \tValid Loss:0.427114.. \tAccuracy: 81.2500\n",
            "Training completed in 18m 2s\n"
          ]
        }
      ],
      "source": [
        "train_loss_data, valid_loss_data = [], []\n",
        "valid_loss_min = np.Inf\n",
        "since = time.time()\n",
        "best_loss = np.inf\n",
        "\n",
        "for epoch in range(epochs):\n",
        "    print(\"Epoch: {}/{}\".format(epoch + 1, epochs))\n",
        "    # monitor training loss\n",
        "    train_loss = 0.0\n",
        "    valid_loss = 0.0\n",
        "    total = 0\n",
        "    correct = 0\n",
        "    e_since = time.time()\n",
        "\n",
        "    # Train Model\n",
        "    train_loss += train(model, train_dataloader, optimizer, criterion, tokenizer_config)\n",
        "    # Now Evaluate\n",
        "    out = evaluate(model, test_dataloader, criterion, tokenizer_config)\n",
        "    total += out[0]\n",
        "    correct += out[1]\n",
        "    valid_loss += out[2]\n",
        "    \n",
        "    scheduler.step()\n",
        "\n",
        "    # print training/validation statistics\n",
        "    # calculate average loss over an epoch\n",
        "    train_loss = train_loss / len(train_dataloader.dataset)\n",
        "    valid_loss = valid_loss / len(test_dataloader.dataset)\n",
        "\n",
        "    # calculate train loss and running loss\n",
        "    train_loss_data.append(train_loss * 100)\n",
        "    valid_loss_data.append(valid_loss * 100)\n",
        "    \n",
        "    if valid_loss < best_loss:\n",
        "        best_loss = valid_loss\n",
        "        torch.save(model.state_dict(), \"/content/drive/MyDrive/Colab Notebooks/Dataset/news_model1.pth\")\n",
        "\n",
        "    print(\"\\tTrain loss:{:.6f}..\".format(train_loss),\n",
        "          \"\\tValid Loss:{:.6f}..\".format(valid_loss),\n",
        "          \"\\tAccuracy: {:.4f}\".format(correct / total * 100))\n",
        "\n",
        "time_elapsed = time.time() - since\n",
        "print('Training completed in {:.0f}m {:.0f}s'.format(\n",
        "    time_elapsed // 60, time_elapsed % 60))"
      ]
    },
    {
      "cell_type": "code",
      "execution_count": null,
      "metadata": {
        "colab": {
          "base_uri": "https://localhost:8080/"
        },
        "id": "S8QbxMHdr-g4",
        "outputId": "611ee2a0-96aa-4cc9-b88b-d6f0dee76832"
      },
      "outputs": [
        {
          "data": {
            "text/plain": [
              "81.25"
            ]
          },
          "execution_count": 32,
          "metadata": {},
          "output_type": "execute_result"
        }
      ],
      "source": [
        "training_acc1 = correct / total * 100\n",
        "training_acc1"
      ]
    },
    {
      "cell_type": "code",
      "execution_count": null,
      "metadata": {
        "colab": {
          "base_uri": "https://localhost:8080/",
          "height": 282
        },
        "id": "HkdjIJrRbu8b",
        "outputId": "4a3e52ea-b627-4010-d7b5-dfea01090d9f"
      },
      "outputs": [
        {
          "data": {
            "text/plain": [
              "<matplotlib.legend.Legend at 0x7f63f2070950>"
            ]
          },
          "execution_count": 33,
          "metadata": {},
          "output_type": "execute_result"
        },
        {
          "data": {
            "image/png": "[encoded data removed]",
            "text/plain": [
              "<Figure size 432x288 with 1 Axes>"
            ]
          },
          "metadata": {},
          "output_type": "display_data"
        }
      ],
      "source": [
        "from matplotlib import pyplot as plt\n",
        "\n",
        "plt.plot(train_loss_data, label=\"Training loss\")\n",
        "plt.plot(valid_loss_data, label=\"validation loss\")\n",
        "plt.legend(frameon=False)"
      ]
    },
    {
      "cell_type": "markdown",
      "metadata": {
        "id": "PLwDB90Mbu8b"
      },
      "source": [
        "# Testing\n",
        "To test this model, the left 15% data was used."
      ]
    },
    {
      "cell_type": "code",
      "execution_count": null,
      "metadata": {
        "colab": {
          "base_uri": "https://localhost:8080/"
        },
        "id": "MrjKLH-Lbu8b",
        "outputId": "b89ce528-ac79-4505-9eb3-2c68c0fff0a2"
      },
      "outputs": [
        {
          "data": {
            "text/plain": [
              "<All keys matched successfully>"
            ]
          },
          "execution_count": 34,
          "metadata": {},
          "output_type": "execute_result"
        }
      ],
      "source": [
        "model.load_state_dict(torch.load(\"/content/drive/MyDrive/Colab Notebooks/Dataset/news_model1.pth\", map_location = device))"
      ]
    },
    {
      "cell_type": "code",
      "execution_count": null,
      "metadata": {
        "id": "na3957NJbu8b"
      },
      "outputs": [],
      "source": [
        "all_preds = []\n",
        "all_labels = []\n",
        "\n",
        "for batch in test_dataloader:\n",
        "    text, labels = batch\n",
        "    inputs = tokenizer.batch_encode_plus(\n",
        "        text, **tokenizer_config\n",
        "    )\n",
        "    input_ids = inputs['input_ids'].to(device)\n",
        "    token_type_ids = inputs['token_type_ids'].to(device)\n",
        "    attention_mask = inputs['attention_mask'].to(device)\n",
        "    labels = labels.to(device)\n",
        "\n",
        "    # move things to model\n",
        "    output = model(token_type_ids=token_type_ids, input_ids=input_ids, attention_mask=attention_mask)\n",
        "    preds = output.detach().cpu().numpy()\n",
        "    preds = np.argmax(preds, axis = 1)\n",
        "    all_preds.extend(preds)\n",
        "    all_labels.extend(labels.cpu().numpy())"
      ]
    },
    {
      "cell_type": "code",
      "execution_count": null,
      "metadata": {
        "colab": {
          "base_uri": "https://localhost:8080/"
        },
        "id": "s0k5a6Bbbu8b",
        "outputId": "0a4c3561-54d4-4e9b-fc5f-a695b30d98e8"
      },
      "outputs": [
        {
          "name": "stdout",
          "output_type": "stream",
          "text": [
            "              precision    recall  f1-score   support\n",
            "\n",
            "           0       0.78      0.88      0.82         8\n",
            "           1       0.86      0.75      0.80         8\n",
            "\n",
            "    accuracy                           0.81        16\n",
            "   macro avg       0.82      0.81      0.81        16\n",
            "weighted avg       0.82      0.81      0.81        16\n",
            "\n"
          ]
        }
      ],
      "source": [
        "from sklearn.metrics import classification_report\n",
        "\n",
        "# preds = np.argmax(preds, axis = 1)\n",
        "print(classification_report(all_labels, all_preds))"
      ]
    },
    {
      "cell_type": "code",
      "execution_count": null,
      "metadata": {
        "id": "Af760tKBkNZK"
      },
      "outputs": [],
      "source": [
        "cf_matrix = confusion_matrix(all_labels, all_preds)  \n"
      ]
    },
    {
      "cell_type": "code",
      "execution_count": null,
      "metadata": {
        "colab": {
          "base_uri": "https://localhost:8080/",
          "height": 337
        },
        "id": "TcaFewk_kNZK",
        "outputId": "be4dc371-189e-4504-a05c-cde79be1c11d"
      },
      "outputs": [
        {
          "data": {
            "image/png": "[encoded data removed]",
            "text/plain": [
              "<Figure size 432x288 with 2 Axes>"
            ]
          },
          "metadata": {},
          "output_type": "display_data"
        }
      ],
      "source": [
        "import seaborn as sns\n",
        "\n",
        "ax = sns.heatmap(cf_matrix, annot=True, cmap='Blues')\n",
        "\n",
        "ax.set_title('Seaborn Confusion Matrix with labels\\n\\n');\n",
        "ax.set_xlabel('\\nPredicted Values')\n",
        "ax.set_ylabel('Actual Values ');\n",
        "\n",
        "## Ticket labels - List must be in alphabetical order\n",
        "ax.xaxis.set_ticklabels(['False','True'])\n",
        "ax.yaxis.set_ticklabels(['False','True'])\n",
        "\n",
        "## Display the visualization of the Confusion Matrix.\n",
        "plt.show()"
      ]
    },
    {
      "cell_type": "code",
      "execution_count": null,
      "metadata": {
        "colab": {
          "base_uri": "https://localhost:8080/"
        },
        "id": "0dCIuwIUEwJY",
        "outputId": "05f8cd20-aff3-48a1-f8d0-e785cb11a984"
      },
      "outputs": [
        {
          "name": "stdout",
          "output_type": "stream",
          "text": [
            "Accuracy: 0.812\n",
            "Precision: 0.817\n",
            "Recall: 0.812\n",
            "F-Measure: 0.812\n"
          ]
        }
      ],
      "source": [
        "from sklearn.metrics import precision_score,recall_score,f1_score,accuracy_score\n",
        "test_accuracy1 = accuracy_score(all_labels, all_preds)\n",
        "print('Accuracy: %.3f' % test_accuracy1)\n",
        "precision = precision_score(all_labels, all_preds, average='macro')\n",
        "print('Precision: %.3f' % precision)\n",
        "recall = recall_score(all_labels, all_preds, average='macro')\n",
        "print('Recall: %.3f' % recall)\n",
        "score = f1_score(all_labels, all_preds, average='macro')\n",
        "print('F-Measure: %.3f' % score)"
      ]
    },
    {
      "cell_type": "code",
      "execution_count": null,
      "metadata": {
        "colab": {
          "base_uri": "https://localhost:8080/"
        },
        "id": "MAlzh8Z2bZt5",
        "outputId": "e2f7a9ec-62be-47e9-856c-e1bcb648bf52"
      },
      "outputs": [
        {
          "name": "stdout",
          "output_type": "stream",
          "text": [
            "tensor([[-0.0175,  0.0303,  0.0335,  ..., -0.0022,  0.0109,  0.0291],\n",
            "        [-0.0317,  0.0299, -0.0072,  ..., -0.0197,  0.0237,  0.0206],\n",
            "        [-0.0174, -0.0324,  0.0150,  ..., -0.0161, -0.0138, -0.0227],\n",
            "        ...,\n",
            "        [-0.0251,  0.0134, -0.0252,  ...,  0.0219, -0.0157, -0.0256],\n",
            "        [ 0.0099,  0.0349,  0.0075,  ...,  0.0271, -0.0321, -0.0015],\n",
            "        [-0.0209,  0.0238, -0.0154,  ...,  0.0213, -0.0039, -0.0176]])\n"
          ]
        }
      ],
      "source": [
        "print(model.fc1.weight.data)"
      ]
    },
    {
      "cell_type": "markdown",
      "metadata": {
        "id": "1TFTtMkfmMls"
      },
      "source": [
        "#DATA SELECT"
      ]
    },
    {
      "cell_type": "code",
      "execution_count": null,
      "metadata": {
        "id": "-q0Wuwf0mSNT"
      },
      "outputs": [],
      "source": []
    },
    {
      "cell_type": "markdown",
      "metadata": {
        "id": "ROvH7G6omSv2"
      },
      "source": [
        "### Train and Test split: \n",
        "(only 20% data used for testing)\n",
        "- Total Dataset size: 10392\n",
        "- Total train size: 8313\n",
        "- Test train size: 2079"
      ]
    },
    {
      "cell_type": "code",
      "execution_count": null,
      "metadata": {
        "id": "d4FNZW30mSv2"
      },
      "outputs": [],
      "source": [
        "class NewsDatasets(Dataset):\n",
        "    def __init__(self, data, max_length=100):\n",
        "        self.data = data\n",
        "        \n",
        "        self.config = {\n",
        "            \"max_length\": max_length,\n",
        "            \"padding\": \"max_length\",\n",
        "            \"return_tensors\": \"pt\",\n",
        "            \"truncation\": True,\n",
        "            \"add_special_tokens\": True\n",
        "        }\n",
        "\n",
        "    def __len__(self):\n",
        "        return len(self.data)\n",
        "\n",
        "    def __getitem__(self, idx):\n",
        "        value = self.data.iloc[idx]\n",
        "        return value['head']+\"[SEP]\"+value['con'] , value['label']"
      ]
    },
    {
      "cell_type": "code",
      "execution_count": null,
      "metadata": {
        "colab": {
          "base_uri": "https://localhost:8080/"
        },
        "id": "u6vw68NJmSv3",
        "outputId": "e9adc430-51d1-492f-a391-cdf079136d20"
      },
      "outputs": [
        {
          "name": "stdout",
          "output_type": "stream",
          "text": [
            "1497\n",
            "40\n"
          ]
        }
      ],
      "source": [
        "auth = pd.read_csv(\"/content/drive/MyDrive/Colab Notebooks/Dataset/For Sentiment/Division /40%/auth_set_2.csv\",encoding='UTF-8')\n",
        "fake = pd.read_csv(\"/content/drive/MyDrive/Colab Notebooks/Dataset/For Sentiment/Division /40%/fake_set_2.csv\",encoding='UTF-8')\n",
        "\n",
        "\n",
        "print(len(auth))\n",
        "print(len(fake))\n"
      ]
    },
    {
      "cell_type": "code",
      "execution_count": null,
      "metadata": {
        "colab": {
          "base_uri": "https://localhost:8080/"
        },
        "id": "9KVB5vNMmSv3",
        "outputId": "0c3c96de-92d9-4518-83b8-29746db8ddef"
      },
      "outputs": [
        {
          "data": {
            "text/plain": [
              "1537"
            ]
          },
          "execution_count": 43,
          "metadata": {},
          "output_type": "execute_result"
        }
      ],
      "source": [
        "\n",
        "#df = auth[:fake.shape[0]* 7]\n",
        "df = auth.append(fake)\n",
        "df = df.sample(frac=1).reset_index(drop=True)\n",
        "len(df)"
      ]
    },
    {
      "cell_type": "code",
      "execution_count": null,
      "metadata": {
        "colab": {
          "base_uri": "https://localhost:8080/"
        },
        "id": "CWH_Uo1PmSv4",
        "outputId": "24adf0e0-44e7-427f-f4dd-ab587a4cc8cf"
      },
      "outputs": [
        {
          "name": "stdout",
          "output_type": "stream",
          "text": [
            "********** Before ***************\n",
            "বিগত এক বছর ধরে বাংলাদেশ সরকারসহ দেশের সর্বস্তরের মানুষ রোহিঙ্গা শরণার্থীদের পাশে দাঁড়িয়েছে। সেই ধারাবাহিকতায় পিছিয়ে নেই বেসরকাররি প্রতিষ্ঠান ব্র্যাক এবং ব্র্যাক বিশ্ববিদ্যালয়। ব্র্যাক বিশ্ববিদ্যালয়ের জেমস পি গ্রান্ট স্কুল অব পাবলিক হেলথ থেকে পাসকৃত ১৪৮ জন ডিপ্লোমা গ্রাজুয়েট মিডওয়াইফ রোহিঙ্গা শরণার্থী শিবিরে বিভিন্ন সংস্থার হয়ে দক্ষতার সঙ্গে সেবা প্রদান করছেন। ব্র্যাক বিশ্ববিদ্যালয়ের তথ্যমতে গত ছয় মাসে এসকল মিডওয়াইফরা প্রায় ৩ হাজার ২০০টি সাধারণ ডেলিভারি করতে সক্ষম হয়েছেন। মিলিনিয়াম ডেভেলপমেন্ট লক্ষ্য অর্জনে মাতৃমৃত্যু হার এবং শিশু মৃত্যু হার কমিয়ে আনতে কাজ করছে বাংলাদেশ সরকার। বর্তমানে রোহিঙ্গা ক্যাম্পগুলোতেও সরকারের পাশাপাশি বেসরকারি প্রশিক্ষিত মিডওয়াইফরাও কাজ করে যাচ্ছেন নিরলসভাবে। যার ফলে রোহিঙ্গা ক্যাম্পগুলোতেও কাজ করা বিভিন্ন দাতা সংস্থাগুলোতে চাহিদা তৈরি হয়েছে প্রশিক্ষিত মিডওয়াইফদের। জাতীয় জনসংখ্যা গবেষণা ও প্রশিক্ষণ প্রতিষ্ঠান (এনআইপিওআরটি), আন্তর্জাতিক উদরাময় গবেষণা কেন্দ্র বাংলাদেশ (আইসিডিডিআরবি) ও মার্কিন দাতা সংস্থা ইউএসএআইডি ‘বাংলাদেশ মাতৃমৃত্যু ও স্বাস্থ্যসেবা জরিপ ২০১৬’র প্রাথমিক ফলাফলে দেখা গেছে সন্তান জন্ম দিতে গিয়ে এখনও প্রতি লাখে ১৯৬ জন মায়ের মৃত্যু হচ্ছে। বাংলাদেশ সরকার এবং বিভিন্ন উন্নয়ন দাতা সংস্থার সহায়তায় লক্ষ্য নির্ধারণ করা হয়েছে যে আগামী ২০৩০ সালের মধ্যে এই সংখ্যাটি কমিয়ে আনতে হবে লাখে ৭০ জনে। আর এ জন্য প্রয়োজন প্রশিক্ষিত মিডওয়াইফস।   এই চ্যালেঞ্জ মোকাবিলা করার লক্ষ্যে নিয়েই ২০১২ সাল থেকে ব্র্যাক বিশ্ববিদ্যালয়ের জেমস পি গ্রান্ট স্কুল অব পাবলিক হেলথের অধীনে যুক্তরাজ্য সরকারের অনুদান নিয়ে বছরের মিডওয়াইফারি ডিপ্লোমা কোর্স চালু করেছে। যার প্রেক্ষিতে এখন পাসকৃত প্রশিক্ষিত মিডওয়াইফদের কাজের সুযোগও তৈরি হয়েছে রোহিঙ্গা ক্যাম্পগুলোতে। মিডওয়াইফারি কোর্স কো-অর্ডিনেটর মোসাম্মত শারমিন নিসা বাংলা ট্রিবিউনকে জানান, পাঠ্যক্রমের কোর্স শেষ করার পর প্রতিটি শিক্ষার্থীকে ছয় মাস বিভিন্ন কমিউনিটি ক্লিনিকে কাজ করতে হয়। একই সঙ্গে নিজ হাতে ৪০টি শিশু ডেলিভারি সম্পন্ন করার পরই তাদের ডিপ্লোমার সনদ দেওয়া হয়। শারমিন নিসা আরও বলেন, বর্তমান সময়ে সিজার অপারেশন করে বাচ্চা জন্মগ্রহণের বিষয়টি বেড়ে গেছে। আমাদের এই কোর্সটির আরও একটি মূল উদ্দেশ্য হলো- সিজার অপারেশনের হার কমিয়ে আনা। কারণ আমাদের এখানে প্রশিক্ষিত মিডওয়াইফসরা স্বাভাবিক প্রক্রিয়ার মাধ্যমেই ডেলিভারি করার সর্বোচ্চ চেষ্টা করেন। ব্র্যাক বিশ্ববিদ্যালয়ের জেমস পি গ্রান্ট স্কুল অব পাবলিক হেলথ পরিচালিত ডেভেলপিং মিডওয়াইফস প্রজেক্টের অ্যাডভোকেসি অ্যান্ড কমিউনিকেশন স্পেশালিস্ট কাওসার আহমেদ বাংলা ট্রিবিউনকে জানান, দেশের সাতটি অ্যাকাডেমিক সেন্টারে এখন পর্যন্ত ৮৫৯ জন ছাত্রী ভর্তি হয়েছে। ইতোমধ্যে ৪০০ জন ডিপ্লোমা ইন মিডওয়াইফারি কোর্স সম্পন্ন করেছে। যার মধ্যে ৩৯৭ জন বিএনএমসি’র লাইসেন্স প্রাপ্ত হয়েছেন। ১৬১ জন সরকারি চাকরিতে নিয়োগপ্রাপ্ত হয়েছেন। কাওসার আহমেদ আরও উল্লেখ করেন,  বাংলাদেশের প্রেক্ষাপটে মিডওয়াইফ একটি নতুন পেশা। বর্তমান সময়ে এর মিডওয়াইফদের চাহিদা তৈরি হয়েছে।  কক্সবাজারের উখিয়ার মধুছড়ার চার নম্বর ক্যাম্পঘুরে দেখা যায় অধিকাংশ অন্তসত্ত্বা রোহিঙ্গা নারীরা সেখানে অবস্থিত হোপ ফাউন্ডেশনের হোপ ফিল্ড হসপিটাল ফর উইমেন থেকে সেবা নিচ্ছেন।  যেখানে কাজ করছেন ব্র্যাক বিশ্ববিদ্যালয় থেকে পাস করা বেশ কয়েকজন মিডওয়াইফ। মধুছড়া ক্যাম্পের একজন রোহিঙ্গা নারী তাইয়েবা খাতুনের সঙ্গে কথা বলে জানা যায়, চারদিন আগে এই হাসপাতালে তার একটি ছেলে সন্তান জন্ম নিয়েছে ব্র্যাকের মিডওয়াইফদের সাহায্যে। ওই হাসপাতালে তিনি কেমন সেবা পেয়েছেন জানতে চাইলে জানান,  ডেলিভারির সময় সবাই তাকে  সহযোগিতা করেছেন। তার বাচ্চা যেন স্বাভাবিকভাবে জন্মলাভ করতে পারে এ জন্য সেখানে কর্তব্যরত ডাক্তাররা চেষ্টা করেছেন। তিনি এবং তার সন্তান এখন সুস্থ্য আছে। শুধুমাত্র বেসরকারি দাতা সংস্থার হেলথ ক্যাম্পগুলোতেই নয়, সরকারি বিভিন্ন কমিউনিটি ক্লিনিকেও কাজ করছেন এই প্রশিক্ষিত মিডওয়াইফরা। যার মধ্যে কুতুপালং কমিউনিটি ক্লিনিকও উল্লেখযোগ্য। যেখানে স্থানীয় নারীদের সেবা দেওয়ার পাশপাশি রোহিঙ্গা  নারীদেরও সেবায় সহযোগিতা করা হয়।  রোহিঙ্গা ক্যাম্পগুলোর  বিভিন্ন হেলথ সেন্টারগুলোতে মিডওয়াইফসদের প্রয়োজনীয়তা বিষয়ে কথা বলতে গিয়ে ইন্টারন্যাশনার অর্গানাইজেশন ফর মাইগ্রেশন (আইওএম)-এর ন্যাশনাল প্রোগ্রাম অফিসার ড. মহিউদ্দিন এইচ খান জানান, সম্প্রতি যে পরিমাণ রোহিঙ্গা বাংলাদেশে প্রবেশ করেছে তাদের মধ্যে প্রায় ৭০/৮০ হাজারের মতো নারী অন্তঃস্তত্ত্বা। তারাই মূলত সেবাগুলো পাচ্ছেন। ফলে মিডওয়াইফসদের একটা চাহিদা তৈরি হয়েছে। এখানে যে হেলথ কমপ্লেক্স এবং কমিউনিটি ক্লিনিকগুলো আছে তাদের মাধ্যমে সেবা দেওয়ার চেষ্টা চলছে। মিডওয়াইফস প্রয়োজনের তুলনায় কী পরিমাণ আছে এমন একটি প্রশ্নের জবাবে তিনি বলেন, এটা একটা চলমান প্রক্রিয়া। অনেকেই আসছেন কাজ করছেন। কিন্তু অন্য কোনও ভালো সুযোগ পেলে চলে যাচ্ছেন। শুরুর দিকে আমাদের ফ্রেশ গ্র্যাজুয়েটদের নিতে হয়েছে তারপর প্রশিক্ষণ দিতে হয়েছে। চলমান প্রক্রিয়ার মধ্যেই আমাদের মিডওয়াইফস লাগবে। নতুন করে যারা আসবেন তাদের আবার নতুন করে প্রশিক্ষণ দিতে হবে। শুধুমাত্র ডেলিভারি পরিচালনা করা তো বিষয় না। একই সঙ্গে দেখা যায় প্রতিটা কেইসে বিভিন্ন চ্যালেঞ্জ থাকে আবার নিউনেটাল ম্যানেজম্যান্ট, কাউন্সিলিং, ফ্যামিলি প্ল্যানিং এসব সম্পর্কে একজন মিডওয়াইফকে ওরিয়েন্টেশন দিতে হয়।  এখন রোহিঙ্গা ক্যাম্পে আরও অনেক নারী নতুন করে অন্তসত্ত্বা হচ্ছেন সুতরাং মিডওয়াইফদের একটা বড় চাহিদা রয়েছে বলেও আইওএমের এই কর্মকর্তা উল্লেখ করেন। কুতুপালং কমিউনিটি ক্লিনিকে কর্তব্যরত একজন মিডওয়াইফের সঙ্গে আলাপকালে তিনি বলেন, প্রতিদিন এখানে ত্রিশ থেকে চল্লিশ জন অন্তসত্ত্বা নারী আসছেন। তাই এখানে আরও মিডওয়াইফ প্রয়োজন। ব্র্যাক বিশ্ববিদ্যালয়ের এই প্রকল্পের সবকয়টি অ্যাকাডেমিক সাইট বাংলাদেশ সরকারে স্বাস্থ্য ও পরিবার কল্যাণ মন্ত্রণালয়ের অনুমোদিত, বাংলাদেশ নার্সিং ও মিডওয়াইফারি কাউন্সিল (বিএনএমসি) এবং ইন্টারন্যাশনাল কনফেডারেশন অব মিডওয়াইভসের স্বীকৃতি নিয়েই তাদের কাজ পরিচালনা করছে। বর্তমানে দেশের ছয়টি বিভাগে সাতটি একাডেমিক সাইটের মাধ্যমে প্রকল্পটি তার মিডওয়াইফারি শিক্ষা কার্যক্রম পরিচালনা করে আসছে। অ্যাকাডেমিক সাইটগুলো হলো– ঢাকা, সিলেট (২টি), ময়মনসিংহ, খুলনা ও দিনাজপুরে। যার মধ্যে ঢাকার একাডেমিক সাইটটি ব্র্যাক বিশ্ববিদ্যালয়ের জেমস পি গ্রান্ট স্কুল অব পাবলিক হেলথ সরাসরি পরিচালনা করে। আর বাকিগুলো বিভিন্ন এনজিও সংস্থার সহযোগিতায় পরিচালিত হচ্ছে। \n",
            "\n",
            "********** After ***************\n",
            "বিগত এক বছর বাংলাদেশ সরকারসহ দেশের সর্বস্তরের মানুষ রোহিঙ্গা শরণার্থীদের পাশে দাঁড়িয়েছে ধারাবাহিকতায় পিছিয়ে বেসরকাররি প্রতিষ্ঠান ব্র্যাক ব্র্যাক বিশ্ববিদ্যালয় ব্র্যাক বিশ্ববিদ্যালয়ের জেমস গ্রান্ট স্কুল অব পাবলিক হেলথ পাসকৃত ১৪৮ ডিপ্লোমা গ্রাজুয়েট মিডওয়াইফ রোহিঙ্গা শরণার্থী শিবিরে সংস্থার হয়ে দক্ষতার সেবা প্রদান ব্র্যাক বিশ্ববিদ্যালয়ের তথ্যমতে গত ছয় মাসে এসকল মিডওয়াইফরা ৩ ২০০টি ডেলিভারি সক্ষম হয়েছেন মিলিনিয়াম ডেভেলপমেন্ট লক্ষ্য অর্জনে মাতৃমৃত্যু হার শিশু মৃত্যু হার কমিয়ে আনতে বাংলাদেশ সরকার বর্তমানে রোহিঙ্গা ক্যাম্পগুলোতেও সরকারের পাশাপাশি বেসরকারি প্রশিক্ষিত মিডওয়াইফরাও যাচ্ছেন নিরলসভাবে রোহিঙ্গা ক্যাম্পগুলোতেও দাতা সংস্থাগুলোতে চাহিদা তৈরি হয়েছে প্রশিক্ষিত মিডওয়াইফদের জাতীয় জনসংখ্যা গবেষণা প্রশিক্ষণ প্রতিষ্ঠান এনআইপিওআরটি আন্তর্জাতিক উদরাময় গবেষণা কেন্দ্র বাংলাদেশ আইসিডিডিআরবি মার্কিন দাতা সংস্থা ইউএসএআইডি বাংলাদেশ মাতৃমৃত্যু স্বাস্থ্যসেবা জরিপ ২০১৬ ফলাফলে সন্তান জন্ম লাখে ১৯৬ মায়ের মৃত্যু বাংলাদেশ সরকার উন্নয়ন দাতা সংস্থার সহায়তায় লক্ষ্য নির্ধারণ হয়েছে ২০৩০ সালের সংখ্যাটি কমিয়ে আনতে লাখে ৭০ জনে প্রয়োজন প্রশিক্ষিত মিডওয়াইফস চ্যালেঞ্জ মোকাবিলা লক্ষ্যে নিয়েই ২০১২ সাল ব্র্যাক বিশ্ববিদ্যালয়ের জেমস গ্রান্ট স্কুল অব পাবলিক হেলথের অধীনে যুক্তরাজ্য সরকারের অনুদান বছরের মিডওয়াইফারি ডিপ্লোমা কোর্স প্রেক্ষিতে পাসকৃত প্রশিক্ষিত মিডওয়াইফদের কাজের সুযোগও তৈরি হয়েছে রোহিঙ্গা ক্যাম্পগুলোতে মিডওয়াইফারি কোর্স কো অর্ডিনেটর মোসাম্মত শারমিন নিসা বাংলা ট্রিবিউনকে জানান পাঠ্যক্রমের কোর্স শেষ প্রতিটি শিক্ষার্থীকে ছয় মাস কমিউনিটি ক্লিনিকে নিজ হাতে ৪০টি শিশু ডেলিভারি সম্পন্ন পরই ডিপ্লোমার সনদ শারমিন নিসা বর্তমান সময়ে সিজার অপারেশন বাচ্চা জন্মগ্রহণের বিষয়টি বেড়ে কোর্সটির মূল উদ্দেশ্য সিজার অপারেশনের হার কমিয়ে আনা প্রশিক্ষিত মিডওয়াইফসরা স্বাভাবিক প্রক্রিয়ার মাধ্যমেই ডেলিভারি সর্বোচ্চ ব্র্যাক বিশ্ববিদ্যালয়ের জেমস গ্রান্ট স্কুল অব পাবলিক হেলথ পরিচালিত ডেভেলপিং মিডওয়াইফস প্রজেক্টের অ্যাডভোকেসি অ্যান্ড কমিউনিকেশন স্পেশালিস্ট কাওসার আহমেদ বাংলা ট্রিবিউনকে জানান দেশের সাতটি অ্যাকাডেমিক সেন্টারে ৮৫৯ ছাত্রী ভর্তি হয়েছে ইতোমধ্যে ৪০০ ডিপ্লোমা ইন মিডওয়াইফারি কোর্স সম্পন্ন ৩৯৭ বিএনএমসি লাইসেন্স প্রাপ্ত হয়েছেন ১৬১ সরকারি চাকরিতে নিয়োগপ্রাপ্ত হয়েছেন কাওসার আহমেদ উল্লেখ বাংলাদেশের প্রেক্ষাপটে মিডওয়াইফ পেশা বর্তমান সময়ে মিডওয়াইফদের চাহিদা তৈরি হয়েছে কক্সবাজারের উখিয়ার মধুছড়ার নম্বর ক্যাম্পঘুরে যায় অধিকাংশ অন্তসত্ত্বা রোহিঙ্গা নারীরা অবস্থিত হোপ ফাউন্ডেশনের হোপ ফিল্ড হসপিটাল ফর উইমেন সেবা নিচ্ছেন ব্র্যাক বিশ্ববিদ্যালয় পাস কয়েকজন মিডওয়াইফ মধুছড়া ক্যাম্পের একজন রোহিঙ্গা নারী তাইয়েবা খাতুনের কথা যায় চারদিন হাসপাতালে ছেলে সন্তান জন্ম নিয়েছে ব্র্যাকের মিডওয়াইফদের সাহায্যে হাসপাতালে কেমন সেবা পেয়েছেন চাইলে জানান ডেলিভারির সময় সবাই সহযোগিতা বাচ্চা স্বাভাবিকভাবে জন্মলাভ কর্তব্যরত ডাক্তাররা সন্তান সুস্থ্য শুধুমাত্র বেসরকারি দাতা সংস্থার হেলথ ক্যাম্পগুলোতেই সরকারি কমিউনিটি ক্লিনিকেও প্রশিক্ষিত মিডওয়াইফরা কুতুপালং কমিউনিটি ক্লিনিকও উল্লেখযোগ্য স্থানীয় নারীদের সেবা দেওয়ার পাশপাশি রোহিঙ্গা নারীদেরও সেবায় সহযোগিতা রোহিঙ্গা ক্যাম্পগুলোর হেলথ সেন্টারগুলোতে মিডওয়াইফসদের প্রয়োজনীয়তা বিষয়ে কথা ইন্টারন্যাশনার অর্গানাইজেশন ফর মাইগ্রেশন আইওএম ন্যাশনাল প্রোগ্রাম অফিসার ড মহিউদ্দিন এইচ খান জানান পরিমাণ রোহিঙ্গা বাংলাদেশে প্রবেশ ৭০ ৮০ হাজারের নারী অন্তঃস্তত্ত্বা তারাই মূলত সেবাগুলো পাচ্ছেন মিডওয়াইফসদের একটা চাহিদা তৈরি হয়েছে হেলথ কমপ্লেক্স কমিউনিটি ক্লিনিকগুলো সেবা দেওয়ার চলছে মিডওয়াইফস প্রয়োজনের তুলনায় পরিমাণ প্রশ্নের জবাবে একটা চলমান প্রক্রিয়া আসছেন ভালো সুযোগ পেলে যাচ্ছেন শুরুর ফ্রেশ গ্র্যাজুয়েটদের হয়েছে প্রশিক্ষণ হয়েছে চলমান প্রক্রিয়ার মিডওয়াইফস লাগবে আসবেন প্রশিক্ষণ শুধুমাত্র ডেলিভারি পরিচালনা বিষয় যায় প্রতিটা কেইসে চ্যালেঞ্জ নিউনেটাল ম্যানেজম্যান্ট কাউন্সিলিং ফ্যামিলি প্ল্যানিং এসব সম্পর্কে একজন মিডওয়াইফকে ওরিয়েন্টেশন রোহিঙ্গা ক্যাম্পে নারী অন্তসত্ত্বা হচ্ছেন মিডওয়াইফদের একটা বড় চাহিদা রয়েছে বলেও আইওএমের কর্মকর্তা উল্লেখ কুতুপালং কমিউনিটি ক্লিনিকে কর্তব্যরত একজন মিডওয়াইফের আলাপকালে প্রতিদিন ত্রিশ চল্লিশ অন্তসত্ত্বা নারী আসছেন মিডওয়াইফ প্রয়োজন ব্র্যাক বিশ্ববিদ্যালয়ের প্রকল্পের সবকয়টি অ্যাকাডেমিক সাইট বাংলাদেশ সরকারে স্বাস্থ্য পরিবার কল্যাণ মন্ত্রণালয়ের অনুমোদিত বাংলাদেশ নার্সিং মিডওয়াইফারি কাউন্সিল বিএনএমসি ইন্টারন্যাশনাল কনফেডারেশন অব মিডওয়াইভসের স্বীকৃতি নিয়েই পরিচালনা বর্তমানে দেশের ছয়টি বিভাগে সাতটি একাডেমিক সাইটের প্রকল্পটি মিডওয়াইফারি শিক্ষা কার্যক্রম পরিচালনা আসছে অ্যাকাডেমিক সাইটগুলো – ঢাকা সিলেট ২টি ময়মনসিংহ খুলনা দিনাজপুরে ঢাকার একাডেমিক সাইটটি ব্র্যাক বিশ্ববিদ্যালয়ের জেমস গ্রান্ট স্কুল অব পাবলিক হেলথ সরাসরি পরিচালনা বাকিগুলো এনজিও সংস্থার সহযোগিতায় পরিচালিত\n"
          ]
        }
      ],
      "source": [
        "from bnlp import BasicTokenizer\n",
        "from bnlp.corpus import stopwords, punctuations, letters, digits\n",
        "\n",
        "btokenizer = BasicTokenizer()\n",
        "\n",
        "def clean_text(text):\n",
        "    tokens = btokenizer.tokenize(text)\n",
        "    filtered = []\n",
        "    for i in tokens:\n",
        "        if i in stopwords:\n",
        "            continue\n",
        "    \n",
        "        if i in punctuations + '‘' + '’':\n",
        "            continue\n",
        "    \n",
        "        filtered.append(i)\n",
        "    \n",
        "    return \" \".join(filtered)\n",
        "\n",
        "print(\"********** Before ***************\")\n",
        "text = df.iloc[1]['content']\n",
        "print(text)\n",
        "print(\"\\n********** After ***************\")\n",
        "print(clean_text(text))"
      ]
    },
    {
      "cell_type": "code",
      "execution_count": null,
      "metadata": {
        "id": "KeS_QybTIhTW"
      },
      "outputs": [],
      "source": [
        "undersample = RandomUnderSampler(sampling_strategy='majority')"
      ]
    },
    {
      "cell_type": "code",
      "execution_count": null,
      "metadata": {
        "id": "aaE9t0_ZIhTW"
      },
      "outputs": [],
      "source": [
        "df['head'] = df.headline.apply(clean_text)\n",
        "df['con'] = df.content.apply(clean_text)"
      ]
    },
    {
      "cell_type": "code",
      "execution_count": null,
      "metadata": {
        "id": "Y3u5OV8AIhTX"
      },
      "outputs": [],
      "source": [
        "x= df.drop('label', axis=1)\n",
        "y= df.label"
      ]
    },
    {
      "cell_type": "code",
      "execution_count": null,
      "metadata": {
        "id": "KeQdYbAWIhTX"
      },
      "outputs": [],
      "source": [
        "X_train_resampled, y_train_resampled = undersample.fit_resample(x, y)"
      ]
    },
    {
      "cell_type": "code",
      "execution_count": null,
      "metadata": {
        "id": "UsB0OAvfIhTX"
      },
      "outputs": [],
      "source": [
        "df = X_train_resampled.join(y_train_resampled)"
      ]
    },
    {
      "cell_type": "code",
      "execution_count": null,
      "metadata": {
        "id": "vGU6sfKXmSv4"
      },
      "outputs": [],
      "source": [
        "from sklearn.model_selection import train_test_split\n",
        "\n",
        "train_df, test_df = train_test_split(df, test_size=0.2, random_state=121, stratify=df['label'])"
      ]
    },
    {
      "cell_type": "code",
      "execution_count": null,
      "metadata": {
        "colab": {
          "base_uri": "https://localhost:8080/"
        },
        "id": "_AykPXPOmSv4",
        "outputId": "8e7c02db-6623-4794-972e-9c9487de254a"
      },
      "outputs": [
        {
          "data": {
            "text/plain": [
              "(64, 16)"
            ]
          },
          "execution_count": 51,
          "metadata": {},
          "output_type": "execute_result"
        }
      ],
      "source": [
        "len(train_df), len(test_df)"
      ]
    },
    {
      "cell_type": "code",
      "execution_count": null,
      "metadata": {
        "id": "InYxfGn0mSv4"
      },
      "outputs": [],
      "source": [
        "training_data = NewsDatasets(train_df)\n",
        "train_dataloader = DataLoader(training_data, batch_size=1, shuffle=True)"
      ]
    },
    {
      "cell_type": "code",
      "execution_count": null,
      "metadata": {
        "id": "o8Ci1rSbmSv4"
      },
      "outputs": [],
      "source": [
        "test_data = NewsDatasets(test_df)\n",
        "test_dataloader = DataLoader(test_data, batch_size=1, shuffle=True)"
      ]
    },
    {
      "cell_type": "markdown",
      "metadata": {
        "id": "5Rg0bWM9o7Dt"
      },
      "source": [
        "# 2nd model"
      ]
    },
    {
      "cell_type": "code",
      "execution_count": null,
      "metadata": {
        "id": "d6fp8k7K0xu2"
      },
      "outputs": [],
      "source": [
        "class NewsBert2(nn.Module):\n",
        "\n",
        "    def __init__(self, bert):\n",
        "        super(NewsBert2, self).__init__()\n",
        "\n",
        "        self.bert = bert\n",
        "\n",
        "        # dropout layer\n",
        "        self.dropout = nn.Dropout(0.2)\n",
        "\n",
        "        # relu activation function\n",
        "        self.relu = nn.ReLU()\n",
        "\n",
        "        # dense layer 1\n",
        "        self.fc1 = nn.Linear(768, 128)\n",
        "\n",
        "        # dense layer 2 (Output layer)\n",
        "        self.fc2 = nn.Linear(128, 2)  \n",
        "\n",
        "    # define the forward pass\n",
        "    def forward(self, input_ids, token_type_ids, attention_mask):\n",
        "        # pass the inputs to the model\n",
        "        out = self.bert(input_ids, attention_mask=attention_mask, token_type_ids=token_type_ids)\n",
        "\n",
        "        x = self.fc1(out[1])\n",
        "        x = self.relu(x)\n",
        "        # output layer\n",
        "        x = self.fc2(self.dropout(x))\n",
        "        \n",
        "        return x"
      ]
    },
    {
      "cell_type": "code",
      "execution_count": null,
      "metadata": {
        "colab": {
          "base_uri": "https://localhost:8080/"
        },
        "id": "E4pp6dIuof6D",
        "outputId": "d8c41963-22e5-4b81-a1fd-0260dbac6592"
      },
      "outputs": [
        {
          "name": "stderr",
          "output_type": "stream",
          "text": [
            "Some weights of the model checkpoint at sagorsarker/bangla-bert-base were not used when initializing BertModel: ['cls.predictions.bias', 'cls.seq_relationship.bias', 'cls.predictions.decoder.weight', 'cls.predictions.transform.dense.bias', 'cls.seq_relationship.weight', 'cls.predictions.transform.LayerNorm.weight', 'cls.predictions.transform.dense.weight', 'cls.predictions.transform.LayerNorm.bias']\n",
            "- This IS expected if you are initializing BertModel from the checkpoint of a model trained on another task or with another architecture (e.g. initializing a BertForSequenceClassification model from a BertForPreTraining model).\n",
            "- This IS NOT expected if you are initializing BertModel from the checkpoint of a model that you expect to be exactly identical (initializing a BertForSequenceClassification model from a BertForSequenceClassification model).\n"
          ]
        }
      ],
      "source": [
        "bert_model_name = \"sagorsarker/bangla-bert-base\"\n",
        "bert = BertModel.from_pretrained(bert_model_name)\n",
        "tokenizer = BertTokenizer.from_pretrained(bert_model_name)"
      ]
    },
    {
      "cell_type": "code",
      "execution_count": null,
      "metadata": {
        "id": "v2W4tlI5otGC"
      },
      "outputs": [],
      "source": [
        "device = torch.device(\"cuda\" if torch.cuda.is_available() else \"cpu\")\n",
        "model2 = NewsBert(bert)\n",
        "model2.to(device);"
      ]
    },
    {
      "cell_type": "code",
      "execution_count": null,
      "metadata": {
        "id": "cI4pt2L0pUHf"
      },
      "outputs": [],
      "source": [
        "from torch.optim.lr_scheduler import StepLR\n",
        "\n",
        "optimizer = AdamW(model2.parameters(), lr=1e-5)\n",
        "criterion = nn.CrossEntropyLoss()\n",
        "scheduler = StepLR(optimizer, step_size=2, gamma=0.1)"
      ]
    },
    {
      "cell_type": "code",
      "execution_count": null,
      "metadata": {
        "colab": {
          "base_uri": "https://localhost:8080/"
        },
        "id": "_prGTjLrpeOx",
        "outputId": "8708200c-4742-4a97-e9dd-2a315d6a9040"
      },
      "outputs": [
        {
          "name": "stdout",
          "output_type": "stream",
          "text": [
            "tensor([[-0.0294, -0.0284, -0.0186,  ..., -0.0134,  0.0333, -0.0007],\n",
            "        [-0.0215,  0.0233,  0.0253,  ...,  0.0259, -0.0045, -0.0121],\n",
            "        [-0.0249, -0.0318, -0.0002,  ..., -0.0280, -0.0027,  0.0171],\n",
            "        ...,\n",
            "        [ 0.0123, -0.0065,  0.0218,  ...,  0.0354,  0.0027,  0.0306],\n",
            "        [ 0.0281, -0.0182,  0.0098,  ..., -0.0073, -0.0218,  0.0204],\n",
            "        [-0.0227, -0.0131, -0.0231,  ...,  0.0167,  0.0123, -0.0256]])\n"
          ]
        }
      ],
      "source": [
        "print(model2.fc1.weight.data)"
      ]
    },
    {
      "cell_type": "code",
      "execution_count": null,
      "metadata": {
        "id": "Pl_m20lkp5Du"
      },
      "outputs": [],
      "source": [
        "def train(model, dataloader, optimizer, criterion, config):\n",
        "    model2.train()  # prep model for training\n",
        "    train_loss = 0\n",
        "    for batch in tqdm(dataloader):\n",
        "        text, labels = batch\n",
        "\n",
        "        model2.zero_grad()\n",
        "\n",
        "        inputs = tokenizer.batch_encode_plus(\n",
        "            text, **config\n",
        "        )\n",
        "        input_ids = inputs['input_ids'].to(device)\n",
        "        token_type_ids = inputs['token_type_ids'].to(device)\n",
        "        attention_mask = inputs['attention_mask'].to(device)\n",
        "        labels = labels.to(device)\n",
        "\n",
        "        # move things to model\n",
        "        logs = model2(token_type_ids=token_type_ids, input_ids=input_ids, attention_mask=attention_mask)\n",
        "\n",
        "        loss = criterion(logs, labels)\n",
        "        train_loss += loss.item() * input_ids.size(0)\n",
        "        loss.backward()\n",
        "\n",
        "        # clip the the gradients to 1.0. It helps in preventing the exploding gradient problem\n",
        "        nn.utils.clip_grad_norm_(model2.parameters(), 1.0)\n",
        "        optimizer.step()\n",
        "\n",
        "    return train_loss"
      ]
    },
    {
      "cell_type": "code",
      "execution_count": null,
      "metadata": {
        "id": "88qYJ0I8kQqM"
      },
      "outputs": [],
      "source": [
        "def evaluate(model, dataloader, criterion, config):\n",
        "    total = 0\n",
        "    correct = 0\n",
        "    valid_loss = 0.0\n",
        "\n",
        "    model2.eval()  # prep model for evaluation\n",
        "    for batch in dataloader:\n",
        "        text, labels = batch\n",
        "        inputs = tokenizer.batch_encode_plus(\n",
        "            text, **config\n",
        "        )\n",
        "        input_ids = inputs['input_ids'].to(device)\n",
        "        token_type_ids = inputs['token_type_ids'].to(device)\n",
        "        attention_mask = inputs['attention_mask'].to(device)\n",
        "        labels = labels.to(device)\n",
        "\n",
        "        # move things to model\n",
        "        output = model2(token_type_ids=token_type_ids, input_ids=input_ids, attention_mask=attention_mask)\n",
        "\n",
        "        loss_p = criterion(output, labels)\n",
        "        # update running validation loss\n",
        "        valid_loss += loss_p.item() * input_ids.size(0)\n",
        "        # calculate accuracy\n",
        "        proba = torch.exp(output)\n",
        "        top_p, top_class = proba.topk(1, dim=1)\n",
        "        equals = top_class == labels.view(*top_class.shape)\n",
        "        # accuracy += torch.mean(equals.type(torch.FloatTensor)).item()\n",
        "\n",
        "        _, predicted = torch.max(output.data, 1)\n",
        "        total += labels.size(0)\n",
        "        correct += (predicted == labels).sum().item()\n",
        "\n",
        "    return total, correct, valid_loss"
      ]
    },
    {
      "cell_type": "code",
      "execution_count": null,
      "metadata": {
        "id": "6fzPnA_NkRTW"
      },
      "outputs": [],
      "source": [
        "epochs = 5\n",
        "tokenizer_config = {\n",
        "    \"max_length\": 100,\n",
        "    \"padding\": \"max_length\",\n",
        "    \"return_tensors\": \"pt\",\n",
        "    \"truncation\": True,\n",
        "    \"add_special_tokens\": True\n",
        "}"
      ]
    },
    {
      "cell_type": "code",
      "execution_count": null,
      "metadata": {
        "colab": {
          "base_uri": "https://localhost:8080/",
          "height": 368
        },
        "id": "57T4exIekaW9",
        "outputId": "91f6d813-1b1e-4c0c-fd88-60bd52d25abf"
      },
      "outputs": [
        {
          "name": "stdout",
          "output_type": "stream",
          "text": [
            "Epoch: 1/5\n"
          ]
        },
        {
          "data": {
            "application/vnd.jupyter.widget-view+json": {
              "model_id": "c50b950602e34700aef45f2f5f2d035b",
              "version_major": 2,
              "version_minor": 0
            },
            "text/plain": [
              "  0%|          | 0/64 [00:00<?, ?it/s]"
            ]
          },
          "metadata": {},
          "output_type": "display_data"
        },
        {
          "name": "stdout",
          "output_type": "stream",
          "text": [
            "\tTrain loss:0.733019.. \tValid Loss:0.661976.. \tAccuracy: 75.0000\n",
            "Epoch: 2/5\n"
          ]
        },
        {
          "data": {
            "application/vnd.jupyter.widget-view+json": {
              "model_id": "92625e69a08e4062a319d79b452a61e3",
              "version_major": 2,
              "version_minor": 0
            },
            "text/plain": [
              "  0%|          | 0/64 [00:00<?, ?it/s]"
            ]
          },
          "metadata": {},
          "output_type": "display_data"
        },
        {
          "name": "stdout",
          "output_type": "stream",
          "text": [
            "\tTrain loss:0.674386.. \tValid Loss:0.627179.. \tAccuracy: 75.0000\n",
            "Epoch: 3/5\n"
          ]
        },
        {
          "data": {
            "application/vnd.jupyter.widget-view+json": {
              "model_id": "e2758f3e24e84721bdfc7068dc13b8a3",
              "version_major": 2,
              "version_minor": 0
            },
            "text/plain": [
              "  0%|          | 0/64 [00:00<?, ?it/s]"
            ]
          },
          "metadata": {},
          "output_type": "display_data"
        },
        {
          "name": "stdout",
          "output_type": "stream",
          "text": [
            "\tTrain loss:0.433393.. \tValid Loss:0.618302.. \tAccuracy: 75.0000\n",
            "Epoch: 4/5\n"
          ]
        },
        {
          "data": {
            "application/vnd.jupyter.widget-view+json": {
              "model_id": "e8a1ae4ec4a04da7b89f30b9c5ca5263",
              "version_major": 2,
              "version_minor": 0
            },
            "text/plain": [
              "  0%|          | 0/64 [00:00<?, ?it/s]"
            ]
          },
          "metadata": {},
          "output_type": "display_data"
        },
        {
          "name": "stdout",
          "output_type": "stream",
          "text": [
            "\tTrain loss:0.416289.. \tValid Loss:0.638901.. \tAccuracy: 75.0000\n",
            "Epoch: 5/5\n"
          ]
        },
        {
          "data": {
            "application/vnd.jupyter.widget-view+json": {
              "model_id": "8bf225b4fcb1401f8f97cb8f0bab4ef9",
              "version_major": 2,
              "version_minor": 0
            },
            "text/plain": [
              "  0%|          | 0/64 [00:00<?, ?it/s]"
            ]
          },
          "metadata": {},
          "output_type": "display_data"
        },
        {
          "name": "stdout",
          "output_type": "stream",
          "text": [
            "\tTrain loss:0.387899.. \tValid Loss:0.638213.. \tAccuracy: 75.0000\n",
            "Training completed in 19m 22s\n"
          ]
        }
      ],
      "source": [
        "train_loss_data, valid_loss_data = [], []\n",
        "valid_loss_min = np.Inf\n",
        "since = time.time()\n",
        "best_loss = np.inf\n",
        "\n",
        "for epoch in range(epochs):\n",
        "    print(\"Epoch: {}/{}\".format(epoch + 1, epochs))\n",
        "    # monitor training loss\n",
        "    train_loss = 0.0\n",
        "    valid_loss = 0.0\n",
        "    total = 0\n",
        "    correct = 0\n",
        "    e_since = time.time()\n",
        "\n",
        "    # Train Model\n",
        "    train_loss += train(model2, train_dataloader, optimizer, criterion, tokenizer_config)\n",
        "    # Now Evaluate\n",
        "    out = evaluate(model2, test_dataloader, criterion, tokenizer_config)\n",
        "    total += out[0]\n",
        "    correct += out[1]\n",
        "    valid_loss += out[2]\n",
        "    \n",
        "    scheduler.step()\n",
        "\n",
        "    # print training/validation statistics\n",
        "    # calculate average loss over an epoch\n",
        "    train_loss = train_loss / len(train_dataloader.dataset)\n",
        "    valid_loss = valid_loss / len(test_dataloader.dataset)\n",
        "\n",
        "    # calculate train loss and running loss\n",
        "    train_loss_data.append(train_loss * 100)\n",
        "    valid_loss_data.append(valid_loss * 100)\n",
        "    \n",
        "    if valid_loss < best_loss:\n",
        "        best_loss = valid_loss\n",
        "        torch.save(model2.state_dict(), \"/content/drive/MyDrive/Colab Notebooks/Dataset/news_model2.pth\")\n",
        "\n",
        "    print(\"\\tTrain loss:{:.6f}..\".format(train_loss),\n",
        "          \"\\tValid Loss:{:.6f}..\".format(valid_loss),\n",
        "          \"\\tAccuracy: {:.4f}\".format(correct / total * 100))\n",
        "\n",
        "time_elapsed = time.time() - since\n",
        "print('Training completed in {:.0f}m {:.0f}s'.format(\n",
        "    time_elapsed // 60, time_elapsed % 60))"
      ]
    },
    {
      "cell_type": "code",
      "execution_count": null,
      "metadata": {
        "id": "_Tn33VRgejCC"
      },
      "outputs": [],
      "source": []
    },
    {
      "cell_type": "code",
      "execution_count": null,
      "metadata": {
        "id": "6I-AkuzAejnk"
      },
      "outputs": [],
      "source": [
        "class NewsBert2(nn.Module):\n",
        "\n",
        "    def __init__(self, bert):\n",
        "        super(NewsBert2, self).__init__()\n",
        "\n",
        "        self.bert = bert\n",
        "\n",
        "        # dropout layer\n",
        "        self.dropout = nn.Dropout(0.2)\n",
        "\n",
        "        # relu activation function\n",
        "        self.relu = nn.ReLU()\n",
        "\n",
        "        # dense layer 1\n",
        "        self.fc1 = nn.Linear(768, 128)\n",
        "\n",
        "        # dense layer 2 (Output layer)\n",
        "        self.fc2 = nn.Linear(128, 2)  \n",
        "\n",
        "    # define the forward pass\n",
        "    def forward(self, input_ids, token_type_ids, attention_mask):\n",
        "        # pass the inputs to the model\n",
        "        out = self.bert(input_ids, attention_mask=attention_mask, token_type_ids=token_type_ids)\n",
        "\n",
        "        x = self.fc1(out[1])\n",
        "        x = self.relu(x)\n",
        "        # output layer\n",
        "        x = self.fc2(self.dropout(x))\n",
        "        \n",
        "        return x"
      ]
    },
    {
      "cell_type": "code",
      "execution_count": null,
      "metadata": {
        "colab": {
          "base_uri": "https://localhost:8080/"
        },
        "id": "fKGZcgH2ejnk",
        "outputId": "7d0fef63-1691-416e-e24a-b07c489661db"
      },
      "outputs": [
        {
          "name": "stderr",
          "output_type": "stream",
          "text": [
            "Some weights of the model checkpoint at sagorsarker/bangla-bert-base were not used when initializing BertModel: ['cls.predictions.bias', 'cls.seq_relationship.bias', 'cls.predictions.decoder.weight', 'cls.predictions.transform.dense.bias', 'cls.seq_relationship.weight', 'cls.predictions.transform.LayerNorm.weight', 'cls.predictions.transform.dense.weight', 'cls.predictions.transform.LayerNorm.bias']\n",
            "- This IS expected if you are initializing BertModel from the checkpoint of a model trained on another task or with another architecture (e.g. initializing a BertForSequenceClassification model from a BertForPreTraining model).\n",
            "- This IS NOT expected if you are initializing BertModel from the checkpoint of a model that you expect to be exactly identical (initializing a BertForSequenceClassification model from a BertForSequenceClassification model).\n"
          ]
        }
      ],
      "source": [
        "bert_model_name = \"sagorsarker/bangla-bert-base\"\n",
        "bert = BertModel.from_pretrained(bert_model_name)\n",
        "tokenizer = BertTokenizer.from_pretrained(bert_model_name)"
      ]
    },
    {
      "cell_type": "code",
      "execution_count": null,
      "metadata": {
        "id": "E4XHS5Agejnk"
      },
      "outputs": [],
      "source": [
        "device = torch.device(\"cuda\" if torch.cuda.is_available() else \"cpu\")\n",
        "model2 = NewsBert(bert)\n",
        "model2.to(device);"
      ]
    },
    {
      "cell_type": "code",
      "execution_count": null,
      "metadata": {
        "id": "Il7Sq8qVejnk"
      },
      "outputs": [],
      "source": [
        "from torch.optim.lr_scheduler import StepLR\n",
        "\n",
        "optimizer = AdamW(model2.parameters(), lr=1e-5)\n",
        "criterion = nn.CrossEntropyLoss()\n",
        "scheduler = StepLR(optimizer, step_size=2, gamma=0.1)"
      ]
    },
    {
      "cell_type": "code",
      "execution_count": null,
      "metadata": {
        "id": "zl-XBu1Wphry"
      },
      "outputs": [],
      "source": [
        "model2.fc1.weight.data =model.fc1.weight.data.clone()\n",
        "model2.fc1.bias.data =model.fc1.bias.data.clone()\n",
        "model2.fc2.weight.data =model.fc2.weight.data.clone()\n",
        "model2.fc2.bias.data =model.fc2.bias.data.clone()"
      ]
    },
    {
      "cell_type": "code",
      "execution_count": null,
      "metadata": {
        "colab": {
          "base_uri": "https://localhost:8080/"
        },
        "id": "7KPr9Jghp2jT",
        "outputId": "a38da22b-f77d-48fd-a394-391ed30efdc0"
      },
      "outputs": [
        {
          "name": "stdout",
          "output_type": "stream",
          "text": [
            "tensor([[-0.0175,  0.0303,  0.0335,  ..., -0.0022,  0.0109,  0.0291],\n",
            "        [-0.0317,  0.0299, -0.0072,  ..., -0.0197,  0.0237,  0.0206],\n",
            "        [-0.0174, -0.0324,  0.0150,  ..., -0.0161, -0.0138, -0.0227],\n",
            "        ...,\n",
            "        [-0.0251,  0.0134, -0.0252,  ...,  0.0219, -0.0157, -0.0256],\n",
            "        [ 0.0099,  0.0349,  0.0075,  ...,  0.0271, -0.0321, -0.0015],\n",
            "        [-0.0209,  0.0238, -0.0154,  ...,  0.0213, -0.0039, -0.0176]])\n"
          ]
        }
      ],
      "source": [
        "print(model2.fc1.weight.data)"
      ]
    },
    {
      "cell_type": "code",
      "execution_count": null,
      "metadata": {
        "id": "k-CbLssVau8-"
      },
      "outputs": [],
      "source": []
    },
    {
      "cell_type": "code",
      "execution_count": null,
      "metadata": {
        "id": "ctx2COK0avRs"
      },
      "outputs": [],
      "source": [
        "def train(model, dataloader, optimizer, criterion, config):\n",
        "    model2.train()  # prep model for training\n",
        "    train_loss = 0\n",
        "    for batch in tqdm(dataloader):\n",
        "        text, labels = batch\n",
        "\n",
        "        model2.zero_grad()\n",
        "\n",
        "        inputs = tokenizer.batch_encode_plus(\n",
        "            text, **config\n",
        "        )\n",
        "        input_ids = inputs['input_ids'].to(device)\n",
        "        token_type_ids = inputs['token_type_ids'].to(device)\n",
        "        attention_mask = inputs['attention_mask'].to(device)\n",
        "        labels = labels.to(device)\n",
        "\n",
        "        # move things to model\n",
        "        logs = model2(token_type_ids=token_type_ids, input_ids=input_ids, attention_mask=attention_mask)\n",
        "\n",
        "        loss = criterion(logs, labels)\n",
        "        train_loss += loss.item() * input_ids.size(0)\n",
        "        loss.backward()\n",
        "\n",
        "        # clip the the gradients to 1.0. It helps in preventing the exploding gradient problem\n",
        "        nn.utils.clip_grad_norm_(model2.parameters(), 1.0)\n",
        "        optimizer.step()\n",
        "\n",
        "    return train_loss"
      ]
    },
    {
      "cell_type": "code",
      "execution_count": null,
      "metadata": {
        "id": "VPUX0LIfavRt"
      },
      "outputs": [],
      "source": [
        "def evaluate(model, dataloader, criterion, config):\n",
        "    total = 0\n",
        "    correct = 0\n",
        "    valid_loss = 0.0\n",
        "\n",
        "    model2.eval()  # prep model for evaluation\n",
        "    for batch in dataloader:\n",
        "        text, labels = batch\n",
        "        inputs = tokenizer.batch_encode_plus(\n",
        "            text, **config\n",
        "        )\n",
        "        input_ids = inputs['input_ids'].to(device)\n",
        "        token_type_ids = inputs['token_type_ids'].to(device)\n",
        "        attention_mask = inputs['attention_mask'].to(device)\n",
        "        labels = labels.to(device)\n",
        "\n",
        "        # move things to model\n",
        "        output = model2(token_type_ids=token_type_ids, input_ids=input_ids, attention_mask=attention_mask)\n",
        "\n",
        "        loss_p = criterion(output, labels)\n",
        "        # update running validation loss\n",
        "        valid_loss += loss_p.item() * input_ids.size(0)\n",
        "        # calculate accuracy\n",
        "        proba = torch.exp(output)\n",
        "        top_p, top_class = proba.topk(1, dim=1)\n",
        "        equals = top_class == labels.view(*top_class.shape)\n",
        "        # accuracy += torch.mean(equals.type(torch.FloatTensor)).item()\n",
        "\n",
        "        _, predicted = torch.max(output.data, 1)\n",
        "        total += labels.size(0)\n",
        "        correct += (predicted == labels).sum().item()\n",
        "\n",
        "    return total, correct, valid_loss"
      ]
    },
    {
      "cell_type": "code",
      "execution_count": null,
      "metadata": {
        "id": "zlz8JlgtavRt"
      },
      "outputs": [],
      "source": [
        "epochs = 5\n",
        "tokenizer_config = {\n",
        "    \"max_length\": 100,\n",
        "    \"padding\": \"max_length\",\n",
        "    \"return_tensors\": \"pt\",\n",
        "    \"truncation\": True,\n",
        "    \"add_special_tokens\": True\n",
        "}"
      ]
    },
    {
      "cell_type": "code",
      "execution_count": null,
      "metadata": {
        "colab": {
          "base_uri": "https://localhost:8080/",
          "height": 368
        },
        "id": "XtsdPg6vavRt",
        "outputId": "7aa3251e-5c3e-4098-cfdd-66b91243472b"
      },
      "outputs": [
        {
          "name": "stdout",
          "output_type": "stream",
          "text": [
            "Epoch: 1/5\n"
          ]
        },
        {
          "data": {
            "application/vnd.jupyter.widget-view+json": {
              "model_id": "25db9fa6c98d4967ac9f30f3ec6e51f8",
              "version_major": 2,
              "version_minor": 0
            },
            "text/plain": [
              "  0%|          | 0/64 [00:00<?, ?it/s]"
            ]
          },
          "metadata": {},
          "output_type": "display_data"
        },
        {
          "name": "stdout",
          "output_type": "stream",
          "text": [
            "\tTrain loss:0.731336.. \tValid Loss:0.694357.. \tAccuracy: 50.0000\n",
            "Epoch: 2/5\n"
          ]
        },
        {
          "data": {
            "application/vnd.jupyter.widget-view+json": {
              "model_id": "18897f162f564666b9c39c170361be6d",
              "version_major": 2,
              "version_minor": 0
            },
            "text/plain": [
              "  0%|          | 0/64 [00:00<?, ?it/s]"
            ]
          },
          "metadata": {},
          "output_type": "display_data"
        },
        {
          "name": "stdout",
          "output_type": "stream",
          "text": [
            "\tTrain loss:0.664254.. \tValid Loss:0.619742.. \tAccuracy: 68.7500\n",
            "Epoch: 3/5\n"
          ]
        },
        {
          "data": {
            "application/vnd.jupyter.widget-view+json": {
              "model_id": "4194db2a23f14cb2a577386837c5850f",
              "version_major": 2,
              "version_minor": 0
            },
            "text/plain": [
              "  0%|          | 0/64 [00:00<?, ?it/s]"
            ]
          },
          "metadata": {},
          "output_type": "display_data"
        },
        {
          "name": "stdout",
          "output_type": "stream",
          "text": [
            "\tTrain loss:0.408586.. \tValid Loss:0.639138.. \tAccuracy: 68.7500\n",
            "Epoch: 4/5\n"
          ]
        },
        {
          "data": {
            "application/vnd.jupyter.widget-view+json": {
              "model_id": "ba7bdb10ed17452d8dc12b70a5bc9b7c",
              "version_major": 2,
              "version_minor": 0
            },
            "text/plain": [
              "  0%|          | 0/64 [00:00<?, ?it/s]"
            ]
          },
          "metadata": {},
          "output_type": "display_data"
        },
        {
          "name": "stdout",
          "output_type": "stream",
          "text": [
            "\tTrain loss:0.338458.. \tValid Loss:0.662016.. \tAccuracy: 68.7500\n",
            "Epoch: 5/5\n"
          ]
        },
        {
          "data": {
            "application/vnd.jupyter.widget-view+json": {
              "model_id": "5e2b61720735406ab8c3358a9f068936",
              "version_major": 2,
              "version_minor": 0
            },
            "text/plain": [
              "  0%|          | 0/64 [00:00<?, ?it/s]"
            ]
          },
          "metadata": {},
          "output_type": "display_data"
        },
        {
          "name": "stdout",
          "output_type": "stream",
          "text": [
            "\tTrain loss:0.310236.. \tValid Loss:0.662682.. \tAccuracy: 68.7500\n",
            "Training completed in 18m 32s\n"
          ]
        }
      ],
      "source": [
        "train_loss_data, valid_loss_data = [], []\n",
        "valid_loss_min = np.Inf\n",
        "since = time.time()\n",
        "best_loss = np.inf\n",
        "\n",
        "for epoch in range(epochs):\n",
        "    print(\"Epoch: {}/{}\".format(epoch + 1, epochs))\n",
        "    # monitor training loss\n",
        "    train_loss = 0.0\n",
        "    valid_loss = 0.0\n",
        "    total = 0\n",
        "    correct = 0\n",
        "    e_since = time.time()\n",
        "\n",
        "    # Train Model\n",
        "    train_loss += train(model2, train_dataloader, optimizer, criterion, tokenizer_config)\n",
        "    # Now Evaluate\n",
        "    out = evaluate(model2, test_dataloader, criterion, tokenizer_config)\n",
        "    total += out[0]\n",
        "    correct += out[1]\n",
        "    valid_loss += out[2]\n",
        "    \n",
        "    scheduler.step()\n",
        "\n",
        "    # print training/validation statistics\n",
        "    # calculate average loss over an epoch\n",
        "    train_loss = train_loss / len(train_dataloader.dataset)\n",
        "    valid_loss = valid_loss / len(test_dataloader.dataset)\n",
        "\n",
        "    # calculate train loss and running loss\n",
        "    train_loss_data.append(train_loss * 100)\n",
        "    valid_loss_data.append(valid_loss * 100)\n",
        "    \n",
        "    if valid_loss < best_loss:\n",
        "        best_loss = valid_loss\n",
        "        torch.save(model2.state_dict(), \"/content/drive/MyDrive/Colab Notebooks/Dataset/news_model2.pth\")\n",
        "\n",
        "    print(\"\\tTrain loss:{:.6f}..\".format(train_loss),\n",
        "          \"\\tValid Loss:{:.6f}..\".format(valid_loss),\n",
        "          \"\\tAccuracy: {:.4f}\".format(correct / total * 100))\n",
        "\n",
        "time_elapsed = time.time() - since\n",
        "print('Training completed in {:.0f}m {:.0f}s'.format(\n",
        "    time_elapsed // 60, time_elapsed % 60))"
      ]
    },
    {
      "cell_type": "code",
      "execution_count": null,
      "metadata": {
        "colab": {
          "base_uri": "https://localhost:8080/"
        },
        "id": "XQXi8Zn_sH5G",
        "outputId": "90f4880f-bb14-407f-9ccb-34a2a0bf8880"
      },
      "outputs": [
        {
          "data": {
            "text/plain": [
              "68.75"
            ]
          },
          "execution_count": 73,
          "metadata": {},
          "output_type": "execute_result"
        }
      ],
      "source": [
        "training_acc2 = correct / total * 100\n",
        "training_acc2"
      ]
    },
    {
      "cell_type": "code",
      "execution_count": null,
      "metadata": {
        "colab": {
          "base_uri": "https://localhost:8080/",
          "height": 282
        },
        "id": "p4a9OcaMk2Hn",
        "outputId": "2069a694-61be-4443-ff25-1549be4152ef"
      },
      "outputs": [
        {
          "data": {
            "text/plain": [
              "<matplotlib.legend.Legend at 0x7f63f2a2fb50>"
            ]
          },
          "execution_count": 74,
          "metadata": {},
          "output_type": "execute_result"
        },
        {
          "data": {
            "image/png": "[encoded data removed]",
            "text/plain": [
              "<Figure size 432x288 with 1 Axes>"
            ]
          },
          "metadata": {},
          "output_type": "display_data"
        }
      ],
      "source": [
        "from matplotlib import pyplot as plt\n",
        "\n",
        "plt.plot(train_loss_data, label=\"Training loss\")\n",
        "plt.plot(valid_loss_data, label=\"validation loss\")\n",
        "plt.legend(frameon=False)"
      ]
    },
    {
      "cell_type": "code",
      "execution_count": null,
      "metadata": {
        "id": "BY7NnqulFJnq"
      },
      "outputs": [],
      "source": [
        "from google.colab import output\n",
        "output.enable_custom_widget_manager()"
      ]
    },
    {
      "cell_type": "code",
      "execution_count": null,
      "metadata": {
        "id": "RHmF3fdpFJnr"
      },
      "outputs": [],
      "source": [
        "from google.colab import output\n",
        "output.disable_custom_widget_manager()"
      ]
    },
    {
      "cell_type": "code",
      "execution_count": null,
      "metadata": {
        "colab": {
          "base_uri": "https://localhost:8080/"
        },
        "id": "VPMusCsEtAcK",
        "outputId": "d0a9b29e-756a-4c84-d9b6-07835accbf19"
      },
      "outputs": [
        {
          "data": {
            "text/plain": [
              "<All keys matched successfully>"
            ]
          },
          "execution_count": 77,
          "metadata": {},
          "output_type": "execute_result"
        }
      ],
      "source": [
        "model2.load_state_dict(torch.load(\"/content/drive/MyDrive/Colab Notebooks/Dataset/news_model2.pth\", map_location = device))"
      ]
    },
    {
      "cell_type": "code",
      "execution_count": null,
      "metadata": {
        "id": "ffe8gQN9k2jc"
      },
      "outputs": [],
      "source": [
        "all_preds = []\n",
        "all_labels = []\n",
        "\n",
        "for batch in test_dataloader:\n",
        "    text, labels = batch\n",
        "    inputs = tokenizer.batch_encode_plus(\n",
        "        text, **tokenizer_config\n",
        "    )\n",
        "    input_ids = inputs['input_ids'].to(device)\n",
        "    token_type_ids = inputs['token_type_ids'].to(device)\n",
        "    attention_mask = inputs['attention_mask'].to(device)\n",
        "    labels = labels.to(device)\n",
        "\n",
        "    # move things to model\n",
        "    output = model2(token_type_ids=token_type_ids, input_ids=input_ids, attention_mask=attention_mask)\n",
        "    preds = output.detach().cpu().numpy()\n",
        "    preds = np.argmax(preds, axis = 1)\n",
        "    all_preds.extend(preds)\n",
        "    all_labels.extend(labels.cpu().numpy())"
      ]
    },
    {
      "cell_type": "code",
      "execution_count": null,
      "metadata": {
        "colab": {
          "base_uri": "https://localhost:8080/"
        },
        "id": "xdKTWhn7lo6V",
        "outputId": "470309c7-bcd9-4dd2-f809-914206c8aeb9"
      },
      "outputs": [
        {
          "name": "stdout",
          "output_type": "stream",
          "text": [
            "              precision    recall  f1-score   support\n",
            "\n",
            "           0       0.80      0.50      0.62         8\n",
            "           1       0.64      0.88      0.74         8\n",
            "\n",
            "    accuracy                           0.69        16\n",
            "   macro avg       0.72      0.69      0.68        16\n",
            "weighted avg       0.72      0.69      0.68        16\n",
            "\n"
          ]
        }
      ],
      "source": [
        "from sklearn.metrics import classification_report\n",
        "\n",
        "# preds = np.argmax(preds, axis = 1)\n",
        "print(classification_report(all_labels, all_preds))"
      ]
    },
    {
      "cell_type": "code",
      "execution_count": null,
      "metadata": {
        "colab": {
          "base_uri": "https://localhost:8080/"
        },
        "id": "bHwmeVLhqw3J",
        "outputId": "1cdbef7c-ebdf-4ebb-c351-f68f8e2c800b"
      },
      "outputs": [
        {
          "name": "stdout",
          "output_type": "stream",
          "text": [
            "tensor([[-0.0178,  0.0302,  0.0336,  ..., -0.0023,  0.0108,  0.0291],\n",
            "        [-0.0319,  0.0298, -0.0072,  ..., -0.0197,  0.0235,  0.0206],\n",
            "        [-0.0172, -0.0323,  0.0151,  ..., -0.0161, -0.0137, -0.0228],\n",
            "        ...,\n",
            "        [-0.0251,  0.0133, -0.0251,  ...,  0.0219, -0.0159, -0.0257],\n",
            "        [ 0.0100,  0.0349,  0.0075,  ...,  0.0271, -0.0320, -0.0015],\n",
            "        [-0.0207,  0.0240, -0.0153,  ...,  0.0213, -0.0039, -0.0176]])\n"
          ]
        }
      ],
      "source": [
        "print(model2.fc1.weight.data)"
      ]
    },
    {
      "cell_type": "code",
      "execution_count": null,
      "metadata": {
        "id": "ay7TOpb5kCR5"
      },
      "outputs": [],
      "source": [
        "cf_matrix = confusion_matrix(all_labels, all_preds)  "
      ]
    },
    {
      "cell_type": "code",
      "execution_count": null,
      "metadata": {
        "colab": {
          "base_uri": "https://localhost:8080/",
          "height": 337
        },
        "id": "bunHJeA0kCR6",
        "outputId": "8e59a547-bcca-4e21-8f1a-5bf46f44e125"
      },
      "outputs": [
        {
          "data": {
            "image/png": "[encoded data removed]",
            "text/plain": [
              "<Figure size 432x288 with 2 Axes>"
            ]
          },
          "metadata": {},
          "output_type": "display_data"
        }
      ],
      "source": [
        "import seaborn as sns\n",
        "\n",
        "ax = sns.heatmap(cf_matrix, annot=True, cmap='Blues')\n",
        "\n",
        "ax.set_title('Seaborn Confusion Matrix with labels\\n\\n');\n",
        "ax.set_xlabel('\\nPredicted Values')\n",
        "ax.set_ylabel('Actual Values ');\n",
        "\n",
        "## Ticket labels - List must be in alphabetical order\n",
        "ax.xaxis.set_ticklabels(['False','True'])\n",
        "ax.yaxis.set_ticklabels(['False','True'])\n",
        "\n",
        "## Display the visualization of the Confusion Matrix.\n",
        "plt.show()"
      ]
    },
    {
      "cell_type": "code",
      "execution_count": null,
      "metadata": {
        "colab": {
          "base_uri": "https://localhost:8080/"
        },
        "id": "pCLsffDnOeom",
        "outputId": "991b1393-7529-4653-9035-c9c2087251d3"
      },
      "outputs": [
        {
          "name": "stdout",
          "output_type": "stream",
          "text": [
            "Accuracy: 0.688\n",
            "Precision: 0.718\n",
            "Recall: 0.688\n",
            "F-Measure: 0.676\n"
          ]
        }
      ],
      "source": [
        "from sklearn.metrics import precision_score,recall_score,f1_score,accuracy_score\n",
        "test_accuracy2 = accuracy_score(all_labels, all_preds)\n",
        "print('Accuracy: %.3f' % test_accuracy2)\n",
        "precision2 = precision_score(all_labels, all_preds, average='macro')\n",
        "print('Precision: %.3f' % precision2)\n",
        "recall2 = recall_score(all_labels, all_preds, average='macro')\n",
        "print('Recall: %.3f' % recall2)\n",
        "score2 = f1_score(all_labels, all_preds, average='macro')\n",
        "print('F-Measure: %.3f' % score2)"
      ]
    },
    {
      "cell_type": "markdown",
      "metadata": {
        "id": "RWMcCaMCObUo"
      },
      "source": [
        "# For Looping"
      ]
    },
    {
      "cell_type": "code",
      "execution_count": null,
      "metadata": {
        "id": "AlMi7-ymOjJT"
      },
      "outputs": [],
      "source": [
        "if precision2 >= precision and recall2 >= recall and score2 >= score :\n",
        "  torch.save(model2.state_dict(), \"/content/drive/MyDrive/Colab Notebooks/Dataset/news_model1.pth\")\n",
        "  precision = precision2\n",
        "  recall = recall2\n",
        "  score = score2\n",
        "  model.fc1.weight.data =model2.fc1.weight.data.clone()\n",
        "  model.fc1.bias.data =model2.fc1.bias.data.clone()\n",
        "  model.fc2.weight.data =model2.fc2.weight.data.clone()\n",
        "  model.fc2.bias.data =model2.fc2.bias.data.clone()"
      ]
    },
    {
      "cell_type": "code",
      "execution_count": null,
      "metadata": {
        "id": "Kl_E8ECngcC0"
      },
      "outputs": [],
      "source": []
    },
    {
      "cell_type": "code",
      "execution_count": null,
      "metadata": {
        "id": "b-aQDLNHRM5W"
      },
      "outputs": [],
      "source": []
    },
    {
      "cell_type": "markdown",
      "metadata": {
        "id": "NVoZJHIkROJ1"
      },
      "source": [
        "# 3rd Model\n"
      ]
    },
    {
      "cell_type": "code",
      "execution_count": null,
      "metadata": {
        "id": "yn-d5QAeRacD"
      },
      "outputs": [],
      "source": []
    },
    {
      "cell_type": "markdown",
      "metadata": {
        "id": "GmwDgPtvRacE"
      },
      "source": [
        "### Train and Test split: \n",
        "(only 20% data used for testing)\n",
        "- Total Dataset size: 10392\n",
        "- Total train size: 8313\n",
        "- Test train size: 2079"
      ]
    },
    {
      "cell_type": "code",
      "execution_count": null,
      "metadata": {
        "id": "TOLP3SLBRacE"
      },
      "outputs": [],
      "source": [
        "class NewsDatasets(Dataset):\n",
        "    def __init__(self, data, max_length=100):\n",
        "        self.data = data\n",
        "        \n",
        "        self.config = {\n",
        "            \"max_length\": max_length,\n",
        "            \"padding\": \"max_length\",\n",
        "            \"return_tensors\": \"pt\",\n",
        "            \"truncation\": True,\n",
        "            \"add_special_tokens\": True\n",
        "        }\n",
        "\n",
        "    def __len__(self):\n",
        "        return len(self.data)\n",
        "\n",
        "    def __getitem__(self, idx):\n",
        "        value = self.data.iloc[idx]\n",
        "        return value['head']+\"[SEP]\"+value['con'] , value['label']"
      ]
    },
    {
      "cell_type": "code",
      "execution_count": null,
      "metadata": {
        "colab": {
          "base_uri": "https://localhost:8080/"
        },
        "id": "pwCQ7DYSRacF",
        "outputId": "78832027-c92f-476b-e234-6146b919431c"
      },
      "outputs": [
        {
          "name": "stdout",
          "output_type": "stream",
          "text": [
            "1497\n",
            "40\n"
          ]
        }
      ],
      "source": [
        "auth = pd.read_csv(\"/content/drive/MyDrive/Colab Notebooks/Dataset/For Sentiment/Division /40%/auth_set_3.csv\",encoding='UTF-8')\n",
        "fake = pd.read_csv(\"/content/drive/MyDrive/Colab Notebooks/Dataset/For Sentiment/Division /40%/fake_set_3.csv\",encoding='UTF-8')\n",
        "\n",
        "\n",
        "print(len(auth))\n",
        "print(len(fake))\n"
      ]
    },
    {
      "cell_type": "code",
      "execution_count": null,
      "metadata": {
        "colab": {
          "base_uri": "https://localhost:8080/"
        },
        "id": "m_UVFskORacF",
        "outputId": "a655456d-3423-4d09-e340-36b33048ed7c"
      },
      "outputs": [
        {
          "data": {
            "text/plain": [
              "1537"
            ]
          },
          "execution_count": 87,
          "metadata": {},
          "output_type": "execute_result"
        }
      ],
      "source": [
        "\n",
        "#df = auth[:fake.shape[0]* 7]\n",
        "df = auth.append(fake)\n",
        "df = df.sample(frac=1).reset_index(drop=True)\n",
        "len(df)"
      ]
    },
    {
      "cell_type": "code",
      "execution_count": null,
      "metadata": {
        "colab": {
          "base_uri": "https://localhost:8080/"
        },
        "id": "bSSQZnpbRacF",
        "outputId": "e86cb581-a912-435a-9fde-671493e0fb82"
      },
      "outputs": [
        {
          "name": "stdout",
          "output_type": "stream",
          "text": [
            "********** Before ***************\n",
            "দেশে আবারও ‘হ্যাপি আওয়ার’ সুবিধা চালু করেছে বিশ্বের প্রথম অন-ডিমান্ড রাইড শেয়ারিং কোম্পানি উবার। এই সুবিধার আওতায় গ্রাহকরা দিনের এবটি নির্দিষ্ট সময়ে ডিসকাউন্ট রেটে সেবা গ্রহণ করতে পারবেন।  সম্প্রতি উবার অ্যাপের নিউজ ফিডে এ তথ্য জানিয়েছে প্রতিষ্ঠানটি। উবার অ্যাপ ব্যবহারকারীরা তাদের মোবাইলেই এ তথ্য দেখতে পারবেন। এক সংবাদ বিজ্ঞপ্তিতে উবার জানিয়েছে, হ্যাপি আওয়ার সুবিধার আওতায় গ্রাহকরা উবার এক্স ও প্রিমিয়ামে ডিসকাউন্ট রেটে সেবা নিতে পারবেন। তবে কত ডিসকাউন্ট দেওয়া হবে সেটা উল্লেখ করা হয়নি। তবে বলা হয়েছে, ডিসকাউন্ট রেট পেতে কোনো প্রোমো কোডের দরকার হবে না। স্বয়ংক্রিয়ভাবে ডিসকাউন্ট রেটেই ভাড়া নির্ধারিত হবে। গ্রাহকরা রবি থেকে বৃহস্পতিবার বেলা ৫টা এবং শুক্র ও শনিবার বেলা ৯টা থেকে ১২ টা পর্যন্ত হ্যাপি আওয়ারের সুবিধা নিতে পারবেন। এছাড়াও ছুটির দিন শুক্র ও শনিবার বেলা ৯টা থেকে দুপুর ১২টা এই সুবিধা উপভোগ করা যাবে।  (ঢাকাটাইমস/৪অক্টোবর/এজেড)\n",
            "\n",
            "********** After ***************\n",
            "দেশে আবারও হ্যাপি আওয়ার সুবিধা বিশ্বের অন ডিমান্ড রাইড শেয়ারিং কোম্পানি উবার সুবিধার আওতায় গ্রাহকরা দিনের এবটি নির্দিষ্ট সময়ে ডিসকাউন্ট রেটে সেবা গ্রহণ পারবেন উবার অ্যাপের নিউজ ফিডে তথ্য জানিয়েছে প্রতিষ্ঠানটি উবার অ্যাপ ব্যবহারকারীরা মোবাইলেই তথ্য পারবেন এক সংবাদ বিজ্ঞপ্তিতে উবার জানিয়েছে হ্যাপি আওয়ার সুবিধার আওতায় গ্রাহকরা উবার এক্স প্রিমিয়ামে ডিসকাউন্ট রেটে সেবা পারবেন ডিসকাউন্ট উল্লেখ হয়নি হয়েছে ডিসকাউন্ট রেট পেতে প্রোমো কোডের দরকার স্বয়ংক্রিয়ভাবে ডিসকাউন্ট রেটেই ভাড়া নির্ধারিত গ্রাহকরা রবি বৃহস্পতিবার বেলা ৫টা শুক্র শনিবার বেলা ৯টা ১২ টা হ্যাপি আওয়ারের সুবিধা পারবেন এছাড়াও ছুটির শুক্র শনিবার বেলা ৯টা দুপুর ১২টা সুবিধা উপভোগ ঢাকাটাইমস ৪অক্টোবর এজেড\n"
          ]
        }
      ],
      "source": [
        "from bnlp import BasicTokenizer\n",
        "from bnlp.corpus import stopwords, punctuations, letters, digits\n",
        "\n",
        "btokenizer = BasicTokenizer()\n",
        "\n",
        "def clean_text(text):\n",
        "    tokens = btokenizer.tokenize(text)\n",
        "    filtered = []\n",
        "    for i in tokens:\n",
        "        if i in stopwords:\n",
        "            continue\n",
        "    \n",
        "        if i in punctuations + '‘' + '’':\n",
        "            continue\n",
        "    \n",
        "        filtered.append(i)\n",
        "    \n",
        "    return \" \".join(filtered)\n",
        "\n",
        "print(\"********** Before ***************\")\n",
        "text = df.iloc[1]['content']\n",
        "print(text)\n",
        "print(\"\\n********** After ***************\")\n",
        "print(clean_text(text))"
      ]
    },
    {
      "cell_type": "code",
      "execution_count": null,
      "metadata": {
        "id": "aoRYOnoxRacF"
      },
      "outputs": [],
      "source": [
        "undersample = RandomUnderSampler(sampling_strategy='majority')"
      ]
    },
    {
      "cell_type": "code",
      "execution_count": null,
      "metadata": {
        "id": "kLn9vcOoRacF"
      },
      "outputs": [],
      "source": [
        "df['head'] = df.headline.apply(clean_text)\n",
        "df['con'] = df.content.apply(clean_text)"
      ]
    },
    {
      "cell_type": "code",
      "execution_count": null,
      "metadata": {
        "id": "qri3Zq3mRacG"
      },
      "outputs": [],
      "source": [
        "x= df.drop('label', axis=1)\n",
        "y= df.label"
      ]
    },
    {
      "cell_type": "code",
      "execution_count": null,
      "metadata": {
        "id": "lOz_OlPzRacG"
      },
      "outputs": [],
      "source": [
        "X_train_resampled, y_train_resampled = undersample.fit_resample(x, y)"
      ]
    },
    {
      "cell_type": "code",
      "execution_count": null,
      "metadata": {
        "id": "jv9JHJesRacG"
      },
      "outputs": [],
      "source": [
        "df = X_train_resampled.join(y_train_resampled)"
      ]
    },
    {
      "cell_type": "code",
      "execution_count": null,
      "metadata": {
        "id": "-jQAC8zbRacG"
      },
      "outputs": [],
      "source": [
        "from sklearn.model_selection import train_test_split\n",
        "\n",
        "train_df, test_df = train_test_split(df, test_size=0.2, random_state=121, stratify=df['label'])"
      ]
    },
    {
      "cell_type": "code",
      "execution_count": null,
      "metadata": {
        "colab": {
          "base_uri": "https://localhost:8080/"
        },
        "id": "G_MGvKqORacG",
        "outputId": "ad1a32c8-8678-498f-f6fd-fdb98d12eafc"
      },
      "outputs": [
        {
          "data": {
            "text/plain": [
              "(64, 16)"
            ]
          },
          "execution_count": 95,
          "metadata": {},
          "output_type": "execute_result"
        }
      ],
      "source": [
        "len(train_df), len(test_df)"
      ]
    },
    {
      "cell_type": "code",
      "execution_count": null,
      "metadata": {
        "id": "miD2fnZoRacG"
      },
      "outputs": [],
      "source": [
        "training_data = NewsDatasets(train_df)\n",
        "train_dataloader = DataLoader(training_data, batch_size=1, shuffle=True)"
      ]
    },
    {
      "cell_type": "code",
      "execution_count": null,
      "metadata": {
        "id": "pPGeiO8YRacG"
      },
      "outputs": [],
      "source": [
        "test_data = NewsDatasets(test_df)\n",
        "test_dataloader = DataLoader(test_data, batch_size=1, shuffle=True)"
      ]
    },
    {
      "cell_type": "code",
      "execution_count": null,
      "metadata": {
        "id": "xickcgrwRacI"
      },
      "outputs": [],
      "source": [
        "class NewsBert2(nn.Module):\n",
        "\n",
        "    def __init__(self, bert):\n",
        "        super(NewsBert2, self).__init__()\n",
        "\n",
        "        self.bert = bert\n",
        "\n",
        "        # dropout layer\n",
        "        self.dropout = nn.Dropout(0.2)\n",
        "\n",
        "        # relu activation function\n",
        "        self.relu = nn.ReLU()\n",
        "\n",
        "        # dense layer 1\n",
        "        self.fc1 = nn.Linear(768, 128)\n",
        "\n",
        "        # dense layer 2 (Output layer)\n",
        "        self.fc2 = nn.Linear(128, 2)  \n",
        "\n",
        "    # define the forward pass\n",
        "    def forward(self, input_ids, token_type_ids, attention_mask):\n",
        "        # pass the inputs to the model\n",
        "        out = self.bert(input_ids, attention_mask=attention_mask, token_type_ids=token_type_ids)\n",
        "\n",
        "        x = self.fc1(out[1])\n",
        "        x = self.relu(x)\n",
        "        # output layer\n",
        "        x = self.fc2(self.dropout(x))\n",
        "        \n",
        "        return x"
      ]
    },
    {
      "cell_type": "code",
      "execution_count": null,
      "metadata": {
        "colab": {
          "base_uri": "https://localhost:8080/"
        },
        "id": "U9wqiOIlRacI",
        "outputId": "f4e90240-1c6c-4501-d663-4ae9a0e216c5"
      },
      "outputs": [
        {
          "name": "stderr",
          "output_type": "stream",
          "text": [
            "Some weights of the model checkpoint at sagorsarker/bangla-bert-base were not used when initializing BertModel: ['cls.predictions.bias', 'cls.seq_relationship.bias', 'cls.predictions.decoder.weight', 'cls.predictions.transform.dense.bias', 'cls.seq_relationship.weight', 'cls.predictions.transform.LayerNorm.weight', 'cls.predictions.transform.dense.weight', 'cls.predictions.transform.LayerNorm.bias']\n",
            "- This IS expected if you are initializing BertModel from the checkpoint of a model trained on another task or with another architecture (e.g. initializing a BertForSequenceClassification model from a BertForPreTraining model).\n",
            "- This IS NOT expected if you are initializing BertModel from the checkpoint of a model that you expect to be exactly identical (initializing a BertForSequenceClassification model from a BertForSequenceClassification model).\n"
          ]
        }
      ],
      "source": [
        "bert_model_name = \"sagorsarker/bangla-bert-base\"\n",
        "bert = BertModel.from_pretrained(bert_model_name)\n",
        "tokenizer = BertTokenizer.from_pretrained(bert_model_name)"
      ]
    },
    {
      "cell_type": "code",
      "execution_count": null,
      "metadata": {
        "id": "6BvwQNvoRacJ"
      },
      "outputs": [],
      "source": [
        "device = torch.device(\"cuda\" if torch.cuda.is_available() else \"cpu\")\n",
        "model2 = NewsBert(bert)\n",
        "model2.to(device);"
      ]
    },
    {
      "cell_type": "code",
      "execution_count": null,
      "metadata": {
        "id": "MohaFmWYRacJ"
      },
      "outputs": [],
      "source": [
        "from torch.optim.lr_scheduler import StepLR\n",
        "\n",
        "optimizer = AdamW(model2.parameters(), lr=1e-5)\n",
        "criterion = nn.CrossEntropyLoss()\n",
        "scheduler = StepLR(optimizer, step_size=2, gamma=0.1)"
      ]
    },
    {
      "cell_type": "code",
      "execution_count": null,
      "metadata": {
        "id": "L5iVUAt4RacJ"
      },
      "outputs": [],
      "source": [
        "model2.fc1.weight.data =model.fc1.weight.data.clone()\n",
        "model2.fc1.bias.data =model.fc1.bias.data.clone()\n",
        "model2.fc2.weight.data =model.fc2.weight.data.clone()\n",
        "model2.fc2.bias.data =model.fc2.bias.data.clone()"
      ]
    },
    {
      "cell_type": "code",
      "execution_count": null,
      "metadata": {
        "colab": {
          "base_uri": "https://localhost:8080/"
        },
        "id": "LiOYySK_RacJ",
        "outputId": "7b2b568b-753a-4a3a-9c5f-87ef3e5456e3"
      },
      "outputs": [
        {
          "name": "stdout",
          "output_type": "stream",
          "text": [
            "tensor([[-0.0175,  0.0303,  0.0335,  ..., -0.0022,  0.0109,  0.0291],\n",
            "        [-0.0317,  0.0299, -0.0072,  ..., -0.0197,  0.0237,  0.0206],\n",
            "        [-0.0174, -0.0324,  0.0150,  ..., -0.0161, -0.0138, -0.0227],\n",
            "        ...,\n",
            "        [-0.0251,  0.0134, -0.0252,  ...,  0.0219, -0.0157, -0.0256],\n",
            "        [ 0.0099,  0.0349,  0.0075,  ...,  0.0271, -0.0321, -0.0015],\n",
            "        [-0.0209,  0.0238, -0.0154,  ...,  0.0213, -0.0039, -0.0176]])\n"
          ]
        }
      ],
      "source": [
        "print(model2.fc1.weight.data)"
      ]
    },
    {
      "cell_type": "code",
      "execution_count": null,
      "metadata": {
        "id": "RU3SDer3RacJ"
      },
      "outputs": [],
      "source": []
    },
    {
      "cell_type": "code",
      "execution_count": null,
      "metadata": {
        "id": "KIF43YKNRacJ"
      },
      "outputs": [],
      "source": [
        "def train(model, dataloader, optimizer, criterion, config):\n",
        "    model2.train()  # prep model for training\n",
        "    train_loss = 0\n",
        "    for batch in tqdm(dataloader):\n",
        "        text, labels = batch\n",
        "\n",
        "        model2.zero_grad()\n",
        "\n",
        "        inputs = tokenizer.batch_encode_plus(\n",
        "            text, **config\n",
        "        )\n",
        "        input_ids = inputs['input_ids'].to(device)\n",
        "        token_type_ids = inputs['token_type_ids'].to(device)\n",
        "        attention_mask = inputs['attention_mask'].to(device)\n",
        "        labels = labels.to(device)\n",
        "\n",
        "        # move things to model\n",
        "        logs = model2(token_type_ids=token_type_ids, input_ids=input_ids, attention_mask=attention_mask)\n",
        "\n",
        "        loss = criterion(logs, labels)\n",
        "        train_loss += loss.item() * input_ids.size(0)\n",
        "        loss.backward()\n",
        "\n",
        "        # clip the the gradients to 1.0. It helps in preventing the exploding gradient problem\n",
        "        nn.utils.clip_grad_norm_(model2.parameters(), 1.0)\n",
        "        optimizer.step()\n",
        "\n",
        "    return train_loss"
      ]
    },
    {
      "cell_type": "code",
      "execution_count": null,
      "metadata": {
        "id": "zmXhMK4qRacJ"
      },
      "outputs": [],
      "source": [
        "def evaluate(model, dataloader, criterion, config):\n",
        "    total = 0\n",
        "    correct = 0\n",
        "    valid_loss = 0.0\n",
        "\n",
        "    model2.eval()  # prep model for evaluation\n",
        "    for batch in dataloader:\n",
        "        text, labels = batch\n",
        "        inputs = tokenizer.batch_encode_plus(\n",
        "            text, **config\n",
        "        )\n",
        "        input_ids = inputs['input_ids'].to(device)\n",
        "        token_type_ids = inputs['token_type_ids'].to(device)\n",
        "        attention_mask = inputs['attention_mask'].to(device)\n",
        "        labels = labels.to(device)\n",
        "\n",
        "        # move things to model\n",
        "        output = model2(token_type_ids=token_type_ids, input_ids=input_ids, attention_mask=attention_mask)\n",
        "\n",
        "        loss_p = criterion(output, labels)\n",
        "        # update running validation loss\n",
        "        valid_loss += loss_p.item() * input_ids.size(0)\n",
        "        # calculate accuracy\n",
        "        proba = torch.exp(output)\n",
        "        top_p, top_class = proba.topk(1, dim=1)\n",
        "        equals = top_class == labels.view(*top_class.shape)\n",
        "        # accuracy += torch.mean(equals.type(torch.FloatTensor)).item()\n",
        "\n",
        "        _, predicted = torch.max(output.data, 1)\n",
        "        total += labels.size(0)\n",
        "        correct += (predicted == labels).sum().item()\n",
        "\n",
        "    return total, correct, valid_loss"
      ]
    },
    {
      "cell_type": "code",
      "execution_count": null,
      "metadata": {
        "id": "UhNipqoSRacK"
      },
      "outputs": [],
      "source": [
        "epochs = 5\n",
        "tokenizer_config = {\n",
        "    \"max_length\": 100,\n",
        "    \"padding\": \"max_length\",\n",
        "    \"return_tensors\": \"pt\",\n",
        "    \"truncation\": True,\n",
        "    \"add_special_tokens\": True\n",
        "}"
      ]
    },
    {
      "cell_type": "code",
      "execution_count": null,
      "metadata": {
        "colab": {
          "base_uri": "https://localhost:8080/",
          "height": 368
        },
        "id": "7LOTjDFjRacK",
        "outputId": "626e323f-d5cf-4b35-bc40-790b45359550"
      },
      "outputs": [
        {
          "name": "stdout",
          "output_type": "stream",
          "text": [
            "Epoch: 1/5\n"
          ]
        },
        {
          "data": {
            "application/vnd.jupyter.widget-view+json": {
              "model_id": "5e88ce49f1d84f6485b4d14c89201580",
              "version_major": 2,
              "version_minor": 0
            },
            "text/plain": [
              "  0%|          | 0/64 [00:00<?, ?it/s]"
            ]
          },
          "metadata": {},
          "output_type": "display_data"
        },
        {
          "name": "stdout",
          "output_type": "stream",
          "text": [
            "\tTrain loss:0.735109.. \tValid Loss:0.622428.. \tAccuracy: 81.2500\n",
            "Epoch: 2/5\n"
          ]
        },
        {
          "data": {
            "application/vnd.jupyter.widget-view+json": {
              "model_id": "58c9fe7946694297973c8399f7bb600d",
              "version_major": 2,
              "version_minor": 0
            },
            "text/plain": [
              "  0%|          | 0/64 [00:00<?, ?it/s]"
            ]
          },
          "metadata": {},
          "output_type": "display_data"
        },
        {
          "name": "stdout",
          "output_type": "stream",
          "text": [
            "\tTrain loss:0.438700.. \tValid Loss:0.782036.. \tAccuracy: 62.5000\n",
            "Epoch: 3/5\n"
          ]
        },
        {
          "data": {
            "application/vnd.jupyter.widget-view+json": {
              "model_id": "dd16525a99114d2ca1b27526fec16bd2",
              "version_major": 2,
              "version_minor": 0
            },
            "text/plain": [
              "  0%|          | 0/64 [00:00<?, ?it/s]"
            ]
          },
          "metadata": {},
          "output_type": "display_data"
        },
        {
          "name": "stdout",
          "output_type": "stream",
          "text": [
            "\tTrain loss:0.250648.. \tValid Loss:0.667400.. \tAccuracy: 68.7500\n",
            "Epoch: 4/5\n"
          ]
        },
        {
          "data": {
            "application/vnd.jupyter.widget-view+json": {
              "model_id": "4d451e6f5ef048ca8a846ecc8edc8d27",
              "version_major": 2,
              "version_minor": 0
            },
            "text/plain": [
              "  0%|          | 0/64 [00:00<?, ?it/s]"
            ]
          },
          "metadata": {},
          "output_type": "display_data"
        },
        {
          "name": "stdout",
          "output_type": "stream",
          "text": [
            "\tTrain loss:0.156093.. \tValid Loss:0.593447.. \tAccuracy: 75.0000\n",
            "Epoch: 5/5\n"
          ]
        },
        {
          "data": {
            "application/vnd.jupyter.widget-view+json": {
              "model_id": "350ac1c06e0c46e283414e9972bd768f",
              "version_major": 2,
              "version_minor": 0
            },
            "text/plain": [
              "  0%|          | 0/64 [00:00<?, ?it/s]"
            ]
          },
          "metadata": {},
          "output_type": "display_data"
        },
        {
          "name": "stdout",
          "output_type": "stream",
          "text": [
            "\tTrain loss:0.130520.. \tValid Loss:0.594182.. \tAccuracy: 75.0000\n",
            "Training completed in 20m 15s\n"
          ]
        }
      ],
      "source": [
        "train_loss_data, valid_loss_data = [], []\n",
        "valid_loss_min = np.Inf\n",
        "since = time.time()\n",
        "best_loss = np.inf\n",
        "\n",
        "for epoch in range(epochs):\n",
        "    print(\"Epoch: {}/{}\".format(epoch + 1, epochs))\n",
        "    # monitor training loss\n",
        "    train_loss = 0.0\n",
        "    valid_loss = 0.0\n",
        "    total = 0\n",
        "    correct = 0\n",
        "    e_since = time.time()\n",
        "\n",
        "    # Train Model\n",
        "    train_loss += train(model2, train_dataloader, optimizer, criterion, tokenizer_config)\n",
        "    # Now Evaluate\n",
        "    out = evaluate(model2, test_dataloader, criterion, tokenizer_config)\n",
        "    total += out[0]\n",
        "    correct += out[1]\n",
        "    valid_loss += out[2]\n",
        "    \n",
        "    scheduler.step()\n",
        "\n",
        "    # print training/validation statistics\n",
        "    # calculate average loss over an epoch\n",
        "    train_loss = train_loss / len(train_dataloader.dataset)\n",
        "    valid_loss = valid_loss / len(test_dataloader.dataset)\n",
        "\n",
        "    # calculate train loss and running loss\n",
        "    train_loss_data.append(train_loss * 100)\n",
        "    valid_loss_data.append(valid_loss * 100)\n",
        "    \n",
        "    if valid_loss < best_loss:\n",
        "        best_loss = valid_loss\n",
        "        torch.save(model2.state_dict(), \"/content/drive/MyDrive/Colab Notebooks/Dataset/news_model2.pth\")\n",
        "\n",
        "    print(\"\\tTrain loss:{:.6f}..\".format(train_loss),\n",
        "          \"\\tValid Loss:{:.6f}..\".format(valid_loss),\n",
        "          \"\\tAccuracy: {:.4f}\".format(correct / total * 100))\n",
        "\n",
        "time_elapsed = time.time() - since\n",
        "print('Training completed in {:.0f}m {:.0f}s'.format(\n",
        "    time_elapsed // 60, time_elapsed % 60))"
      ]
    },
    {
      "cell_type": "code",
      "execution_count": null,
      "metadata": {
        "colab": {
          "base_uri": "https://localhost:8080/"
        },
        "id": "Hn5h6pMqXDAU",
        "outputId": "890cb4e0-80d5-4274-bb34-a6aebbb8b348"
      },
      "outputs": [
        {
          "data": {
            "text/plain": [
              "75.0"
            ]
          },
          "execution_count": 108,
          "metadata": {},
          "output_type": "execute_result"
        }
      ],
      "source": [
        "training_acc3 = correct / total * 100\n",
        "training_acc3"
      ]
    },
    {
      "cell_type": "code",
      "execution_count": null,
      "metadata": {
        "id": "9RyzaGR_WnGu"
      },
      "outputs": [],
      "source": []
    },
    {
      "cell_type": "code",
      "execution_count": null,
      "metadata": {
        "colab": {
          "base_uri": "https://localhost:8080/"
        },
        "id": "HNc5BUXnRacK",
        "outputId": "be6481de-572c-4baf-8f62-660dce86643e"
      },
      "outputs": [
        {
          "data": {
            "text/plain": [
              "<matplotlib.legend.Legend at 0x7f63efc4e310>"
            ]
          },
          "execution_count": 109,
          "metadata": {},
          "output_type": "execute_result"
        },
        {
          "data": {
            "image/png": "[encoded data removed]",
            "text/plain": [
              "<Figure size 432x288 with 1 Axes>"
            ]
          },
          "metadata": {},
          "output_type": "display_data"
        }
      ],
      "source": [
        "from matplotlib import pyplot as plt\n",
        "\n",
        "plt.plot(train_loss_data, label=\"Training loss\")\n",
        "plt.plot(valid_loss_data, label=\"validation loss\")\n",
        "plt.legend(frameon=False)"
      ]
    },
    {
      "cell_type": "code",
      "execution_count": null,
      "metadata": {
        "id": "nZC_9CtVRacK"
      },
      "outputs": [],
      "source": [
        "from google.colab import output\n",
        "output.enable_custom_widget_manager()"
      ]
    },
    {
      "cell_type": "code",
      "execution_count": null,
      "metadata": {
        "id": "QoFUhuoDRacK"
      },
      "outputs": [],
      "source": [
        "from google.colab import output\n",
        "output.disable_custom_widget_manager()"
      ]
    },
    {
      "cell_type": "code",
      "execution_count": null,
      "metadata": {
        "colab": {
          "base_uri": "https://localhost:8080/"
        },
        "id": "SBiFoHSARacK",
        "outputId": "ea44c4f5-74df-4a0d-ebeb-55acefd99b20"
      },
      "outputs": [
        {
          "data": {
            "text/plain": [
              "<All keys matched successfully>"
            ]
          },
          "execution_count": 112,
          "metadata": {},
          "output_type": "execute_result"
        }
      ],
      "source": [
        "model2.load_state_dict(torch.load(\"/content/drive/MyDrive/Colab Notebooks/Dataset/news_model2.pth\", map_location = device))"
      ]
    },
    {
      "cell_type": "code",
      "execution_count": null,
      "metadata": {
        "id": "KDim3rqCRacL"
      },
      "outputs": [],
      "source": [
        "all_preds = []\n",
        "all_labels = []\n",
        "\n",
        "for batch in test_dataloader:\n",
        "    text, labels = batch\n",
        "    inputs = tokenizer.batch_encode_plus(\n",
        "        text, **tokenizer_config\n",
        "    )\n",
        "    input_ids = inputs['input_ids'].to(device)\n",
        "    token_type_ids = inputs['token_type_ids'].to(device)\n",
        "    attention_mask = inputs['attention_mask'].to(device)\n",
        "    labels = labels.to(device)\n",
        "\n",
        "    # move things to model\n",
        "    output = model2(token_type_ids=token_type_ids, input_ids=input_ids, attention_mask=attention_mask)\n",
        "    preds = output.detach().cpu().numpy()\n",
        "    preds = np.argmax(preds, axis = 1)\n",
        "    all_preds.extend(preds)\n",
        "    all_labels.extend(labels.cpu().numpy())"
      ]
    },
    {
      "cell_type": "code",
      "execution_count": null,
      "metadata": {
        "colab": {
          "base_uri": "https://localhost:8080/"
        },
        "id": "cweuHvICRacL",
        "outputId": "5ba20796-6594-408f-813c-e9e2691f6975"
      },
      "outputs": [
        {
          "name": "stdout",
          "output_type": "stream",
          "text": [
            "              precision    recall  f1-score   support\n",
            "\n",
            "           0       0.83      0.62      0.71         8\n",
            "           1       0.70      0.88      0.78         8\n",
            "\n",
            "    accuracy                           0.75        16\n",
            "   macro avg       0.77      0.75      0.75        16\n",
            "weighted avg       0.77      0.75      0.75        16\n",
            "\n"
          ]
        }
      ],
      "source": [
        "from sklearn.metrics import classification_report\n",
        "\n",
        "# preds = np.argmax(preds, axis = 1)\n",
        "print(classification_report(all_labels, all_preds))"
      ]
    },
    {
      "cell_type": "code",
      "execution_count": null,
      "metadata": {
        "colab": {
          "base_uri": "https://localhost:8080/"
        },
        "id": "zGtf73P2RacL",
        "outputId": "4f187bc5-127d-4498-d4a1-990b01247f9f"
      },
      "outputs": [
        {
          "name": "stdout",
          "output_type": "stream",
          "text": [
            "tensor([[-0.0174,  0.0304,  0.0334,  ..., -0.0022,  0.0110,  0.0292],\n",
            "        [-0.0317,  0.0300, -0.0071,  ..., -0.0197,  0.0238,  0.0206],\n",
            "        [-0.0172, -0.0321,  0.0151,  ..., -0.0163, -0.0135, -0.0231],\n",
            "        ...,\n",
            "        [-0.0249,  0.0136, -0.0250,  ...,  0.0217, -0.0156, -0.0260],\n",
            "        [ 0.0098,  0.0347,  0.0074,  ...,  0.0271, -0.0323, -0.0018],\n",
            "        [-0.0208,  0.0240, -0.0153,  ...,  0.0213, -0.0038, -0.0178]])\n"
          ]
        }
      ],
      "source": [
        "print(model2.fc1.weight.data)"
      ]
    },
    {
      "cell_type": "code",
      "execution_count": null,
      "metadata": {
        "id": "zVBdkJGTbwHj"
      },
      "outputs": [],
      "source": [
        "cf_matrix = confusion_matrix(all_labels, all_preds)  \n"
      ]
    },
    {
      "cell_type": "code",
      "execution_count": null,
      "metadata": {
        "colab": {
          "base_uri": "https://localhost:8080/",
          "height": 337
        },
        "id": "8-jx0AsddcQL",
        "outputId": "d6545afa-8380-4203-e12a-bc45457e1270"
      },
      "outputs": [
        {
          "data": {
            "image/png": "[encoded data removed]",
            "text/plain": [
              "<Figure size 432x288 with 2 Axes>"
            ]
          },
          "metadata": {},
          "output_type": "display_data"
        }
      ],
      "source": [
        "import seaborn as sns\n",
        "\n",
        "ax = sns.heatmap(cf_matrix, annot=True, cmap='Blues')\n",
        "\n",
        "ax.set_title('Seaborn Confusion Matrix with labels\\n\\n');\n",
        "ax.set_xlabel('\\nPredicted Values')\n",
        "ax.set_ylabel('Actual Values ');\n",
        "\n",
        "## Ticket labels - List must be in alphabetical order\n",
        "ax.xaxis.set_ticklabels(['False','True'])\n",
        "ax.yaxis.set_ticklabels(['False','True'])\n",
        "\n",
        "## Display the visualization of the Confusion Matrix.\n",
        "plt.show()"
      ]
    },
    {
      "cell_type": "code",
      "execution_count": null,
      "metadata": {
        "colab": {
          "base_uri": "https://localhost:8080/"
        },
        "id": "_IsCAfsFRacL",
        "outputId": "1d2ddcad-9be1-41a8-ca8e-8cb0f05cfb6a"
      },
      "outputs": [
        {
          "name": "stdout",
          "output_type": "stream",
          "text": [
            "Accuracy: 0.750\n",
            "Precision: 0.767\n",
            "Recall: 0.750\n",
            "F-Measure: 0.746\n"
          ]
        }
      ],
      "source": [
        "from sklearn.metrics import precision_score,recall_score,f1_score,accuracy_score\n",
        "test_accuracy3 = accuracy_score(all_labels, all_preds)\n",
        "print('Accuracy: %.3f' % test_accuracy3)\n",
        "precision3 = precision_score(all_labels, all_preds, average='macro')\n",
        "print('Precision: %.3f' % precision3)\n",
        "recall3 = recall_score(all_labels, all_preds, average='macro')\n",
        "print('Recall: %.3f' % recall3)\n",
        "score3 = f1_score(all_labels, all_preds, average='macro')\n",
        "print('F-Measure: %.3f' % score3)"
      ]
    },
    {
      "cell_type": "markdown",
      "metadata": {
        "id": "JWGbIHbMRacL"
      },
      "source": [
        "# For Looping"
      ]
    },
    {
      "cell_type": "code",
      "execution_count": null,
      "metadata": {
        "id": "R9Uy_8q4RacL"
      },
      "outputs": [],
      "source": [
        "if precision3 >= precision and recall3 >= recall and score3 >= score :\n",
        "  torch.save(model2.state_dict(), \"/content/drive/MyDrive/Colab Notebooks/Dataset/news_model1.pth\")\n",
        "  precision = precision3\n",
        "  recall = recall3\n",
        "  score = score3\n",
        "  model.fc1.weight.data =model2.fc1.weight.data.clone()\n",
        "  model.fc1.bias.data =model2.fc1.bias.data.clone()\n",
        "  model.fc2.weight.data =model2.fc2.weight.data.clone()\n",
        "  model.fc2.bias.data =model2.fc2.bias.data.clone()"
      ]
    },
    {
      "cell_type": "code",
      "execution_count": null,
      "metadata": {
        "id": "jx5cwIIQRacL"
      },
      "outputs": [],
      "source": []
    },
    {
      "cell_type": "markdown",
      "metadata": {
        "id": "goL51qSzkpc0"
      },
      "source": [
        "# 4th Model\n"
      ]
    },
    {
      "cell_type": "code",
      "execution_count": null,
      "metadata": {
        "id": "fMxjwKWqkpc1"
      },
      "outputs": [],
      "source": []
    },
    {
      "cell_type": "code",
      "execution_count": null,
      "metadata": {
        "id": "pVRwVZa7kpc1"
      },
      "outputs": [],
      "source": [
        "class NewsDatasets(Dataset):\n",
        "    def __init__(self, data, max_length=100):\n",
        "        self.data = data\n",
        "        \n",
        "        self.config = {\n",
        "            \"max_length\": max_length,\n",
        "            \"padding\": \"max_length\",\n",
        "            \"return_tensors\": \"pt\",\n",
        "            \"truncation\": True,\n",
        "            \"add_special_tokens\": True\n",
        "        }\n",
        "\n",
        "    def __len__(self):\n",
        "        return len(self.data)\n",
        "\n",
        "    def __getitem__(self, idx):\n",
        "        value = self.data.iloc[idx]\n",
        "        return value['head']+\"[SEP]\"+value['con'] , value['label']"
      ]
    },
    {
      "cell_type": "code",
      "execution_count": null,
      "metadata": {
        "colab": {
          "base_uri": "https://localhost:8080/"
        },
        "id": "lBe3izSRkpc1",
        "outputId": "86c021fd-8931-4e7e-ffcd-89ded451af11"
      },
      "outputs": [
        {
          "name": "stdout",
          "output_type": "stream",
          "text": [
            "1497\n",
            "40\n"
          ]
        }
      ],
      "source": [
        "auth = pd.read_csv(\"/content/drive/MyDrive/Colab Notebooks/Dataset/For Sentiment/Division /40%/auth_set_4.csv\",encoding='UTF-8')\n",
        "fake = pd.read_csv(\"/content/drive/MyDrive/Colab Notebooks/Dataset/For Sentiment/Division /40%/fake_set_4.csv\",encoding='UTF-8')\n",
        "\n",
        "\n",
        "print(len(auth))\n",
        "print(len(fake))\n"
      ]
    },
    {
      "cell_type": "code",
      "execution_count": null,
      "metadata": {
        "colab": {
          "base_uri": "https://localhost:8080/"
        },
        "id": "kIY9vRgukpc1",
        "outputId": "5cddf8c7-79a3-4126-c664-f8c776db31ea"
      },
      "outputs": [
        {
          "data": {
            "text/plain": [
              "1537"
            ]
          },
          "execution_count": 122,
          "metadata": {},
          "output_type": "execute_result"
        }
      ],
      "source": [
        "\n",
        "#df = auth[:fake.shape[0]* 7]\n",
        "df = auth.append(fake)\n",
        "df = df.sample(frac=1).reset_index(drop=True)\n",
        "len(df)"
      ]
    },
    {
      "cell_type": "code",
      "execution_count": null,
      "metadata": {
        "colab": {
          "base_uri": "https://localhost:8080/"
        },
        "id": "hCNxsS2zkpc2",
        "outputId": "5b537f87-2deb-4716-9674-77d4bd512031"
      },
      "outputs": [
        {
          "name": "stdout",
          "output_type": "stream",
          "text": [
            "********** Before ***************\n",
            "প্রেমের অভিনয়ে কুষ্টিয়ায় কলেজছাত্রীকে অপহরণ ও গণধর্ষণের দায়ে সাত আসামির যাবজ্জীবন ও একজনের ১৪ বছরের কারাদণ্ডাদেশ ও ৫০ হাজার টাকা জরিমানার আদেশ দিয়েছেন আদালত। বৃহষ্পতিবার বিকালে কুষ্টিয়া নারী ও শিশু নির্যাতন দমন বিশেষ আদালতের বিচারক মুন্সি মো. মশিউর রহমান এ রায় প্রদান করেন।   দণ্ডাদেশপ্রাপ্তরা হল- মো. সাহেব আলী ওরফে শিহাব, জমির সেখ, মসলেম সেখ, আরিফ সেখ, মুক্তার সেখ ওরফে মোকাদ্দেস, ময়েন উদ্দিন ও মিন্টু শেখ। এদের সবার বাড়ি কুষ্টিয়ার কুমারখালী উপজেলার উত্তর সাঁওতা গ্রামে। মামলার অপর আসামি নাজির উদ্দিন সেখে’র ছেলে আরিফ সেখ ওরফে শরীফ আলীকে ১৪ বছরের সশ্রম কারাদণ্ড ও  ৫০ হাজার  টাকা জরিমানার আদেশ দেয় আদালত।   পুলিশ ও আদালত সূত্রে জানা গেছে, কুমারখালীর নাজির উদ্দিন শেখের ছেলে আরিফ শেখ প্রেমের সম্পর্কের অভিনয় করে ২০১১ সালের ৩০ সেপ্টেম্বর কুষ্টিয়া মহিলা কলেজের এক ছাত্রীকে ডেকে নিয়ে বন্ধুর বাড়িতে আটকে রাখে। পরে কুমারখালীর একটি কলা বাগানে ওই কলেজছাত্রীকে রাতভর পালাক্রমে ধর্ষণ করে। পরদিন ১ অক্টোবর গুরুতর আহত অবস্থায় ঐ ছাত্রীকে স্থানীয়রা উদ্ধারের হাসপাতালে ভর্তি করে। এ ঘটনায় কুমারখালী থানায় নারী ও শিশু নির্যাতন দমন আইন ২০০০ এর ৯(৩)/৩০ মামলা হয়। মামলার তদন্তকারী পুলিশ কর্মকর্তা তদন্ত শেষে আসমিদের বিরুদ্ধে আদালতে চার্জশীট দাখিল করেন। রায় ঘোষণার সময় আসামিরা আদালতে হাজির ছিলেন।   সরকার পক্ষে মামলাটি পরিচালনা করেন কুষ্টিয়া নারী ও শিশু নির্যাতন দমন বিশেষ আদালতের সরকারি কৌশুলী আকরাম হোসেন দুলাল।   ইত্তেফাক/বিএএফ\n",
            "\n",
            "********** After ***************\n",
            "প্রেমের অভিনয়ে কুষ্টিয়ায় কলেজছাত্রীকে অপহরণ গণধর্ষণের দায়ে সাত আসামির যাবজ্জীবন একজনের ১৪ বছরের কারাদণ্ডাদেশ ৫০ টাকা জরিমানার আদেশ দিয়েছেন আদালত বৃহষ্পতিবার বিকালে কুষ্টিয়া নারী শিশু নির্যাতন দমন আদালতের বিচারক মুন্সি মো মশিউর রহমান রায় প্রদান দণ্ডাদেশপ্রাপ্তরা মো সাহেব আলী ওরফে শিহাব জমির সেখ মসলেম সেখ আরিফ সেখ মুক্তার সেখ ওরফে মোকাদ্দেস ময়েন উদ্দিন মিন্টু শেখ বাড়ি কুষ্টিয়ার কুমারখালী উপজেলার সাঁওতা গ্রামে মামলার অপর আসামি নাজির উদ্দিন সেখে ছেলে আরিফ সেখ ওরফে শরীফ আলীকে ১৪ বছরের সশ্রম কারাদণ্ড ৫০ টাকা জরিমানার আদেশ দেয় আদালত পুলিশ আদালত সূত্রে কুমারখালীর নাজির উদ্দিন শেখের ছেলে আরিফ শেখ প্রেমের সম্পর্কের অভিনয় ২০১১ সালের ৩০ সেপ্টেম্বর কুষ্টিয়া মহিলা কলেজের এক ছাত্রীকে ডেকে বন্ধুর বাড়িতে আটকে রাখে কুমারখালীর কলা বাগানে কলেজছাত্রীকে রাতভর পালাক্রমে ধর্ষণ পরদিন ১ অক্টোবর গুরুতর আহত অবস্থায় ছাত্রীকে স্থানীয়রা উদ্ধারের হাসপাতালে ভর্তি ঘটনায় কুমারখালী থানায় নারী শিশু নির্যাতন দমন আইন ২০০০ ৯ ৩ ৩০ মামলা মামলার তদন্তকারী পুলিশ কর্মকর্তা তদন্ত শেষে আসমিদের বিরুদ্ধে আদালতে চার্জশীট দাখিল রায় ঘোষণার সময় আসামিরা আদালতে হাজির সরকার মামলাটি পরিচালনা কুষ্টিয়া নারী শিশু নির্যাতন দমন আদালতের সরকারি কৌশুলী আকরাম হোসেন দুলাল ইত্তেফাক বিএএফ\n"
          ]
        }
      ],
      "source": [
        "from bnlp import BasicTokenizer\n",
        "from bnlp.corpus import stopwords, punctuations, letters, digits\n",
        "\n",
        "btokenizer = BasicTokenizer()\n",
        "\n",
        "def clean_text(text):\n",
        "    tokens = btokenizer.tokenize(text)\n",
        "    filtered = []\n",
        "    for i in tokens:\n",
        "        if i in stopwords:\n",
        "            continue\n",
        "    \n",
        "        if i in punctuations + '‘' + '’':\n",
        "            continue\n",
        "    \n",
        "        filtered.append(i)\n",
        "    \n",
        "    return \" \".join(filtered)\n",
        "\n",
        "print(\"********** Before ***************\")\n",
        "text = df.iloc[1]['content']\n",
        "print(text)\n",
        "print(\"\\n********** After ***************\")\n",
        "print(clean_text(text))"
      ]
    },
    {
      "cell_type": "code",
      "execution_count": null,
      "metadata": {
        "id": "Vie8vZWpkpc2"
      },
      "outputs": [],
      "source": [
        "undersample = RandomUnderSampler(sampling_strategy='majority')"
      ]
    },
    {
      "cell_type": "code",
      "execution_count": null,
      "metadata": {
        "id": "ATSEEnMzkpc2"
      },
      "outputs": [],
      "source": [
        "df['head'] = df.headline.apply(clean_text)\n",
        "df['con'] = df.content.apply(clean_text)"
      ]
    },
    {
      "cell_type": "code",
      "execution_count": null,
      "metadata": {
        "id": "vuoMokZbkpc2"
      },
      "outputs": [],
      "source": [
        "x= df.drop('label', axis=1)\n",
        "y= df.label"
      ]
    },
    {
      "cell_type": "code",
      "execution_count": null,
      "metadata": {
        "id": "t8GkbbpVkpc2"
      },
      "outputs": [],
      "source": [
        "X_train_resampled, y_train_resampled = undersample.fit_resample(x, y)"
      ]
    },
    {
      "cell_type": "code",
      "execution_count": null,
      "metadata": {
        "id": "MQkSiTiIkpc2"
      },
      "outputs": [],
      "source": [
        "df = X_train_resampled.join(y_train_resampled)"
      ]
    },
    {
      "cell_type": "code",
      "execution_count": null,
      "metadata": {
        "id": "C3gmFOdkkpc2"
      },
      "outputs": [],
      "source": [
        "from sklearn.model_selection import train_test_split\n",
        "\n",
        "train_df, test_df = train_test_split(df, test_size=0.2, random_state=121, stratify=df['label'])"
      ]
    },
    {
      "cell_type": "code",
      "execution_count": null,
      "metadata": {
        "colab": {
          "base_uri": "https://localhost:8080/"
        },
        "id": "adkBaETmkpc2",
        "outputId": "1f4a1bc4-8582-4c2a-bfb4-68774a5c43c4"
      },
      "outputs": [
        {
          "data": {
            "text/plain": [
              "(64, 16)"
            ]
          },
          "execution_count": 130,
          "metadata": {},
          "output_type": "execute_result"
        }
      ],
      "source": [
        "len(train_df), len(test_df)"
      ]
    },
    {
      "cell_type": "code",
      "execution_count": null,
      "metadata": {
        "id": "AZRHetSxkpc2"
      },
      "outputs": [],
      "source": [
        "training_data = NewsDatasets(train_df)\n",
        "train_dataloader = DataLoader(training_data, batch_size=1, shuffle=True)"
      ]
    },
    {
      "cell_type": "code",
      "execution_count": null,
      "metadata": {
        "id": "H1oYWyPtkpc3"
      },
      "outputs": [],
      "source": [
        "test_data = NewsDatasets(test_df)\n",
        "test_dataloader = DataLoader(test_data, batch_size=1, shuffle=True)"
      ]
    },
    {
      "cell_type": "code",
      "execution_count": null,
      "metadata": {
        "id": "jEXRuXpjkpc3"
      },
      "outputs": [],
      "source": [
        "class NewsBert2(nn.Module):\n",
        "\n",
        "    def __init__(self, bert):\n",
        "        super(NewsBert2, self).__init__()\n",
        "\n",
        "        self.bert = bert\n",
        "\n",
        "        # dropout layer\n",
        "        self.dropout = nn.Dropout(0.2)\n",
        "\n",
        "        # relu activation function\n",
        "        self.relu = nn.ReLU()\n",
        "\n",
        "        # dense layer 1\n",
        "        self.fc1 = nn.Linear(768, 128)\n",
        "\n",
        "        # dense layer 2 (Output layer)\n",
        "        self.fc2 = nn.Linear(128, 2)  \n",
        "\n",
        "    # define the forward pass\n",
        "    def forward(self, input_ids, token_type_ids, attention_mask):\n",
        "        # pass the inputs to the model\n",
        "        out = self.bert(input_ids, attention_mask=attention_mask, token_type_ids=token_type_ids)\n",
        "\n",
        "        x = self.fc1(out[1])\n",
        "        x = self.relu(x)\n",
        "        # output layer\n",
        "        x = self.fc2(self.dropout(x))\n",
        "        \n",
        "        return x"
      ]
    },
    {
      "cell_type": "code",
      "execution_count": null,
      "metadata": {
        "colab": {
          "base_uri": "https://localhost:8080/"
        },
        "id": "nGCFKqykkpc3",
        "outputId": "c398d9b3-0c7a-455f-b194-edc6fbf6dea8"
      },
      "outputs": [
        {
          "name": "stderr",
          "output_type": "stream",
          "text": [
            "Some weights of the model checkpoint at sagorsarker/bangla-bert-base were not used when initializing BertModel: ['cls.predictions.bias', 'cls.seq_relationship.bias', 'cls.predictions.decoder.weight', 'cls.predictions.transform.dense.bias', 'cls.seq_relationship.weight', 'cls.predictions.transform.LayerNorm.weight', 'cls.predictions.transform.dense.weight', 'cls.predictions.transform.LayerNorm.bias']\n",
            "- This IS expected if you are initializing BertModel from the checkpoint of a model trained on another task or with another architecture (e.g. initializing a BertForSequenceClassification model from a BertForPreTraining model).\n",
            "- This IS NOT expected if you are initializing BertModel from the checkpoint of a model that you expect to be exactly identical (initializing a BertForSequenceClassification model from a BertForSequenceClassification model).\n"
          ]
        }
      ],
      "source": [
        "bert_model_name = \"sagorsarker/bangla-bert-base\"\n",
        "bert = BertModel.from_pretrained(bert_model_name)\n",
        "tokenizer = BertTokenizer.from_pretrained(bert_model_name)"
      ]
    },
    {
      "cell_type": "code",
      "execution_count": null,
      "metadata": {
        "id": "O8Uwe_s9kpc3"
      },
      "outputs": [],
      "source": [
        "device = torch.device(\"cuda\" if torch.cuda.is_available() else \"cpu\")\n",
        "model2 = NewsBert(bert)\n",
        "model2.to(device);"
      ]
    },
    {
      "cell_type": "code",
      "execution_count": null,
      "metadata": {
        "id": "o0vdrS6nkpc3"
      },
      "outputs": [],
      "source": [
        "from torch.optim.lr_scheduler import StepLR\n",
        "\n",
        "optimizer = AdamW(model2.parameters(), lr=1e-5)\n",
        "criterion = nn.CrossEntropyLoss()\n",
        "scheduler = StepLR(optimizer, step_size=2, gamma=0.1)"
      ]
    },
    {
      "cell_type": "code",
      "execution_count": null,
      "metadata": {
        "id": "I_wQ2O0rkpc3"
      },
      "outputs": [],
      "source": [
        "model2.fc1.weight.data =model.fc1.weight.data.clone()\n",
        "model2.fc1.bias.data =model.fc1.bias.data.clone()\n",
        "model2.fc2.weight.data =model.fc2.weight.data.clone()\n",
        "model2.fc2.bias.data =model.fc2.bias.data.clone()"
      ]
    },
    {
      "cell_type": "code",
      "execution_count": null,
      "metadata": {
        "colab": {
          "base_uri": "https://localhost:8080/"
        },
        "id": "-AJkpvejkpc4",
        "outputId": "8ce66b49-4fb1-4866-e097-2024e72c3d94"
      },
      "outputs": [
        {
          "name": "stdout",
          "output_type": "stream",
          "text": [
            "tensor([[-0.0175,  0.0303,  0.0335,  ..., -0.0022,  0.0109,  0.0291],\n",
            "        [-0.0317,  0.0299, -0.0072,  ..., -0.0197,  0.0237,  0.0206],\n",
            "        [-0.0174, -0.0324,  0.0150,  ..., -0.0161, -0.0138, -0.0227],\n",
            "        ...,\n",
            "        [-0.0251,  0.0134, -0.0252,  ...,  0.0219, -0.0157, -0.0256],\n",
            "        [ 0.0099,  0.0349,  0.0075,  ...,  0.0271, -0.0321, -0.0015],\n",
            "        [-0.0209,  0.0238, -0.0154,  ...,  0.0213, -0.0039, -0.0176]])\n"
          ]
        }
      ],
      "source": [
        "print(model2.fc1.weight.data)"
      ]
    },
    {
      "cell_type": "code",
      "execution_count": null,
      "metadata": {
        "id": "O7yFfPBdkpc4"
      },
      "outputs": [],
      "source": [
        "def train(model, dataloader, optimizer, criterion, config):\n",
        "    model2.train()  # prep model for training\n",
        "    train_loss = 0\n",
        "    for batch in tqdm(dataloader):\n",
        "        text, labels = batch\n",
        "\n",
        "        model2.zero_grad()\n",
        "\n",
        "        inputs = tokenizer.batch_encode_plus(\n",
        "            text, **config\n",
        "        )\n",
        "        input_ids = inputs['input_ids'].to(device)\n",
        "        token_type_ids = inputs['token_type_ids'].to(device)\n",
        "        attention_mask = inputs['attention_mask'].to(device)\n",
        "        labels = labels.to(device)\n",
        "\n",
        "        # move things to model\n",
        "        logs = model2(token_type_ids=token_type_ids, input_ids=input_ids, attention_mask=attention_mask)\n",
        "\n",
        "        loss = criterion(logs, labels)\n",
        "        train_loss += loss.item() * input_ids.size(0)\n",
        "        loss.backward()\n",
        "\n",
        "        # clip the the gradients to 1.0. It helps in preventing the exploding gradient problem\n",
        "        nn.utils.clip_grad_norm_(model2.parameters(), 1.0)\n",
        "        optimizer.step()\n",
        "\n",
        "    return train_loss"
      ]
    },
    {
      "cell_type": "code",
      "execution_count": null,
      "metadata": {
        "id": "rBviGcMxkpc4"
      },
      "outputs": [],
      "source": [
        "def evaluate(model, dataloader, criterion, config):\n",
        "    total = 0\n",
        "    correct = 0\n",
        "    valid_loss = 0.0\n",
        "\n",
        "    model2.eval()  # prep model for evaluation\n",
        "    for batch in dataloader:\n",
        "        text, labels = batch\n",
        "        inputs = tokenizer.batch_encode_plus(\n",
        "            text, **config\n",
        "        )\n",
        "        input_ids = inputs['input_ids'].to(device)\n",
        "        token_type_ids = inputs['token_type_ids'].to(device)\n",
        "        attention_mask = inputs['attention_mask'].to(device)\n",
        "        labels = labels.to(device)\n",
        "\n",
        "        # move things to model\n",
        "        output = model2(token_type_ids=token_type_ids, input_ids=input_ids, attention_mask=attention_mask)\n",
        "\n",
        "        loss_p = criterion(output, labels)\n",
        "        # update running validation loss\n",
        "        valid_loss += loss_p.item() * input_ids.size(0)\n",
        "        # calculate accuracy\n",
        "        proba = torch.exp(output)\n",
        "        top_p, top_class = proba.topk(1, dim=1)\n",
        "        equals = top_class == labels.view(*top_class.shape)\n",
        "        # accuracy += torch.mean(equals.type(torch.FloatTensor)).item()\n",
        "\n",
        "        _, predicted = torch.max(output.data, 1)\n",
        "        total += labels.size(0)\n",
        "        correct += (predicted == labels).sum().item()\n",
        "\n",
        "    return total, correct, valid_loss"
      ]
    },
    {
      "cell_type": "code",
      "execution_count": null,
      "metadata": {
        "id": "e8MVS0Nekpc4"
      },
      "outputs": [],
      "source": [
        "epochs = 5\n",
        "tokenizer_config = {\n",
        "    \"max_length\": 100,\n",
        "    \"padding\": \"max_length\",\n",
        "    \"return_tensors\": \"pt\",\n",
        "    \"truncation\": True,\n",
        "    \"add_special_tokens\": True\n",
        "}"
      ]
    },
    {
      "cell_type": "code",
      "execution_count": null,
      "metadata": {
        "colab": {
          "base_uri": "https://localhost:8080/",
          "height": 368
        },
        "id": "qVJUk9Wmkpc4",
        "outputId": "f0bf738c-3257-4506-e17d-b200c0124102"
      },
      "outputs": [
        {
          "name": "stdout",
          "output_type": "stream",
          "text": [
            "Epoch: 1/5\n"
          ]
        },
        {
          "data": {
            "application/vnd.jupyter.widget-view+json": {
              "model_id": "0d26192c23c343f88a56d20e856a7b22",
              "version_major": 2,
              "version_minor": 0
            },
            "text/plain": [
              "  0%|          | 0/64 [00:00<?, ?it/s]"
            ]
          },
          "metadata": {},
          "output_type": "display_data"
        },
        {
          "name": "stdout",
          "output_type": "stream",
          "text": [
            "\tTrain loss:0.728568.. \tValid Loss:0.699816.. \tAccuracy: 56.2500\n",
            "Epoch: 2/5\n"
          ]
        },
        {
          "data": {
            "application/vnd.jupyter.widget-view+json": {
              "model_id": "1fef6e873a304618bd8cdebee8ce82b8",
              "version_major": 2,
              "version_minor": 0
            },
            "text/plain": [
              "  0%|          | 0/64 [00:00<?, ?it/s]"
            ]
          },
          "metadata": {},
          "output_type": "display_data"
        },
        {
          "name": "stdout",
          "output_type": "stream",
          "text": [
            "\tTrain loss:0.449491.. \tValid Loss:0.950161.. \tAccuracy: 50.0000\n",
            "Epoch: 3/5\n"
          ]
        },
        {
          "data": {
            "application/vnd.jupyter.widget-view+json": {
              "model_id": "82ff9b51a89e4e81b82af4fbe24f9804",
              "version_major": 2,
              "version_minor": 0
            },
            "text/plain": [
              "  0%|          | 0/64 [00:00<?, ?it/s]"
            ]
          },
          "metadata": {},
          "output_type": "display_data"
        },
        {
          "name": "stdout",
          "output_type": "stream",
          "text": [
            "\tTrain loss:0.294287.. \tValid Loss:0.763593.. \tAccuracy: 68.7500\n",
            "Epoch: 4/5\n"
          ]
        },
        {
          "data": {
            "application/vnd.jupyter.widget-view+json": {
              "model_id": "c753d887b3b046829b24546feeacb926",
              "version_major": 2,
              "version_minor": 0
            },
            "text/plain": [
              "  0%|          | 0/64 [00:00<?, ?it/s]"
            ]
          },
          "metadata": {},
          "output_type": "display_data"
        },
        {
          "name": "stdout",
          "output_type": "stream",
          "text": [
            "\tTrain loss:0.179206.. \tValid Loss:0.737981.. \tAccuracy: 68.7500\n",
            "Epoch: 5/5\n"
          ]
        },
        {
          "data": {
            "application/vnd.jupyter.widget-view+json": {
              "model_id": "e5c57e22ded447858986c5c8995b498e",
              "version_major": 2,
              "version_minor": 0
            },
            "text/plain": [
              "  0%|          | 0/64 [00:00<?, ?it/s]"
            ]
          },
          "metadata": {},
          "output_type": "display_data"
        },
        {
          "name": "stdout",
          "output_type": "stream",
          "text": [
            "\tTrain loss:0.174497.. \tValid Loss:0.722208.. \tAccuracy: 68.7500\n",
            "Training completed in 19m 22s\n"
          ]
        }
      ],
      "source": [
        "train_loss_data, valid_loss_data = [], []\n",
        "valid_loss_min = np.Inf\n",
        "since = time.time()\n",
        "best_loss = np.inf\n",
        "\n",
        "for epoch in range(epochs):\n",
        "    print(\"Epoch: {}/{}\".format(epoch + 1, epochs))\n",
        "    # monitor training loss\n",
        "    train_loss = 0.0\n",
        "    valid_loss = 0.0\n",
        "    total = 0\n",
        "    correct = 0\n",
        "    e_since = time.time()\n",
        "\n",
        "    # Train Model\n",
        "    train_loss += train(model2, train_dataloader, optimizer, criterion, tokenizer_config)\n",
        "    # Now Evaluate\n",
        "    out = evaluate(model2, test_dataloader, criterion, tokenizer_config)\n",
        "    total += out[0]\n",
        "    correct += out[1]\n",
        "    valid_loss += out[2]\n",
        "    \n",
        "    scheduler.step()\n",
        "\n",
        "    # print training/validation statistics\n",
        "    # calculate average loss over an epoch\n",
        "    train_loss = train_loss / len(train_dataloader.dataset)\n",
        "    valid_loss = valid_loss / len(test_dataloader.dataset)\n",
        "\n",
        "    # calculate train loss and running loss\n",
        "    train_loss_data.append(train_loss * 100)\n",
        "    valid_loss_data.append(valid_loss * 100)\n",
        "    \n",
        "    if valid_loss < best_loss:\n",
        "        best_loss = valid_loss\n",
        "        torch.save(model2.state_dict(), \"/content/drive/MyDrive/Colab Notebooks/Dataset/news_model2.pth\")\n",
        "\n",
        "    print(\"\\tTrain loss:{:.6f}..\".format(train_loss),\n",
        "          \"\\tValid Loss:{:.6f}..\".format(valid_loss),\n",
        "          \"\\tAccuracy: {:.4f}\".format(correct / total * 100))\n",
        "\n",
        "time_elapsed = time.time() - since\n",
        "print('Training completed in {:.0f}m {:.0f}s'.format(\n",
        "    time_elapsed // 60, time_elapsed % 60))"
      ]
    },
    {
      "cell_type": "code",
      "execution_count": null,
      "metadata": {
        "colab": {
          "base_uri": "https://localhost:8080/"
        },
        "id": "rsgPsQuwkpc5",
        "outputId": "56e11f09-ecdf-4b83-ab69-9f35e2e12a1d"
      },
      "outputs": [
        {
          "data": {
            "text/plain": [
              "68.75"
            ]
          },
          "execution_count": 143,
          "metadata": {},
          "output_type": "execute_result"
        }
      ],
      "source": [
        "training_acc4 = correct / total * 100\n",
        "training_acc4"
      ]
    },
    {
      "cell_type": "code",
      "execution_count": null,
      "metadata": {
        "colab": {
          "base_uri": "https://localhost:8080/",
          "height": 282
        },
        "id": "VwRPPdzAkpc5",
        "outputId": "28f5ab3a-2037-437a-abb3-9d7bb8782b43"
      },
      "outputs": [
        {
          "data": {
            "text/plain": [
              "<matplotlib.legend.Legend at 0x7f63f29c6f10>"
            ]
          },
          "execution_count": 144,
          "metadata": {},
          "output_type": "execute_result"
        },
        {
          "data": {
            "image/png": "[encoded data removed]",
            "text/plain": [
              "<Figure size 432x288 with 1 Axes>"
            ]
          },
          "metadata": {},
          "output_type": "display_data"
        }
      ],
      "source": [
        "from matplotlib import pyplot as plt\n",
        "\n",
        "plt.plot(train_loss_data, label=\"Training loss\")\n",
        "plt.plot(valid_loss_data, label=\"validation loss\")\n",
        "plt.legend(frameon=False)"
      ]
    },
    {
      "cell_type": "code",
      "execution_count": null,
      "metadata": {
        "id": "q6JPiUVRkpc5"
      },
      "outputs": [],
      "source": [
        "from google.colab import output\n",
        "output.enable_custom_widget_manager()"
      ]
    },
    {
      "cell_type": "code",
      "execution_count": null,
      "metadata": {
        "id": "OTTRzDFAkpc5"
      },
      "outputs": [],
      "source": [
        "from google.colab import output\n",
        "output.disable_custom_widget_manager()"
      ]
    },
    {
      "cell_type": "code",
      "execution_count": null,
      "metadata": {
        "colab": {
          "base_uri": "https://localhost:8080/"
        },
        "id": "NO6BeecGkpc5",
        "outputId": "ac02d16c-b5ba-4fae-b996-ca0382a37e1e"
      },
      "outputs": [
        {
          "data": {
            "text/plain": [
              "<All keys matched successfully>"
            ]
          },
          "execution_count": 147,
          "metadata": {},
          "output_type": "execute_result"
        }
      ],
      "source": [
        "model2.load_state_dict(torch.load(\"/content/drive/MyDrive/Colab Notebooks/Dataset/news_model2.pth\", map_location = device))"
      ]
    },
    {
      "cell_type": "code",
      "execution_count": null,
      "metadata": {
        "id": "Fbpd7xtYkpc5"
      },
      "outputs": [],
      "source": [
        "all_preds = []\n",
        "all_labels = []\n",
        "\n",
        "for batch in test_dataloader:\n",
        "    text, labels = batch\n",
        "    inputs = tokenizer.batch_encode_plus(\n",
        "        text, **tokenizer_config\n",
        "    )\n",
        "    input_ids = inputs['input_ids'].to(device)\n",
        "    token_type_ids = inputs['token_type_ids'].to(device)\n",
        "    attention_mask = inputs['attention_mask'].to(device)\n",
        "    labels = labels.to(device)\n",
        "\n",
        "    # move things to model\n",
        "    output = model2(token_type_ids=token_type_ids, input_ids=input_ids, attention_mask=attention_mask)\n",
        "    preds = output.detach().cpu().numpy()\n",
        "    preds = np.argmax(preds, axis = 1)\n",
        "    all_preds.extend(preds)\n",
        "    all_labels.extend(labels.cpu().numpy())"
      ]
    },
    {
      "cell_type": "code",
      "execution_count": null,
      "metadata": {
        "colab": {
          "base_uri": "https://localhost:8080/"
        },
        "id": "RaqqxhQ8kpc5",
        "outputId": "3f341769-7554-436c-d15e-e934e65ee1ff"
      },
      "outputs": [
        {
          "name": "stdout",
          "output_type": "stream",
          "text": [
            "              precision    recall  f1-score   support\n",
            "\n",
            "           0       1.00      0.12      0.22         8\n",
            "           1       0.53      1.00      0.70         8\n",
            "\n",
            "    accuracy                           0.56        16\n",
            "   macro avg       0.77      0.56      0.46        16\n",
            "weighted avg       0.77      0.56      0.46        16\n",
            "\n"
          ]
        }
      ],
      "source": [
        "from sklearn.metrics import classification_report\n",
        "\n",
        "# preds = np.argmax(preds, axis = 1)\n",
        "print(classification_report(all_labels, all_preds))"
      ]
    },
    {
      "cell_type": "code",
      "execution_count": null,
      "metadata": {
        "colab": {
          "base_uri": "https://localhost:8080/"
        },
        "id": "QvRSWRxpkpc6",
        "outputId": "b09c1917-955f-4bbd-8b45-be15971dbe90"
      },
      "outputs": [
        {
          "name": "stdout",
          "output_type": "stream",
          "text": [
            "tensor([[-0.0174,  0.0304,  0.0335,  ..., -0.0023,  0.0110,  0.0292],\n",
            "        [-0.0317,  0.0300, -0.0071,  ..., -0.0197,  0.0237,  0.0205],\n",
            "        [-0.0174, -0.0323,  0.0151,  ..., -0.0162, -0.0137, -0.0228],\n",
            "        ...,\n",
            "        [-0.0252,  0.0134, -0.0251,  ...,  0.0219, -0.0158, -0.0257],\n",
            "        [ 0.0100,  0.0350,  0.0075,  ...,  0.0270, -0.0320, -0.0015],\n",
            "        [-0.0209,  0.0239, -0.0154,  ...,  0.0213, -0.0039, -0.0176]])\n"
          ]
        }
      ],
      "source": [
        "print(model2.fc1.weight.data)"
      ]
    },
    {
      "cell_type": "code",
      "execution_count": null,
      "metadata": {
        "id": "UzLVdvqRkpc6"
      },
      "outputs": [],
      "source": [
        "cf_matrix = confusion_matrix(all_labels, all_preds)  "
      ]
    },
    {
      "cell_type": "code",
      "execution_count": null,
      "metadata": {
        "colab": {
          "base_uri": "https://localhost:8080/",
          "height": 337
        },
        "id": "3eFiEbq0kpc6",
        "outputId": "17a99209-8346-45d0-ec9f-ad6c50d233f0"
      },
      "outputs": [
        {
          "data": {
            "image/png": "[encoded data removed]",
            "text/plain": [
              "<Figure size 432x288 with 2 Axes>"
            ]
          },
          "metadata": {},
          "output_type": "display_data"
        }
      ],
      "source": [
        "import seaborn as sns\n",
        "\n",
        "ax = sns.heatmap(cf_matrix, annot=True, cmap='Blues')\n",
        "\n",
        "ax.set_title('Seaborn Confusion Matrix with labels\\n\\n');\n",
        "ax.set_xlabel('\\nPredicted Values')\n",
        "ax.set_ylabel('Actual Values ');\n",
        "\n",
        "## Ticket labels - List must be in alphabetical order\n",
        "ax.xaxis.set_ticklabels(['False','True'])\n",
        "ax.yaxis.set_ticklabels(['False','True'])\n",
        "\n",
        "## Display the visualization of the Confusion Matrix.\n",
        "plt.show()"
      ]
    },
    {
      "cell_type": "code",
      "execution_count": null,
      "metadata": {
        "colab": {
          "base_uri": "https://localhost:8080/"
        },
        "id": "VA3wei5rkpc6",
        "outputId": "419d8c43-fa32-4640-8f36-9ea1848de8d7"
      },
      "outputs": [
        {
          "name": "stdout",
          "output_type": "stream",
          "text": [
            "Accuracy: 0.562\n",
            "Precision: 0.767\n",
            "Recall: 0.562\n",
            "F-Measure: 0.459\n"
          ]
        }
      ],
      "source": [
        "from sklearn.metrics import precision_score,recall_score,f1_score,accuracy_score\n",
        "test_accuracy4 = accuracy_score(all_labels, all_preds)\n",
        "print('Accuracy: %.3f' % test_accuracy4)\n",
        "precision4 = precision_score(all_labels, all_preds, average='macro')\n",
        "print('Precision: %.3f' % precision4)\n",
        "recall4 = recall_score(all_labels, all_preds, average='macro')\n",
        "print('Recall: %.3f' % recall4)\n",
        "score4 = f1_score(all_labels, all_preds, average='macro')\n",
        "print('F-Measure: %.3f' % score4)"
      ]
    },
    {
      "cell_type": "markdown",
      "metadata": {
        "id": "gaWNTnqIkpc6"
      },
      "source": [
        "# For Looping"
      ]
    },
    {
      "cell_type": "code",
      "execution_count": null,
      "metadata": {
        "id": "Qg__-e7_kpc6"
      },
      "outputs": [],
      "source": [
        "if precision4 >= precision and recall >= recall3 and score4 >= score :\n",
        "  torch.save(model2.state_dict(), \"/content/drive/MyDrive/Colab Notebooks/Dataset/news_model1.pth\")\n",
        "  precision = precision4\n",
        "  recall = recall4\n",
        "  score = score4\n",
        "  model.fc1.weight.data =model2.fc1.weight.data.clone()\n",
        "  model.fc1.bias.data =model2.fc1.bias.data.clone()\n",
        "  model.fc2.weight.data =model2.fc2.weight.data.clone()\n",
        "  model.fc2.bias.data =model2.fc2.bias.data.clone()"
      ]
    },
    {
      "cell_type": "code",
      "execution_count": null,
      "metadata": {
        "id": "srnsY9EErpl0"
      },
      "outputs": [],
      "source": []
    },
    {
      "cell_type": "markdown",
      "metadata": {
        "id": "Q0KCJHuXsi86"
      },
      "source": [
        "# 5th Model\n"
      ]
    },
    {
      "cell_type": "code",
      "execution_count": null,
      "metadata": {
        "id": "jjEfnRQesi87"
      },
      "outputs": [],
      "source": []
    },
    {
      "cell_type": "code",
      "execution_count": null,
      "metadata": {
        "id": "cbdwZnhdsi87"
      },
      "outputs": [],
      "source": [
        "class NewsDatasets(Dataset):\n",
        "    def __init__(self, data, max_length=100):\n",
        "        self.data = data\n",
        "        \n",
        "        self.config = {\n",
        "            \"max_length\": max_length,\n",
        "            \"padding\": \"max_length\",\n",
        "            \"return_tensors\": \"pt\",\n",
        "            \"truncation\": True,\n",
        "            \"add_special_tokens\": True\n",
        "        }\n",
        "\n",
        "    def __len__(self):\n",
        "        return len(self.data)\n",
        "\n",
        "    def __getitem__(self, idx):\n",
        "        value = self.data.iloc[idx]\n",
        "        return value['head']+\"[SEP]\"+value['con'] , value['label']"
      ]
    },
    {
      "cell_type": "code",
      "execution_count": null,
      "metadata": {
        "colab": {
          "base_uri": "https://localhost:8080/"
        },
        "id": "rj3sGCrpsi87",
        "outputId": "46d7b88a-5aaf-45a7-ff8b-af4b729b7668"
      },
      "outputs": [
        {
          "name": "stdout",
          "output_type": "stream",
          "text": [
            "1497\n",
            "40\n"
          ]
        }
      ],
      "source": [
        "auth = pd.read_csv(\"/content/drive/MyDrive/Colab Notebooks/Dataset/For Sentiment/Division /40%/auth_set_5.csv\",encoding='UTF-8')\n",
        "fake = pd.read_csv(\"/content/drive/MyDrive/Colab Notebooks/Dataset/For Sentiment/Division /40%/fake_set_5.csv\",encoding='UTF-8')\n",
        "\n",
        "\n",
        "print(len(auth))\n",
        "print(len(fake))\n"
      ]
    },
    {
      "cell_type": "code",
      "execution_count": null,
      "metadata": {
        "colab": {
          "base_uri": "https://localhost:8080/"
        },
        "id": "30-PS-48si87",
        "outputId": "d25b9dd5-11d7-4f57-9dbd-ad71ddafaf2f"
      },
      "outputs": [
        {
          "data": {
            "text/plain": [
              "1537"
            ]
          },
          "execution_count": 157,
          "metadata": {},
          "output_type": "execute_result"
        }
      ],
      "source": [
        "\n",
        "#df = auth[:fake.shape[0]* 7]\n",
        "df = auth.append(fake)\n",
        "df = df.sample(frac=1).reset_index(drop=True)\n",
        "len(df)"
      ]
    },
    {
      "cell_type": "code",
      "execution_count": null,
      "metadata": {
        "colab": {
          "base_uri": "https://localhost:8080/"
        },
        "id": "dgebksjJsi87",
        "outputId": "9bd6cc50-5b6e-4d3a-e527-4f96ec74ecad"
      },
      "outputs": [
        {
          "name": "stdout",
          "output_type": "stream",
          "text": [
            "********** Before ***************\n",
            "সাদ্দাম হোসাইন, ব্রাহ্মণবাড়িয়া প্রতিনিধি: ‌‘উন্নয়নের অভিযাত্রায় অদম্য বাংলাদেশ’ এ প্রতিপাদ্যকে সামনে রেখে সারা দেশের ন্যায় ব্রাহ্মণবাড়িয়া জেলার আখাউড়া উপজেলা পরিষদ চত্বরে তিন দিনব্যাপী চতুর্থ জাতীয় উন্নয়ন মেলা বৃহস্পতিবার (৪ অক্টোবর) থেকে শুরু হয়েছে। উন্নয়ন মেলায় ব্রাহ্মণবাড়িয়া পল্লীবিদ্যুৎ সমিতি আখাউড়া জোনাল বোর্ডের পক্ষ থেকে নতুন বিদ্যুৎসংযোগ, বিদ্যুৎ বিল গ্রহণ করা এবং কোন প্রকার অভিযোগ থাকলে সাথে সাথেই তা সমাধানের ব্যাবস্থা সেবা দিচ্ছে তারা। ৪র্থ জাতীয় উন্নয়ন মেলায় সেবা নিতে আসা আখাউড়া পৌরসভার বাসিন্দা মো. আবু হানিফকে, কি সেবা নিতে এসেছেন? জানতে চাইলে বলেন, আমি আমার নতুন মিটারের জন্য আবেদন করতে এসেছি, এমন সেবা দেওয়াতে কর্তৃপক্ষকে ধন্যবাদ জানিয়ে বলেন, সেবা পেতে যাচ্ছি ভালো লাগছে। মালদার পাড়ার আবুল হোসেন বলেন, নতুন বৈদ্যুতিক সংযোগের জন্য অফিসে গেলে ২ থেকে ৩ মাস সময় লাগে কিন্ত ৪র্থ জাতীয় উন্নয়ন মেলায় তা মিলছে সাথে সাথেই, শুনে আমি ও চলে আসলাম সেবা নিতে। আখাউড়া পল্লীবিদ্যুৎ এর ডিজিএম আহাম্মেদ শাহ আল জাবের বলেন, ওয়ান স্টপ সার্ভিসের আওতায় বিদ্যুৎ সংযোগ প্রাপ্তির আবেদন গ্রহণ-জামানতের টাকা গ্রহণ ও একই দিনে বিদ্যুৎ সংযোগ প্রদান করা হচ্ছে। গ্রাহকদের কোন প্রকার অভিযোগ থাকলে সাথে সাথেই তা সমাধান দিচ্ছি এবং ভিডিও প্রদর্শনীর মাধ্যমে আমাদের উন্নয়নের ভিডিও দেখাচ্ছি, এই কার্যক্রম চলবে আগামীকাল শনিবার পর্যন্ত। বিডি২৪লাইভ/এমকে\n",
            "\n",
            "********** After ***************\n",
            "সাদ্দাম হোসাইন ব্রাহ্মণবাড়িয়া প্রতিনিধি ‌ উন্নয়নের অভিযাত্রায় অদম্য বাংলাদেশ প্রতিপাদ্যকে সারা দেশের ন্যায় ব্রাহ্মণবাড়িয়া জেলার আখাউড়া উপজেলা পরিষদ চত্বরে তিন দিনব্যাপী চতুর্থ জাতীয় উন্নয়ন মেলা বৃহস্পতিবার ৪ অক্টোবর হয়েছে উন্নয়ন মেলায় ব্রাহ্মণবাড়িয়া পল্লীবিদ্যুৎ সমিতি আখাউড়া জোনাল বোর্ডের পক্ষ বিদ্যুৎসংযোগ বিদ্যুৎ বিল গ্রহণ প্রকার অভিযোগ থাকলে সাথে সাথেই সমাধানের ব্যাবস্থা সেবা দিচ্ছে ৪র্থ জাতীয় উন্নয়ন মেলায় সেবা আসা আখাউড়া পৌরসভার বাসিন্দা মো আবু হানিফকে সেবা এসেছেন চাইলে মিটারের আবেদন এসেছি সেবা দেওয়াতে কর্তৃপক্ষকে ধন্যবাদ জানিয়ে সেবা পেতে যাচ্ছি ভালো লাগছে মালদার পাড়ার আবুল হোসেন বৈদ্যুতিক সংযোগের অফিসে ২ ৩ মাস সময় লাগে কিন্ত ৪র্থ জাতীয় উন্নয়ন মেলায় মিলছে সাথে সাথেই শুনে আসলাম সেবা আখাউড়া পল্লীবিদ্যুৎ ডিজিএম আহাম্মেদ শাহ আল জাবের ওয়ান স্টপ সার্ভিসের আওতায় বিদ্যুৎ সংযোগ প্রাপ্তির আবেদন গ্রহণ জামানতের টাকা গ্রহণ দিনে বিদ্যুৎ সংযোগ প্রদান গ্রাহকদের প্রকার অভিযোগ থাকলে সাথে সাথেই সমাধান দিচ্ছি ভিডিও প্রদর্শনীর উন্নয়নের ভিডিও দেখাচ্ছি কার্যক্রম চলবে আগামীকাল শনিবার বিডি২৪লাইভ এমকে\n"
          ]
        }
      ],
      "source": [
        "from bnlp import BasicTokenizer\n",
        "from bnlp.corpus import stopwords, punctuations, letters, digits\n",
        "\n",
        "btokenizer = BasicTokenizer()\n",
        "\n",
        "def clean_text(text):\n",
        "    tokens = btokenizer.tokenize(text)\n",
        "    filtered = []\n",
        "    for i in tokens:\n",
        "        if i in stopwords:\n",
        "            continue\n",
        "    \n",
        "        if i in punctuations + '‘' + '’':\n",
        "            continue\n",
        "    \n",
        "        filtered.append(i)\n",
        "    \n",
        "    return \" \".join(filtered)\n",
        "\n",
        "print(\"********** Before ***************\")\n",
        "text = df.iloc[1]['content']\n",
        "print(text)\n",
        "print(\"\\n********** After ***************\")\n",
        "print(clean_text(text))"
      ]
    },
    {
      "cell_type": "code",
      "execution_count": null,
      "metadata": {
        "id": "oalfo7Ovsi88"
      },
      "outputs": [],
      "source": [
        "undersample = RandomUnderSampler(sampling_strategy='majority')"
      ]
    },
    {
      "cell_type": "code",
      "execution_count": null,
      "metadata": {
        "id": "eA4r-uOPsi88"
      },
      "outputs": [],
      "source": [
        "df['head'] = df.headline.apply(clean_text)\n",
        "df['con'] = df.content.apply(clean_text)"
      ]
    },
    {
      "cell_type": "code",
      "execution_count": null,
      "metadata": {
        "id": "phP9SxHNsi88"
      },
      "outputs": [],
      "source": [
        "x= df.drop('label', axis=1)\n",
        "y= df.label"
      ]
    },
    {
      "cell_type": "code",
      "execution_count": null,
      "metadata": {
        "id": "HY5vRx10si88"
      },
      "outputs": [],
      "source": [
        "X_train_resampled, y_train_resampled = undersample.fit_resample(x, y)"
      ]
    },
    {
      "cell_type": "code",
      "execution_count": null,
      "metadata": {
        "id": "VpSzJbP_si88"
      },
      "outputs": [],
      "source": [
        "df = X_train_resampled.join(y_train_resampled)"
      ]
    },
    {
      "cell_type": "code",
      "execution_count": null,
      "metadata": {
        "id": "67J8E3FVsi88"
      },
      "outputs": [],
      "source": [
        "from sklearn.model_selection import train_test_split\n",
        "\n",
        "train_df, test_df = train_test_split(df, test_size=0.2, random_state=121, stratify=df['label'])"
      ]
    },
    {
      "cell_type": "code",
      "execution_count": null,
      "metadata": {
        "colab": {
          "base_uri": "https://localhost:8080/"
        },
        "id": "ztLT49Rqsi88",
        "outputId": "b975c3f6-bfe7-44e8-a971-756f4816f43e"
      },
      "outputs": [
        {
          "data": {
            "text/plain": [
              "(64, 16)"
            ]
          },
          "execution_count": 165,
          "metadata": {},
          "output_type": "execute_result"
        }
      ],
      "source": [
        "len(train_df), len(test_df)"
      ]
    },
    {
      "cell_type": "code",
      "execution_count": null,
      "metadata": {
        "id": "F9NUviExsi88"
      },
      "outputs": [],
      "source": [
        "training_data = NewsDatasets(train_df)\n",
        "train_dataloader = DataLoader(training_data, batch_size=1, shuffle=True)"
      ]
    },
    {
      "cell_type": "code",
      "execution_count": null,
      "metadata": {
        "id": "1cnIpKTAsi89"
      },
      "outputs": [],
      "source": [
        "test_data = NewsDatasets(test_df)\n",
        "test_dataloader = DataLoader(test_data, batch_size=1, shuffle=True)"
      ]
    },
    {
      "cell_type": "code",
      "execution_count": null,
      "metadata": {
        "id": "Gamgk_4Nsi89"
      },
      "outputs": [],
      "source": [
        "class NewsBert2(nn.Module):\n",
        "\n",
        "    def __init__(self, bert):\n",
        "        super(NewsBert2, self).__init__()\n",
        "\n",
        "        self.bert = bert\n",
        "\n",
        "        # dropout layer\n",
        "        self.dropout = nn.Dropout(0.2)\n",
        "\n",
        "        # relu activation function\n",
        "        self.relu = nn.ReLU()\n",
        "\n",
        "        # dense layer 1\n",
        "        self.fc1 = nn.Linear(768, 128)\n",
        "\n",
        "        # dense layer 2 (Output layer)\n",
        "        self.fc2 = nn.Linear(128, 2)  \n",
        "\n",
        "    # define the forward pass\n",
        "    def forward(self, input_ids, token_type_ids, attention_mask):\n",
        "        # pass the inputs to the model\n",
        "        out = self.bert(input_ids, attention_mask=attention_mask, token_type_ids=token_type_ids)\n",
        "\n",
        "        x = self.fc1(out[1])\n",
        "        x = self.relu(x)\n",
        "        # output layer\n",
        "        x = self.fc2(self.dropout(x))\n",
        "        \n",
        "        return x"
      ]
    },
    {
      "cell_type": "code",
      "execution_count": null,
      "metadata": {
        "colab": {
          "base_uri": "https://localhost:8080/"
        },
        "id": "WxtkNaLhsi89",
        "outputId": "8a1ebf07-c6b8-4b66-d321-5614f73065ca"
      },
      "outputs": [
        {
          "name": "stderr",
          "output_type": "stream",
          "text": [
            "Some weights of the model checkpoint at sagorsarker/bangla-bert-base were not used when initializing BertModel: ['cls.predictions.bias', 'cls.seq_relationship.bias', 'cls.predictions.decoder.weight', 'cls.predictions.transform.dense.bias', 'cls.seq_relationship.weight', 'cls.predictions.transform.LayerNorm.weight', 'cls.predictions.transform.dense.weight', 'cls.predictions.transform.LayerNorm.bias']\n",
            "- This IS expected if you are initializing BertModel from the checkpoint of a model trained on another task or with another architecture (e.g. initializing a BertForSequenceClassification model from a BertForPreTraining model).\n",
            "- This IS NOT expected if you are initializing BertModel from the checkpoint of a model that you expect to be exactly identical (initializing a BertForSequenceClassification model from a BertForSequenceClassification model).\n"
          ]
        }
      ],
      "source": [
        "bert_model_name = \"sagorsarker/bangla-bert-base\"\n",
        "bert = BertModel.from_pretrained(bert_model_name)\n",
        "tokenizer = BertTokenizer.from_pretrained(bert_model_name)"
      ]
    },
    {
      "cell_type": "code",
      "execution_count": null,
      "metadata": {
        "id": "8dxSa61Msi89"
      },
      "outputs": [],
      "source": [
        "device = torch.device(\"cuda\" if torch.cuda.is_available() else \"cpu\")\n",
        "model2 = NewsBert(bert)\n",
        "model2.to(device);"
      ]
    },
    {
      "cell_type": "code",
      "execution_count": null,
      "metadata": {
        "id": "yeOlBwQ9si89"
      },
      "outputs": [],
      "source": [
        "from torch.optim.lr_scheduler import StepLR\n",
        "\n",
        "optimizer = AdamW(model2.parameters(), lr=1e-5)\n",
        "criterion = nn.CrossEntropyLoss()\n",
        "scheduler = StepLR(optimizer, step_size=2, gamma=0.1)"
      ]
    },
    {
      "cell_type": "code",
      "execution_count": null,
      "metadata": {
        "id": "SBchUVdIsi89"
      },
      "outputs": [],
      "source": [
        "model2.fc1.weight.data =model.fc1.weight.data.clone()\n",
        "model2.fc1.bias.data =model.fc1.bias.data.clone()\n",
        "model2.fc2.weight.data =model.fc2.weight.data.clone()\n",
        "model2.fc2.bias.data =model.fc2.bias.data.clone()"
      ]
    },
    {
      "cell_type": "code",
      "execution_count": null,
      "metadata": {
        "colab": {
          "base_uri": "https://localhost:8080/"
        },
        "id": "qiKjXz5Esi89",
        "outputId": "f16064a7-a6a2-4407-91f5-9f8500348c8f"
      },
      "outputs": [
        {
          "name": "stdout",
          "output_type": "stream",
          "text": [
            "tensor([[-0.0175,  0.0303,  0.0335,  ..., -0.0022,  0.0109,  0.0291],\n",
            "        [-0.0317,  0.0299, -0.0072,  ..., -0.0197,  0.0237,  0.0206],\n",
            "        [-0.0174, -0.0324,  0.0150,  ..., -0.0161, -0.0138, -0.0227],\n",
            "        ...,\n",
            "        [-0.0251,  0.0134, -0.0252,  ...,  0.0219, -0.0157, -0.0256],\n",
            "        [ 0.0099,  0.0349,  0.0075,  ...,  0.0271, -0.0321, -0.0015],\n",
            "        [-0.0209,  0.0238, -0.0154,  ...,  0.0213, -0.0039, -0.0176]])\n"
          ]
        }
      ],
      "source": [
        "print(model2.fc1.weight.data)"
      ]
    },
    {
      "cell_type": "code",
      "execution_count": null,
      "metadata": {
        "id": "ZfwUhqYmsi8-"
      },
      "outputs": [],
      "source": [
        "def train(model, dataloader, optimizer, criterion, config):\n",
        "    model2.train()  # prep model for training\n",
        "    train_loss = 0\n",
        "    for batch in tqdm(dataloader):\n",
        "        text, labels = batch\n",
        "\n",
        "        model2.zero_grad()\n",
        "\n",
        "        inputs = tokenizer.batch_encode_plus(\n",
        "            text, **config\n",
        "        )\n",
        "        input_ids = inputs['input_ids'].to(device)\n",
        "        token_type_ids = inputs['token_type_ids'].to(device)\n",
        "        attention_mask = inputs['attention_mask'].to(device)\n",
        "        labels = labels.to(device)\n",
        "\n",
        "        # move things to model\n",
        "        logs = model2(token_type_ids=token_type_ids, input_ids=input_ids, attention_mask=attention_mask)\n",
        "\n",
        "        loss = criterion(logs, labels)\n",
        "        train_loss += loss.item() * input_ids.size(0)\n",
        "        loss.backward()\n",
        "\n",
        "        # clip the the gradients to 1.0. It helps in preventing the exploding gradient problem\n",
        "        nn.utils.clip_grad_norm_(model2.parameters(), 1.0)\n",
        "        optimizer.step()\n",
        "\n",
        "    return train_loss"
      ]
    },
    {
      "cell_type": "code",
      "execution_count": null,
      "metadata": {
        "id": "lae0l8eCsi8-"
      },
      "outputs": [],
      "source": [
        "def evaluate(model, dataloader, criterion, config):\n",
        "    total = 0\n",
        "    correct = 0\n",
        "    valid_loss = 0.0\n",
        "\n",
        "    model2.eval()  # prep model for evaluation\n",
        "    for batch in dataloader:\n",
        "        text, labels = batch\n",
        "        inputs = tokenizer.batch_encode_plus(\n",
        "            text, **config\n",
        "        )\n",
        "        input_ids = inputs['input_ids'].to(device)\n",
        "        token_type_ids = inputs['token_type_ids'].to(device)\n",
        "        attention_mask = inputs['attention_mask'].to(device)\n",
        "        labels = labels.to(device)\n",
        "\n",
        "        # move things to model\n",
        "        output = model2(token_type_ids=token_type_ids, input_ids=input_ids, attention_mask=attention_mask)\n",
        "\n",
        "        loss_p = criterion(output, labels)\n",
        "        # update running validation loss\n",
        "        valid_loss += loss_p.item() * input_ids.size(0)\n",
        "        # calculate accuracy\n",
        "        proba = torch.exp(output)\n",
        "        top_p, top_class = proba.topk(1, dim=1)\n",
        "        equals = top_class == labels.view(*top_class.shape)\n",
        "        # accuracy += torch.mean(equals.type(torch.FloatTensor)).item()\n",
        "\n",
        "        _, predicted = torch.max(output.data, 1)\n",
        "        total += labels.size(0)\n",
        "        correct += (predicted == labels).sum().item()\n",
        "\n",
        "    return total, correct, valid_loss"
      ]
    },
    {
      "cell_type": "code",
      "execution_count": null,
      "metadata": {
        "id": "k9Svd1nhsi8-"
      },
      "outputs": [],
      "source": [
        "epochs = 5\n",
        "tokenizer_config = {\n",
        "    \"max_length\": 100,\n",
        "    \"padding\": \"max_length\",\n",
        "    \"return_tensors\": \"pt\",\n",
        "    \"truncation\": True,\n",
        "    \"add_special_tokens\": True\n",
        "}"
      ]
    },
    {
      "cell_type": "code",
      "execution_count": null,
      "metadata": {
        "colab": {
          "base_uri": "https://localhost:8080/",
          "height": 368
        },
        "id": "4e1Ockq5si8-",
        "outputId": "25ab6d45-4656-4c06-cb0a-eb3d0a5eba10"
      },
      "outputs": [
        {
          "name": "stdout",
          "output_type": "stream",
          "text": [
            "Epoch: 1/5\n"
          ]
        },
        {
          "data": {
            "application/vnd.jupyter.widget-view+json": {
              "model_id": "16c94b062aab44c4b9c141ed8467c2df",
              "version_major": 2,
              "version_minor": 0
            },
            "text/plain": [
              "  0%|          | 0/64 [00:00<?, ?it/s]"
            ]
          },
          "metadata": {},
          "output_type": "display_data"
        },
        {
          "name": "stdout",
          "output_type": "stream",
          "text": [
            "\tTrain loss:0.771350.. \tValid Loss:0.703842.. \tAccuracy: 50.0000\n",
            "Epoch: 2/5\n"
          ]
        },
        {
          "data": {
            "application/vnd.jupyter.widget-view+json": {
              "model_id": "3e807ac0d042448fac5ba4236f3ca97b",
              "version_major": 2,
              "version_minor": 0
            },
            "text/plain": [
              "  0%|          | 0/64 [00:00<?, ?it/s]"
            ]
          },
          "metadata": {},
          "output_type": "display_data"
        },
        {
          "name": "stdout",
          "output_type": "stream",
          "text": [
            "\tTrain loss:0.572654.. \tValid Loss:0.517612.. \tAccuracy: 81.2500\n",
            "Epoch: 3/5\n"
          ]
        },
        {
          "data": {
            "application/vnd.jupyter.widget-view+json": {
              "model_id": "9ef69b2014d14249848469ee91a4a262",
              "version_major": 2,
              "version_minor": 0
            },
            "text/plain": [
              "  0%|          | 0/64 [00:00<?, ?it/s]"
            ]
          },
          "metadata": {},
          "output_type": "display_data"
        },
        {
          "name": "stdout",
          "output_type": "stream",
          "text": [
            "\tTrain loss:0.381000.. \tValid Loss:0.517836.. \tAccuracy: 75.0000\n",
            "Epoch: 4/5\n"
          ]
        },
        {
          "data": {
            "application/vnd.jupyter.widget-view+json": {
              "model_id": "790badc9b52149fb8cf298ddf58bd3df",
              "version_major": 2,
              "version_minor": 0
            },
            "text/plain": [
              "  0%|          | 0/64 [00:00<?, ?it/s]"
            ]
          },
          "metadata": {},
          "output_type": "display_data"
        },
        {
          "name": "stdout",
          "output_type": "stream",
          "text": [
            "\tTrain loss:0.294262.. \tValid Loss:0.522191.. \tAccuracy: 75.0000\n",
            "Epoch: 5/5\n"
          ]
        },
        {
          "data": {
            "application/vnd.jupyter.widget-view+json": {
              "model_id": "fd08bbc4ec3b41d59a653256e5864d2b",
              "version_major": 2,
              "version_minor": 0
            },
            "text/plain": [
              "  0%|          | 0/64 [00:00<?, ?it/s]"
            ]
          },
          "metadata": {},
          "output_type": "display_data"
        },
        {
          "name": "stdout",
          "output_type": "stream",
          "text": [
            "\tTrain loss:0.265643.. \tValid Loss:0.525143.. \tAccuracy: 75.0000\n",
            "Training completed in 18m 15s\n"
          ]
        }
      ],
      "source": [
        "train_loss_data, valid_loss_data = [], []\n",
        "valid_loss_min = np.Inf\n",
        "since = time.time()\n",
        "best_loss = np.inf\n",
        "\n",
        "for epoch in range(epochs):\n",
        "    print(\"Epoch: {}/{}\".format(epoch + 1, epochs))\n",
        "    # monitor training loss\n",
        "    train_loss = 0.0\n",
        "    valid_loss = 0.0\n",
        "    total = 0\n",
        "    correct = 0\n",
        "    e_since = time.time()\n",
        "\n",
        "    # Train Model\n",
        "    train_loss += train(model2, train_dataloader, optimizer, criterion, tokenizer_config)\n",
        "    # Now Evaluate\n",
        "    out = evaluate(model2, test_dataloader, criterion, tokenizer_config)\n",
        "    total += out[0]\n",
        "    correct += out[1]\n",
        "    valid_loss += out[2]\n",
        "    \n",
        "    scheduler.step()\n",
        "\n",
        "    # print training/validation statistics\n",
        "    # calculate average loss over an epoch\n",
        "    train_loss = train_loss / len(train_dataloader.dataset)\n",
        "    valid_loss = valid_loss / len(test_dataloader.dataset)\n",
        "\n",
        "    # calculate train loss and running loss\n",
        "    train_loss_data.append(train_loss * 100)\n",
        "    valid_loss_data.append(valid_loss * 100)\n",
        "    \n",
        "    if valid_loss < best_loss:\n",
        "        best_loss = valid_loss\n",
        "        torch.save(model2.state_dict(), \"/content/drive/MyDrive/Colab Notebooks/Dataset/news_model2.pth\")\n",
        "\n",
        "    print(\"\\tTrain loss:{:.6f}..\".format(train_loss),\n",
        "          \"\\tValid Loss:{:.6f}..\".format(valid_loss),\n",
        "          \"\\tAccuracy: {:.4f}\".format(correct / total * 100))\n",
        "\n",
        "time_elapsed = time.time() - since\n",
        "print('Training completed in {:.0f}m {:.0f}s'.format(\n",
        "    time_elapsed // 60, time_elapsed % 60))"
      ]
    },
    {
      "cell_type": "code",
      "execution_count": null,
      "metadata": {
        "colab": {
          "base_uri": "https://localhost:8080/"
        },
        "id": "uCbHNr0ksi8-",
        "outputId": "acfb2473-c5c8-4851-af43-fc4388585ccd"
      },
      "outputs": [
        {
          "data": {
            "text/plain": [
              "75.0"
            ]
          },
          "execution_count": 178,
          "metadata": {},
          "output_type": "execute_result"
        }
      ],
      "source": [
        "training_acc5 = correct / total * 100\n",
        "training_acc5"
      ]
    },
    {
      "cell_type": "code",
      "execution_count": null,
      "metadata": {
        "colab": {
          "base_uri": "https://localhost:8080/",
          "height": 282
        },
        "id": "g1Ah6g7Msi8_",
        "outputId": "a949a573-02d9-4d76-aa4b-c3769554bd9e"
      },
      "outputs": [
        {
          "data": {
            "text/plain": [
              "<matplotlib.legend.Legend at 0x7f63f1971d10>"
            ]
          },
          "execution_count": 179,
          "metadata": {},
          "output_type": "execute_result"
        },
        {
          "data": {
            "image/png": "[encoded data removed]",
            "text/plain": [
              "<Figure size 432x288 with 1 Axes>"
            ]
          },
          "metadata": {},
          "output_type": "display_data"
        }
      ],
      "source": [
        "from matplotlib import pyplot as plt\n",
        "\n",
        "plt.plot(train_loss_data, label=\"Training loss\")\n",
        "plt.plot(valid_loss_data, label=\"validation loss\")\n",
        "plt.legend(frameon=False)"
      ]
    },
    {
      "cell_type": "code",
      "execution_count": null,
      "metadata": {
        "id": "Ef9zhdCOsi8_"
      },
      "outputs": [],
      "source": [
        "from google.colab import output\n",
        "output.enable_custom_widget_manager()"
      ]
    },
    {
      "cell_type": "code",
      "execution_count": null,
      "metadata": {
        "id": "lT1dIlwGsi8_"
      },
      "outputs": [],
      "source": [
        "from google.colab import output\n",
        "output.disable_custom_widget_manager()"
      ]
    },
    {
      "cell_type": "code",
      "execution_count": null,
      "metadata": {
        "colab": {
          "base_uri": "https://localhost:8080/"
        },
        "id": "-vd7i26Usi8_",
        "outputId": "facaf439-b93d-4fa9-dcc8-132049a73ea5"
      },
      "outputs": [
        {
          "data": {
            "text/plain": [
              "<All keys matched successfully>"
            ]
          },
          "execution_count": 182,
          "metadata": {},
          "output_type": "execute_result"
        }
      ],
      "source": [
        "model2.load_state_dict(torch.load(\"/content/drive/MyDrive/Colab Notebooks/Dataset/news_model2.pth\", map_location = device))"
      ]
    },
    {
      "cell_type": "code",
      "execution_count": null,
      "metadata": {
        "id": "pR33H2XOsi8_"
      },
      "outputs": [],
      "source": [
        "all_preds = []\n",
        "all_labels = []\n",
        "\n",
        "for batch in test_dataloader:\n",
        "    text, labels = batch\n",
        "    inputs = tokenizer.batch_encode_plus(\n",
        "        text, **tokenizer_config\n",
        "    )\n",
        "    input_ids = inputs['input_ids'].to(device)\n",
        "    token_type_ids = inputs['token_type_ids'].to(device)\n",
        "    attention_mask = inputs['attention_mask'].to(device)\n",
        "    labels = labels.to(device)\n",
        "\n",
        "    # move things to model\n",
        "    output = model2(token_type_ids=token_type_ids, input_ids=input_ids, attention_mask=attention_mask)\n",
        "    preds = output.detach().cpu().numpy()\n",
        "    preds = np.argmax(preds, axis = 1)\n",
        "    all_preds.extend(preds)\n",
        "    all_labels.extend(labels.cpu().numpy())"
      ]
    },
    {
      "cell_type": "code",
      "execution_count": null,
      "metadata": {
        "colab": {
          "base_uri": "https://localhost:8080/"
        },
        "id": "ISMG2N_Osi8_",
        "outputId": "e79db175-50f8-4bd1-9a4b-71f22190e59b"
      },
      "outputs": [
        {
          "name": "stdout",
          "output_type": "stream",
          "text": [
            "              precision    recall  f1-score   support\n",
            "\n",
            "           0       0.73      1.00      0.84         8\n",
            "           1       1.00      0.62      0.77         8\n",
            "\n",
            "    accuracy                           0.81        16\n",
            "   macro avg       0.86      0.81      0.81        16\n",
            "weighted avg       0.86      0.81      0.81        16\n",
            "\n"
          ]
        }
      ],
      "source": [
        "from sklearn.metrics import classification_report\n",
        "\n",
        "# preds = np.argmax(preds, axis = 1)\n",
        "print(classification_report(all_labels, all_preds))"
      ]
    },
    {
      "cell_type": "code",
      "execution_count": null,
      "metadata": {
        "colab": {
          "base_uri": "https://localhost:8080/"
        },
        "id": "acXRpcoesi8_",
        "outputId": "d2f0756c-fdf8-4c46-8b41-68207a3ab058"
      },
      "outputs": [
        {
          "name": "stdout",
          "output_type": "stream",
          "text": [
            "tensor([[-0.0175,  0.0303,  0.0335,  ..., -0.0022,  0.0109,  0.0291],\n",
            "        [-0.0317,  0.0299, -0.0072,  ..., -0.0197,  0.0237,  0.0206],\n",
            "        [-0.0173, -0.0324,  0.0150,  ..., -0.0162, -0.0139, -0.0227],\n",
            "        ...,\n",
            "        [-0.0250,  0.0135, -0.0250,  ...,  0.0218, -0.0156, -0.0258],\n",
            "        [ 0.0101,  0.0349,  0.0076,  ...,  0.0268, -0.0321, -0.0015],\n",
            "        [-0.0208,  0.0238, -0.0154,  ...,  0.0212, -0.0041, -0.0176]])\n"
          ]
        }
      ],
      "source": [
        "print(model2.fc1.weight.data)"
      ]
    },
    {
      "cell_type": "code",
      "execution_count": null,
      "metadata": {
        "id": "8-Bvxh3Xsi9A"
      },
      "outputs": [],
      "source": [
        "cf_matrix = confusion_matrix(all_labels, all_preds)  "
      ]
    },
    {
      "cell_type": "code",
      "execution_count": null,
      "metadata": {
        "colab": {
          "base_uri": "https://localhost:8080/",
          "height": 337
        },
        "id": "pgKVu7DVsi9A",
        "outputId": "4825099a-1e46-473b-a445-25f4598877a8"
      },
      "outputs": [
        {
          "data": {
            "image/png": "[encoded data removed]",
            "text/plain": [
              "<Figure size 432x288 with 2 Axes>"
            ]
          },
          "metadata": {},
          "output_type": "display_data"
        }
      ],
      "source": [
        "import seaborn as sns\n",
        "\n",
        "ax = sns.heatmap(cf_matrix, annot=True, cmap='Blues')\n",
        "\n",
        "ax.set_title('Seaborn Confusion Matrix with labels\\n\\n');\n",
        "ax.set_xlabel('\\nPredicted Values')\n",
        "ax.set_ylabel('Actual Values ');\n",
        "\n",
        "## Ticket labels - List must be in alphabetical order\n",
        "ax.xaxis.set_ticklabels(['False','True'])\n",
        "ax.yaxis.set_ticklabels(['False','True'])\n",
        "\n",
        "## Display the visualization of the Confusion Matrix.\n",
        "plt.show()"
      ]
    },
    {
      "cell_type": "code",
      "execution_count": null,
      "metadata": {
        "colab": {
          "base_uri": "https://localhost:8080/"
        },
        "id": "0arJq-r9si9A",
        "outputId": "2095b978-ea14-4ab9-bc88-34e07d5c5ea4"
      },
      "outputs": [
        {
          "name": "stdout",
          "output_type": "stream",
          "text": [
            "Accuracy: 0.812\n",
            "Precision: 0.864\n",
            "Recall: 0.812\n",
            "F-Measure: 0.806\n"
          ]
        }
      ],
      "source": [
        "from sklearn.metrics import precision_score,recall_score,f1_score,accuracy_score\n",
        "test_accuracy5 = accuracy_score(all_labels, all_preds)\n",
        "print('Accuracy: %.3f' % test_accuracy5)\n",
        "precision5 = precision_score(all_labels, all_preds, average='macro')\n",
        "print('Precision: %.3f' % precision5)\n",
        "recall5 = recall_score(all_labels, all_preds, average='macro')\n",
        "print('Recall: %.3f' % recall5)\n",
        "score5 = f1_score(all_labels, all_preds, average='macro')\n",
        "print('F-Measure: %.3f' % score5)"
      ]
    },
    {
      "cell_type": "markdown",
      "metadata": {
        "id": "AUpJA6IJsi9A"
      },
      "source": [
        "# For Looping"
      ]
    },
    {
      "cell_type": "code",
      "execution_count": null,
      "metadata": {
        "id": "2novSjRvsi9A"
      },
      "outputs": [],
      "source": [
        "if precision5 >= precision and recall5 >= recall and score5 >= score :\n",
        "  torch.save(model2.state_dict(), \"/content/drive/MyDrive/Colab Notebooks/Dataset/news_model1.pth\")\n",
        "  precision = precision5\n",
        "  recall = recall5\n",
        "  score = score5\n",
        "  model.fc1.weight.data =model2.fc1.weight.data.clone()\n",
        "  model.fc1.bias.data =model2.fc1.bias.data.clone()\n",
        "  model.fc2.weight.data =model2.fc2.weight.data.clone()\n",
        "  model.fc2.bias.data =model2.fc2.bias.data.clone()"
      ]
    },
    {
      "cell_type": "code",
      "execution_count": null,
      "metadata": {
        "id": "yMbh45xDsi9A"
      },
      "outputs": [],
      "source": []
    },
    {
      "cell_type": "markdown",
      "metadata": {
        "id": "bl8jUbMWsjVi"
      },
      "source": [
        "# 6th Model\n"
      ]
    },
    {
      "cell_type": "code",
      "execution_count": null,
      "metadata": {
        "id": "735ifQBesjVi"
      },
      "outputs": [],
      "source": []
    },
    {
      "cell_type": "code",
      "execution_count": null,
      "metadata": {
        "id": "AL0ONgLzsjVi"
      },
      "outputs": [],
      "source": [
        "class NewsDatasets(Dataset):\n",
        "    def __init__(self, data, max_length=100):\n",
        "        self.data = data\n",
        "        \n",
        "        self.config = {\n",
        "            \"max_length\": max_length,\n",
        "            \"padding\": \"max_length\",\n",
        "            \"return_tensors\": \"pt\",\n",
        "            \"truncation\": True,\n",
        "            \"add_special_tokens\": True\n",
        "        }\n",
        "\n",
        "    def __len__(self):\n",
        "        return len(self.data)\n",
        "\n",
        "    def __getitem__(self, idx):\n",
        "        value = self.data.iloc[idx]\n",
        "        return value['head']+\"[SEP]\"+value['con'] , value['label']"
      ]
    },
    {
      "cell_type": "code",
      "execution_count": null,
      "metadata": {
        "colab": {
          "base_uri": "https://localhost:8080/"
        },
        "id": "Cd2Brgh4sjVi",
        "outputId": "540ff967-8b19-4ac6-d590-72e3277f0643"
      },
      "outputs": [
        {
          "name": "stdout",
          "output_type": "stream",
          "text": [
            "1497\n",
            "40\n"
          ]
        }
      ],
      "source": [
        "auth = pd.read_csv(\"/content/drive/MyDrive/Colab Notebooks/Dataset/For Sentiment/Division /40%/auth_set_6.csv\",encoding='UTF-8')\n",
        "fake = pd.read_csv(\"/content/drive/MyDrive/Colab Notebooks/Dataset/For Sentiment/Division /40%/fake_set_6.csv\",encoding='UTF-8')\n",
        "\n",
        "\n",
        "print(len(auth))\n",
        "print(len(fake))\n"
      ]
    },
    {
      "cell_type": "code",
      "execution_count": null,
      "metadata": {
        "colab": {
          "base_uri": "https://localhost:8080/"
        },
        "id": "Tr12tKB-sjVj",
        "outputId": "07a8d834-c2c8-4fda-8e67-4dd5c02944c3"
      },
      "outputs": [
        {
          "data": {
            "text/plain": [
              "1537"
            ]
          },
          "execution_count": 192,
          "metadata": {},
          "output_type": "execute_result"
        }
      ],
      "source": [
        "\n",
        "#df = auth[:fake.shape[0]* 7]\n",
        "df = auth.append(fake)\n",
        "df = df.sample(frac=1).reset_index(drop=True)\n",
        "len(df)"
      ]
    },
    {
      "cell_type": "code",
      "execution_count": null,
      "metadata": {
        "colab": {
          "base_uri": "https://localhost:8080/"
        },
        "id": "aaR4jB3gsjVj",
        "outputId": "7ff5c817-d146-4a51-d174-f70bb1b92603"
      },
      "outputs": [
        {
          "name": "stdout",
          "output_type": "stream",
          "text": [
            "********** Before ***************\n",
            "জেষ্ঠ প্রতিবেদক : নির্বাচন কমিশনে (ইসি) নিবন্ধনের দাবি জানিয়েছে নতুন রাজনৈতিক দল ইনসানিয়াত বিপ্লব বাংলাদেশ। শনিবার বিকেলে ঢাকা রিপোর্টার্স ইউনিটির সাগর রুনি মিলনায়তনে সংবাদ সম্মেলনে এ দাবি জানায় দলটি। দলটির নেতারা অভিযোগ করেন, সব শর্ত পূরণ করা সত্বেও ইসি কোনো কারণ ছাড়াই তাদের নিবন্ধিত করছে না। ইনসানিয়াত বিপ্লবের চেয়ারম্যান আল্লামা ইমাম হায়াত সংবাদ সম্মেলনে মূল বক্তব্য দেন। লিখিত বক্তব্য দেন দলের মহাসচিব শেখ রায়হান রাহবার। এ সময় আরো উপস্থিত ছিলেন- ঢাকা বিশ্ববিদ্যালয়ের অধ্যাপক ড. আতাউর রহমান মিয়াজী, অধ্যাপক ড. এহসানুল হাদী, অ্যাডভোকেট আবু তৌহিদ ভূঁইয়া প্রিন্স প্রমুখ। দলের চেয়ারম্যান আল্লামা ইমাম হায়াত দেশ ও মানবতার স্বার্থে ইনসানিয়াত বিপ্লবের নিবন্ধন দেওয়ার আবেদন জানান। তিনি বলেন, রাজনৈতিক দর্শনে নতুন ধ্যান-ধারণা রুদ্ধ হলে জীবনের গতিশীলতা ও মানবতার বিকাশ রুদ্ধ হয়। জনসমর্থন ও কর্মসূচি থাকা সত্বেও সক্রিয় রাজনৈতিক দলকে নিবন্ধন না দিলে জনগণের সাংবিধানিক ও গণতান্ত্রিক অধিকার ক্ষুণ্ন হয়। নির্বচনের তফসিল ঘোষণার আগে ইনসানিয়াত বিপ্লবের নিবন্ধনের আদেশ চেয়ে হাইকোর্টে রিট আবেদন করা হচ্ছে বলে সংবাদ সম্মেলনে জানানো হয়। দলের মহাসচিব শেখ রায়হান রাহবার বলেন, ইনসানিয়াত বিপ্লব যেকোনো ধর্মীয় সাম্প্রদায়িকতা, উগ্রবাদ ও জঙ্গিবাদের বিরোধী। একইভাবে উগ্র জাতীয়তাবাদকে মানবতাবিরোধী বলে মনে করি আমরা। তিনি আরো বলেন, আমাদের মুক্তিযুদ্ধকে মানবতার পক্ষে একটি গৌরবময় সংগ্রাম বলে আমরা মনে করি। মুক্তিযোদ্ধারা মানবতার পক্ষে লড়াই করে জীবন দিয়েছেন। দলটি একাদশ জাতীয় সংসদ নির্বাচনে অংশ নেওয়ার প্রস্তুতি নিচ্ছে বলেও জানান শেখ রায়হান রাহবার। রাইজিংবিডি/ঢাকা/৬সেপ্টেম্বর ২০১৮/নঈমুদ্দীন/রফিক\n",
            "\n",
            "********** After ***************\n",
            "জেষ্ঠ প্রতিবেদক নির্বাচন কমিশনে ইসি নিবন্ধনের দাবি জানিয়েছে রাজনৈতিক দল ইনসানিয়াত বিপ্লব বাংলাদেশ শনিবার বিকেলে ঢাকা রিপোর্টার্স ইউনিটির সাগর রুনি মিলনায়তনে সংবাদ সম্মেলনে দাবি জানায় দলটি দলটির নেতারা অভিযোগ শর্ত পূরণ সত্বেও ইসি ছাড়াই নিবন্ধিত ইনসানিয়াত বিপ্লবের চেয়ারম্যান আল্লামা ইমাম হায়াত সংবাদ সম্মেলনে মূল লিখিত দলের মহাসচিব শেখ রায়হান রাহবার সময় আরো উপস্থিত ঢাকা বিশ্ববিদ্যালয়ের অধ্যাপক ড আতাউর রহমান মিয়াজী অধ্যাপক ড এহসানুল হাদী অ্যাডভোকেট আবু তৌহিদ ভূঁইয়া প্রিন্স প্রমুখ দলের চেয়ারম্যান আল্লামা ইমাম হায়াত দেশ মানবতার স্বার্থে ইনসানিয়াত বিপ্লবের নিবন্ধন দেওয়ার আবেদন জানান রাজনৈতিক দর্শনে ধ্যান ধারণা রুদ্ধ জীবনের গতিশীলতা মানবতার বিকাশ রুদ্ধ জনসমর্থন কর্মসূচি সত্বেও সক্রিয় রাজনৈতিক দলকে নিবন্ধন দিলে জনগণের সাংবিধানিক গণতান্ত্রিক অধিকার ক্ষুণ্ন নির্বচনের তফসিল ঘোষণার ইনসানিয়াত বিপ্লবের নিবন্ধনের আদেশ চেয়ে হাইকোর্টে রিট আবেদন সংবাদ সম্মেলনে দলের মহাসচিব শেখ রায়হান রাহবার ইনসানিয়াত বিপ্লব যেকোনো ধর্মীয় সাম্প্রদায়িকতা উগ্রবাদ জঙ্গিবাদের বিরোধী একইভাবে উগ্র জাতীয়তাবাদকে মানবতাবিরোধী আরো মুক্তিযুদ্ধকে মানবতার গৌরবময় সংগ্রাম মুক্তিযোদ্ধারা মানবতার লড়াই জীবন দিয়েছেন দলটি একাদশ জাতীয় সংসদ নির্বাচনে অংশ নেওয়ার প্রস্তুতি নিচ্ছে বলেও জানান শেখ রায়হান রাহবার রাইজিংবিডি ঢাকা ৬সেপ্টেম্বর ২০১৮ নঈমুদ্দীন রফিক\n"
          ]
        }
      ],
      "source": [
        "from bnlp import BasicTokenizer\n",
        "from bnlp.corpus import stopwords, punctuations, letters, digits\n",
        "\n",
        "btokenizer = BasicTokenizer()\n",
        "\n",
        "def clean_text(text):\n",
        "    tokens = btokenizer.tokenize(text)\n",
        "    filtered = []\n",
        "    for i in tokens:\n",
        "        if i in stopwords:\n",
        "            continue\n",
        "    \n",
        "        if i in punctuations + '‘' + '’':\n",
        "            continue\n",
        "    \n",
        "        filtered.append(i)\n",
        "    \n",
        "    return \" \".join(filtered)\n",
        "\n",
        "print(\"********** Before ***************\")\n",
        "text = df.iloc[1]['content']\n",
        "print(text)\n",
        "print(\"\\n********** After ***************\")\n",
        "print(clean_text(text))"
      ]
    },
    {
      "cell_type": "code",
      "execution_count": null,
      "metadata": {
        "id": "zN_cxPUWsjVj"
      },
      "outputs": [],
      "source": [
        "undersample = RandomUnderSampler(sampling_strategy='majority')"
      ]
    },
    {
      "cell_type": "code",
      "execution_count": null,
      "metadata": {
        "id": "owbSnB8dsjVj"
      },
      "outputs": [],
      "source": [
        "df['head'] = df.headline.apply(clean_text)\n",
        "df['con'] = df.content.apply(clean_text)"
      ]
    },
    {
      "cell_type": "code",
      "execution_count": null,
      "metadata": {
        "id": "XSGUf1YAsjVj"
      },
      "outputs": [],
      "source": [
        "x= df.drop('label', axis=1)\n",
        "y= df.label"
      ]
    },
    {
      "cell_type": "code",
      "execution_count": null,
      "metadata": {
        "id": "Lw1BWQmRsjVj"
      },
      "outputs": [],
      "source": [
        "X_train_resampled, y_train_resampled = undersample.fit_resample(x, y)"
      ]
    },
    {
      "cell_type": "code",
      "execution_count": null,
      "metadata": {
        "id": "IblQodxqsjVk"
      },
      "outputs": [],
      "source": [
        "df = X_train_resampled.join(y_train_resampled)"
      ]
    },
    {
      "cell_type": "code",
      "execution_count": null,
      "metadata": {
        "id": "cghoT2YBsjVk"
      },
      "outputs": [],
      "source": [
        "from sklearn.model_selection import train_test_split\n",
        "\n",
        "train_df, test_df = train_test_split(df, test_size=0.2, random_state=121, stratify=df['label'])"
      ]
    },
    {
      "cell_type": "code",
      "execution_count": null,
      "metadata": {
        "colab": {
          "base_uri": "https://localhost:8080/"
        },
        "id": "USo04B_csjVk",
        "outputId": "d75d4c2f-e590-489a-ccf7-e17694695cf6"
      },
      "outputs": [
        {
          "data": {
            "text/plain": [
              "(64, 16)"
            ]
          },
          "execution_count": 200,
          "metadata": {},
          "output_type": "execute_result"
        }
      ],
      "source": [
        "len(train_df), len(test_df)"
      ]
    },
    {
      "cell_type": "code",
      "execution_count": null,
      "metadata": {
        "id": "98_nIIl5sjVk"
      },
      "outputs": [],
      "source": [
        "training_data = NewsDatasets(train_df)\n",
        "train_dataloader = DataLoader(training_data, batch_size=1, shuffle=True)"
      ]
    },
    {
      "cell_type": "code",
      "execution_count": null,
      "metadata": {
        "id": "n6lXnG_rsjVk"
      },
      "outputs": [],
      "source": [
        "test_data = NewsDatasets(test_df)\n",
        "test_dataloader = DataLoader(test_data, batch_size=1, shuffle=True)"
      ]
    },
    {
      "cell_type": "code",
      "execution_count": null,
      "metadata": {
        "id": "ljf0UuI8sjVk"
      },
      "outputs": [],
      "source": [
        "class NewsBert2(nn.Module):\n",
        "\n",
        "    def __init__(self, bert):\n",
        "        super(NewsBert2, self).__init__()\n",
        "\n",
        "        self.bert = bert\n",
        "\n",
        "        # dropout layer\n",
        "        self.dropout = nn.Dropout(0.2)\n",
        "\n",
        "        # relu activation function\n",
        "        self.relu = nn.ReLU()\n",
        "\n",
        "        # dense layer 1\n",
        "        self.fc1 = nn.Linear(768, 128)\n",
        "\n",
        "        # dense layer 2 (Output layer)\n",
        "        self.fc2 = nn.Linear(128, 2)  \n",
        "\n",
        "    # define the forward pass\n",
        "    def forward(self, input_ids, token_type_ids, attention_mask):\n",
        "        # pass the inputs to the model\n",
        "        out = self.bert(input_ids, attention_mask=attention_mask, token_type_ids=token_type_ids)\n",
        "\n",
        "        x = self.fc1(out[1])\n",
        "        x = self.relu(x)\n",
        "        # output layer\n",
        "        x = self.fc2(self.dropout(x))\n",
        "        \n",
        "        return x"
      ]
    },
    {
      "cell_type": "code",
      "execution_count": null,
      "metadata": {
        "colab": {
          "base_uri": "https://localhost:8080/"
        },
        "id": "amKa_h9VsjVk",
        "outputId": "70b4f2a4-93ec-436b-8c90-c48329f55fd5"
      },
      "outputs": [
        {
          "name": "stderr",
          "output_type": "stream",
          "text": [
            "Some weights of the model checkpoint at sagorsarker/bangla-bert-base were not used when initializing BertModel: ['cls.predictions.bias', 'cls.seq_relationship.bias', 'cls.predictions.decoder.weight', 'cls.predictions.transform.dense.bias', 'cls.seq_relationship.weight', 'cls.predictions.transform.LayerNorm.weight', 'cls.predictions.transform.dense.weight', 'cls.predictions.transform.LayerNorm.bias']\n",
            "- This IS expected if you are initializing BertModel from the checkpoint of a model trained on another task or with another architecture (e.g. initializing a BertForSequenceClassification model from a BertForPreTraining model).\n",
            "- This IS NOT expected if you are initializing BertModel from the checkpoint of a model that you expect to be exactly identical (initializing a BertForSequenceClassification model from a BertForSequenceClassification model).\n"
          ]
        }
      ],
      "source": [
        "bert_model_name = \"sagorsarker/bangla-bert-base\"\n",
        "bert = BertModel.from_pretrained(bert_model_name)\n",
        "tokenizer = BertTokenizer.from_pretrained(bert_model_name)"
      ]
    },
    {
      "cell_type": "code",
      "execution_count": null,
      "metadata": {
        "id": "m9gogOt8sjVl"
      },
      "outputs": [],
      "source": [
        "device = torch.device(\"cuda\" if torch.cuda.is_available() else \"cpu\")\n",
        "model2 = NewsBert(bert)\n",
        "model2.to(device);"
      ]
    },
    {
      "cell_type": "code",
      "execution_count": null,
      "metadata": {
        "id": "iVnYN3DusjVl"
      },
      "outputs": [],
      "source": [
        "from torch.optim.lr_scheduler import StepLR\n",
        "\n",
        "optimizer = AdamW(model2.parameters(), lr=1e-5)\n",
        "criterion = nn.CrossEntropyLoss()\n",
        "scheduler = StepLR(optimizer, step_size=2, gamma=0.1)"
      ]
    },
    {
      "cell_type": "code",
      "execution_count": null,
      "metadata": {
        "id": "bQkV327qsjVl"
      },
      "outputs": [],
      "source": [
        "model2.fc1.weight.data =model.fc1.weight.data.clone()\n",
        "model2.fc1.bias.data =model.fc1.bias.data.clone()\n",
        "model2.fc2.weight.data =model.fc2.weight.data.clone()\n",
        "model2.fc2.bias.data =model.fc2.bias.data.clone()"
      ]
    },
    {
      "cell_type": "code",
      "execution_count": null,
      "metadata": {
        "colab": {
          "base_uri": "https://localhost:8080/"
        },
        "id": "fBwMLrEvsjVl",
        "outputId": "1296768f-ff61-4024-f2ea-fd2f92636739"
      },
      "outputs": [
        {
          "name": "stdout",
          "output_type": "stream",
          "text": [
            "tensor([[-0.0175,  0.0303,  0.0335,  ..., -0.0022,  0.0109,  0.0291],\n",
            "        [-0.0317,  0.0299, -0.0072,  ..., -0.0197,  0.0237,  0.0206],\n",
            "        [-0.0174, -0.0324,  0.0150,  ..., -0.0161, -0.0138, -0.0227],\n",
            "        ...,\n",
            "        [-0.0251,  0.0134, -0.0252,  ...,  0.0219, -0.0157, -0.0256],\n",
            "        [ 0.0099,  0.0349,  0.0075,  ...,  0.0271, -0.0321, -0.0015],\n",
            "        [-0.0209,  0.0238, -0.0154,  ...,  0.0213, -0.0039, -0.0176]])\n"
          ]
        }
      ],
      "source": [
        "print(model2.fc1.weight.data)"
      ]
    },
    {
      "cell_type": "code",
      "execution_count": null,
      "metadata": {
        "id": "3T8JngwusjVl"
      },
      "outputs": [],
      "source": [
        "def train(model, dataloader, optimizer, criterion, config):\n",
        "    model2.train()  # prep model for training\n",
        "    train_loss = 0\n",
        "    for batch in tqdm(dataloader):\n",
        "        text, labels = batch\n",
        "\n",
        "        model2.zero_grad()\n",
        "\n",
        "        inputs = tokenizer.batch_encode_plus(\n",
        "            text, **config\n",
        "        )\n",
        "        input_ids = inputs['input_ids'].to(device)\n",
        "        token_type_ids = inputs['token_type_ids'].to(device)\n",
        "        attention_mask = inputs['attention_mask'].to(device)\n",
        "        labels = labels.to(device)\n",
        "\n",
        "        # move things to model\n",
        "        logs = model2(token_type_ids=token_type_ids, input_ids=input_ids, attention_mask=attention_mask)\n",
        "\n",
        "        loss = criterion(logs, labels)\n",
        "        train_loss += loss.item() * input_ids.size(0)\n",
        "        loss.backward()\n",
        "\n",
        "        # clip the the gradients to 1.0. It helps in preventing the exploding gradient problem\n",
        "        nn.utils.clip_grad_norm_(model2.parameters(), 1.0)\n",
        "        optimizer.step()\n",
        "\n",
        "    return train_loss"
      ]
    },
    {
      "cell_type": "code",
      "execution_count": null,
      "metadata": {
        "id": "Pg_dfyWksjVl"
      },
      "outputs": [],
      "source": [
        "def evaluate(model, dataloader, criterion, config):\n",
        "    total = 0\n",
        "    correct = 0\n",
        "    valid_loss = 0.0\n",
        "\n",
        "    model2.eval()  # prep model for evaluation\n",
        "    for batch in dataloader:\n",
        "        text, labels = batch\n",
        "        inputs = tokenizer.batch_encode_plus(\n",
        "            text, **config\n",
        "        )\n",
        "        input_ids = inputs['input_ids'].to(device)\n",
        "        token_type_ids = inputs['token_type_ids'].to(device)\n",
        "        attention_mask = inputs['attention_mask'].to(device)\n",
        "        labels = labels.to(device)\n",
        "\n",
        "        # move things to model\n",
        "        output = model2(token_type_ids=token_type_ids, input_ids=input_ids, attention_mask=attention_mask)\n",
        "\n",
        "        loss_p = criterion(output, labels)\n",
        "        # update running validation loss\n",
        "        valid_loss += loss_p.item() * input_ids.size(0)\n",
        "        # calculate accuracy\n",
        "        proba = torch.exp(output)\n",
        "        top_p, top_class = proba.topk(1, dim=1)\n",
        "        equals = top_class == labels.view(*top_class.shape)\n",
        "        # accuracy += torch.mean(equals.type(torch.FloatTensor)).item()\n",
        "\n",
        "        _, predicted = torch.max(output.data, 1)\n",
        "        total += labels.size(0)\n",
        "        correct += (predicted == labels).sum().item()\n",
        "\n",
        "    return total, correct, valid_loss"
      ]
    },
    {
      "cell_type": "code",
      "execution_count": null,
      "metadata": {
        "id": "_pMz7ncUsjVl"
      },
      "outputs": [],
      "source": [
        "epochs = 5\n",
        "tokenizer_config = {\n",
        "    \"max_length\": 100,\n",
        "    \"padding\": \"max_length\",\n",
        "    \"return_tensors\": \"pt\",\n",
        "    \"truncation\": True,\n",
        "    \"add_special_tokens\": True\n",
        "}"
      ]
    },
    {
      "cell_type": "code",
      "execution_count": null,
      "metadata": {
        "colab": {
          "background_save": true,
          "base_uri": "https://localhost:8080/",
          "height": 133
        },
        "id": "2tKeTzMKsjVl",
        "outputId": "05f5c66a-6a40-4d0b-e502-82e10af5b985"
      },
      "outputs": [
        {
          "name": "stdout",
          "output_type": "stream",
          "text": [
            "Epoch: 1/5\n"
          ]
        },
        {
          "data": {
            "application/vnd.jupyter.widget-view+json": {
              "model_id": "d61d57b6e9a2431d865e1bb62cc117ec",
              "version_major": 2,
              "version_minor": 0
            },
            "text/plain": [
              "  0%|          | 0/64 [00:00<?, ?it/s]"
            ]
          },
          "metadata": {},
          "output_type": "display_data"
        },
        {
          "name": "stdout",
          "output_type": "stream",
          "text": [
            "\tTrain loss:0.772496.. \tValid Loss:0.692711.. \tAccuracy: 50.0000\n",
            "Epoch: 2/5\n"
          ]
        },
        {
          "data": {
            "application/vnd.jupyter.widget-view+json": {
              "model_id": "c938f5d324bd4aa5859728cf58b895cb",
              "version_major": 2,
              "version_minor": 0
            },
            "text/plain": [
              "  0%|          | 0/64 [00:00<?, ?it/s]"
            ]
          },
          "metadata": {},
          "output_type": "display_data"
        },
        {
          "name": "stdout",
          "output_type": "stream",
          "text": [
            "\tTrain loss:0.721971.. \tValid Loss:0.659312.. \tAccuracy: 75.0000\n",
            "Epoch: 3/5\n"
          ]
        },
        {
          "data": {
            "application/vnd.jupyter.widget-view+json": {
              "model_id": "07aa2954119d41e0ae3b826f4655f74f",
              "version_major": 2,
              "version_minor": 0
            },
            "text/plain": [
              "  0%|          | 0/64 [00:00<?, ?it/s]"
            ]
          },
          "metadata": {},
          "output_type": "display_data"
        },
        {
          "name": "stdout",
          "output_type": "stream",
          "text": [
            "\tTrain loss:0.447264.. \tValid Loss:0.654957.. \tAccuracy: 75.0000\n",
            "Epoch: 4/5\n"
          ]
        },
        {
          "data": {
            "application/vnd.jupyter.widget-view+json": {
              "model_id": "d592ba1923d9438a85fedbc64f8799b4",
              "version_major": 2,
              "version_minor": 0
            },
            "text/plain": [
              "  0%|          | 0/64 [00:00<?, ?it/s]"
            ]
          },
          "metadata": {},
          "output_type": "display_data"
        },
        {
          "name": "stdout",
          "output_type": "stream",
          "text": [
            "\tTrain loss:0.382859.. \tValid Loss:0.657928.. \tAccuracy: 75.0000\n",
            "Epoch: 5/5\n"
          ]
        },
        {
          "data": {
            "application/vnd.jupyter.widget-view+json": {
              "model_id": "061440a560ca475aaef2ae5c96c8bf13",
              "version_major": 2,
              "version_minor": 0
            },
            "text/plain": [
              "  0%|          | 0/64 [00:00<?, ?it/s]"
            ]
          },
          "metadata": {},
          "output_type": "display_data"
        },
        {
          "name": "stdout",
          "output_type": "stream",
          "text": [
            "\tTrain loss:0.367361.. \tValid Loss:0.659419.. \tAccuracy: 75.0000\n",
            "Training completed in 18m 20s\n"
          ]
        }
      ],
      "source": [
        "train_loss_data, valid_loss_data = [], []\n",
        "valid_loss_min = np.Inf\n",
        "since = time.time()\n",
        "best_loss = np.inf\n",
        "\n",
        "for epoch in range(epochs):\n",
        "    print(\"Epoch: {}/{}\".format(epoch + 1, epochs))\n",
        "    # monitor training loss\n",
        "    train_loss = 0.0\n",
        "    valid_loss = 0.0\n",
        "    total = 0\n",
        "    correct = 0\n",
        "    e_since = time.time()\n",
        "\n",
        "    # Train Model\n",
        "    train_loss += train(model2, train_dataloader, optimizer, criterion, tokenizer_config)\n",
        "    # Now Evaluate\n",
        "    out = evaluate(model2, test_dataloader, criterion, tokenizer_config)\n",
        "    total += out[0]\n",
        "    correct += out[1]\n",
        "    valid_loss += out[2]\n",
        "    \n",
        "    scheduler.step()\n",
        "\n",
        "    # print training/validation statistics\n",
        "    # calculate average loss over an epoch\n",
        "    train_loss = train_loss / len(train_dataloader.dataset)\n",
        "    valid_loss = valid_loss / len(test_dataloader.dataset)\n",
        "\n",
        "    # calculate train loss and running loss\n",
        "    train_loss_data.append(train_loss * 100)\n",
        "    valid_loss_data.append(valid_loss * 100)\n",
        "    \n",
        "    if valid_loss < best_loss:\n",
        "        best_loss = valid_loss\n",
        "        torch.save(model2.state_dict(), \"/content/drive/MyDrive/Colab Notebooks/Dataset/news_model2.pth\")\n",
        "\n",
        "    print(\"\\tTrain loss:{:.6f}..\".format(train_loss),\n",
        "          \"\\tValid Loss:{:.6f}..\".format(valid_loss),\n",
        "          \"\\tAccuracy: {:.4f}\".format(correct / total * 100))\n",
        "\n",
        "time_elapsed = time.time() - since\n",
        "print('Training completed in {:.0f}m {:.0f}s'.format(\n",
        "    time_elapsed // 60, time_elapsed % 60))"
      ]
    },
    {
      "cell_type": "code",
      "execution_count": null,
      "metadata": {
        "colab": {
          "background_save": true
        },
        "id": "sLTgQdC4sjVm",
        "outputId": "19bdbeec-2700-45cd-c3be-ab2ebe3643c3"
      },
      "outputs": [
        {
          "data": {
            "text/plain": [
              "75.0"
            ]
          },
          "execution_count": 213,
          "metadata": {},
          "output_type": "execute_result"
        }
      ],
      "source": [
        "training_acc6 = correct / total * 100\n",
        "training_acc6"
      ]
    },
    {
      "cell_type": "code",
      "execution_count": null,
      "metadata": {
        "colab": {
          "background_save": true
        },
        "id": "KAQuTYkLsjVm",
        "outputId": "f6e3da7d-2e83-41f3-c80c-0812d4c26025"
      },
      "outputs": [
        {
          "data": {
            "text/plain": [
              "<matplotlib.legend.Legend at 0x7f63efcbb8d0>"
            ]
          },
          "execution_count": 214,
          "metadata": {},
          "output_type": "execute_result"
        },
        {
          "data": {
            "image/png": "[encoded data removed]",
            "text/plain": [
              "<Figure size 432x288 with 1 Axes>"
            ]
          },
          "metadata": {},
          "output_type": "display_data"
        }
      ],
      "source": [
        "from matplotlib import pyplot as plt\n",
        "\n",
        "plt.plot(train_loss_data, label=\"Training loss\")\n",
        "plt.plot(valid_loss_data, label=\"validation loss\")\n",
        "plt.legend(frameon=False)"
      ]
    },
    {
      "cell_type": "code",
      "execution_count": null,
      "metadata": {
        "colab": {
          "background_save": true
        },
        "id": "A0A0orKAsjVm"
      },
      "outputs": [],
      "source": [
        "from google.colab import output\n",
        "output.enable_custom_widget_manager()"
      ]
    },
    {
      "cell_type": "code",
      "execution_count": null,
      "metadata": {
        "colab": {
          "background_save": true
        },
        "id": "pnMNW43isjVm"
      },
      "outputs": [],
      "source": [
        "from google.colab import output\n",
        "output.disable_custom_widget_manager()"
      ]
    },
    {
      "cell_type": "code",
      "execution_count": null,
      "metadata": {
        "colab": {
          "background_save": true
        },
        "id": "93khnSFtsjVm",
        "outputId": "81f50259-05c9-4891-d6b9-18568e55237c"
      },
      "outputs": [
        {
          "data": {
            "text/plain": [
              "<All keys matched successfully>"
            ]
          },
          "execution_count": 217,
          "metadata": {},
          "output_type": "execute_result"
        }
      ],
      "source": [
        "model2.load_state_dict(torch.load(\"/content/drive/MyDrive/Colab Notebooks/Dataset/news_model2.pth\", map_location = device))"
      ]
    },
    {
      "cell_type": "code",
      "execution_count": null,
      "metadata": {
        "colab": {
          "background_save": true
        },
        "id": "96srhXwwsjVm"
      },
      "outputs": [],
      "source": [
        "all_preds = []\n",
        "all_labels = []\n",
        "\n",
        "for batch in test_dataloader:\n",
        "    text, labels = batch\n",
        "    inputs = tokenizer.batch_encode_plus(\n",
        "        text, **tokenizer_config\n",
        "    )\n",
        "    input_ids = inputs['input_ids'].to(device)\n",
        "    token_type_ids = inputs['token_type_ids'].to(device)\n",
        "    attention_mask = inputs['attention_mask'].to(device)\n",
        "    labels = labels.to(device)\n",
        "\n",
        "    # move things to model\n",
        "    output = model2(token_type_ids=token_type_ids, input_ids=input_ids, attention_mask=attention_mask)\n",
        "    preds = output.detach().cpu().numpy()\n",
        "    preds = np.argmax(preds, axis = 1)\n",
        "    all_preds.extend(preds)\n",
        "    all_labels.extend(labels.cpu().numpy())"
      ]
    },
    {
      "cell_type": "code",
      "execution_count": null,
      "metadata": {
        "colab": {
          "background_save": true
        },
        "id": "7EdmgJl7sjVm",
        "outputId": "72fb7ce1-ac0e-423b-ca93-306366cdd980"
      },
      "outputs": [
        {
          "name": "stdout",
          "output_type": "stream",
          "text": [
            "              precision    recall  f1-score   support\n",
            "\n",
            "           0       1.00      0.50      0.67         8\n",
            "           1       0.67      1.00      0.80         8\n",
            "\n",
            "    accuracy                           0.75        16\n",
            "   macro avg       0.83      0.75      0.73        16\n",
            "weighted avg       0.83      0.75      0.73        16\n",
            "\n"
          ]
        }
      ],
      "source": [
        "from sklearn.metrics import classification_report\n",
        "\n",
        "# preds = np.argmax(preds, axis = 1)\n",
        "print(classification_report(all_labels, all_preds))"
      ]
    },
    {
      "cell_type": "code",
      "execution_count": null,
      "metadata": {
        "colab": {
          "background_save": true
        },
        "id": "LPKnugJMsjVn",
        "outputId": "e382e362-a4ce-4a57-90bc-9792b8c75fe4"
      },
      "outputs": [
        {
          "name": "stdout",
          "output_type": "stream",
          "text": [
            "tensor([[-0.0175,  0.0303,  0.0335,  ..., -0.0022,  0.0109,  0.0291],\n",
            "        [-0.0317,  0.0300, -0.0071,  ..., -0.0197,  0.0238,  0.0205],\n",
            "        [-0.0176, -0.0324,  0.0149,  ..., -0.0160, -0.0138, -0.0227],\n",
            "        ...,\n",
            "        [-0.0252,  0.0133, -0.0251,  ...,  0.0219, -0.0158, -0.0257],\n",
            "        [ 0.0100,  0.0350,  0.0075,  ...,  0.0270, -0.0319, -0.0017],\n",
            "        [-0.0210,  0.0238, -0.0153,  ...,  0.0214, -0.0040, -0.0176]])\n"
          ]
        }
      ],
      "source": [
        "print(model2.fc1.weight.data)"
      ]
    },
    {
      "cell_type": "code",
      "execution_count": null,
      "metadata": {
        "colab": {
          "background_save": true
        },
        "id": "mUL25tqVsjVn"
      },
      "outputs": [],
      "source": [
        "cf_matrix = confusion_matrix(all_labels, all_preds)  "
      ]
    },
    {
      "cell_type": "code",
      "execution_count": null,
      "metadata": {
        "colab": {
          "background_save": true
        },
        "id": "EkFwtqWssjVn",
        "outputId": "c974f51b-604c-4aa4-8d69-0f4e5a64c6cc"
      },
      "outputs": [
        {
          "data": {
            "image/png": "[encoded data removed]",
            "text/plain": [
              "<Figure size 432x288 with 2 Axes>"
            ]
          },
          "metadata": {},
          "output_type": "display_data"
        }
      ],
      "source": [
        "import seaborn as sns\n",
        "\n",
        "ax = sns.heatmap(cf_matrix, annot=True, cmap='Blues')\n",
        "\n",
        "ax.set_title('Seaborn Confusion Matrix with labels\\n\\n');\n",
        "ax.set_xlabel('\\nPredicted Values')\n",
        "ax.set_ylabel('Actual Values ');\n",
        "\n",
        "## Ticket labels - List must be in alphabetical order\n",
        "ax.xaxis.set_ticklabels(['False','True'])\n",
        "ax.yaxis.set_ticklabels(['False','True'])\n",
        "\n",
        "## Display the visualization of the Confusion Matrix.\n",
        "plt.show()"
      ]
    },
    {
      "cell_type": "code",
      "execution_count": null,
      "metadata": {
        "colab": {
          "background_save": true
        },
        "id": "6-HFwz11sjVn",
        "outputId": "06214cec-ffc1-4210-8da0-71655a44ff07"
      },
      "outputs": [
        {
          "name": "stdout",
          "output_type": "stream",
          "text": [
            "Accuracy: 0.750\n",
            "Precision: 0.833\n",
            "Recall: 0.750\n",
            "F-Measure: 0.733\n"
          ]
        }
      ],
      "source": [
        "from sklearn.metrics import precision_score,recall_score,f1_score,accuracy_score\n",
        "test_accuracy6 = accuracy_score(all_labels, all_preds)\n",
        "print('Accuracy: %.3f' % test_accuracy6)\n",
        "precision6 = precision_score(all_labels, all_preds, average='macro')\n",
        "print('Precision: %.3f' % precision6)\n",
        "recall6 = recall_score(all_labels, all_preds, average='macro')\n",
        "print('Recall: %.3f' % recall6)\n",
        "score6 = f1_score(all_labels, all_preds, average='macro')\n",
        "print('F-Measure: %.3f' % score6)"
      ]
    },
    {
      "cell_type": "markdown",
      "metadata": {
        "id": "jfOCSGoesjVn"
      },
      "source": [
        "# For Looping"
      ]
    },
    {
      "cell_type": "code",
      "execution_count": null,
      "metadata": {
        "colab": {
          "background_save": true
        },
        "id": "CuHAHWWLsjVn"
      },
      "outputs": [],
      "source": [
        "if precision6 >= precision and recall6 >= recall and score6 >= score :\n",
        "  torch.save(model2.state_dict(), \"/content/drive/MyDrive/Colab Notebooks/Dataset/news_model1.pth\")\n",
        "  precision = precision6\n",
        "  recall = recall6\n",
        "  score = score6\n",
        "  model.fc1.weight.data =model2.fc1.weight.data.clone()\n",
        "  model.fc1.bias.data =model2.fc1.bias.data.clone()\n",
        "  model.fc2.weight.data =model2.fc2.weight.data.clone()\n",
        "  model.fc2.bias.data =model2.fc2.bias.data.clone()"
      ]
    },
    {
      "cell_type": "code",
      "execution_count": null,
      "metadata": {
        "colab": {
          "background_save": true
        },
        "id": "Qq9c97OcsjVn"
      },
      "outputs": [],
      "source": []
    },
    {
      "cell_type": "markdown",
      "metadata": {
        "id": "X7-eXzRXsjx8"
      },
      "source": [
        "# 7th Model\n"
      ]
    },
    {
      "cell_type": "code",
      "execution_count": null,
      "metadata": {
        "colab": {
          "background_save": true
        },
        "id": "qbAzAF8Isjx8"
      },
      "outputs": [],
      "source": []
    },
    {
      "cell_type": "code",
      "execution_count": null,
      "metadata": {
        "colab": {
          "background_save": true
        },
        "id": "oC2K1Lassjx8"
      },
      "outputs": [],
      "source": [
        "class NewsDatasets(Dataset):\n",
        "    def __init__(self, data, max_length=100):\n",
        "        self.data = data\n",
        "        \n",
        "        self.config = {\n",
        "            \"max_length\": max_length,\n",
        "            \"padding\": \"max_length\",\n",
        "            \"return_tensors\": \"pt\",\n",
        "            \"truncation\": True,\n",
        "            \"add_special_tokens\": True\n",
        "        }\n",
        "\n",
        "    def __len__(self):\n",
        "        return len(self.data)\n",
        "\n",
        "    def __getitem__(self, idx):\n",
        "        value = self.data.iloc[idx]\n",
        "        return value['head']+\"[SEP]\"+value['con'] , value['label']"
      ]
    },
    {
      "cell_type": "code",
      "execution_count": null,
      "metadata": {
        "colab": {
          "background_save": true
        },
        "id": "4TuqmDF1sjx8",
        "outputId": "6bbcf3ea-5fbb-4df7-f3be-85201df03c2b"
      },
      "outputs": [
        {
          "name": "stdout",
          "output_type": "stream",
          "text": [
            "1497\n",
            "40\n"
          ]
        }
      ],
      "source": [
        "auth = pd.read_csv(\"/content/drive/MyDrive/Colab Notebooks/Dataset/For Sentiment/Division /40%/auth_set_7.csv\",encoding='UTF-8')\n",
        "fake = pd.read_csv(\"/content/drive/MyDrive/Colab Notebooks/Dataset/For Sentiment/Division /40%/fake_set_7.csv\",encoding='UTF-8')\n",
        "\n",
        "\n",
        "print(len(auth))\n",
        "print(len(fake))\n"
      ]
    },
    {
      "cell_type": "code",
      "execution_count": null,
      "metadata": {
        "colab": {
          "background_save": true
        },
        "id": "lECKRdBOsjx9",
        "outputId": "206cc95f-6769-495e-850f-327c88f003af"
      },
      "outputs": [
        {
          "data": {
            "text/plain": [
              "1537"
            ]
          },
          "execution_count": 227,
          "metadata": {},
          "output_type": "execute_result"
        }
      ],
      "source": [
        "\n",
        "#df = auth[:fake.shape[0]* 7]\n",
        "df = auth.append(fake)\n",
        "df = df.sample(frac=1).reset_index(drop=True)\n",
        "len(df)"
      ]
    },
    {
      "cell_type": "code",
      "execution_count": null,
      "metadata": {
        "colab": {
          "background_save": true
        },
        "id": "-V7PWxYrsjx9",
        "outputId": "aa308d1b-1c71-46d9-ebb3-410a735c316b"
      },
      "outputs": [
        {
          "name": "stdout",
          "output_type": "stream",
          "text": [
            "********** Before ***************\n",
            "আনোয়ারায় বিয়ের আসরে খাবার তালিকায় চিংড়ি না পেয়ে তুলকালাম কাণ্ড ঘটানো সেই ‘চিংড়ি বর’ কথা রাখেননি। গত ২৭ সেপ্টেম্বর (বৃহস্পতিবার) বিয়ের প্রীতিভোজে চিংড়ি না দেওয়ায় ভাঙচুর ও আকদ পড়া বউকে না নিয়ে পালিয়ে যায় বর মোহাম্মদ আলমগীর ও তার স্বজনরা। এরপর উদ্ভুত পরিস্থিতি সামাল দিতে গত সোমবার (১ অক্টোবর) সালিশি বৈঠক অনুষ্ঠিত হয়।  বৈঠক বরকে ৩ লাখ টাকা জরিমানা করে এবং সেই টাকা ৪ অক্টোবরের মধ্যে কনের ব্যাংক হিসাব নম্বরে ডিপোজিট করার সিদ্ধান্ত দেয়, যে সিদ্ধান্ত বর-কনের উভয়পক্ষ মেনে নেয়। সালিশী বৈঠকের সিদ্ধান্ত অনুযায়ী গত শুক্রবার নববধূকে ঘরে তুলে নেওয়ার কথা থাকলেও শনিবার পর্যন্ত বর পক্ষ কোনো সিদ্ধান্তই কার্যকর করেনি বলে কনে পক্ষ অভিযোগ তুলেছে। স্থানীয় সূত্রে জানা গেছে, বর পক্ষের কথা না রাখা ও নানামুখি সামাজিক চাপে মানসিক ভাবে ভেঙ্গে পড়েছেন কনের পিতা মোহাম্মদ হোসেন। বিষয়টি নিয়ে তিনি দুশ্চিন্তায় রয়েছেন বলে জানা গেছে। কনের পিতা মোহাম্মদ হোসেন বলেন, ‘এসব আর ভাল লাগছে না। তারা (বর পক্ষ) আমার মেয়ের জীবন নিয়ে তামাশা করছে। ছেলের বাবা জানিয়েছে সালিশি বৈঠকের সেই সব নিরাপত্তা ডিপোজিট তাদের দেওয়া সম্ভব নয়। এমনিতে মেয়ে তুলে দিলে তারা নেবে, না হয় নেবে না। এখন আমি কী করব বুঝে উঠতে পারেছি না। তারা কথা দিয়ে কথা রাখছে না। এখন মনে হচ্ছে বিয়েটা ভাঙ্গাভাঙ্গি হয়ে গেলেই আমার মেয়ের জন্য মঙ্গল হবে।’ এদিকে চিংড়ি মাছ নিয়ে বরের আচরণে বিয়ের আসর পণ্ড হওয়ার পর গত ১ অক্টোবর স্থানীয় বটতলী রুস্তমহাটে দু’পক্ষের অন্তত ৩০ জন আত্মীয় স্বজনের উপস্থিতিতে সালিশি বৈঠক হয়। বৈঠকে স্থানীয় বটতলী ইউপি চেয়ারম্যান ও উপজেলা আওয়ামী লীগ সভাপতি অধ্যাপক আবদুল মান্নান চৌধুরী এবং বরুমছড়া ইউপি চেয়ারম্যান শাহাদাত হোসেন চৌধুরী ছাড়াও  বরের পিতা আবদুল মোনাফ, চাচা শেয়ার আলী, কনের বাবা মোহাম্মদ হোসেন, নানা আহমদ শফি, আওয়ামী লীগ নেতা নুরুল ইসলাম, আলমগীর আজাদ, জসিম উদ্দিন, মোহাম্মদ বাবু, বিয়ের মধ্যস্থতাকারী নুরুল ইসলাম উপস্থিত ছিলেন। ইউপি চেয়ারম্যান শাহাদাত হোসেন চৌধুরী বলেন, ‘সালিশী সিদ্ধান্ত অনুযায়ী শুক্রবার বউ ঘরে তুলে নেওয়ার কথা ছিল। তারা সেই সিদ্ধান্ত না মেনে খুব অন্যায় করেছে। এ ব্যাপারে কঠোর ব্যবস্থা নেওয়া উচিত।’ অপর সালিশকার ও জুইদন্ডি ইউনিয়ন আওয়ামী লীগ সাধারণ সম্পাদক জসিম উদ্দিন বলেন, ‘সালিশি বৈঠকের সিদ্ধান্ত অমান্য করার সুযোগ নেই। তাদের অনুরোধ করেছি অন্তত লাখ দু’য়েক টাকা যোগাড় করে যেন মেয়ের বাবার কাছে যায়। প্রয়োজনে বাকী টাকা পরিশোধের জন্য সময় নিতে পারত। তা না করে তারা আরো একটি অপরাধ করল।’ এ ব্যাপারে বর পক্ষের সঙ্গে যোগাযোগের চেষ্টা করেও তাদের কোনো বক্তব্য পাওয়া যায়নি। প্রসঙ্গত, ২৭ সেপ্টেম্বর আনোয়ারা উপজেলার ১১নং জুইদন্ডী ইউনিয়নের ৮নং খুরসকুল গ্রামের হাজী বাড়ির আবদুল মোনাফের ছেলে মোহাম্মদ আলমগীর (৩০) সাথে একই ইউনিয়নের জুঁইদন্ডি গ্রামের মোহাম্মদ হোসেনের মেয়ের বিয়ে পরবর্তী অনুষ্ঠান ছিল। এর ১৮ দিন আগে ইসলামী শরিয়ত মতে তাদের আকদ সম্পন্ন হয়।  বটতলী আলভী ম্যারেজ গার্ডেনে প্রীতিভোজের অনুষ্ঠানে চিংড়ি মাছ না দেওয়ায় বিয়ের আসরে মারামারিতে জড়িয়ে পড়ে উভয় পক্ষের লোকজন। এক পর্যায়ে বর পক্ষ কনেকে না নিয়ে বিয়ের আসর ত্যাগ করে।  বিডি প্রতিদিন/৬ সেপ্টেম্বর ২০১৮/হিমেল\n",
            "\n",
            "********** After ***************\n",
            "আনোয়ারায় বিয়ের আসরে খাবার তালিকায় চিংড়ি পেয়ে তুলকালাম কাণ্ড ঘটানো চিংড়ি বর কথা রাখেননি গত ২৭ সেপ্টেম্বর বৃহস্পতিবার বিয়ের প্রীতিভোজে চিংড়ি দেওয়ায় ভাঙচুর আকদ পড়া বউকে পালিয়ে যায় বর মোহাম্মদ আলমগীর স্বজনরা এরপর উদ্ভুত পরিস্থিতি সামাল গত সোমবার ১ অক্টোবর সালিশি বৈঠক অনুষ্ঠিত বৈঠক বরকে ৩ লাখ টাকা জরিমানা টাকা ৪ অক্টোবরের কনের ব্যাংক হিসাব নম্বরে ডিপোজিট সিদ্ধান্ত দেয় সিদ্ধান্ত বর কনের উভয়পক্ষ মেনে নেয় সালিশী বৈঠকের সিদ্ধান্ত অনুযায়ী গত শুক্রবার নববধূকে ঘরে নেওয়ার কথা থাকলেও শনিবার বর পক্ষ সিদ্ধান্তই কার্যকর করেনি কনে পক্ষ অভিযোগ তুলেছে স্থানীয় সূত্রে বর পক্ষের কথা নানামুখি সামাজিক চাপে মানসিক ভেঙ্গে পড়েছেন কনের পিতা মোহাম্মদ হোসেন বিষয়টি দুশ্চিন্তায় রয়েছেন কনের পিতা মোহাম্মদ হোসেন এসব ভাল লাগছে বর পক্ষ মেয়ের জীবন তামাশা ছেলের বাবা জানিয়েছে সালিশি বৈঠকের নিরাপত্তা ডিপোজিট সম্ভব এমনিতে মেয়ে দিলে নেবে নেবে করব বুঝে উঠতে পারেছি কথা দিয়ে কথা রাখছে বিয়েটা ভাঙ্গাভাঙ্গি হয়ে গেলেই মেয়ের মঙ্গল এদিকে চিংড়ি মাছ বরের আচরণে বিয়ের আসর পণ্ড হওয়ার গত ১ অক্টোবর স্থানীয় বটতলী রুস্তমহাটে পক্ষের ৩০ আত্মীয় স্বজনের উপস্থিতিতে সালিশি বৈঠক বৈঠকে স্থানীয় বটতলী ইউপি চেয়ারম্যান উপজেলা আওয়ামী লীগ সভাপতি অধ্যাপক আবদুল মান্নান চৌধুরী বরুমছড়া ইউপি চেয়ারম্যান শাহাদাত হোসেন চৌধুরী ছাড়াও বরের পিতা আবদুল মোনাফ চাচা শেয়ার আলী কনের বাবা মোহাম্মদ হোসেন আহমদ শফি আওয়ামী লীগ নেতা নুরুল ইসলাম আলমগীর আজাদ জসিম উদ্দিন মোহাম্মদ বাবু বিয়ের মধ্যস্থতাকারী নুরুল ইসলাম উপস্থিত ইউপি চেয়ারম্যান শাহাদাত হোসেন চৌধুরী সালিশী সিদ্ধান্ত অনুযায়ী শুক্রবার বউ ঘরে নেওয়ার কথা সিদ্ধান্ত মেনে অন্যায় কঠোর ব্যবস্থা অপর সালিশকার জুইদন্ডি ইউনিয়ন আওয়ামী লীগ সম্পাদক জসিম উদ্দিন সালিশি বৈঠকের সিদ্ধান্ত অমান্য সুযোগ অনুরোধ করেছি লাখ য়েক টাকা যোগাড় মেয়ের বাবার যায় প্রয়োজনে বাকী টাকা পরিশোধের সময় পারত আরো অপরাধ করল বর পক্ষের যোগাযোগের করেও পাওয়া যায়নি প্রসঙ্গত ২৭ সেপ্টেম্বর আনোয়ারা উপজেলার ১১নং জুইদন্ডী ইউনিয়নের ৮নং খুরসকুল গ্রামের হাজী বাড়ির আবদুল মোনাফের ছেলে মোহাম্মদ আলমগীর ৩০ সাথে ইউনিয়নের জুঁইদন্ডি গ্রামের মোহাম্মদ হোসেনের মেয়ের বিয়ে পরবর্তী অনুষ্ঠান ১৮ ইসলামী শরিয়ত মতে আকদ সম্পন্ন বটতলী আলভী ম্যারেজ গার্ডেনে প্রীতিভোজের অনুষ্ঠানে চিংড়ি মাছ দেওয়ায় বিয়ের আসরে মারামারিতে জড়িয়ে পড়ে উভয় পক্ষের লোকজন এক পর্যায়ে বর পক্ষ কনেকে বিয়ের আসর ত্যাগ বিডি প্রতিদিন ৬ সেপ্টেম্বর ২০১৮ হিমেল\n"
          ]
        }
      ],
      "source": [
        "from bnlp import BasicTokenizer\n",
        "from bnlp.corpus import stopwords, punctuations, letters, digits\n",
        "\n",
        "btokenizer = BasicTokenizer()\n",
        "\n",
        "def clean_text(text):\n",
        "    tokens = btokenizer.tokenize(text)\n",
        "    filtered = []\n",
        "    for i in tokens:\n",
        "        if i in stopwords:\n",
        "            continue\n",
        "    \n",
        "        if i in punctuations + '‘' + '’':\n",
        "            continue\n",
        "    \n",
        "        filtered.append(i)\n",
        "    \n",
        "    return \" \".join(filtered)\n",
        "\n",
        "print(\"********** Before ***************\")\n",
        "text = df.iloc[1]['content']\n",
        "print(text)\n",
        "print(\"\\n********** After ***************\")\n",
        "print(clean_text(text))"
      ]
    },
    {
      "cell_type": "code",
      "execution_count": null,
      "metadata": {
        "colab": {
          "background_save": true
        },
        "id": "DkgXudDFsjx9"
      },
      "outputs": [],
      "source": [
        "undersample = RandomUnderSampler(sampling_strategy='majority')"
      ]
    },
    {
      "cell_type": "code",
      "execution_count": null,
      "metadata": {
        "colab": {
          "background_save": true
        },
        "id": "8S0d3np2sjx9"
      },
      "outputs": [],
      "source": [
        "df['head'] = df.headline.apply(clean_text)\n",
        "df['con'] = df.content.apply(clean_text)"
      ]
    },
    {
      "cell_type": "code",
      "execution_count": null,
      "metadata": {
        "colab": {
          "background_save": true
        },
        "id": "4ZhvZmbnsjx9"
      },
      "outputs": [],
      "source": [
        "x= df.drop('label', axis=1)\n",
        "y= df.label"
      ]
    },
    {
      "cell_type": "code",
      "execution_count": null,
      "metadata": {
        "colab": {
          "background_save": true
        },
        "id": "8akBEAkwsjx9"
      },
      "outputs": [],
      "source": [
        "X_train_resampled, y_train_resampled = undersample.fit_resample(x, y)"
      ]
    },
    {
      "cell_type": "code",
      "execution_count": null,
      "metadata": {
        "colab": {
          "background_save": true
        },
        "id": "w7GC2TMTsjx9"
      },
      "outputs": [],
      "source": [
        "df = X_train_resampled.join(y_train_resampled)"
      ]
    },
    {
      "cell_type": "code",
      "execution_count": null,
      "metadata": {
        "colab": {
          "background_save": true
        },
        "id": "7ZlRq-8Nsjx-"
      },
      "outputs": [],
      "source": [
        "from sklearn.model_selection import train_test_split\n",
        "\n",
        "train_df, test_df = train_test_split(df, test_size=0.2, random_state=121, stratify=df['label'])"
      ]
    },
    {
      "cell_type": "code",
      "execution_count": null,
      "metadata": {
        "colab": {
          "background_save": true
        },
        "id": "lHxkO7c7sjx-",
        "outputId": "ffdfbf17-0e40-4ae5-d1f7-6cd2de18ee2d"
      },
      "outputs": [
        {
          "data": {
            "text/plain": [
              "(64, 16)"
            ]
          },
          "execution_count": 235,
          "metadata": {},
          "output_type": "execute_result"
        }
      ],
      "source": [
        "len(train_df), len(test_df)"
      ]
    },
    {
      "cell_type": "code",
      "execution_count": null,
      "metadata": {
        "colab": {
          "background_save": true
        },
        "id": "576WJyR7sjx-"
      },
      "outputs": [],
      "source": [
        "training_data = NewsDatasets(train_df)\n",
        "train_dataloader = DataLoader(training_data, batch_size=1, shuffle=True)"
      ]
    },
    {
      "cell_type": "code",
      "execution_count": null,
      "metadata": {
        "colab": {
          "background_save": true
        },
        "id": "8XlfyfcLsjx-"
      },
      "outputs": [],
      "source": [
        "test_data = NewsDatasets(test_df)\n",
        "test_dataloader = DataLoader(test_data, batch_size=1, shuffle=True)"
      ]
    },
    {
      "cell_type": "code",
      "execution_count": null,
      "metadata": {
        "colab": {
          "background_save": true
        },
        "id": "U6p_C4N1sjx-"
      },
      "outputs": [],
      "source": [
        "class NewsBert2(nn.Module):\n",
        "\n",
        "    def __init__(self, bert):\n",
        "        super(NewsBert2, self).__init__()\n",
        "\n",
        "        self.bert = bert\n",
        "\n",
        "        # dropout layer\n",
        "        self.dropout = nn.Dropout(0.2)\n",
        "\n",
        "        # relu activation function\n",
        "        self.relu = nn.ReLU()\n",
        "\n",
        "        # dense layer 1\n",
        "        self.fc1 = nn.Linear(768, 128)\n",
        "\n",
        "        # dense layer 2 (Output layer)\n",
        "        self.fc2 = nn.Linear(128, 2)  \n",
        "\n",
        "    # define the forward pass\n",
        "    def forward(self, input_ids, token_type_ids, attention_mask):\n",
        "        # pass the inputs to the model\n",
        "        out = self.bert(input_ids, attention_mask=attention_mask, token_type_ids=token_type_ids)\n",
        "\n",
        "        x = self.fc1(out[1])\n",
        "        x = self.relu(x)\n",
        "        # output layer\n",
        "        x = self.fc2(self.dropout(x))\n",
        "        \n",
        "        return x"
      ]
    },
    {
      "cell_type": "code",
      "execution_count": null,
      "metadata": {
        "colab": {
          "background_save": true
        },
        "id": "JUg3wLVSsjx-",
        "outputId": "a3272631-afd0-45bb-b406-c4904cc97e31"
      },
      "outputs": [
        {
          "name": "stderr",
          "output_type": "stream",
          "text": [
            "Some weights of the model checkpoint at sagorsarker/bangla-bert-base were not used when initializing BertModel: ['cls.predictions.bias', 'cls.seq_relationship.bias', 'cls.predictions.decoder.weight', 'cls.predictions.transform.dense.bias', 'cls.seq_relationship.weight', 'cls.predictions.transform.LayerNorm.weight', 'cls.predictions.transform.dense.weight', 'cls.predictions.transform.LayerNorm.bias']\n",
            "- This IS expected if you are initializing BertModel from the checkpoint of a model trained on another task or with another architecture (e.g. initializing a BertForSequenceClassification model from a BertForPreTraining model).\n",
            "- This IS NOT expected if you are initializing BertModel from the checkpoint of a model that you expect to be exactly identical (initializing a BertForSequenceClassification model from a BertForSequenceClassification model).\n"
          ]
        }
      ],
      "source": [
        "bert_model_name = \"sagorsarker/bangla-bert-base\"\n",
        "bert = BertModel.from_pretrained(bert_model_name)\n",
        "tokenizer = BertTokenizer.from_pretrained(bert_model_name)"
      ]
    },
    {
      "cell_type": "code",
      "execution_count": null,
      "metadata": {
        "colab": {
          "background_save": true
        },
        "id": "1BCicIhwsjx-"
      },
      "outputs": [],
      "source": [
        "device = torch.device(\"cuda\" if torch.cuda.is_available() else \"cpu\")\n",
        "model2 = NewsBert(bert)\n",
        "model2.to(device);"
      ]
    },
    {
      "cell_type": "code",
      "execution_count": null,
      "metadata": {
        "colab": {
          "background_save": true
        },
        "id": "A6rs1z9hsjx-"
      },
      "outputs": [],
      "source": [
        "from torch.optim.lr_scheduler import StepLR\n",
        "\n",
        "optimizer = AdamW(model2.parameters(), lr=1e-5)\n",
        "criterion = nn.CrossEntropyLoss()\n",
        "scheduler = StepLR(optimizer, step_size=2, gamma=0.1)"
      ]
    },
    {
      "cell_type": "code",
      "execution_count": null,
      "metadata": {
        "colab": {
          "background_save": true
        },
        "id": "z_nb_J-9sjx_"
      },
      "outputs": [],
      "source": [
        "model2.fc1.weight.data =model.fc1.weight.data.clone()\n",
        "model2.fc1.bias.data =model.fc1.bias.data.clone()\n",
        "model2.fc2.weight.data =model.fc2.weight.data.clone()\n",
        "model2.fc2.bias.data =model.fc2.bias.data.clone()"
      ]
    },
    {
      "cell_type": "code",
      "execution_count": null,
      "metadata": {
        "colab": {
          "background_save": true
        },
        "id": "5hw2DHxksjx_",
        "outputId": "02f9b6e0-fb58-4bc1-a809-a67ce04a8959"
      },
      "outputs": [
        {
          "name": "stdout",
          "output_type": "stream",
          "text": [
            "tensor([[-0.0175,  0.0303,  0.0335,  ..., -0.0022,  0.0109,  0.0291],\n",
            "        [-0.0317,  0.0299, -0.0072,  ..., -0.0197,  0.0237,  0.0206],\n",
            "        [-0.0174, -0.0324,  0.0150,  ..., -0.0161, -0.0138, -0.0227],\n",
            "        ...,\n",
            "        [-0.0251,  0.0134, -0.0252,  ...,  0.0219, -0.0157, -0.0256],\n",
            "        [ 0.0099,  0.0349,  0.0075,  ...,  0.0271, -0.0321, -0.0015],\n",
            "        [-0.0209,  0.0238, -0.0154,  ...,  0.0213, -0.0039, -0.0176]])\n"
          ]
        }
      ],
      "source": [
        "print(model2.fc1.weight.data)"
      ]
    },
    {
      "cell_type": "code",
      "execution_count": null,
      "metadata": {
        "colab": {
          "background_save": true
        },
        "id": "5pY7G5nYsjx_"
      },
      "outputs": [],
      "source": [
        "def train(model, dataloader, optimizer, criterion, config):\n",
        "    model2.train()  # prep model for training\n",
        "    train_loss = 0\n",
        "    for batch in tqdm(dataloader):\n",
        "        text, labels = batch\n",
        "\n",
        "        model2.zero_grad()\n",
        "\n",
        "        inputs = tokenizer.batch_encode_plus(\n",
        "            text, **config\n",
        "        )\n",
        "        input_ids = inputs['input_ids'].to(device)\n",
        "        token_type_ids = inputs['token_type_ids'].to(device)\n",
        "        attention_mask = inputs['attention_mask'].to(device)\n",
        "        labels = labels.to(device)\n",
        "\n",
        "        # move things to model\n",
        "        logs = model2(token_type_ids=token_type_ids, input_ids=input_ids, attention_mask=attention_mask)\n",
        "\n",
        "        loss = criterion(logs, labels)\n",
        "        train_loss += loss.item() * input_ids.size(0)\n",
        "        loss.backward()\n",
        "\n",
        "        # clip the the gradients to 1.0. It helps in preventing the exploding gradient problem\n",
        "        nn.utils.clip_grad_norm_(model2.parameters(), 1.0)\n",
        "        optimizer.step()\n",
        "\n",
        "    return train_loss"
      ]
    },
    {
      "cell_type": "code",
      "execution_count": null,
      "metadata": {
        "colab": {
          "background_save": true
        },
        "id": "bppTDBxnsjx_"
      },
      "outputs": [],
      "source": [
        "def evaluate(model, dataloader, criterion, config):\n",
        "    total = 0\n",
        "    correct = 0\n",
        "    valid_loss = 0.0\n",
        "\n",
        "    model2.eval()  # prep model for evaluation\n",
        "    for batch in dataloader:\n",
        "        text, labels = batch\n",
        "        inputs = tokenizer.batch_encode_plus(\n",
        "            text, **config\n",
        "        )\n",
        "        input_ids = inputs['input_ids'].to(device)\n",
        "        token_type_ids = inputs['token_type_ids'].to(device)\n",
        "        attention_mask = inputs['attention_mask'].to(device)\n",
        "        labels = labels.to(device)\n",
        "\n",
        "        # move things to model\n",
        "        output = model2(token_type_ids=token_type_ids, input_ids=input_ids, attention_mask=attention_mask)\n",
        "\n",
        "        loss_p = criterion(output, labels)\n",
        "        # update running validation loss\n",
        "        valid_loss += loss_p.item() * input_ids.size(0)\n",
        "        # calculate accuracy\n",
        "        proba = torch.exp(output)\n",
        "        top_p, top_class = proba.topk(1, dim=1)\n",
        "        equals = top_class == labels.view(*top_class.shape)\n",
        "        # accuracy += torch.mean(equals.type(torch.FloatTensor)).item()\n",
        "\n",
        "        _, predicted = torch.max(output.data, 1)\n",
        "        total += labels.size(0)\n",
        "        correct += (predicted == labels).sum().item()\n",
        "\n",
        "    return total, correct, valid_loss"
      ]
    },
    {
      "cell_type": "code",
      "execution_count": null,
      "metadata": {
        "colab": {
          "background_save": true
        },
        "id": "ZsOgbsj0sjx_"
      },
      "outputs": [],
      "source": [
        "epochs = 5\n",
        "tokenizer_config = {\n",
        "    \"max_length\": 100,\n",
        "    \"padding\": \"max_length\",\n",
        "    \"return_tensors\": \"pt\",\n",
        "    \"truncation\": True,\n",
        "    \"add_special_tokens\": True\n",
        "}"
      ]
    },
    {
      "cell_type": "code",
      "execution_count": null,
      "metadata": {
        "colab": {
          "background_save": true
        },
        "id": "1uG0pcO6sjx_",
        "outputId": "3e1e3fa6-8580-40f1-ce6f-9b797298a09b"
      },
      "outputs": [
        {
          "name": "stdout",
          "output_type": "stream",
          "text": [
            "Epoch: 1/5\n"
          ]
        },
        {
          "data": {
            "application/vnd.jupyter.widget-view+json": {
              "model_id": "33625e6cdeac4ec3b26e41b7d56bab67",
              "version_major": 2,
              "version_minor": 0
            },
            "text/plain": [
              "  0%|          | 0/64 [00:00<?, ?it/s]"
            ]
          },
          "metadata": {},
          "output_type": "display_data"
        },
        {
          "name": "stdout",
          "output_type": "stream",
          "text": [
            "\tTrain loss:0.731280.. \tValid Loss:0.628114.. \tAccuracy: 68.7500\n",
            "Epoch: 2/5\n"
          ]
        },
        {
          "data": {
            "application/vnd.jupyter.widget-view+json": {
              "model_id": "1e3c64c000cd4f72beb0178a2714d6e2",
              "version_major": 2,
              "version_minor": 0
            },
            "text/plain": [
              "  0%|          | 0/64 [00:00<?, ?it/s]"
            ]
          },
          "metadata": {},
          "output_type": "display_data"
        },
        {
          "name": "stdout",
          "output_type": "stream",
          "text": [
            "\tTrain loss:0.479328.. \tValid Loss:0.627031.. \tAccuracy: 62.5000\n",
            "Epoch: 3/5\n"
          ]
        },
        {
          "data": {
            "application/vnd.jupyter.widget-view+json": {
              "model_id": "64cb7bc1f5384ca584a886fdd9976f7b",
              "version_major": 2,
              "version_minor": 0
            },
            "text/plain": [
              "  0%|          | 0/64 [00:00<?, ?it/s]"
            ]
          },
          "metadata": {},
          "output_type": "display_data"
        },
        {
          "name": "stdout",
          "output_type": "stream",
          "text": [
            "\tTrain loss:0.237605.. \tValid Loss:0.646541.. \tAccuracy: 62.5000\n",
            "Epoch: 4/5\n"
          ]
        },
        {
          "data": {
            "application/vnd.jupyter.widget-view+json": {
              "model_id": "5a7402ac31744681a28ad6b05ba45bfb",
              "version_major": 2,
              "version_minor": 0
            },
            "text/plain": [
              "  0%|          | 0/64 [00:00<?, ?it/s]"
            ]
          },
          "metadata": {},
          "output_type": "display_data"
        },
        {
          "name": "stdout",
          "output_type": "stream",
          "text": [
            "\tTrain loss:0.202019.. \tValid Loss:0.656333.. \tAccuracy: 62.5000\n",
            "Epoch: 5/5\n"
          ]
        },
        {
          "data": {
            "application/vnd.jupyter.widget-view+json": {
              "model_id": "f63ec57833ae47a2ac506da1be8b3ed2",
              "version_major": 2,
              "version_minor": 0
            },
            "text/plain": [
              "  0%|          | 0/64 [00:00<?, ?it/s]"
            ]
          },
          "metadata": {},
          "output_type": "display_data"
        },
        {
          "name": "stdout",
          "output_type": "stream",
          "text": [
            "\tTrain loss:0.189751.. \tValid Loss:0.658668.. \tAccuracy: 62.5000\n",
            "Training completed in 21m 53s\n"
          ]
        }
      ],
      "source": [
        "train_loss_data, valid_loss_data = [], []\n",
        "valid_loss_min = np.Inf\n",
        "since = time.time()\n",
        "best_loss = np.inf\n",
        "\n",
        "for epoch in range(epochs):\n",
        "    print(\"Epoch: {}/{}\".format(epoch + 1, epochs))\n",
        "    # monitor training loss\n",
        "    train_loss = 0.0\n",
        "    valid_loss = 0.0\n",
        "    total = 0\n",
        "    correct = 0\n",
        "    e_since = time.time()\n",
        "\n",
        "    # Train Model\n",
        "    train_loss += train(model2, train_dataloader, optimizer, criterion, tokenizer_config)\n",
        "    # Now Evaluate\n",
        "    out = evaluate(model2, test_dataloader, criterion, tokenizer_config)\n",
        "    total += out[0]\n",
        "    correct += out[1]\n",
        "    valid_loss += out[2]\n",
        "    \n",
        "    scheduler.step()\n",
        "\n",
        "    # print training/validation statistics\n",
        "    # calculate average loss over an epoch\n",
        "    train_loss = train_loss / len(train_dataloader.dataset)\n",
        "    valid_loss = valid_loss / len(test_dataloader.dataset)\n",
        "\n",
        "    # calculate train loss and running loss\n",
        "    train_loss_data.append(train_loss * 100)\n",
        "    valid_loss_data.append(valid_loss * 100)\n",
        "    \n",
        "    if valid_loss < best_loss:\n",
        "        best_loss = valid_loss\n",
        "        torch.save(model2.state_dict(), \"/content/drive/MyDrive/Colab Notebooks/Dataset/news_model2.pth\")\n",
        "\n",
        "    print(\"\\tTrain loss:{:.6f}..\".format(train_loss),\n",
        "          \"\\tValid Loss:{:.6f}..\".format(valid_loss),\n",
        "          \"\\tAccuracy: {:.4f}\".format(correct / total * 100))\n",
        "\n",
        "time_elapsed = time.time() - since\n",
        "print('Training completed in {:.0f}m {:.0f}s'.format(\n",
        "    time_elapsed // 60, time_elapsed % 60))"
      ]
    },
    {
      "cell_type": "code",
      "execution_count": null,
      "metadata": {
        "colab": {
          "background_save": true
        },
        "id": "SHUdA_1LsjyA",
        "outputId": "bd4e60ef-7449-4eb1-8d91-137cca211145"
      },
      "outputs": [
        {
          "data": {
            "text/plain": [
              "62.5"
            ]
          },
          "execution_count": 248,
          "metadata": {},
          "output_type": "execute_result"
        }
      ],
      "source": [
        "training_acc7 = correct / total * 100\n",
        "training_acc7"
      ]
    },
    {
      "cell_type": "code",
      "execution_count": null,
      "metadata": {
        "colab": {
          "background_save": true
        },
        "id": "rAA4lgfCsjyA",
        "outputId": "7d28c30b-e1a0-4495-c8ca-6a66936459ef"
      },
      "outputs": [
        {
          "data": {
            "text/plain": [
              "<matplotlib.legend.Legend at 0x7f63ed2c0810>"
            ]
          },
          "execution_count": 249,
          "metadata": {},
          "output_type": "execute_result"
        },
        {
          "data": {
            "image/png": "[encoded data removed]",
            "text/plain": [
              "<Figure size 432x288 with 1 Axes>"
            ]
          },
          "metadata": {},
          "output_type": "display_data"
        }
      ],
      "source": [
        "from matplotlib import pyplot as plt\n",
        "\n",
        "plt.plot(train_loss_data, label=\"Training loss\")\n",
        "plt.plot(valid_loss_data, label=\"validation loss\")\n",
        "plt.legend(frameon=False)"
      ]
    },
    {
      "cell_type": "code",
      "execution_count": null,
      "metadata": {
        "colab": {
          "background_save": true
        },
        "id": "f7Q9xSwfsjyA"
      },
      "outputs": [],
      "source": [
        "from google.colab import output\n",
        "output.enable_custom_widget_manager()"
      ]
    },
    {
      "cell_type": "code",
      "execution_count": null,
      "metadata": {
        "colab": {
          "background_save": true
        },
        "id": "1iQFUaQHsjyA"
      },
      "outputs": [],
      "source": [
        "from google.colab import output\n",
        "output.disable_custom_widget_manager()"
      ]
    },
    {
      "cell_type": "code",
      "execution_count": null,
      "metadata": {
        "colab": {
          "background_save": true
        },
        "id": "9CFzppqwsjyA",
        "outputId": "78012023-6ca3-479f-85b9-907e5eea370c"
      },
      "outputs": [
        {
          "data": {
            "text/plain": [
              "<All keys matched successfully>"
            ]
          },
          "execution_count": 252,
          "metadata": {},
          "output_type": "execute_result"
        }
      ],
      "source": [
        "model2.load_state_dict(torch.load(\"/content/drive/MyDrive/Colab Notebooks/Dataset/news_model2.pth\", map_location = device))"
      ]
    },
    {
      "cell_type": "code",
      "execution_count": null,
      "metadata": {
        "colab": {
          "background_save": true
        },
        "id": "XCY0e50BsjyA"
      },
      "outputs": [],
      "source": [
        "all_preds = []\n",
        "all_labels = []\n",
        "\n",
        "for batch in test_dataloader:\n",
        "    text, labels = batch\n",
        "    inputs = tokenizer.batch_encode_plus(\n",
        "        text, **tokenizer_config\n",
        "    )\n",
        "    input_ids = inputs['input_ids'].to(device)\n",
        "    token_type_ids = inputs['token_type_ids'].to(device)\n",
        "    attention_mask = inputs['attention_mask'].to(device)\n",
        "    labels = labels.to(device)\n",
        "\n",
        "    # move things to model\n",
        "    output = model2(token_type_ids=token_type_ids, input_ids=input_ids, attention_mask=attention_mask)\n",
        "    preds = output.detach().cpu().numpy()\n",
        "    preds = np.argmax(preds, axis = 1)\n",
        "    all_preds.extend(preds)\n",
        "    all_labels.extend(labels.cpu().numpy())"
      ]
    },
    {
      "cell_type": "code",
      "execution_count": null,
      "metadata": {
        "colab": {
          "background_save": true
        },
        "id": "AGlpJmPWsjyA",
        "outputId": "3ced5133-6781-4e07-867a-6e39c3c22a11"
      },
      "outputs": [
        {
          "name": "stdout",
          "output_type": "stream",
          "text": [
            "              precision    recall  f1-score   support\n",
            "\n",
            "           0       0.67      0.50      0.57         8\n",
            "           1       0.60      0.75      0.67         8\n",
            "\n",
            "    accuracy                           0.62        16\n",
            "   macro avg       0.63      0.62      0.62        16\n",
            "weighted avg       0.63      0.62      0.62        16\n",
            "\n"
          ]
        }
      ],
      "source": [
        "from sklearn.metrics import classification_report\n",
        "\n",
        "# preds = np.argmax(preds, axis = 1)\n",
        "print(classification_report(all_labels, all_preds))"
      ]
    },
    {
      "cell_type": "code",
      "execution_count": null,
      "metadata": {
        "colab": {
          "background_save": true
        },
        "id": "MbqHwJzisjyB",
        "outputId": "6afbfed4-87f4-4243-cf62-2d43307ad234"
      },
      "outputs": [
        {
          "name": "stdout",
          "output_type": "stream",
          "text": [
            "tensor([[-0.0175,  0.0303,  0.0335,  ..., -0.0022,  0.0109,  0.0291],\n",
            "        [-0.0317,  0.0298, -0.0073,  ..., -0.0197,  0.0237,  0.0205],\n",
            "        [-0.0171, -0.0321,  0.0153,  ..., -0.0162, -0.0136, -0.0229],\n",
            "        ...,\n",
            "        [-0.0248,  0.0137, -0.0249,  ...,  0.0218, -0.0156, -0.0258],\n",
            "        [ 0.0102,  0.0349,  0.0078,  ...,  0.0270, -0.0321, -0.0017],\n",
            "        [-0.0207,  0.0240, -0.0152,  ...,  0.0213, -0.0038, -0.0177]])\n"
          ]
        }
      ],
      "source": [
        "print(model2.fc1.weight.data)"
      ]
    },
    {
      "cell_type": "code",
      "execution_count": null,
      "metadata": {
        "colab": {
          "background_save": true
        },
        "id": "mitbzQUnsjyB"
      },
      "outputs": [],
      "source": [
        "cf_matrix = confusion_matrix(all_labels, all_preds)  "
      ]
    },
    {
      "cell_type": "code",
      "execution_count": null,
      "metadata": {
        "colab": {
          "background_save": true
        },
        "id": "gFQZOKr3sjyB",
        "outputId": "94b499de-4ea9-4fc1-8724-828eb46bea3f"
      },
      "outputs": [
        {
          "data": {
            "image/png": "[encoded data removed]",
            "text/plain": [
              "<Figure size 432x288 with 2 Axes>"
            ]
          },
          "metadata": {},
          "output_type": "display_data"
        }
      ],
      "source": [
        "import seaborn as sns\n",
        "\n",
        "ax = sns.heatmap(cf_matrix, annot=True, cmap='Blues')\n",
        "\n",
        "ax.set_title('Seaborn Confusion Matrix with labels\\n\\n');\n",
        "ax.set_xlabel('\\nPredicted Values')\n",
        "ax.set_ylabel('Actual Values ');\n",
        "\n",
        "## Ticket labels - List must be in alphabetical order\n",
        "ax.xaxis.set_ticklabels(['False','True'])\n",
        "ax.yaxis.set_ticklabels(['False','True'])\n",
        "\n",
        "## Display the visualization of the Confusion Matrix.\n",
        "plt.show()"
      ]
    },
    {
      "cell_type": "code",
      "execution_count": null,
      "metadata": {
        "colab": {
          "background_save": true
        },
        "id": "T_YD2oKUsjyB",
        "outputId": "d2293a1c-84ff-4b1c-9a6f-6fff3c94ce5b"
      },
      "outputs": [
        {
          "name": "stdout",
          "output_type": "stream",
          "text": [
            "Accuracy: 0.625\n",
            "Precision: 0.633\n",
            "Recall: 0.625\n",
            "F-Measure: 0.619\n"
          ]
        }
      ],
      "source": [
        "from sklearn.metrics import precision_score,recall_score,f1_score,accuracy_score\n",
        "test_accuracy7 = accuracy_score(all_labels, all_preds)\n",
        "print('Accuracy: %.3f' % test_accuracy7)\n",
        "precision7 = precision_score(all_labels, all_preds, average='macro')\n",
        "print('Precision: %.3f' % precision7)\n",
        "recall7 = recall_score(all_labels, all_preds, average='macro')\n",
        "print('Recall: %.3f' % recall7)\n",
        "score7 = f1_score(all_labels, all_preds, average='macro')\n",
        "print('F-Measure: %.3f' % score7)"
      ]
    },
    {
      "cell_type": "markdown",
      "metadata": {
        "id": "SfZMiRCjsjyB"
      },
      "source": [
        "# For Looping"
      ]
    },
    {
      "cell_type": "code",
      "execution_count": null,
      "metadata": {
        "colab": {
          "background_save": true
        },
        "id": "WoigcvOmsjyB"
      },
      "outputs": [],
      "source": [
        "if precision7 >= precision and recall7 >= recall and score7 >= score :\n",
        "  torch.save(model2.state_dict(), \"/content/drive/MyDrive/Colab Notebooks/Dataset/news_model1.pth\")\n",
        "  precision = precision7\n",
        "  recall = recall7\n",
        "  score = score7\n",
        "  model.fc1.weight.data =model2.fc1.weight.data.clone()\n",
        "  model.fc1.bias.data =model2.fc1.bias.data.clone()\n",
        "  model.fc2.weight.data =model2.fc2.weight.data.clone()\n",
        "  model.fc2.bias.data =model2.fc2.bias.data.clone()"
      ]
    },
    {
      "cell_type": "code",
      "execution_count": null,
      "metadata": {
        "colab": {
          "background_save": true
        },
        "id": "_4gzmI6XsjyB"
      },
      "outputs": [],
      "source": []
    },
    {
      "cell_type": "markdown",
      "metadata": {
        "id": "svASbHtIskE1"
      },
      "source": [
        "# 8th Model\n"
      ]
    },
    {
      "cell_type": "code",
      "execution_count": null,
      "metadata": {
        "colab": {
          "background_save": true
        },
        "id": "oxRL3xWdskE1"
      },
      "outputs": [],
      "source": []
    },
    {
      "cell_type": "code",
      "execution_count": null,
      "metadata": {
        "colab": {
          "background_save": true
        },
        "id": "yPVy12n9skE1"
      },
      "outputs": [],
      "source": [
        "class NewsDatasets(Dataset):\n",
        "    def __init__(self, data, max_length=100):\n",
        "        self.data = data\n",
        "        \n",
        "        self.config = {\n",
        "            \"max_length\": max_length,\n",
        "            \"padding\": \"max_length\",\n",
        "            \"return_tensors\": \"pt\",\n",
        "            \"truncation\": True,\n",
        "            \"add_special_tokens\": True\n",
        "        }\n",
        "\n",
        "    def __len__(self):\n",
        "        return len(self.data)\n",
        "\n",
        "    def __getitem__(self, idx):\n",
        "        value = self.data.iloc[idx]\n",
        "        return value['head']+\"[SEP]\"+value['con'] , value['label']"
      ]
    },
    {
      "cell_type": "code",
      "execution_count": null,
      "metadata": {
        "colab": {
          "background_save": true
        },
        "id": "UCTVSmSPskE2",
        "outputId": "75fbb9a5-961b-4bde-dfe0-22437eafc50a"
      },
      "outputs": [
        {
          "name": "stdout",
          "output_type": "stream",
          "text": [
            "1497\n",
            "40\n"
          ]
        }
      ],
      "source": [
        "auth = pd.read_csv(\"/content/drive/MyDrive/Colab Notebooks/Dataset/For Sentiment/Division /40%/auth_set_8.csv\",encoding='UTF-8')\n",
        "fake = pd.read_csv(\"/content/drive/MyDrive/Colab Notebooks/Dataset/For Sentiment/Division /40%/fake_set_8.csv\",encoding='UTF-8')\n",
        "\n",
        "\n",
        "print(len(auth))\n",
        "print(len(fake))\n"
      ]
    },
    {
      "cell_type": "code",
      "execution_count": null,
      "metadata": {
        "colab": {
          "background_save": true
        },
        "id": "WuU2IZCQskE2",
        "outputId": "f5a0602a-568e-4f57-b0f6-ed71cce0c73d"
      },
      "outputs": [
        {
          "data": {
            "text/plain": [
              "1537"
            ]
          },
          "execution_count": 262,
          "metadata": {},
          "output_type": "execute_result"
        }
      ],
      "source": [
        "\n",
        "#df = auth[:fake.shape[0]* 7]\n",
        "df = auth.append(fake)\n",
        "df = df.sample(frac=1).reset_index(drop=True)\n",
        "len(df)"
      ]
    },
    {
      "cell_type": "code",
      "execution_count": null,
      "metadata": {
        "colab": {
          "background_save": true
        },
        "id": "p8k_62vRskE2",
        "outputId": "cd70de03-303d-4949-d98f-914c955cb57a"
      },
      "outputs": [
        {
          "name": "stdout",
          "output_type": "stream",
          "text": [
            "********** Before ***************\n",
            "নিজস্ব প্রতিবেদক, গাজীপুর : গাজীপুরের গজারি বন থেকে ১২ হাজার লিটার চোলাই মদসহ দুই ব্যক্তিকে গ্রেপ্তার করেছে র‌্যাব-১-এর সদস্যরা। রোববার দুপুরে গাজীপুর সিটি করর্পোরেশনের কুমারখাদা এলাকায় অভিযান পরিচালিত হয়। পরে গ্রেপ্তারকৃতদের ভ্রাম্যমাণ আদালতে হাজির করলে আদালতের বিচারক তাদের কারাদণ্ড দেন। দণ্ডপ্রাপ্তরা হলেন- কুমারখাদা এলাকার মৃত অমূল্য চন্দ্র বর্মনের ছেলে অনন্ত বর্মন (২৫) এবং তার সহযোগী একই এলাকার মো. বারেক হোসেনের ছেলে কামাল হোসেন (২৪)। র‌্যাব জানায়, কুমারখাদা গজারি বনের ভিতরে চোলাই মদ উৎপাদনসহ ক্রয়-বিক্রয় হচ্ছে-এমন গোপন সংবাদের ভিত্তিতে দুপুর আড়াইটার দিকে র‌্যাব-১ এর গাজীপুরের পোড়াবাড়ী ক্যাম্পের কোম্পানি কমান্ডার আব্দুল্লাহ আল মামুন ও নির্বাহী ম্যাজিস্ট্রেট রুবাইয়া ইয়াসমিনের নেতৃত্বে অভিযান পরিচালনা করা হয়। এ সময় ১২ হাজার লিটার চোলাই মদ এবং মদ তৈরির উপকরণসহ দুই ব্যক্তিকে হাতেনাতে গ্রেপ্তার করা হয়। পরে ভ্রাম্যমাণ আদালতের বিচারক গ্রেপ্তার অনন্ত বর্মনকে ছয় মাসের বিনাশ্রম কারাদণ্ড এবং কামাল হোসেনকে তিন মাসের বিনাশ্রম কারাদণ্ড দেন। নির্বাহী ম্যাজিস্ট্রেটের উপস্থিতিতে চোলাই মদ তৈরির কারখানা এবং মদ তৈরির উপকরণ সামগ্রী ভেঙে আগুনে পুড়িয়ে ধ্বংস করে দেওয়া হয়েছে। রাইজিংবিডি/গাজীপুর/৭ অক্টোবর ২০১৮/হাসমত আলী/বকুল\n",
            "\n",
            "********** After ***************\n",
            "নিজস্ব প্রতিবেদক গাজীপুর গাজীপুরের গজারি ১২ লিটার চোলাই মদসহ ব্যক্তিকে গ্রেপ্তার র‌্যাব ১ সদস্যরা রোববার দুপুরে গাজীপুর সিটি করর্পোরেশনের কুমারখাদা এলাকায় অভিযান পরিচালিত গ্রেপ্তারকৃতদের ভ্রাম্যমাণ আদালতে হাজির আদালতের বিচারক কারাদণ্ড দণ্ডপ্রাপ্তরা হলেন কুমারখাদা এলাকার মৃত অমূল্য চন্দ্র বর্মনের ছেলে অনন্ত বর্মন ২৫ সহযোগী এলাকার মো বারেক হোসেনের ছেলে কামাল হোসেন ২৪ র‌্যাব জানায় কুমারখাদা গজারি বনের ভিতরে চোলাই মদ উৎপাদনসহ ক্রয় বিক্রয় গোপন সংবাদের ভিত্তিতে দুপুর আড়াইটার র‌্যাব ১ গাজীপুরের পোড়াবাড়ী ক্যাম্পের কোম্পানি কমান্ডার আব্দুল্লাহ আল মামুন নির্বাহী ম্যাজিস্ট্রেট রুবাইয়া ইয়াসমিনের নেতৃত্বে অভিযান পরিচালনা সময় ১২ লিটার চোলাই মদ মদ তৈরির উপকরণসহ ব্যক্তিকে হাতেনাতে গ্রেপ্তার ভ্রাম্যমাণ আদালতের বিচারক গ্রেপ্তার অনন্ত বর্মনকে ছয় মাসের বিনাশ্রম কারাদণ্ড কামাল হোসেনকে তিন মাসের বিনাশ্রম কারাদণ্ড নির্বাহী ম্যাজিস্ট্রেটের উপস্থিতিতে চোলাই মদ তৈরির কারখানা মদ তৈরির উপকরণ সামগ্রী ভেঙে আগুনে পুড়িয়ে ধ্বংস হয়েছে রাইজিংবিডি গাজীপুর ৭ অক্টোবর ২০১৮ হাসমত আলী বকুল\n"
          ]
        }
      ],
      "source": [
        "from bnlp import BasicTokenizer\n",
        "from bnlp.corpus import stopwords, punctuations, letters, digits\n",
        "\n",
        "btokenizer = BasicTokenizer()\n",
        "\n",
        "def clean_text(text):\n",
        "    tokens = btokenizer.tokenize(text)\n",
        "    filtered = []\n",
        "    for i in tokens:\n",
        "        if i in stopwords:\n",
        "            continue\n",
        "    \n",
        "        if i in punctuations + '‘' + '’':\n",
        "            continue\n",
        "    \n",
        "        filtered.append(i)\n",
        "    \n",
        "    return \" \".join(filtered)\n",
        "\n",
        "print(\"********** Before ***************\")\n",
        "text = df.iloc[1]['content']\n",
        "print(text)\n",
        "print(\"\\n********** After ***************\")\n",
        "print(clean_text(text))"
      ]
    },
    {
      "cell_type": "code",
      "execution_count": null,
      "metadata": {
        "colab": {
          "background_save": true
        },
        "id": "HipTa4M7skE2"
      },
      "outputs": [],
      "source": [
        "undersample = RandomUnderSampler(sampling_strategy='majority')"
      ]
    },
    {
      "cell_type": "code",
      "execution_count": null,
      "metadata": {
        "colab": {
          "background_save": true
        },
        "id": "bh7fcrn0skE3"
      },
      "outputs": [],
      "source": [
        "df['head'] = df.headline.apply(clean_text)\n",
        "df['con'] = df.content.apply(clean_text)"
      ]
    },
    {
      "cell_type": "code",
      "execution_count": null,
      "metadata": {
        "colab": {
          "background_save": true
        },
        "id": "d-MPiaK4skE3"
      },
      "outputs": [],
      "source": [
        "x= df.drop('label', axis=1)\n",
        "y= df.label"
      ]
    },
    {
      "cell_type": "code",
      "execution_count": null,
      "metadata": {
        "colab": {
          "background_save": true
        },
        "id": "YgjyEHeDskE3"
      },
      "outputs": [],
      "source": [
        "X_train_resampled, y_train_resampled = undersample.fit_resample(x, y)"
      ]
    },
    {
      "cell_type": "code",
      "execution_count": null,
      "metadata": {
        "colab": {
          "background_save": true
        },
        "id": "BN7IyjoYskE3"
      },
      "outputs": [],
      "source": [
        "df = X_train_resampled.join(y_train_resampled)"
      ]
    },
    {
      "cell_type": "code",
      "execution_count": null,
      "metadata": {
        "colab": {
          "background_save": true
        },
        "id": "RmMe1a_vskE3"
      },
      "outputs": [],
      "source": [
        "from sklearn.model_selection import train_test_split\n",
        "\n",
        "train_df, test_df = train_test_split(df, test_size=0.2, random_state=121, stratify=df['label'])"
      ]
    },
    {
      "cell_type": "code",
      "execution_count": null,
      "metadata": {
        "colab": {
          "background_save": true
        },
        "id": "4JxlZOGwskE3",
        "outputId": "769396f8-9e62-4567-f6ac-68a4364a12f4"
      },
      "outputs": [
        {
          "data": {
            "text/plain": [
              "(64, 16)"
            ]
          },
          "execution_count": 270,
          "metadata": {},
          "output_type": "execute_result"
        }
      ],
      "source": [
        "len(train_df), len(test_df)"
      ]
    },
    {
      "cell_type": "code",
      "execution_count": null,
      "metadata": {
        "colab": {
          "background_save": true
        },
        "id": "hYLFKaR5skE4"
      },
      "outputs": [],
      "source": [
        "training_data = NewsDatasets(train_df)\n",
        "train_dataloader = DataLoader(training_data, batch_size=1, shuffle=True)"
      ]
    },
    {
      "cell_type": "code",
      "execution_count": null,
      "metadata": {
        "colab": {
          "background_save": true
        },
        "id": "gueCLY82skE4"
      },
      "outputs": [],
      "source": [
        "test_data = NewsDatasets(test_df)\n",
        "test_dataloader = DataLoader(test_data, batch_size=1, shuffle=True)"
      ]
    },
    {
      "cell_type": "code",
      "execution_count": null,
      "metadata": {
        "colab": {
          "background_save": true
        },
        "id": "NvJvoW9WskE4"
      },
      "outputs": [],
      "source": [
        "class NewsBert2(nn.Module):\n",
        "\n",
        "    def __init__(self, bert):\n",
        "        super(NewsBert2, self).__init__()\n",
        "\n",
        "        self.bert = bert\n",
        "\n",
        "        # dropout layer\n",
        "        self.dropout = nn.Dropout(0.2)\n",
        "\n",
        "        # relu activation function\n",
        "        self.relu = nn.ReLU()\n",
        "\n",
        "        # dense layer 1\n",
        "        self.fc1 = nn.Linear(768, 128)\n",
        "\n",
        "        # dense layer 2 (Output layer)\n",
        "        self.fc2 = nn.Linear(128, 2)  \n",
        "\n",
        "    # define the forward pass\n",
        "    def forward(self, input_ids, token_type_ids, attention_mask):\n",
        "        # pass the inputs to the model\n",
        "        out = self.bert(input_ids, attention_mask=attention_mask, token_type_ids=token_type_ids)\n",
        "\n",
        "        x = self.fc1(out[1])\n",
        "        x = self.relu(x)\n",
        "        # output layer\n",
        "        x = self.fc2(self.dropout(x))\n",
        "        \n",
        "        return x"
      ]
    },
    {
      "cell_type": "code",
      "execution_count": null,
      "metadata": {
        "colab": {
          "background_save": true
        },
        "id": "XA8AmuGjskE4",
        "outputId": "287f5009-8a64-4d15-a3b1-4f7dace7bc6b"
      },
      "outputs": [
        {
          "name": "stderr",
          "output_type": "stream",
          "text": [
            "Some weights of the model checkpoint at sagorsarker/bangla-bert-base were not used when initializing BertModel: ['cls.predictions.bias', 'cls.seq_relationship.bias', 'cls.predictions.decoder.weight', 'cls.predictions.transform.dense.bias', 'cls.seq_relationship.weight', 'cls.predictions.transform.LayerNorm.weight', 'cls.predictions.transform.dense.weight', 'cls.predictions.transform.LayerNorm.bias']\n",
            "- This IS expected if you are initializing BertModel from the checkpoint of a model trained on another task or with another architecture (e.g. initializing a BertForSequenceClassification model from a BertForPreTraining model).\n",
            "- This IS NOT expected if you are initializing BertModel from the checkpoint of a model that you expect to be exactly identical (initializing a BertForSequenceClassification model from a BertForSequenceClassification model).\n"
          ]
        }
      ],
      "source": [
        "bert_model_name = \"sagorsarker/bangla-bert-base\"\n",
        "bert = BertModel.from_pretrained(bert_model_name)\n",
        "tokenizer = BertTokenizer.from_pretrained(bert_model_name)"
      ]
    },
    {
      "cell_type": "code",
      "execution_count": null,
      "metadata": {
        "colab": {
          "background_save": true
        },
        "id": "nRRlQfdzskE4"
      },
      "outputs": [],
      "source": [
        "device = torch.device(\"cuda\" if torch.cuda.is_available() else \"cpu\")\n",
        "model2 = NewsBert(bert)\n",
        "model2.to(device);"
      ]
    },
    {
      "cell_type": "code",
      "execution_count": null,
      "metadata": {
        "colab": {
          "background_save": true
        },
        "id": "VmGiu4P9skE5"
      },
      "outputs": [],
      "source": [
        "from torch.optim.lr_scheduler import StepLR\n",
        "\n",
        "optimizer = AdamW(model2.parameters(), lr=1e-5)\n",
        "criterion = nn.CrossEntropyLoss()\n",
        "scheduler = StepLR(optimizer, step_size=2, gamma=0.1)"
      ]
    },
    {
      "cell_type": "code",
      "execution_count": null,
      "metadata": {
        "colab": {
          "background_save": true
        },
        "id": "oYFasK70skE5"
      },
      "outputs": [],
      "source": [
        "model2.fc1.weight.data =model.fc1.weight.data.clone()\n",
        "model2.fc1.bias.data =model.fc1.bias.data.clone()\n",
        "model2.fc2.weight.data =model.fc2.weight.data.clone()\n",
        "model2.fc2.bias.data =model.fc2.bias.data.clone()"
      ]
    },
    {
      "cell_type": "code",
      "execution_count": null,
      "metadata": {
        "colab": {
          "background_save": true
        },
        "id": "oSU-MuTlskE5",
        "outputId": "f0175600-67ac-42c6-e4b9-2e4cc1442d9d"
      },
      "outputs": [
        {
          "name": "stdout",
          "output_type": "stream",
          "text": [
            "tensor([[-0.0175,  0.0303,  0.0335,  ..., -0.0022,  0.0109,  0.0291],\n",
            "        [-0.0317,  0.0299, -0.0072,  ..., -0.0197,  0.0237,  0.0206],\n",
            "        [-0.0174, -0.0324,  0.0150,  ..., -0.0161, -0.0138, -0.0227],\n",
            "        ...,\n",
            "        [-0.0251,  0.0134, -0.0252,  ...,  0.0219, -0.0157, -0.0256],\n",
            "        [ 0.0099,  0.0349,  0.0075,  ...,  0.0271, -0.0321, -0.0015],\n",
            "        [-0.0209,  0.0238, -0.0154,  ...,  0.0213, -0.0039, -0.0176]])\n"
          ]
        }
      ],
      "source": [
        "print(model2.fc1.weight.data)"
      ]
    },
    {
      "cell_type": "code",
      "execution_count": null,
      "metadata": {
        "colab": {
          "background_save": true
        },
        "id": "Mr-uGTP9skE5"
      },
      "outputs": [],
      "source": [
        "def train(model, dataloader, optimizer, criterion, config):\n",
        "    model2.train()  # prep model for training\n",
        "    train_loss = 0\n",
        "    for batch in tqdm(dataloader):\n",
        "        text, labels = batch\n",
        "\n",
        "        model2.zero_grad()\n",
        "\n",
        "        inputs = tokenizer.batch_encode_plus(\n",
        "            text, **config\n",
        "        )\n",
        "        input_ids = inputs['input_ids'].to(device)\n",
        "        token_type_ids = inputs['token_type_ids'].to(device)\n",
        "        attention_mask = inputs['attention_mask'].to(device)\n",
        "        labels = labels.to(device)\n",
        "\n",
        "        # move things to model\n",
        "        logs = model2(token_type_ids=token_type_ids, input_ids=input_ids, attention_mask=attention_mask)\n",
        "\n",
        "        loss = criterion(logs, labels)\n",
        "        train_loss += loss.item() * input_ids.size(0)\n",
        "        loss.backward()\n",
        "\n",
        "        # clip the the gradients to 1.0. It helps in preventing the exploding gradient problem\n",
        "        nn.utils.clip_grad_norm_(model2.parameters(), 1.0)\n",
        "        optimizer.step()\n",
        "\n",
        "    return train_loss"
      ]
    },
    {
      "cell_type": "code",
      "execution_count": null,
      "metadata": {
        "colab": {
          "background_save": true
        },
        "id": "HJUMFUv-skE5"
      },
      "outputs": [],
      "source": [
        "def evaluate(model, dataloader, criterion, config):\n",
        "    total = 0\n",
        "    correct = 0\n",
        "    valid_loss = 0.0\n",
        "\n",
        "    model2.eval()  # prep model for evaluation\n",
        "    for batch in dataloader:\n",
        "        text, labels = batch\n",
        "        inputs = tokenizer.batch_encode_plus(\n",
        "            text, **config\n",
        "        )\n",
        "        input_ids = inputs['input_ids'].to(device)\n",
        "        token_type_ids = inputs['token_type_ids'].to(device)\n",
        "        attention_mask = inputs['attention_mask'].to(device)\n",
        "        labels = labels.to(device)\n",
        "\n",
        "        # move things to model\n",
        "        output = model2(token_type_ids=token_type_ids, input_ids=input_ids, attention_mask=attention_mask)\n",
        "\n",
        "        loss_p = criterion(output, labels)\n",
        "        # update running validation loss\n",
        "        valid_loss += loss_p.item() * input_ids.size(0)\n",
        "        # calculate accuracy\n",
        "        proba = torch.exp(output)\n",
        "        top_p, top_class = proba.topk(1, dim=1)\n",
        "        equals = top_class == labels.view(*top_class.shape)\n",
        "        # accuracy += torch.mean(equals.type(torch.FloatTensor)).item()\n",
        "\n",
        "        _, predicted = torch.max(output.data, 1)\n",
        "        total += labels.size(0)\n",
        "        correct += (predicted == labels).sum().item()\n",
        "\n",
        "    return total, correct, valid_loss"
      ]
    },
    {
      "cell_type": "code",
      "execution_count": null,
      "metadata": {
        "colab": {
          "background_save": true
        },
        "id": "tMbJM5QeskE6"
      },
      "outputs": [],
      "source": [
        "epochs = 5\n",
        "tokenizer_config = {\n",
        "    \"max_length\": 100,\n",
        "    \"padding\": \"max_length\",\n",
        "    \"return_tensors\": \"pt\",\n",
        "    \"truncation\": True,\n",
        "    \"add_special_tokens\": True\n",
        "}"
      ]
    },
    {
      "cell_type": "code",
      "execution_count": null,
      "metadata": {
        "colab": {
          "background_save": true
        },
        "id": "esOgsdH0skE6",
        "outputId": "3461a87b-27e7-4f55-8cc7-38f8f7b7d422"
      },
      "outputs": [
        {
          "name": "stdout",
          "output_type": "stream",
          "text": [
            "Epoch: 1/5\n"
          ]
        },
        {
          "data": {
            "application/vnd.jupyter.widget-view+json": {
              "model_id": "5efcdce73b2542259e406a87908afb0f",
              "version_major": 2,
              "version_minor": 0
            },
            "text/plain": [
              "  0%|          | 0/64 [00:00<?, ?it/s]"
            ]
          },
          "metadata": {},
          "output_type": "display_data"
        },
        {
          "name": "stdout",
          "output_type": "stream",
          "text": [
            "\tTrain loss:0.747205.. \tValid Loss:0.652310.. \tAccuracy: 81.2500\n",
            "Epoch: 2/5\n"
          ]
        },
        {
          "data": {
            "application/vnd.jupyter.widget-view+json": {
              "model_id": "922687cbb8d74b37ac1bc5797d1d5321",
              "version_major": 2,
              "version_minor": 0
            },
            "text/plain": [
              "  0%|          | 0/64 [00:00<?, ?it/s]"
            ]
          },
          "metadata": {},
          "output_type": "display_data"
        },
        {
          "name": "stdout",
          "output_type": "stream",
          "text": [
            "\tTrain loss:0.638983.. \tValid Loss:0.575715.. \tAccuracy: 68.7500\n",
            "Epoch: 3/5\n"
          ]
        },
        {
          "data": {
            "application/vnd.jupyter.widget-view+json": {
              "model_id": "60d0a5df46b84bc3a2d340865ba4767f",
              "version_major": 2,
              "version_minor": 0
            },
            "text/plain": [
              "  0%|          | 0/64 [00:00<?, ?it/s]"
            ]
          },
          "metadata": {},
          "output_type": "display_data"
        },
        {
          "name": "stdout",
          "output_type": "stream",
          "text": [
            "\tTrain loss:0.455269.. \tValid Loss:0.547379.. \tAccuracy: 75.0000\n",
            "Epoch: 4/5\n"
          ]
        },
        {
          "data": {
            "application/vnd.jupyter.widget-view+json": {
              "model_id": "3f8a3d9c4f5f4431b852eb4c89bd368d",
              "version_major": 2,
              "version_minor": 0
            },
            "text/plain": [
              "  0%|          | 0/64 [00:00<?, ?it/s]"
            ]
          },
          "metadata": {},
          "output_type": "display_data"
        },
        {
          "name": "stdout",
          "output_type": "stream",
          "text": [
            "\tTrain loss:0.410951.. \tValid Loss:0.523784.. \tAccuracy: 81.2500\n",
            "Epoch: 5/5\n"
          ]
        },
        {
          "data": {
            "application/vnd.jupyter.widget-view+json": {
              "model_id": "b552d47111834a52af600a1c1fd14cff",
              "version_major": 2,
              "version_minor": 0
            },
            "text/plain": [
              "  0%|          | 0/64 [00:00<?, ?it/s]"
            ]
          },
          "metadata": {},
          "output_type": "display_data"
        },
        {
          "name": "stdout",
          "output_type": "stream",
          "text": [
            "\tTrain loss:0.386962.. \tValid Loss:0.521802.. \tAccuracy: 81.2500\n",
            "Training completed in 21m 4s\n"
          ]
        }
      ],
      "source": [
        "train_loss_data, valid_loss_data = [], []\n",
        "valid_loss_min = np.Inf\n",
        "since = time.time()\n",
        "best_loss = np.inf\n",
        "\n",
        "for epoch in range(epochs):\n",
        "    print(\"Epoch: {}/{}\".format(epoch + 1, epochs))\n",
        "    # monitor training loss\n",
        "    train_loss = 0.0\n",
        "    valid_loss = 0.0\n",
        "    total = 0\n",
        "    correct = 0\n",
        "    e_since = time.time()\n",
        "\n",
        "    # Train Model\n",
        "    train_loss += train(model2, train_dataloader, optimizer, criterion, tokenizer_config)\n",
        "    # Now Evaluate\n",
        "    out = evaluate(model2, test_dataloader, criterion, tokenizer_config)\n",
        "    total += out[0]\n",
        "    correct += out[1]\n",
        "    valid_loss += out[2]\n",
        "    \n",
        "    scheduler.step()\n",
        "\n",
        "    # print training/validation statistics\n",
        "    # calculate average loss over an epoch\n",
        "    train_loss = train_loss / len(train_dataloader.dataset)\n",
        "    valid_loss = valid_loss / len(test_dataloader.dataset)\n",
        "\n",
        "    # calculate train loss and running loss\n",
        "    train_loss_data.append(train_loss * 100)\n",
        "    valid_loss_data.append(valid_loss * 100)\n",
        "    \n",
        "    if valid_loss < best_loss:\n",
        "        best_loss = valid_loss\n",
        "        torch.save(model2.state_dict(), \"/content/drive/MyDrive/Colab Notebooks/Dataset/news_model2.pth\")\n",
        "\n",
        "    print(\"\\tTrain loss:{:.6f}..\".format(train_loss),\n",
        "          \"\\tValid Loss:{:.6f}..\".format(valid_loss),\n",
        "          \"\\tAccuracy: {:.4f}\".format(correct / total * 100))\n",
        "\n",
        "time_elapsed = time.time() - since\n",
        "print('Training completed in {:.0f}m {:.0f}s'.format(\n",
        "    time_elapsed // 60, time_elapsed % 60))"
      ]
    },
    {
      "cell_type": "code",
      "execution_count": null,
      "metadata": {
        "colab": {
          "background_save": true
        },
        "id": "g0vaf4kzskE6",
        "outputId": "fa8236ec-3865-467e-ef1a-40f017803961"
      },
      "outputs": [
        {
          "data": {
            "text/plain": [
              "81.25"
            ]
          },
          "execution_count": 283,
          "metadata": {},
          "output_type": "execute_result"
        }
      ],
      "source": [
        "training_acc8 = correct / total * 100\n",
        "training_acc8"
      ]
    },
    {
      "cell_type": "code",
      "execution_count": null,
      "metadata": {
        "colab": {
          "background_save": true
        },
        "id": "AsHXEOwMskE6",
        "outputId": "257f43cb-ea9b-492f-9e98-19141ae8a4c0"
      },
      "outputs": [
        {
          "data": {
            "text/plain": [
              "<matplotlib.legend.Legend at 0x7f63f9099610>"
            ]
          },
          "execution_count": 284,
          "metadata": {},
          "output_type": "execute_result"
        },
        {
          "data": {
            "image/png": "[encoded data removed]",
            "text/plain": [
              "<Figure size 432x288 with 1 Axes>"
            ]
          },
          "metadata": {},
          "output_type": "display_data"
        }
      ],
      "source": [
        "from matplotlib import pyplot as plt\n",
        "\n",
        "plt.plot(train_loss_data, label=\"Training loss\")\n",
        "plt.plot(valid_loss_data, label=\"validation loss\")\n",
        "plt.legend(frameon=False)"
      ]
    },
    {
      "cell_type": "code",
      "execution_count": null,
      "metadata": {
        "colab": {
          "background_save": true
        },
        "id": "bgOeEKOnskE7"
      },
      "outputs": [],
      "source": [
        "from google.colab import output\n",
        "output.enable_custom_widget_manager()"
      ]
    },
    {
      "cell_type": "code",
      "execution_count": null,
      "metadata": {
        "colab": {
          "background_save": true
        },
        "id": "HGpiAkVlskE7"
      },
      "outputs": [],
      "source": [
        "from google.colab import output\n",
        "output.disable_custom_widget_manager()"
      ]
    },
    {
      "cell_type": "code",
      "execution_count": null,
      "metadata": {
        "colab": {
          "background_save": true
        },
        "id": "ifpJgu6qskE7",
        "outputId": "0afb4ff5-1bc6-485e-d820-c8a65655b1a8"
      },
      "outputs": [
        {
          "data": {
            "text/plain": [
              "<All keys matched successfully>"
            ]
          },
          "execution_count": 287,
          "metadata": {},
          "output_type": "execute_result"
        }
      ],
      "source": [
        "model2.load_state_dict(torch.load(\"/content/drive/MyDrive/Colab Notebooks/Dataset/news_model2.pth\", map_location = device))"
      ]
    },
    {
      "cell_type": "code",
      "execution_count": null,
      "metadata": {
        "colab": {
          "background_save": true
        },
        "id": "H4HTTHcrskE7"
      },
      "outputs": [],
      "source": [
        "all_preds = []\n",
        "all_labels = []\n",
        "\n",
        "for batch in test_dataloader:\n",
        "    text, labels = batch\n",
        "    inputs = tokenizer.batch_encode_plus(\n",
        "        text, **tokenizer_config\n",
        "    )\n",
        "    input_ids = inputs['input_ids'].to(device)\n",
        "    token_type_ids = inputs['token_type_ids'].to(device)\n",
        "    attention_mask = inputs['attention_mask'].to(device)\n",
        "    labels = labels.to(device)\n",
        "\n",
        "    # move things to model\n",
        "    output = model2(token_type_ids=token_type_ids, input_ids=input_ids, attention_mask=attention_mask)\n",
        "    preds = output.detach().cpu().numpy()\n",
        "    preds = np.argmax(preds, axis = 1)\n",
        "    all_preds.extend(preds)\n",
        "    all_labels.extend(labels.cpu().numpy())"
      ]
    },
    {
      "cell_type": "code",
      "execution_count": null,
      "metadata": {
        "colab": {
          "background_save": true
        },
        "id": "VDDckM9VskE7",
        "outputId": "2cca461b-97c8-43a8-8ab1-d1e5d552751d"
      },
      "outputs": [
        {
          "name": "stdout",
          "output_type": "stream",
          "text": [
            "              precision    recall  f1-score   support\n",
            "\n",
            "           0       1.00      0.62      0.77         8\n",
            "           1       0.73      1.00      0.84         8\n",
            "\n",
            "    accuracy                           0.81        16\n",
            "   macro avg       0.86      0.81      0.81        16\n",
            "weighted avg       0.86      0.81      0.81        16\n",
            "\n"
          ]
        }
      ],
      "source": [
        "from sklearn.metrics import classification_report\n",
        "\n",
        "# preds = np.argmax(preds, axis = 1)\n",
        "print(classification_report(all_labels, all_preds))"
      ]
    },
    {
      "cell_type": "code",
      "execution_count": null,
      "metadata": {
        "colab": {
          "background_save": true
        },
        "id": "9TmhkGO3skE7",
        "outputId": "15670e26-320e-408c-b7e4-e1986bf7c6e3"
      },
      "outputs": [
        {
          "name": "stdout",
          "output_type": "stream",
          "text": [
            "tensor([[-0.0176,  0.0304,  0.0334,  ..., -0.0020,  0.0108,  0.0292],\n",
            "        [-0.0319,  0.0297, -0.0073,  ..., -0.0195,  0.0235,  0.0207],\n",
            "        [-0.0172, -0.0322,  0.0151,  ..., -0.0162, -0.0136, -0.0228],\n",
            "        ...,\n",
            "        [-0.0250,  0.0136, -0.0252,  ...,  0.0219, -0.0155, -0.0256],\n",
            "        [ 0.0101,  0.0349,  0.0077,  ...,  0.0269, -0.0319, -0.0017],\n",
            "        [-0.0207,  0.0241, -0.0154,  ...,  0.0213, -0.0035, -0.0176]])\n"
          ]
        }
      ],
      "source": [
        "print(model2.fc1.weight.data)"
      ]
    },
    {
      "cell_type": "code",
      "execution_count": null,
      "metadata": {
        "colab": {
          "background_save": true
        },
        "id": "8M1JZqa4skE8"
      },
      "outputs": [],
      "source": [
        "cf_matrix = confusion_matrix(all_labels, all_preds)  "
      ]
    },
    {
      "cell_type": "code",
      "execution_count": null,
      "metadata": {
        "colab": {
          "background_save": true
        },
        "id": "PmML1WuFskE8",
        "outputId": "81b8e5df-2af1-42e8-c2a9-f7d919755048"
      },
      "outputs": [
        {
          "data": {
            "image/png": "[encoded data removed]",
            "text/plain": [
              "<Figure size 432x288 with 2 Axes>"
            ]
          },
          "metadata": {},
          "output_type": "display_data"
        }
      ],
      "source": [
        "import seaborn as sns\n",
        "\n",
        "ax = sns.heatmap(cf_matrix, annot=True, cmap='Blues')\n",
        "\n",
        "ax.set_title('Seaborn Confusion Matrix with labels\\n\\n');\n",
        "ax.set_xlabel('\\nPredicted Values')\n",
        "ax.set_ylabel('Actual Values ');\n",
        "\n",
        "## Ticket labels - List must be in alphabetical order\n",
        "ax.xaxis.set_ticklabels(['False','True'])\n",
        "ax.yaxis.set_ticklabels(['False','True'])\n",
        "\n",
        "## Display the visualization of the Confusion Matrix.\n",
        "plt.show()"
      ]
    },
    {
      "cell_type": "code",
      "execution_count": null,
      "metadata": {
        "colab": {
          "background_save": true
        },
        "id": "xNG-2gAXskE8",
        "outputId": "200c086e-bfa7-4dd7-f6b1-77fe3415bd67"
      },
      "outputs": [
        {
          "name": "stdout",
          "output_type": "stream",
          "text": [
            "Accuracy: 0.812\n",
            "Precision: 0.864\n",
            "Recall: 0.812\n",
            "F-Measure: 0.806\n"
          ]
        }
      ],
      "source": [
        "from sklearn.metrics import precision_score,recall_score,f1_score,accuracy_score\n",
        "test_accuracy8 = accuracy_score(all_labels, all_preds)\n",
        "print('Accuracy: %.3f' % test_accuracy8)\n",
        "precision8 = precision_score(all_labels, all_preds, average='macro')\n",
        "print('Precision: %.3f' % precision8)\n",
        "recall8 = recall_score(all_labels, all_preds, average='macro')\n",
        "print('Recall: %.3f' % recall8)\n",
        "score8 = f1_score(all_labels, all_preds, average='macro')\n",
        "print('F-Measure: %.3f' % score8)"
      ]
    },
    {
      "cell_type": "markdown",
      "metadata": {
        "id": "60hQHF7tskE8"
      },
      "source": [
        "# For Looping"
      ]
    },
    {
      "cell_type": "code",
      "execution_count": null,
      "metadata": {
        "colab": {
          "background_save": true
        },
        "id": "5YindqHxskE9"
      },
      "outputs": [],
      "source": [
        "if precision8 >= precision and recall8 >= recall and score8 >= score :\n",
        "  torch.save(model2.state_dict(), \"/content/drive/MyDrive/Colab Notebooks/Dataset/news_model1.pth\")\n",
        "  precision = precision8\n",
        "  recall = recall8\n",
        "  score = score8\n",
        "  model.fc1.weight.data =model2.fc1.weight.data.clone()\n",
        "  model.fc1.bias.data =model2.fc1.bias.data.clone()\n",
        "  model.fc2.weight.data =model2.fc2.weight.data.clone()\n",
        "  model.fc2.bias.data =model2.fc2.bias.data.clone()"
      ]
    },
    {
      "cell_type": "code",
      "execution_count": null,
      "metadata": {
        "colab": {
          "background_save": true
        },
        "id": "2cMCTEDpskE9"
      },
      "outputs": [],
      "source": []
    },
    {
      "cell_type": "markdown",
      "metadata": {
        "id": "uQSy3qOiskWF"
      },
      "source": [
        "# 9th Model\n"
      ]
    },
    {
      "cell_type": "code",
      "execution_count": null,
      "metadata": {
        "colab": {
          "background_save": true
        },
        "id": "c629eBWIskWG"
      },
      "outputs": [],
      "source": []
    },
    {
      "cell_type": "code",
      "execution_count": null,
      "metadata": {
        "colab": {
          "background_save": true
        },
        "id": "a0Y5vY7KskWG"
      },
      "outputs": [],
      "source": [
        "class NewsDatasets(Dataset):\n",
        "    def __init__(self, data, max_length=100):\n",
        "        self.data = data\n",
        "        \n",
        "        self.config = {\n",
        "            \"max_length\": max_length,\n",
        "            \"padding\": \"max_length\",\n",
        "            \"return_tensors\": \"pt\",\n",
        "            \"truncation\": True,\n",
        "            \"add_special_tokens\": True\n",
        "        }\n",
        "\n",
        "    def __len__(self):\n",
        "        return len(self.data)\n",
        "\n",
        "    def __getitem__(self, idx):\n",
        "        value = self.data.iloc[idx]\n",
        "        return value['head']+\"[SEP]\"+value['con'] , value['label']"
      ]
    },
    {
      "cell_type": "code",
      "execution_count": null,
      "metadata": {
        "colab": {
          "background_save": true
        },
        "id": "vg0M7OrHskWG",
        "outputId": "17cf1223-6169-4bb3-930a-b305262bb867"
      },
      "outputs": [
        {
          "name": "stdout",
          "output_type": "stream",
          "text": [
            "1497\n",
            "40\n"
          ]
        }
      ],
      "source": [
        "auth = pd.read_csv(\"/content/drive/MyDrive/Colab Notebooks/Dataset/For Sentiment/Division /40%/auth_set_9.csv\",encoding='UTF-8')\n",
        "fake = pd.read_csv(\"/content/drive/MyDrive/Colab Notebooks/Dataset/For Sentiment/Division /40%/fake_set_9.csv\",encoding='UTF-8')\n",
        "\n",
        "\n",
        "print(len(auth))\n",
        "print(len(fake))\n"
      ]
    },
    {
      "cell_type": "code",
      "execution_count": null,
      "metadata": {
        "colab": {
          "background_save": true
        },
        "id": "hL8YUrBTskWG",
        "outputId": "03955306-a2b3-44ac-c61d-877ad1e17f8b"
      },
      "outputs": [
        {
          "data": {
            "text/plain": [
              "1537"
            ]
          },
          "execution_count": 297,
          "metadata": {},
          "output_type": "execute_result"
        }
      ],
      "source": [
        "\n",
        "#df = auth[:fake.shape[0]* 7]\n",
        "df = auth.append(fake)\n",
        "df = df.sample(frac=1).reset_index(drop=True)\n",
        "len(df)"
      ]
    },
    {
      "cell_type": "code",
      "execution_count": null,
      "metadata": {
        "colab": {
          "background_save": true
        },
        "id": "kkhZFuOZskWH",
        "outputId": "48294194-e6fd-4bfc-b673-5d2e8faf4946"
      },
      "outputs": [
        {
          "name": "stdout",
          "output_type": "stream",
          "text": [
            "********** Before ***************\n",
            "সংযুক্ত আরব আমিরাতে এসো গড়ি মাতৃভূমি- ‘কাম অ্যান্ড বিল্ড ইয়োর মাদারল্যান্ড’ শিরোনামে (এনআরবি) সেন্টার ফর নন-রেসিডেন্ট বাংলাদেশের দুবাই কনফারেন্স অনুষ্ঠিত হয়েছে। শুক্রবার আমিরাতের বাণিজ্যিক শহর দুবাইয়ের একটি অভিজাত রেস্তোরাঁয় আয়োজিত অনুষ্ঠানে সভাপতিত্ব করেন এনআরবি চেয়ারম্যান সেকিল চৌধুরী। বক্তব্য রাখেন বাংলাদেশ জাতীয় পরিচয়পত্রের ডিজি ব্রিগেডিয়ার জেনারেল সাইদুল ইসলাম, রিয়েল এস্টেট অ্যান্ড হাউজিং অ্যাসোসিয়েশন অব বাংলাদেশের (রিহাব) ভাইস প্রেসিডেন্ট লিয়াকত আলী ভূঁইয়া, বাংলাদেশ এম্বাসি আবুধাবির মিনিস্টার ইকবাল হোসেন খান, জাতীয় রাজস্ব বোর্ডের (এনবিআর) চেয়ারম্যান মোশারফ হোসেন ভূঁইয়া ও বাংলাদেশ সমিতি আবুধাবির প্রেসিডেন্ট ইঞ্জি. মোয়াজ্জেম হোসেন। এ সময় আরও বক্তব্য রাখেন আমিরাত প্রবাসী ইঞ্জি. আবু জাফর, জহিরুল ইসলাম, মাহবুব আলম মানিক, মধ্যপ্রাচ্যের প্রথম মহিলা সিআইপি জেসমিন আক্তার, এনআরবি চেয়ারম্যানের সহধর্মিণী জহুরা চৌধুরী, মাওলানা ফজলুল কবির, ইঞ্জি. নওশের আলী, বাংলাদেশ সমিতি শারজাহ শাখার সভাপতি আবুল বাশার, ইঞ্জি. আবু হেনা, ইঞ্জি. আব্দুল বাতেন, ইঞ্জি. মহিউদ্দিন ইকবাল, কাজী মোহাম্মদ আলী, আমিরুল ইসলাম চৌধুরী এনাম, মায়মুনা আক্তার ও আব্দুল্লাহ মালিক। অনুষ্ঠানে আমিরাতে অবস্থানরত বাংলাদেশি কমিউনিটির নেতৃবৃন্দ উপস্থিত ছিলেন। শুরুতেই পবিত্র কোরআন থেকে তিলাওয়াত করেন শিহাবুল আম্বিয়া। বাংলাদেশের রাষ্ট্রপতি মো. আবদুল হামিদের বাণী পাঠ করেন ইউরোপ প্রবাসী আবুল কালাম আজাদ ও প্রধানমন্ত্রী শেখ হাসিনার বাণী পাঠ করেন আমিরাত প্রবাসী মাহানুর রওশান মুমু। [প্রিয় পাঠক, যুগান্তর অনলাইনে পরবাস বিভাগে আপনিও লিখতে পারেন। প্রবাসে আপনার কমিউনিটির নানান খবর, ভ্রমণ, আড্ডা, গল্প, স্মৃতিচারণসহ যে কোনো বিষয়ে লিখে পাঠাতে পারেন। সংশ্লিষ্ট বিষয়ে ছবিসহ মেইল করুন [email protected] এই ঠিকানায়। লেখা আপনার নামে প্রকাশ করা হবে।]\n",
            "\n",
            "********** After ***************\n",
            "সংযুক্ত আরব আমিরাতে এসো গড়ি মাতৃভূমি কাম অ্যান্ড বিল্ড ইয়োর মাদারল্যান্ড শিরোনামে এনআরবি সেন্টার ফর নন রেসিডেন্ট বাংলাদেশের দুবাই কনফারেন্স অনুষ্ঠিত হয়েছে শুক্রবার আমিরাতের বাণিজ্যিক শহর দুবাইয়ের অভিজাত রেস্তোরাঁয় আয়োজিত অনুষ্ঠানে সভাপতিত্ব এনআরবি চেয়ারম্যান সেকিল চৌধুরী রাখেন বাংলাদেশ জাতীয় পরিচয়পত্রের ডিজি ব্রিগেডিয়ার জেনারেল সাইদুল ইসলাম রিয়েল এস্টেট অ্যান্ড হাউজিং অ্যাসোসিয়েশন অব বাংলাদেশের রিহাব ভাইস প্রেসিডেন্ট লিয়াকত আলী ভূঁইয়া বাংলাদেশ এম্বাসি আবুধাবির মিনিস্টার ইকবাল হোসেন খান জাতীয় রাজস্ব বোর্ডের এনবিআর চেয়ারম্যান মোশারফ হোসেন ভূঁইয়া বাংলাদেশ সমিতি আবুধাবির প্রেসিডেন্ট ইঞ্জি মোয়াজ্জেম হোসেন সময় রাখেন আমিরাত প্রবাসী ইঞ্জি আবু জাফর জহিরুল ইসলাম মাহবুব আলম মানিক মধ্যপ্রাচ্যের মহিলা সিআইপি জেসমিন আক্তার এনআরবি চেয়ারম্যানের সহধর্মিণী জহুরা চৌধুরী মাওলানা ফজলুল কবির ইঞ্জি নওশের আলী বাংলাদেশ সমিতি শারজাহ শাখার সভাপতি আবুল বাশার ইঞ্জি আবু হেনা ইঞ্জি আব্দুল বাতেন ইঞ্জি মহিউদ্দিন ইকবাল কাজী মোহাম্মদ আলী আমিরুল ইসলাম চৌধুরী এনাম মায়মুনা আক্তার আব্দুল্লাহ মালিক অনুষ্ঠানে আমিরাতে অবস্থানরত বাংলাদেশি কমিউনিটির নেতৃবৃন্দ উপস্থিত শুরুতেই পবিত্র কোরআন তিলাওয়াত শিহাবুল আম্বিয়া বাংলাদেশের রাষ্ট্রপতি মো আবদুল হামিদের বাণী পাঠ ইউরোপ প্রবাসী আবুল কালাম আজাদ প্রধানমন্ত্রী শেখ হাসিনার বাণী পাঠ আমিরাত প্রবাসী মাহানুর রওশান মুমু প্রিয় পাঠক যুগান্তর অনলাইনে পরবাস বিভাগে আপনিও লিখতে প্রবাসে কমিউনিটির নানান খবর ভ্রমণ আড্ডা গল্প স্মৃতিচারণসহ বিষয়ে লিখে পাঠাতে সংশ্লিষ্ট বিষয়ে ছবিসহ মেইল করুন email protected ঠিকানায় লেখা নামে প্রকাশ\n"
          ]
        }
      ],
      "source": [
        "from bnlp import BasicTokenizer\n",
        "from bnlp.corpus import stopwords, punctuations, letters, digits\n",
        "\n",
        "btokenizer = BasicTokenizer()\n",
        "\n",
        "def clean_text(text):\n",
        "    tokens = btokenizer.tokenize(text)\n",
        "    filtered = []\n",
        "    for i in tokens:\n",
        "        if i in stopwords:\n",
        "            continue\n",
        "    \n",
        "        if i in punctuations + '‘' + '’':\n",
        "            continue\n",
        "    \n",
        "        filtered.append(i)\n",
        "    \n",
        "    return \" \".join(filtered)\n",
        "\n",
        "print(\"********** Before ***************\")\n",
        "text = df.iloc[1]['content']\n",
        "print(text)\n",
        "print(\"\\n********** After ***************\")\n",
        "print(clean_text(text))"
      ]
    },
    {
      "cell_type": "code",
      "execution_count": null,
      "metadata": {
        "colab": {
          "background_save": true
        },
        "id": "BPtYPiOsskWH"
      },
      "outputs": [],
      "source": [
        "undersample = RandomUnderSampler(sampling_strategy='majority')"
      ]
    },
    {
      "cell_type": "code",
      "execution_count": null,
      "metadata": {
        "colab": {
          "background_save": true
        },
        "id": "tK3o1BJoskWH"
      },
      "outputs": [],
      "source": [
        "df['head'] = df.headline.apply(clean_text)\n",
        "df['con'] = df.content.apply(clean_text)"
      ]
    },
    {
      "cell_type": "code",
      "execution_count": null,
      "metadata": {
        "colab": {
          "background_save": true
        },
        "id": "QQmQBR5RskWH"
      },
      "outputs": [],
      "source": [
        "x= df.drop('label', axis=1)\n",
        "y= df.label"
      ]
    },
    {
      "cell_type": "code",
      "execution_count": null,
      "metadata": {
        "colab": {
          "background_save": true
        },
        "id": "WqmKwljdskWH"
      },
      "outputs": [],
      "source": [
        "X_train_resampled, y_train_resampled = undersample.fit_resample(x, y)"
      ]
    },
    {
      "cell_type": "code",
      "execution_count": null,
      "metadata": {
        "colab": {
          "background_save": true
        },
        "id": "rpBmaRMTskWH"
      },
      "outputs": [],
      "source": [
        "df = X_train_resampled.join(y_train_resampled)"
      ]
    },
    {
      "cell_type": "code",
      "execution_count": null,
      "metadata": {
        "colab": {
          "background_save": true
        },
        "id": "xV6wuycHskWH"
      },
      "outputs": [],
      "source": [
        "from sklearn.model_selection import train_test_split\n",
        "\n",
        "train_df, test_df = train_test_split(df, test_size=0.2, random_state=121, stratify=df['label'])"
      ]
    },
    {
      "cell_type": "code",
      "execution_count": null,
      "metadata": {
        "colab": {
          "background_save": true
        },
        "id": "O_0d049EskWH",
        "outputId": "d76aff63-5d1b-4aa5-b287-60a0ca7bc75d"
      },
      "outputs": [
        {
          "data": {
            "text/plain": [
              "(64, 16)"
            ]
          },
          "execution_count": 305,
          "metadata": {},
          "output_type": "execute_result"
        }
      ],
      "source": [
        "len(train_df), len(test_df)"
      ]
    },
    {
      "cell_type": "code",
      "execution_count": null,
      "metadata": {
        "colab": {
          "background_save": true
        },
        "id": "co6P4KzVskWI"
      },
      "outputs": [],
      "source": [
        "training_data = NewsDatasets(train_df)\n",
        "train_dataloader = DataLoader(training_data, batch_size=1, shuffle=True)"
      ]
    },
    {
      "cell_type": "code",
      "execution_count": null,
      "metadata": {
        "colab": {
          "background_save": true
        },
        "id": "hXD3Dyo_skWI"
      },
      "outputs": [],
      "source": [
        "test_data = NewsDatasets(test_df)\n",
        "test_dataloader = DataLoader(test_data, batch_size=1, shuffle=True)"
      ]
    },
    {
      "cell_type": "code",
      "execution_count": null,
      "metadata": {
        "colab": {
          "background_save": true
        },
        "id": "IIUOugQNskWI"
      },
      "outputs": [],
      "source": [
        "class NewsBert2(nn.Module):\n",
        "\n",
        "    def __init__(self, bert):\n",
        "        super(NewsBert2, self).__init__()\n",
        "\n",
        "        self.bert = bert\n",
        "\n",
        "        # dropout layer\n",
        "        self.dropout = nn.Dropout(0.2)\n",
        "\n",
        "        # relu activation function\n",
        "        self.relu = nn.ReLU()\n",
        "\n",
        "        # dense layer 1\n",
        "        self.fc1 = nn.Linear(768, 128)\n",
        "\n",
        "        # dense layer 2 (Output layer)\n",
        "        self.fc2 = nn.Linear(128, 2)  \n",
        "\n",
        "    # define the forward pass\n",
        "    def forward(self, input_ids, token_type_ids, attention_mask):\n",
        "        # pass the inputs to the model\n",
        "        out = self.bert(input_ids, attention_mask=attention_mask, token_type_ids=token_type_ids)\n",
        "\n",
        "        x = self.fc1(out[1])\n",
        "        x = self.relu(x)\n",
        "        # output layer\n",
        "        x = self.fc2(self.dropout(x))\n",
        "        \n",
        "        return x"
      ]
    },
    {
      "cell_type": "code",
      "execution_count": null,
      "metadata": {
        "colab": {
          "background_save": true
        },
        "id": "TtRt-qFUskWI",
        "outputId": "390c6ca3-650c-44d7-f2bd-4f03d0bf1463"
      },
      "outputs": [
        {
          "name": "stderr",
          "output_type": "stream",
          "text": [
            "Some weights of the model checkpoint at sagorsarker/bangla-bert-base were not used when initializing BertModel: ['cls.predictions.bias', 'cls.seq_relationship.bias', 'cls.predictions.decoder.weight', 'cls.predictions.transform.dense.bias', 'cls.seq_relationship.weight', 'cls.predictions.transform.LayerNorm.weight', 'cls.predictions.transform.dense.weight', 'cls.predictions.transform.LayerNorm.bias']\n",
            "- This IS expected if you are initializing BertModel from the checkpoint of a model trained on another task or with another architecture (e.g. initializing a BertForSequenceClassification model from a BertForPreTraining model).\n",
            "- This IS NOT expected if you are initializing BertModel from the checkpoint of a model that you expect to be exactly identical (initializing a BertForSequenceClassification model from a BertForSequenceClassification model).\n"
          ]
        }
      ],
      "source": [
        "bert_model_name = \"sagorsarker/bangla-bert-base\"\n",
        "bert = BertModel.from_pretrained(bert_model_name)\n",
        "tokenizer = BertTokenizer.from_pretrained(bert_model_name)"
      ]
    },
    {
      "cell_type": "code",
      "execution_count": null,
      "metadata": {
        "colab": {
          "background_save": true
        },
        "id": "x6bBU07iskWI"
      },
      "outputs": [],
      "source": [
        "device = torch.device(\"cuda\" if torch.cuda.is_available() else \"cpu\")\n",
        "model2 = NewsBert(bert)\n",
        "model2.to(device);"
      ]
    },
    {
      "cell_type": "code",
      "execution_count": null,
      "metadata": {
        "colab": {
          "background_save": true
        },
        "id": "QSWgpAomskWI"
      },
      "outputs": [],
      "source": [
        "from torch.optim.lr_scheduler import StepLR\n",
        "\n",
        "optimizer = AdamW(model2.parameters(), lr=1e-5)\n",
        "criterion = nn.CrossEntropyLoss()\n",
        "scheduler = StepLR(optimizer, step_size=2, gamma=0.1)"
      ]
    },
    {
      "cell_type": "code",
      "execution_count": null,
      "metadata": {
        "colab": {
          "background_save": true
        },
        "id": "g4jumeNFskWI"
      },
      "outputs": [],
      "source": [
        "model2.fc1.weight.data =model.fc1.weight.data.clone()\n",
        "model2.fc1.bias.data =model.fc1.bias.data.clone()\n",
        "model2.fc2.weight.data =model.fc2.weight.data.clone()\n",
        "model2.fc2.bias.data =model.fc2.bias.data.clone()"
      ]
    },
    {
      "cell_type": "code",
      "execution_count": null,
      "metadata": {
        "colab": {
          "background_save": true
        },
        "id": "4YtqaXM_skWI",
        "outputId": "6bda55b3-a3e3-4a79-a83e-849d84d0f079"
      },
      "outputs": [
        {
          "name": "stdout",
          "output_type": "stream",
          "text": [
            "tensor([[-0.0175,  0.0303,  0.0335,  ..., -0.0022,  0.0109,  0.0291],\n",
            "        [-0.0317,  0.0299, -0.0072,  ..., -0.0197,  0.0237,  0.0206],\n",
            "        [-0.0174, -0.0324,  0.0150,  ..., -0.0161, -0.0138, -0.0227],\n",
            "        ...,\n",
            "        [-0.0251,  0.0134, -0.0252,  ...,  0.0219, -0.0157, -0.0256],\n",
            "        [ 0.0099,  0.0349,  0.0075,  ...,  0.0271, -0.0321, -0.0015],\n",
            "        [-0.0209,  0.0238, -0.0154,  ...,  0.0213, -0.0039, -0.0176]])\n"
          ]
        }
      ],
      "source": [
        "print(model2.fc1.weight.data)"
      ]
    },
    {
      "cell_type": "code",
      "execution_count": null,
      "metadata": {
        "colab": {
          "background_save": true
        },
        "id": "FrS704sRskWJ"
      },
      "outputs": [],
      "source": [
        "def train(model, dataloader, optimizer, criterion, config):\n",
        "    model2.train()  # prep model for training\n",
        "    train_loss = 0\n",
        "    for batch in tqdm(dataloader):\n",
        "        text, labels = batch\n",
        "\n",
        "        model2.zero_grad()\n",
        "\n",
        "        inputs = tokenizer.batch_encode_plus(\n",
        "            text, **config\n",
        "        )\n",
        "        input_ids = inputs['input_ids'].to(device)\n",
        "        token_type_ids = inputs['token_type_ids'].to(device)\n",
        "        attention_mask = inputs['attention_mask'].to(device)\n",
        "        labels = labels.to(device)\n",
        "\n",
        "        # move things to model\n",
        "        logs = model2(token_type_ids=token_type_ids, input_ids=input_ids, attention_mask=attention_mask)\n",
        "\n",
        "        loss = criterion(logs, labels)\n",
        "        train_loss += loss.item() * input_ids.size(0)\n",
        "        loss.backward()\n",
        "\n",
        "        # clip the the gradients to 1.0. It helps in preventing the exploding gradient problem\n",
        "        nn.utils.clip_grad_norm_(model2.parameters(), 1.0)\n",
        "        optimizer.step()\n",
        "\n",
        "    return train_loss"
      ]
    },
    {
      "cell_type": "code",
      "execution_count": null,
      "metadata": {
        "colab": {
          "background_save": true
        },
        "id": "CshFrX3zskWJ"
      },
      "outputs": [],
      "source": [
        "def evaluate(model, dataloader, criterion, config):\n",
        "    total = 0\n",
        "    correct = 0\n",
        "    valid_loss = 0.0\n",
        "\n",
        "    model2.eval()  # prep model for evaluation\n",
        "    for batch in dataloader:\n",
        "        text, labels = batch\n",
        "        inputs = tokenizer.batch_encode_plus(\n",
        "            text, **config\n",
        "        )\n",
        "        input_ids = inputs['input_ids'].to(device)\n",
        "        token_type_ids = inputs['token_type_ids'].to(device)\n",
        "        attention_mask = inputs['attention_mask'].to(device)\n",
        "        labels = labels.to(device)\n",
        "\n",
        "        # move things to model\n",
        "        output = model2(token_type_ids=token_type_ids, input_ids=input_ids, attention_mask=attention_mask)\n",
        "\n",
        "        loss_p = criterion(output, labels)\n",
        "        # update running validation loss\n",
        "        valid_loss += loss_p.item() * input_ids.size(0)\n",
        "        # calculate accuracy\n",
        "        proba = torch.exp(output)\n",
        "        top_p, top_class = proba.topk(1, dim=1)\n",
        "        equals = top_class == labels.view(*top_class.shape)\n",
        "        # accuracy += torch.mean(equals.type(torch.FloatTensor)).item()\n",
        "\n",
        "        _, predicted = torch.max(output.data, 1)\n",
        "        total += labels.size(0)\n",
        "        correct += (predicted == labels).sum().item()\n",
        "\n",
        "    return total, correct, valid_loss"
      ]
    },
    {
      "cell_type": "code",
      "execution_count": null,
      "metadata": {
        "colab": {
          "background_save": true
        },
        "id": "eEhdSfXTskWJ"
      },
      "outputs": [],
      "source": [
        "epochs = 5\n",
        "tokenizer_config = {\n",
        "    \"max_length\": 100,\n",
        "    \"padding\": \"max_length\",\n",
        "    \"return_tensors\": \"pt\",\n",
        "    \"truncation\": True,\n",
        "    \"add_special_tokens\": True\n",
        "}"
      ]
    },
    {
      "cell_type": "code",
      "execution_count": null,
      "metadata": {
        "id": "izg4IWcPskWJ"
      },
      "outputs": [],
      "source": [
        "train_loss_data, valid_loss_data = [], []\n",
        "valid_loss_min = np.Inf\n",
        "since = time.time()\n",
        "best_loss = np.inf\n",
        "\n",
        "for epoch in range(epochs):\n",
        "    print(\"Epoch: {}/{}\".format(epoch + 1, epochs))\n",
        "    # monitor training loss\n",
        "    train_loss = 0.0\n",
        "    valid_loss = 0.0\n",
        "    total = 0\n",
        "    correct = 0\n",
        "    e_since = time.time()\n",
        "\n",
        "    # Train Model\n",
        "    train_loss += train(model2, train_dataloader, optimizer, criterion, tokenizer_config)\n",
        "    # Now Evaluate\n",
        "    out = evaluate(model2, test_dataloader, criterion, tokenizer_config)\n",
        "    total += out[0]\n",
        "    correct += out[1]\n",
        "    valid_loss += out[2]\n",
        "    \n",
        "    scheduler.step()\n",
        "\n",
        "    # print training/validation statistics\n",
        "    # calculate average loss over an epoch\n",
        "    train_loss = train_loss / len(train_dataloader.dataset)\n",
        "    valid_loss = valid_loss / len(test_dataloader.dataset)\n",
        "\n",
        "    # calculate train loss and running loss\n",
        "    train_loss_data.append(train_loss * 100)\n",
        "    valid_loss_data.append(valid_loss * 100)\n",
        "    \n",
        "    if valid_loss < best_loss:\n",
        "        best_loss = valid_loss\n",
        "        torch.save(model2.state_dict(), \"/content/drive/MyDrive/Colab Notebooks/Dataset/news_model2.pth\")\n",
        "\n",
        "    print(\"\\tTrain loss:{:.6f}..\".format(train_loss),\n",
        "          \"\\tValid Loss:{:.6f}..\".format(valid_loss),\n",
        "          \"\\tAccuracy: {:.4f}\".format(correct / total * 100))\n",
        "\n",
        "time_elapsed = time.time() - since\n",
        "print('Training completed in {:.0f}m {:.0f}s'.format(\n",
        "    time_elapsed // 60, time_elapsed % 60))"
      ]
    },
    {
      "cell_type": "code",
      "execution_count": null,
      "metadata": {
        "id": "-lUv62GJskWJ"
      },
      "outputs": [],
      "source": [
        "training_acc9 = correct / total * 100\n",
        "training_acc9"
      ]
    },
    {
      "cell_type": "code",
      "execution_count": null,
      "metadata": {
        "id": "1jsIzumeskWK"
      },
      "outputs": [],
      "source": [
        "from matplotlib import pyplot as plt\n",
        "\n",
        "plt.plot(train_loss_data, label=\"Training loss\")\n",
        "plt.plot(valid_loss_data, label=\"validation loss\")\n",
        "plt.legend(frameon=False)"
      ]
    },
    {
      "cell_type": "code",
      "execution_count": null,
      "metadata": {
        "id": "nHYIj6R1skWK"
      },
      "outputs": [],
      "source": [
        "from google.colab import output\n",
        "output.enable_custom_widget_manager()"
      ]
    },
    {
      "cell_type": "code",
      "execution_count": null,
      "metadata": {
        "id": "8LZgbY3EskWK"
      },
      "outputs": [],
      "source": [
        "from google.colab import output\n",
        "output.disable_custom_widget_manager()"
      ]
    },
    {
      "cell_type": "code",
      "execution_count": null,
      "metadata": {
        "id": "T08cYPZ2skWK"
      },
      "outputs": [],
      "source": [
        "model2.load_state_dict(torch.load(\"/content/drive/MyDrive/Colab Notebooks/Dataset/news_model2.pth\", map_location = device))"
      ]
    },
    {
      "cell_type": "code",
      "execution_count": null,
      "metadata": {
        "id": "O348dtJIskWK"
      },
      "outputs": [],
      "source": [
        "all_preds = []\n",
        "all_labels = []\n",
        "\n",
        "for batch in test_dataloader:\n",
        "    text, labels = batch\n",
        "    inputs = tokenizer.batch_encode_plus(\n",
        "        text, **tokenizer_config\n",
        "    )\n",
        "    input_ids = inputs['input_ids'].to(device)\n",
        "    token_type_ids = inputs['token_type_ids'].to(device)\n",
        "    attention_mask = inputs['attention_mask'].to(device)\n",
        "    labels = labels.to(device)\n",
        "\n",
        "    # move things to model\n",
        "    output = model2(token_type_ids=token_type_ids, input_ids=input_ids, attention_mask=attention_mask)\n",
        "    preds = output.detach().cpu().numpy()\n",
        "    preds = np.argmax(preds, axis = 1)\n",
        "    all_preds.extend(preds)\n",
        "    all_labels.extend(labels.cpu().numpy())"
      ]
    },
    {
      "cell_type": "code",
      "execution_count": null,
      "metadata": {
        "id": "l29SsgZqskWK"
      },
      "outputs": [],
      "source": [
        "from sklearn.metrics import classification_report\n",
        "\n",
        "# preds = np.argmax(preds, axis = 1)\n",
        "print(classification_report(all_labels, all_preds))"
      ]
    },
    {
      "cell_type": "code",
      "execution_count": null,
      "metadata": {
        "id": "29cYdvGnskWK"
      },
      "outputs": [],
      "source": [
        "print(model2.fc1.weight.data)"
      ]
    },
    {
      "cell_type": "code",
      "execution_count": null,
      "metadata": {
        "id": "tZOkd3_hskWK"
      },
      "outputs": [],
      "source": [
        "cf_matrix = confusion_matrix(all_labels, all_preds)  "
      ]
    },
    {
      "cell_type": "code",
      "execution_count": null,
      "metadata": {
        "id": "odI0IDcNskWL"
      },
      "outputs": [],
      "source": [
        "import seaborn as sns\n",
        "\n",
        "ax = sns.heatmap(cf_matrix, annot=True, cmap='Blues')\n",
        "\n",
        "ax.set_title('Seaborn Confusion Matrix with labels\\n\\n');\n",
        "ax.set_xlabel('\\nPredicted Values')\n",
        "ax.set_ylabel('Actual Values ');\n",
        "\n",
        "## Ticket labels - List must be in alphabetical order\n",
        "ax.xaxis.set_ticklabels(['False','True'])\n",
        "ax.yaxis.set_ticklabels(['False','True'])\n",
        "\n",
        "## Display the visualization of the Confusion Matrix.\n",
        "plt.show()"
      ]
    },
    {
      "cell_type": "code",
      "execution_count": null,
      "metadata": {
        "id": "51DeZsnZskWL"
      },
      "outputs": [],
      "source": [
        "from sklearn.metrics import precision_score,recall_score,f1_score,accuracy_score\n",
        "test_accuracy9 = accuracy_score(all_labels, all_preds)\n",
        "print('Accuracy: %.3f' % test_accuracy9)\n",
        "precision9 = precision_score(all_labels, all_preds, average='macro')\n",
        "print('Precision: %.3f' % precision9)\n",
        "recall9 = recall_score(all_labels, all_preds, average='macro')\n",
        "print('Recall: %.3f' % recall9)\n",
        "score9 = f1_score(all_labels, all_preds, average='macro')\n",
        "print('F-Measure: %.3f' % score9)"
      ]
    },
    {
      "cell_type": "markdown",
      "metadata": {
        "id": "gBp4YM56skWL"
      },
      "source": [
        "# For Looping"
      ]
    },
    {
      "cell_type": "code",
      "execution_count": null,
      "metadata": {
        "id": "2LbgpHfBskWL"
      },
      "outputs": [],
      "source": [
        "if precision9 >= precision and recall9 >= recall and score9 >= score :\n",
        "  torch.save(model2.state_dict(), \"/content/drive/MyDrive/Colab Notebooks/Dataset/news_model1.pth\")\n",
        "  precision = precision9\n",
        "  recall = recall9\n",
        "  score = score9\n",
        "  model.fc1.weight.data =model2.fc1.weight.data.clone()\n",
        "  model.fc1.bias.data =model2.fc1.bias.data.clone()\n",
        "  model.fc2.weight.data =model2.fc2.weight.data.clone()\n",
        "  model.fc2.bias.data =model2.fc2.bias.data.clone()"
      ]
    },
    {
      "cell_type": "code",
      "execution_count": null,
      "metadata": {
        "id": "ebL6xILFskWL"
      },
      "outputs": [],
      "source": []
    },
    {
      "cell_type": "markdown",
      "metadata": {
        "id": "B04WVAj2skmN"
      },
      "source": [
        "# 10th Model\n"
      ]
    },
    {
      "cell_type": "code",
      "execution_count": null,
      "metadata": {
        "id": "ReAxxbAxskmN"
      },
      "outputs": [],
      "source": []
    },
    {
      "cell_type": "code",
      "execution_count": null,
      "metadata": {
        "id": "4F-1j51cskmN"
      },
      "outputs": [],
      "source": [
        "class NewsDatasets(Dataset):\n",
        "    def __init__(self, data, max_length=100):\n",
        "        self.data = data\n",
        "        \n",
        "        self.config = {\n",
        "            \"max_length\": max_length,\n",
        "            \"padding\": \"max_length\",\n",
        "            \"return_tensors\": \"pt\",\n",
        "            \"truncation\": True,\n",
        "            \"add_special_tokens\": True\n",
        "        }\n",
        "\n",
        "    def __len__(self):\n",
        "        return len(self.data)\n",
        "\n",
        "    def __getitem__(self, idx):\n",
        "        value = self.data.iloc[idx]\n",
        "        return value['head']+\"[SEP]\"+value['con'] , value['label']"
      ]
    },
    {
      "cell_type": "code",
      "execution_count": null,
      "metadata": {
        "id": "JtCCDCPgskmN"
      },
      "outputs": [],
      "source": [
        "auth = pd.read_csv(\"/content/drive/MyDrive/Colab Notebooks/Dataset/For Sentiment/Division /40%/auth_set_10.csv\",encoding='UTF-8')\n",
        "fake = pd.read_csv(\"/content/drive/MyDrive/Colab Notebooks/Dataset/For Sentiment/Division /40%/fake_set_10.csv\",encoding='UTF-8')\n",
        "\n",
        "\n",
        "print(len(auth))\n",
        "print(len(fake))\n"
      ]
    },
    {
      "cell_type": "code",
      "execution_count": null,
      "metadata": {
        "id": "Bmacw6P7skmN"
      },
      "outputs": [],
      "source": [
        "\n",
        "#df = auth[:fake.shape[0]* 7]\n",
        "df = auth.append(fake)\n",
        "df = df.sample(frac=1).reset_index(drop=True)\n",
        "len(df)"
      ]
    },
    {
      "cell_type": "code",
      "execution_count": null,
      "metadata": {
        "id": "kPEGVX2WskmN"
      },
      "outputs": [],
      "source": [
        "from bnlp import BasicTokenizer\n",
        "from bnlp.corpus import stopwords, punctuations, letters, digits\n",
        "\n",
        "btokenizer = BasicTokenizer()\n",
        "\n",
        "def clean_text(text):\n",
        "    tokens = btokenizer.tokenize(text)\n",
        "    filtered = []\n",
        "    for i in tokens:\n",
        "        if i in stopwords:\n",
        "            continue\n",
        "    \n",
        "        if i in punctuations + '‘' + '’':\n",
        "            continue\n",
        "    \n",
        "        filtered.append(i)\n",
        "    \n",
        "    return \" \".join(filtered)\n",
        "\n",
        "print(\"********** Before ***************\")\n",
        "text = df.iloc[1]['content']\n",
        "print(text)\n",
        "print(\"\\n********** After ***************\")\n",
        "print(clean_text(text))"
      ]
    },
    {
      "cell_type": "code",
      "execution_count": null,
      "metadata": {
        "id": "6pXAlqyVskmO"
      },
      "outputs": [],
      "source": [
        "undersample = RandomUnderSampler(sampling_strategy='majority')"
      ]
    },
    {
      "cell_type": "code",
      "execution_count": null,
      "metadata": {
        "id": "JfbFRs1IskmO"
      },
      "outputs": [],
      "source": [
        "df['head'] = df.headline.apply(clean_text)\n",
        "df['con'] = df.content.apply(clean_text)"
      ]
    },
    {
      "cell_type": "code",
      "execution_count": null,
      "metadata": {
        "id": "YTA9qDtzskmO"
      },
      "outputs": [],
      "source": [
        "x= df.drop('label', axis=1)\n",
        "y= df.label"
      ]
    },
    {
      "cell_type": "code",
      "execution_count": null,
      "metadata": {
        "id": "DoRQuquDskmO"
      },
      "outputs": [],
      "source": [
        "X_train_resampled, y_train_resampled = undersample.fit_resample(x, y)"
      ]
    },
    {
      "cell_type": "code",
      "execution_count": null,
      "metadata": {
        "id": "j0eqe-7tskmO"
      },
      "outputs": [],
      "source": [
        "df = X_train_resampled.join(y_train_resampled)"
      ]
    },
    {
      "cell_type": "code",
      "execution_count": null,
      "metadata": {
        "id": "3lyAa0FsskmO"
      },
      "outputs": [],
      "source": [
        "from sklearn.model_selection import train_test_split\n",
        "\n",
        "train_df, test_df = train_test_split(df, test_size=0.2, random_state=121, stratify=df['label'])"
      ]
    },
    {
      "cell_type": "code",
      "execution_count": null,
      "metadata": {
        "id": "xmMxjTC4skmO"
      },
      "outputs": [],
      "source": [
        "len(train_df), len(test_df)"
      ]
    },
    {
      "cell_type": "code",
      "execution_count": null,
      "metadata": {
        "id": "dr8nNz9bskmO"
      },
      "outputs": [],
      "source": [
        "training_data = NewsDatasets(train_df)\n",
        "train_dataloader = DataLoader(training_data, batch_size=1, shuffle=True)"
      ]
    },
    {
      "cell_type": "code",
      "execution_count": null,
      "metadata": {
        "id": "f_c-i2SiskmP"
      },
      "outputs": [],
      "source": [
        "test_data = NewsDatasets(test_df)\n",
        "test_dataloader = DataLoader(test_data, batch_size=1, shuffle=True)"
      ]
    },
    {
      "cell_type": "code",
      "execution_count": null,
      "metadata": {
        "id": "9OiWDVigskmP"
      },
      "outputs": [],
      "source": [
        "class NewsBert2(nn.Module):\n",
        "\n",
        "    def __init__(self, bert):\n",
        "        super(NewsBert2, self).__init__()\n",
        "\n",
        "        self.bert = bert\n",
        "\n",
        "        # dropout layer\n",
        "        self.dropout = nn.Dropout(0.2)\n",
        "\n",
        "        # relu activation function\n",
        "        self.relu = nn.ReLU()\n",
        "\n",
        "        # dense layer 1\n",
        "        self.fc1 = nn.Linear(768, 128)\n",
        "\n",
        "        # dense layer 2 (Output layer)\n",
        "        self.fc2 = nn.Linear(128, 2)  \n",
        "\n",
        "    # define the forward pass\n",
        "    def forward(self, input_ids, token_type_ids, attention_mask):\n",
        "        # pass the inputs to the model\n",
        "        out = self.bert(input_ids, attention_mask=attention_mask, token_type_ids=token_type_ids)\n",
        "\n",
        "        x = self.fc1(out[1])\n",
        "        x = self.relu(x)\n",
        "        # output layer\n",
        "        x = self.fc2(self.dropout(x))\n",
        "        \n",
        "        return x"
      ]
    },
    {
      "cell_type": "code",
      "execution_count": null,
      "metadata": {
        "id": "QfrefSb2skmP"
      },
      "outputs": [],
      "source": [
        "bert_model_name = \"sagorsarker/bangla-bert-base\"\n",
        "bert = BertModel.from_pretrained(bert_model_name)\n",
        "tokenizer = BertTokenizer.from_pretrained(bert_model_name)"
      ]
    },
    {
      "cell_type": "code",
      "execution_count": null,
      "metadata": {
        "id": "oJtY38cNskmP"
      },
      "outputs": [],
      "source": [
        "device = torch.device(\"cuda\" if torch.cuda.is_available() else \"cpu\")\n",
        "model2 = NewsBert(bert)\n",
        "model2.to(device);"
      ]
    },
    {
      "cell_type": "code",
      "execution_count": null,
      "metadata": {
        "id": "3K8nhr2CskmP"
      },
      "outputs": [],
      "source": [
        "from torch.optim.lr_scheduler import StepLR\n",
        "\n",
        "optimizer = AdamW(model2.parameters(), lr=1e-5)\n",
        "criterion = nn.CrossEntropyLoss()\n",
        "scheduler = StepLR(optimizer, step_size=2, gamma=0.1)"
      ]
    },
    {
      "cell_type": "code",
      "execution_count": null,
      "metadata": {
        "id": "3aUOCg74skmP"
      },
      "outputs": [],
      "source": [
        "model2.fc1.weight.data =model.fc1.weight.data.clone()\n",
        "model2.fc1.bias.data =model.fc1.bias.data.clone()\n",
        "model2.fc2.weight.data =model.fc2.weight.data.clone()\n",
        "model2.fc2.bias.data =model.fc2.bias.data.clone()"
      ]
    },
    {
      "cell_type": "code",
      "execution_count": null,
      "metadata": {
        "id": "gQJLZe4YskmP"
      },
      "outputs": [],
      "source": [
        "print(model2.fc1.weight.data)"
      ]
    },
    {
      "cell_type": "code",
      "execution_count": null,
      "metadata": {
        "id": "pHwhbSyUskmP"
      },
      "outputs": [],
      "source": [
        "def train(model, dataloader, optimizer, criterion, config):\n",
        "    model2.train()  # prep model for training\n",
        "    train_loss = 0\n",
        "    for batch in tqdm(dataloader):\n",
        "        text, labels = batch\n",
        "\n",
        "        model2.zero_grad()\n",
        "\n",
        "        inputs = tokenizer.batch_encode_plus(\n",
        "            text, **config\n",
        "        )\n",
        "        input_ids = inputs['input_ids'].to(device)\n",
        "        token_type_ids = inputs['token_type_ids'].to(device)\n",
        "        attention_mask = inputs['attention_mask'].to(device)\n",
        "        labels = labels.to(device)\n",
        "\n",
        "        # move things to model\n",
        "        logs = model2(token_type_ids=token_type_ids, input_ids=input_ids, attention_mask=attention_mask)\n",
        "\n",
        "        loss = criterion(logs, labels)\n",
        "        train_loss += loss.item() * input_ids.size(0)\n",
        "        loss.backward()\n",
        "\n",
        "        # clip the the gradients to 1.0. It helps in preventing the exploding gradient problem\n",
        "        nn.utils.clip_grad_norm_(model2.parameters(), 1.0)\n",
        "        optimizer.step()\n",
        "\n",
        "    return train_loss"
      ]
    },
    {
      "cell_type": "code",
      "execution_count": null,
      "metadata": {
        "id": "La20fngLskmP"
      },
      "outputs": [],
      "source": [
        "def evaluate(model, dataloader, criterion, config):\n",
        "    total = 0\n",
        "    correct = 0\n",
        "    valid_loss = 0.0\n",
        "\n",
        "    model2.eval()  # prep model for evaluation\n",
        "    for batch in dataloader:\n",
        "        text, labels = batch\n",
        "        inputs = tokenizer.batch_encode_plus(\n",
        "            text, **config\n",
        "        )\n",
        "        input_ids = inputs['input_ids'].to(device)\n",
        "        token_type_ids = inputs['token_type_ids'].to(device)\n",
        "        attention_mask = inputs['attention_mask'].to(device)\n",
        "        labels = labels.to(device)\n",
        "\n",
        "        # move things to model\n",
        "        output = model2(token_type_ids=token_type_ids, input_ids=input_ids, attention_mask=attention_mask)\n",
        "\n",
        "        loss_p = criterion(output, labels)\n",
        "        # update running validation loss\n",
        "        valid_loss += loss_p.item() * input_ids.size(0)\n",
        "        # calculate accuracy\n",
        "        proba = torch.exp(output)\n",
        "        top_p, top_class = proba.topk(1, dim=1)\n",
        "        equals = top_class == labels.view(*top_class.shape)\n",
        "        # accuracy += torch.mean(equals.type(torch.FloatTensor)).item()\n",
        "\n",
        "        _, predicted = torch.max(output.data, 1)\n",
        "        total += labels.size(0)\n",
        "        correct += (predicted == labels).sum().item()\n",
        "\n",
        "    return total, correct, valid_loss"
      ]
    },
    {
      "cell_type": "code",
      "execution_count": null,
      "metadata": {
        "id": "fBuxAC0pskmQ"
      },
      "outputs": [],
      "source": [
        "epochs = 5\n",
        "tokenizer_config = {\n",
        "    \"max_length\": 100,\n",
        "    \"padding\": \"max_length\",\n",
        "    \"return_tensors\": \"pt\",\n",
        "    \"truncation\": True,\n",
        "    \"add_special_tokens\": True\n",
        "}"
      ]
    },
    {
      "cell_type": "code",
      "execution_count": null,
      "metadata": {
        "id": "FcJ-5bGIskmQ"
      },
      "outputs": [],
      "source": [
        "train_loss_data, valid_loss_data = [], []\n",
        "valid_loss_min = np.Inf\n",
        "since = time.time()\n",
        "best_loss = np.inf\n",
        "\n",
        "for epoch in range(epochs):\n",
        "    print(\"Epoch: {}/{}\".format(epoch + 1, epochs))\n",
        "    # monitor training loss\n",
        "    train_loss = 0.0\n",
        "    valid_loss = 0.0\n",
        "    total = 0\n",
        "    correct = 0\n",
        "    e_since = time.time()\n",
        "\n",
        "    # Train Model\n",
        "    train_loss += train(model2, train_dataloader, optimizer, criterion, tokenizer_config)\n",
        "    # Now Evaluate\n",
        "    out = evaluate(model2, test_dataloader, criterion, tokenizer_config)\n",
        "    total += out[0]\n",
        "    correct += out[1]\n",
        "    valid_loss += out[2]\n",
        "    \n",
        "    scheduler.step()\n",
        "\n",
        "    # print training/validation statistics\n",
        "    # calculate average loss over an epoch\n",
        "    train_loss = train_loss / len(train_dataloader.dataset)\n",
        "    valid_loss = valid_loss / len(test_dataloader.dataset)\n",
        "\n",
        "    # calculate train loss and running loss\n",
        "    train_loss_data.append(train_loss * 100)\n",
        "    valid_loss_data.append(valid_loss * 100)\n",
        "    \n",
        "    if valid_loss < best_loss:\n",
        "        best_loss = valid_loss\n",
        "        torch.save(model2.state_dict(), \"/content/drive/MyDrive/Colab Notebooks/Dataset/news_model2.pth\")\n",
        "\n",
        "    print(\"\\tTrain loss:{:.6f}..\".format(train_loss),\n",
        "          \"\\tValid Loss:{:.6f}..\".format(valid_loss),\n",
        "          \"\\tAccuracy: {:.4f}\".format(correct / total * 100))\n",
        "\n",
        "time_elapsed = time.time() - since\n",
        "print('Training completed in {:.0f}m {:.0f}s'.format(\n",
        "    time_elapsed // 60, time_elapsed % 60))"
      ]
    },
    {
      "cell_type": "code",
      "execution_count": null,
      "metadata": {
        "id": "97znrfWdskmQ"
      },
      "outputs": [],
      "source": [
        "training_acc10 = correct / total * 100\n",
        "training_acc10"
      ]
    },
    {
      "cell_type": "code",
      "execution_count": null,
      "metadata": {
        "id": "rVPpukL7skmQ"
      },
      "outputs": [],
      "source": [
        "from matplotlib import pyplot as plt\n",
        "\n",
        "plt.plot(train_loss_data, label=\"Training loss\")\n",
        "plt.plot(valid_loss_data, label=\"validation loss\")\n",
        "plt.legend(frameon=False)"
      ]
    },
    {
      "cell_type": "code",
      "execution_count": null,
      "metadata": {
        "id": "Jn1KDQmnskmQ"
      },
      "outputs": [],
      "source": [
        "from google.colab import output\n",
        "output.enable_custom_widget_manager()"
      ]
    },
    {
      "cell_type": "code",
      "execution_count": null,
      "metadata": {
        "id": "puft2cvoskmQ"
      },
      "outputs": [],
      "source": [
        "from google.colab import output\n",
        "output.disable_custom_widget_manager()"
      ]
    },
    {
      "cell_type": "code",
      "execution_count": null,
      "metadata": {
        "id": "Ui3yBHeFskmQ"
      },
      "outputs": [],
      "source": [
        "model2.load_state_dict(torch.load(\"/content/drive/MyDrive/Colab Notebooks/Dataset/news_model2.pth\", map_location = device))"
      ]
    },
    {
      "cell_type": "code",
      "execution_count": null,
      "metadata": {
        "id": "qONcdOAtskmR"
      },
      "outputs": [],
      "source": [
        "all_preds = []\n",
        "all_labels = []\n",
        "\n",
        "for batch in test_dataloader:\n",
        "    text, labels = batch\n",
        "    inputs = tokenizer.batch_encode_plus(\n",
        "        text, **tokenizer_config\n",
        "    )\n",
        "    input_ids = inputs['input_ids'].to(device)\n",
        "    token_type_ids = inputs['token_type_ids'].to(device)\n",
        "    attention_mask = inputs['attention_mask'].to(device)\n",
        "    labels = labels.to(device)\n",
        "\n",
        "    # move things to model\n",
        "    output = model2(token_type_ids=token_type_ids, input_ids=input_ids, attention_mask=attention_mask)\n",
        "    preds = output.detach().cpu().numpy()\n",
        "    preds = np.argmax(preds, axis = 1)\n",
        "    all_preds.extend(preds)\n",
        "    all_labels.extend(labels.cpu().numpy())"
      ]
    },
    {
      "cell_type": "code",
      "execution_count": null,
      "metadata": {
        "id": "ikXsmqlLskmR"
      },
      "outputs": [],
      "source": [
        "from sklearn.metrics import classification_report\n",
        "\n",
        "# preds = np.argmax(preds, axis = 1)\n",
        "print(classification_report(all_labels, all_preds))"
      ]
    },
    {
      "cell_type": "code",
      "execution_count": null,
      "metadata": {
        "id": "LC4hFidgskmR"
      },
      "outputs": [],
      "source": [
        "print(model2.fc1.weight.data)"
      ]
    },
    {
      "cell_type": "code",
      "execution_count": null,
      "metadata": {
        "id": "selAa0THskmR"
      },
      "outputs": [],
      "source": [
        "cf_matrix = confusion_matrix(all_labels, all_preds)  "
      ]
    },
    {
      "cell_type": "code",
      "execution_count": null,
      "metadata": {
        "id": "rFJ-RkE9skmR"
      },
      "outputs": [],
      "source": [
        "import seaborn as sns\n",
        "\n",
        "ax = sns.heatmap(cf_matrix, annot=True, cmap='Blues')\n",
        "\n",
        "ax.set_title('Seaborn Confusion Matrix with labels\\n\\n');\n",
        "ax.set_xlabel('\\nPredicted Values')\n",
        "ax.set_ylabel('Actual Values ');\n",
        "\n",
        "## Ticket labels - List must be in alphabetical order\n",
        "ax.xaxis.set_ticklabels(['False','True'])\n",
        "ax.yaxis.set_ticklabels(['False','True'])\n",
        "\n",
        "## Display the visualization of the Confusion Matrix.\n",
        "plt.show()"
      ]
    },
    {
      "cell_type": "code",
      "execution_count": null,
      "metadata": {
        "id": "tHb1NPOLskmR"
      },
      "outputs": [],
      "source": [
        "from sklearn.metrics import precision_score,recall_score,f1_score,accuracy_score\n",
        "test_accuracy10 = accuracy_score(all_labels, all_preds)\n",
        "print('Accuracy: %.3f' % test_accuracy10)\n",
        "precision10 = precision_score(all_labels, all_preds, average='macro')\n",
        "print('Precision: %.3f' % precision10)\n",
        "recall10 = recall_score(all_labels, all_preds, average='macro')\n",
        "print('Recall: %.3f' % recall10)\n",
        "score10 = f1_score(all_labels, all_preds, average='macro')\n",
        "print('F-Measure: %.3f' % score10)"
      ]
    },
    {
      "cell_type": "markdown",
      "metadata": {
        "id": "xQD79QcuskmR"
      },
      "source": [
        "# For Looping"
      ]
    },
    {
      "cell_type": "code",
      "execution_count": null,
      "metadata": {
        "id": "KyzqR-XJskmR"
      },
      "outputs": [],
      "source": [
        "if precision10 >= precision and recall10 >= recall and score10 >= score :\n",
        "  torch.save(model2.state_dict(), \"/content/drive/MyDrive/Colab Notebooks/Dataset/news_model1.pth\")\n",
        "  precision = precision10\n",
        "  recall = recall10\n",
        "  score = score10\n",
        "  model.fc1.weight.data =model2.fc1.weight.data.clone()\n",
        "  model.fc1.bias.data =model2.fc1.bias.data.clone()\n",
        "  model.fc2.weight.data =model2.fc2.weight.data.clone()\n",
        "  model.fc2.bias.data =model2.fc2.bias.data.clone()"
      ]
    },
    {
      "cell_type": "code",
      "execution_count": null,
      "metadata": {
        "id": "XTHiV4T6skmS"
      },
      "outputs": [],
      "source": []
    },
    {
      "cell_type": "markdown",
      "metadata": {
        "id": "Dy6z7kjQsk4d"
      },
      "source": [
        "# 11th Model\n"
      ]
    },
    {
      "cell_type": "code",
      "execution_count": null,
      "metadata": {
        "id": "hgEgsrslsk4e"
      },
      "outputs": [],
      "source": []
    },
    {
      "cell_type": "code",
      "execution_count": null,
      "metadata": {
        "id": "0-yAmJPCsk4e"
      },
      "outputs": [],
      "source": [
        "class NewsDatasets(Dataset):\n",
        "    def __init__(self, data, max_length=100):\n",
        "        self.data = data\n",
        "        \n",
        "        self.config = {\n",
        "            \"max_length\": max_length,\n",
        "            \"padding\": \"max_length\",\n",
        "            \"return_tensors\": \"pt\",\n",
        "            \"truncation\": True,\n",
        "            \"add_special_tokens\": True\n",
        "        }\n",
        "\n",
        "    def __len__(self):\n",
        "        return len(self.data)\n",
        "\n",
        "    def __getitem__(self, idx):\n",
        "        value = self.data.iloc[idx]\n",
        "        return value['head']+\"[SEP]\"+value['con'] , value['label']"
      ]
    },
    {
      "cell_type": "code",
      "execution_count": null,
      "metadata": {
        "id": "MREse2Ussk4e"
      },
      "outputs": [],
      "source": [
        "auth = pd.read_csv(\"/content/drive/MyDrive/Colab Notebooks/Dataset/For Sentiment/Division /40%/auth_set_11.csv\",encoding='UTF-8')\n",
        "fake = pd.read_csv(\"/content/drive/MyDrive/Colab Notebooks/Dataset/For Sentiment/Division /40%/fake_set_11.csv\",encoding='UTF-8')\n",
        "\n",
        "\n",
        "print(len(auth))\n",
        "print(len(fake))\n"
      ]
    },
    {
      "cell_type": "code",
      "execution_count": null,
      "metadata": {
        "id": "N7GyM_p9sk4e"
      },
      "outputs": [],
      "source": [
        "\n",
        "#df = auth[:fake.shape[0]* 7]\n",
        "df = auth.append(fake)\n",
        "df = df.sample(frac=1).reset_index(drop=True)\n",
        "len(df)"
      ]
    },
    {
      "cell_type": "code",
      "execution_count": null,
      "metadata": {
        "id": "gHYh0n8Hsk4e"
      },
      "outputs": [],
      "source": [
        "from bnlp import BasicTokenizer\n",
        "from bnlp.corpus import stopwords, punctuations, letters, digits\n",
        "\n",
        "btokenizer = BasicTokenizer()\n",
        "\n",
        "def clean_text(text):\n",
        "    tokens = btokenizer.tokenize(text)\n",
        "    filtered = []\n",
        "    for i in tokens:\n",
        "        if i in stopwords:\n",
        "            continue\n",
        "    \n",
        "        if i in punctuations + '‘' + '’':\n",
        "            continue\n",
        "    \n",
        "        filtered.append(i)\n",
        "    \n",
        "    return \" \".join(filtered)\n",
        "\n",
        "print(\"********** Before ***************\")\n",
        "text = df.iloc[1]['content']\n",
        "print(text)\n",
        "print(\"\\n********** After ***************\")\n",
        "print(clean_text(text))"
      ]
    },
    {
      "cell_type": "code",
      "execution_count": null,
      "metadata": {
        "id": "LgM1VnCzsk4f"
      },
      "outputs": [],
      "source": [
        "undersample = RandomUnderSampler(sampling_strategy='majority')"
      ]
    },
    {
      "cell_type": "code",
      "execution_count": null,
      "metadata": {
        "id": "UG1gA-MTsk4f"
      },
      "outputs": [],
      "source": [
        "df['head'] = df.headline.apply(clean_text)\n",
        "df['con'] = df.content.apply(clean_text)"
      ]
    },
    {
      "cell_type": "code",
      "execution_count": null,
      "metadata": {
        "id": "mqqQRjc9sk4f"
      },
      "outputs": [],
      "source": [
        "x= df.drop('label', axis=1)\n",
        "y= df.label"
      ]
    },
    {
      "cell_type": "code",
      "execution_count": null,
      "metadata": {
        "id": "4yCl1hBEsk4f"
      },
      "outputs": [],
      "source": [
        "X_train_resampled, y_train_resampled = undersample.fit_resample(x, y)"
      ]
    },
    {
      "cell_type": "code",
      "execution_count": null,
      "metadata": {
        "id": "-GrJ5szMsk4f"
      },
      "outputs": [],
      "source": [
        "df = X_train_resampled.join(y_train_resampled)"
      ]
    },
    {
      "cell_type": "code",
      "execution_count": null,
      "metadata": {
        "id": "EEtEpJ_Dsk4f"
      },
      "outputs": [],
      "source": [
        "from sklearn.model_selection import train_test_split\n",
        "\n",
        "train_df, test_df = train_test_split(df, test_size=0.2, random_state=121, stratify=df['label'])"
      ]
    },
    {
      "cell_type": "code",
      "execution_count": null,
      "metadata": {
        "id": "Okl823h6sk4f"
      },
      "outputs": [],
      "source": [
        "len(train_df), len(test_df)"
      ]
    },
    {
      "cell_type": "code",
      "execution_count": null,
      "metadata": {
        "id": "7k7ESZmCsk4f"
      },
      "outputs": [],
      "source": [
        "training_data = NewsDatasets(train_df)\n",
        "train_dataloader = DataLoader(training_data, batch_size=1, shuffle=True)"
      ]
    },
    {
      "cell_type": "code",
      "execution_count": null,
      "metadata": {
        "id": "DcNIblLusk4f"
      },
      "outputs": [],
      "source": [
        "test_data = NewsDatasets(test_df)\n",
        "test_dataloader = DataLoader(test_data, batch_size=1, shuffle=True)"
      ]
    },
    {
      "cell_type": "code",
      "execution_count": null,
      "metadata": {
        "id": "U26hWwk7sk4g"
      },
      "outputs": [],
      "source": [
        "class NewsBert2(nn.Module):\n",
        "\n",
        "    def __init__(self, bert):\n",
        "        super(NewsBert2, self).__init__()\n",
        "\n",
        "        self.bert = bert\n",
        "\n",
        "        # dropout layer\n",
        "        self.dropout = nn.Dropout(0.2)\n",
        "\n",
        "        # relu activation function\n",
        "        self.relu = nn.ReLU()\n",
        "\n",
        "        # dense layer 1\n",
        "        self.fc1 = nn.Linear(768, 128)\n",
        "\n",
        "        # dense layer 2 (Output layer)\n",
        "        self.fc2 = nn.Linear(128, 2)  \n",
        "\n",
        "    # define the forward pass\n",
        "    def forward(self, input_ids, token_type_ids, attention_mask):\n",
        "        # pass the inputs to the model\n",
        "        out = self.bert(input_ids, attention_mask=attention_mask, token_type_ids=token_type_ids)\n",
        "\n",
        "        x = self.fc1(out[1])\n",
        "        x = self.relu(x)\n",
        "        # output layer\n",
        "        x = self.fc2(self.dropout(x))\n",
        "        \n",
        "        return x"
      ]
    },
    {
      "cell_type": "code",
      "execution_count": null,
      "metadata": {
        "id": "e_kR_naJsk4g"
      },
      "outputs": [],
      "source": [
        "bert_model_name = \"sagorsarker/bangla-bert-base\"\n",
        "bert = BertModel.from_pretrained(bert_model_name)\n",
        "tokenizer = BertTokenizer.from_pretrained(bert_model_name)"
      ]
    },
    {
      "cell_type": "code",
      "execution_count": null,
      "metadata": {
        "id": "Ge3B7t4Ysk4g"
      },
      "outputs": [],
      "source": [
        "device = torch.device(\"cuda\" if torch.cuda.is_available() else \"cpu\")\n",
        "model2 = NewsBert(bert)\n",
        "model2.to(device);"
      ]
    },
    {
      "cell_type": "code",
      "execution_count": null,
      "metadata": {
        "id": "JDCzVc45sk4g"
      },
      "outputs": [],
      "source": [
        "from torch.optim.lr_scheduler import StepLR\n",
        "\n",
        "optimizer = AdamW(model2.parameters(), lr=1e-5)\n",
        "criterion = nn.CrossEntropyLoss()\n",
        "scheduler = StepLR(optimizer, step_size=2, gamma=0.1)"
      ]
    },
    {
      "cell_type": "code",
      "execution_count": null,
      "metadata": {
        "id": "oL8ATVR4sk4g"
      },
      "outputs": [],
      "source": [
        "model2.fc1.weight.data =model.fc1.weight.data.clone()\n",
        "model2.fc1.bias.data =model.fc1.bias.data.clone()\n",
        "model2.fc2.weight.data =model.fc2.weight.data.clone()\n",
        "model2.fc2.bias.data =model.fc2.bias.data.clone()"
      ]
    },
    {
      "cell_type": "code",
      "execution_count": null,
      "metadata": {
        "id": "5MW6WNBysk4g"
      },
      "outputs": [],
      "source": [
        "print(model2.fc1.weight.data)"
      ]
    },
    {
      "cell_type": "code",
      "execution_count": null,
      "metadata": {
        "id": "AF0fXMZpsk4g"
      },
      "outputs": [],
      "source": [
        "def train(model, dataloader, optimizer, criterion, config):\n",
        "    model2.train()  # prep model for training\n",
        "    train_loss = 0\n",
        "    for batch in tqdm(dataloader):\n",
        "        text, labels = batch\n",
        "\n",
        "        model2.zero_grad()\n",
        "\n",
        "        inputs = tokenizer.batch_encode_plus(\n",
        "            text, **config\n",
        "        )\n",
        "        input_ids = inputs['input_ids'].to(device)\n",
        "        token_type_ids = inputs['token_type_ids'].to(device)\n",
        "        attention_mask = inputs['attention_mask'].to(device)\n",
        "        labels = labels.to(device)\n",
        "\n",
        "        # move things to model\n",
        "        logs = model2(token_type_ids=token_type_ids, input_ids=input_ids, attention_mask=attention_mask)\n",
        "\n",
        "        loss = criterion(logs, labels)\n",
        "        train_loss += loss.item() * input_ids.size(0)\n",
        "        loss.backward()\n",
        "\n",
        "        # clip the the gradients to 1.0. It helps in preventing the exploding gradient problem\n",
        "        nn.utils.clip_grad_norm_(model2.parameters(), 1.0)\n",
        "        optimizer.step()\n",
        "\n",
        "    return train_loss"
      ]
    },
    {
      "cell_type": "code",
      "execution_count": null,
      "metadata": {
        "id": "7Ktp8Wrfsk4g"
      },
      "outputs": [],
      "source": [
        "def evaluate(model, dataloader, criterion, config):\n",
        "    total = 0\n",
        "    correct = 0\n",
        "    valid_loss = 0.0\n",
        "\n",
        "    model2.eval()  # prep model for evaluation\n",
        "    for batch in dataloader:\n",
        "        text, labels = batch\n",
        "        inputs = tokenizer.batch_encode_plus(\n",
        "            text, **config\n",
        "        )\n",
        "        input_ids = inputs['input_ids'].to(device)\n",
        "        token_type_ids = inputs['token_type_ids'].to(device)\n",
        "        attention_mask = inputs['attention_mask'].to(device)\n",
        "        labels = labels.to(device)\n",
        "\n",
        "        # move things to model\n",
        "        output = model2(token_type_ids=token_type_ids, input_ids=input_ids, attention_mask=attention_mask)\n",
        "\n",
        "        loss_p = criterion(output, labels)\n",
        "        # update running validation loss\n",
        "        valid_loss += loss_p.item() * input_ids.size(0)\n",
        "        # calculate accuracy\n",
        "        proba = torch.exp(output)\n",
        "        top_p, top_class = proba.topk(1, dim=1)\n",
        "        equals = top_class == labels.view(*top_class.shape)\n",
        "        # accuracy += torch.mean(equals.type(torch.FloatTensor)).item()\n",
        "\n",
        "        _, predicted = torch.max(output.data, 1)\n",
        "        total += labels.size(0)\n",
        "        correct += (predicted == labels).sum().item()\n",
        "\n",
        "    return total, correct, valid_loss"
      ]
    },
    {
      "cell_type": "code",
      "execution_count": null,
      "metadata": {
        "id": "J8MHa3PCsk4h"
      },
      "outputs": [],
      "source": [
        "epochs = 5\n",
        "tokenizer_config = {\n",
        "    \"max_length\": 100,\n",
        "    \"padding\": \"max_length\",\n",
        "    \"return_tensors\": \"pt\",\n",
        "    \"truncation\": True,\n",
        "    \"add_special_tokens\": True\n",
        "}"
      ]
    },
    {
      "cell_type": "code",
      "execution_count": null,
      "metadata": {
        "id": "dxeUGnObsk4h"
      },
      "outputs": [],
      "source": [
        "train_loss_data, valid_loss_data = [], []\n",
        "valid_loss_min = np.Inf\n",
        "since = time.time()\n",
        "best_loss = np.inf\n",
        "\n",
        "for epoch in range(epochs):\n",
        "    print(\"Epoch: {}/{}\".format(epoch + 1, epochs))\n",
        "    # monitor training loss\n",
        "    train_loss = 0.0\n",
        "    valid_loss = 0.0\n",
        "    total = 0\n",
        "    correct = 0\n",
        "    e_since = time.time()\n",
        "\n",
        "    # Train Model\n",
        "    train_loss += train(model2, train_dataloader, optimizer, criterion, tokenizer_config)\n",
        "    # Now Evaluate\n",
        "    out = evaluate(model2, test_dataloader, criterion, tokenizer_config)\n",
        "    total += out[0]\n",
        "    correct += out[1]\n",
        "    valid_loss += out[2]\n",
        "    \n",
        "    scheduler.step()\n",
        "\n",
        "    # print training/validation statistics\n",
        "    # calculate average loss over an epoch\n",
        "    train_loss = train_loss / len(train_dataloader.dataset)\n",
        "    valid_loss = valid_loss / len(test_dataloader.dataset)\n",
        "\n",
        "    # calculate train loss and running loss\n",
        "    train_loss_data.append(train_loss * 100)\n",
        "    valid_loss_data.append(valid_loss * 100)\n",
        "    \n",
        "    if valid_loss < best_loss:\n",
        "        best_loss = valid_loss\n",
        "        torch.save(model2.state_dict(), \"/content/drive/MyDrive/Colab Notebooks/Dataset/news_model2.pth\")\n",
        "\n",
        "    print(\"\\tTrain loss:{:.6f}..\".format(train_loss),\n",
        "          \"\\tValid Loss:{:.6f}..\".format(valid_loss),\n",
        "          \"\\tAccuracy: {:.4f}\".format(correct / total * 100))\n",
        "\n",
        "time_elapsed = time.time() - since\n",
        "print('Training completed in {:.0f}m {:.0f}s'.format(\n",
        "    time_elapsed // 60, time_elapsed % 60))"
      ]
    },
    {
      "cell_type": "code",
      "execution_count": null,
      "metadata": {
        "id": "Q8o-cA7Msk4h"
      },
      "outputs": [],
      "source": [
        "training_acc11 = correct / total * 100\n",
        "training_acc11"
      ]
    },
    {
      "cell_type": "code",
      "execution_count": null,
      "metadata": {
        "id": "KhmcwCNQsk4i"
      },
      "outputs": [],
      "source": [
        "from matplotlib import pyplot as plt\n",
        "\n",
        "plt.plot(train_loss_data, label=\"Training loss\")\n",
        "plt.plot(valid_loss_data, label=\"validation loss\")\n",
        "plt.legend(frameon=False)"
      ]
    },
    {
      "cell_type": "code",
      "execution_count": null,
      "metadata": {
        "id": "PtCwlEgcsk4i"
      },
      "outputs": [],
      "source": [
        "from google.colab import output\n",
        "output.enable_custom_widget_manager()"
      ]
    },
    {
      "cell_type": "code",
      "execution_count": null,
      "metadata": {
        "id": "iUUbDtPTsk4i"
      },
      "outputs": [],
      "source": [
        "from google.colab import output\n",
        "output.disable_custom_widget_manager()"
      ]
    },
    {
      "cell_type": "code",
      "execution_count": null,
      "metadata": {
        "id": "5sj6Fh5esk4j"
      },
      "outputs": [],
      "source": [
        "model2.load_state_dict(torch.load(\"/content/drive/MyDrive/Colab Notebooks/Dataset/news_model2.pth\", map_location = device))"
      ]
    },
    {
      "cell_type": "code",
      "execution_count": null,
      "metadata": {
        "id": "qZvw-GYbsk4j"
      },
      "outputs": [],
      "source": [
        "all_preds = []\n",
        "all_labels = []\n",
        "\n",
        "for batch in test_dataloader:\n",
        "    text, labels = batch\n",
        "    inputs = tokenizer.batch_encode_plus(\n",
        "        text, **tokenizer_config\n",
        "    )\n",
        "    input_ids = inputs['input_ids'].to(device)\n",
        "    token_type_ids = inputs['token_type_ids'].to(device)\n",
        "    attention_mask = inputs['attention_mask'].to(device)\n",
        "    labels = labels.to(device)\n",
        "\n",
        "    # move things to model\n",
        "    output = model2(token_type_ids=token_type_ids, input_ids=input_ids, attention_mask=attention_mask)\n",
        "    preds = output.detach().cpu().numpy()\n",
        "    preds = np.argmax(preds, axis = 1)\n",
        "    all_preds.extend(preds)\n",
        "    all_labels.extend(labels.cpu().numpy())"
      ]
    },
    {
      "cell_type": "code",
      "execution_count": null,
      "metadata": {
        "id": "n3g5mEk4sk4j"
      },
      "outputs": [],
      "source": [
        "from sklearn.metrics import classification_report\n",
        "\n",
        "# preds = np.argmax(preds, axis = 1)\n",
        "print(classification_report(all_labels, all_preds))"
      ]
    },
    {
      "cell_type": "code",
      "execution_count": null,
      "metadata": {
        "id": "gGmj8qbKsk4k"
      },
      "outputs": [],
      "source": [
        "print(model2.fc1.weight.data)"
      ]
    },
    {
      "cell_type": "code",
      "execution_count": null,
      "metadata": {
        "id": "XMVlvAH3sk4k"
      },
      "outputs": [],
      "source": [
        "cf_matrix = confusion_matrix(all_labels, all_preds)  "
      ]
    },
    {
      "cell_type": "code",
      "execution_count": null,
      "metadata": {
        "id": "2bgsTO9csk4k"
      },
      "outputs": [],
      "source": [
        "import seaborn as sns\n",
        "\n",
        "ax = sns.heatmap(cf_matrix, annot=True, cmap='Blues')\n",
        "\n",
        "ax.set_title('Seaborn Confusion Matrix with labels\\n\\n');\n",
        "ax.set_xlabel('\\nPredicted Values')\n",
        "ax.set_ylabel('Actual Values ');\n",
        "\n",
        "## Ticket labels - List must be in alphabetical order\n",
        "ax.xaxis.set_ticklabels(['False','True'])\n",
        "ax.yaxis.set_ticklabels(['False','True'])\n",
        "\n",
        "## Display the visualization of the Confusion Matrix.\n",
        "plt.show()"
      ]
    },
    {
      "cell_type": "code",
      "execution_count": null,
      "metadata": {
        "id": "Q66jf60Usk4k"
      },
      "outputs": [],
      "source": [
        "from sklearn.metrics import precision_score,recall_score,f1_score,accuracy_score\n",
        "test_accuracy11 = accuracy_score(all_labels, all_preds)\n",
        "print('Accuracy: %.3f' % test_accuracy11)\n",
        "precision11 = precision_score(all_labels, all_preds, average='macro')\n",
        "print('Precision: %.3f' % precision11)\n",
        "recall11 = recall_score(all_labels, all_preds, average='macro')\n",
        "print('Recall: %.3f' % recall11)\n",
        "score11 = f1_score(all_labels, all_preds, average='macro')\n",
        "print('F-Measure: %.3f' % score11)"
      ]
    },
    {
      "cell_type": "markdown",
      "metadata": {
        "id": "N2Eyw9Mask4l"
      },
      "source": [
        "# For Looping"
      ]
    },
    {
      "cell_type": "code",
      "execution_count": null,
      "metadata": {
        "id": "X6wp429zsk4l"
      },
      "outputs": [],
      "source": [
        "if precision11 >= precision and recall11 >= recall and score11 >= score :\n",
        "  torch.save(model2.state_dict(), \"/content/drive/MyDrive/Colab Notebooks/Dataset/news_model1.pth\")\n",
        "  precision = precision11\n",
        "  recall = recall11\n",
        "  score = score11\n",
        "  model.fc1.weight.data =model2.fc1.weight.data.clone()\n",
        "  model.fc1.bias.data =model2.fc1.bias.data.clone()\n",
        "  model.fc2.weight.data =model2.fc2.weight.data.clone()\n",
        "  model.fc2.bias.data =model2.fc2.bias.data.clone()"
      ]
    },
    {
      "cell_type": "code",
      "execution_count": null,
      "metadata": {
        "id": "1yiEq9A5sk4l"
      },
      "outputs": [],
      "source": []
    },
    {
      "cell_type": "markdown",
      "metadata": {
        "id": "nCfcEmPPslJI"
      },
      "source": [
        "# 12th Model\n"
      ]
    },
    {
      "cell_type": "code",
      "execution_count": null,
      "metadata": {
        "id": "TpV3h4bJslJI"
      },
      "outputs": [],
      "source": []
    },
    {
      "cell_type": "code",
      "execution_count": null,
      "metadata": {
        "id": "OIYbS0hTslJJ"
      },
      "outputs": [],
      "source": [
        "class NewsDatasets(Dataset):\n",
        "    def __init__(self, data, max_length=100):\n",
        "        self.data = data\n",
        "        \n",
        "        self.config = {\n",
        "            \"max_length\": max_length,\n",
        "            \"padding\": \"max_length\",\n",
        "            \"return_tensors\": \"pt\",\n",
        "            \"truncation\": True,\n",
        "            \"add_special_tokens\": True\n",
        "        }\n",
        "\n",
        "    def __len__(self):\n",
        "        return len(self.data)\n",
        "\n",
        "    def __getitem__(self, idx):\n",
        "        value = self.data.iloc[idx]\n",
        "        return value['head']+\"[SEP]\"+value['con'] , value['label']"
      ]
    },
    {
      "cell_type": "code",
      "execution_count": null,
      "metadata": {
        "id": "TXLcDX4DslJJ"
      },
      "outputs": [],
      "source": [
        "auth = pd.read_csv(\"/content/drive/MyDrive/Colab Notebooks/Dataset/For Sentiment/Division /40%/auth_set_12.csv\",encoding='UTF-8')\n",
        "fake = pd.read_csv(\"/content/drive/MyDrive/Colab Notebooks/Dataset/For Sentiment/Division /40%/fake_set_12.csv\",encoding='UTF-8')\n",
        "\n",
        "\n",
        "print(len(auth))\n",
        "print(len(fake))\n"
      ]
    },
    {
      "cell_type": "code",
      "execution_count": null,
      "metadata": {
        "id": "MMi0ezYislJJ"
      },
      "outputs": [],
      "source": [
        "\n",
        "#df = auth[:fake.shape[0]* 7]\n",
        "df = auth.append(fake)\n",
        "df = df.sample(frac=1).reset_index(drop=True)\n",
        "len(df)"
      ]
    },
    {
      "cell_type": "code",
      "execution_count": null,
      "metadata": {
        "id": "_rbNbHmwslJJ"
      },
      "outputs": [],
      "source": [
        "from bnlp import BasicTokenizer\n",
        "from bnlp.corpus import stopwords, punctuations, letters, digits\n",
        "\n",
        "btokenizer = BasicTokenizer()\n",
        "\n",
        "def clean_text(text):\n",
        "    tokens = btokenizer.tokenize(text)\n",
        "    filtered = []\n",
        "    for i in tokens:\n",
        "        if i in stopwords:\n",
        "            continue\n",
        "    \n",
        "        if i in punctuations + '‘' + '’':\n",
        "            continue\n",
        "    \n",
        "        filtered.append(i)\n",
        "    \n",
        "    return \" \".join(filtered)\n",
        "\n",
        "print(\"********** Before ***************\")\n",
        "text = df.iloc[1]['content']\n",
        "print(text)\n",
        "print(\"\\n********** After ***************\")\n",
        "print(clean_text(text))"
      ]
    },
    {
      "cell_type": "code",
      "execution_count": null,
      "metadata": {
        "id": "51u0pFq9slJK"
      },
      "outputs": [],
      "source": [
        "undersample = RandomUnderSampler(sampling_strategy='majority')"
      ]
    },
    {
      "cell_type": "code",
      "execution_count": null,
      "metadata": {
        "id": "PItytJ11slJK"
      },
      "outputs": [],
      "source": [
        "df['head'] = df.headline.apply(clean_text)\n",
        "df['con'] = df.content.apply(clean_text)"
      ]
    },
    {
      "cell_type": "code",
      "execution_count": null,
      "metadata": {
        "id": "67-MrQycslJK"
      },
      "outputs": [],
      "source": [
        "x= df.drop('label', axis=1)\n",
        "y= df.label"
      ]
    },
    {
      "cell_type": "code",
      "execution_count": null,
      "metadata": {
        "id": "BoGIh9Z1slJK"
      },
      "outputs": [],
      "source": [
        "X_train_resampled, y_train_resampled = undersample.fit_resample(x, y)"
      ]
    },
    {
      "cell_type": "code",
      "execution_count": null,
      "metadata": {
        "id": "IXD1iAK2slJK"
      },
      "outputs": [],
      "source": [
        "df = X_train_resampled.join(y_train_resampled)"
      ]
    },
    {
      "cell_type": "code",
      "execution_count": null,
      "metadata": {
        "id": "nqGPupBmslJK"
      },
      "outputs": [],
      "source": [
        "from sklearn.model_selection import train_test_split\n",
        "\n",
        "train_df, test_df = train_test_split(df, test_size=0.2, random_state=121, stratify=df['label'])"
      ]
    },
    {
      "cell_type": "code",
      "execution_count": null,
      "metadata": {
        "id": "PCk3H0EAslJK"
      },
      "outputs": [],
      "source": [
        "len(train_df), len(test_df)"
      ]
    },
    {
      "cell_type": "code",
      "execution_count": null,
      "metadata": {
        "id": "qg74owcqslJL"
      },
      "outputs": [],
      "source": [
        "training_data = NewsDatasets(train_df)\n",
        "train_dataloader = DataLoader(training_data, batch_size=1, shuffle=True)"
      ]
    },
    {
      "cell_type": "code",
      "execution_count": null,
      "metadata": {
        "id": "5-G9D4X4slJL"
      },
      "outputs": [],
      "source": [
        "test_data = NewsDatasets(test_df)\n",
        "test_dataloader = DataLoader(test_data, batch_size=1, shuffle=True)"
      ]
    },
    {
      "cell_type": "code",
      "execution_count": null,
      "metadata": {
        "id": "oo9KOp11slJL"
      },
      "outputs": [],
      "source": [
        "class NewsBert2(nn.Module):\n",
        "\n",
        "    def __init__(self, bert):\n",
        "        super(NewsBert2, self).__init__()\n",
        "\n",
        "        self.bert = bert\n",
        "\n",
        "        # dropout layer\n",
        "        self.dropout = nn.Dropout(0.2)\n",
        "\n",
        "        # relu activation function\n",
        "        self.relu = nn.ReLU()\n",
        "\n",
        "        # dense layer 1\n",
        "        self.fc1 = nn.Linear(768, 128)\n",
        "\n",
        "        # dense layer 2 (Output layer)\n",
        "        self.fc2 = nn.Linear(128, 2)  \n",
        "\n",
        "    # define the forward pass\n",
        "    def forward(self, input_ids, token_type_ids, attention_mask):\n",
        "        # pass the inputs to the model\n",
        "        out = self.bert(input_ids, attention_mask=attention_mask, token_type_ids=token_type_ids)\n",
        "\n",
        "        x = self.fc1(out[1])\n",
        "        x = self.relu(x)\n",
        "        # output layer\n",
        "        x = self.fc2(self.dropout(x))\n",
        "        \n",
        "        return x"
      ]
    },
    {
      "cell_type": "code",
      "execution_count": null,
      "metadata": {
        "id": "oIV8sss_slJL"
      },
      "outputs": [],
      "source": [
        "bert_model_name = \"sagorsarker/bangla-bert-base\"\n",
        "bert = BertModel.from_pretrained(bert_model_name)\n",
        "tokenizer = BertTokenizer.from_pretrained(bert_model_name)"
      ]
    },
    {
      "cell_type": "code",
      "execution_count": null,
      "metadata": {
        "id": "uUX34K4QslJL"
      },
      "outputs": [],
      "source": [
        "device = torch.device(\"cuda\" if torch.cuda.is_available() else \"cpu\")\n",
        "model2 = NewsBert(bert)\n",
        "model2.to(device);"
      ]
    },
    {
      "cell_type": "code",
      "execution_count": null,
      "metadata": {
        "id": "CIq4ZB35slJL"
      },
      "outputs": [],
      "source": [
        "from torch.optim.lr_scheduler import StepLR\n",
        "\n",
        "optimizer = AdamW(model2.parameters(), lr=1e-5)\n",
        "criterion = nn.CrossEntropyLoss()\n",
        "scheduler = StepLR(optimizer, step_size=2, gamma=0.1)"
      ]
    },
    {
      "cell_type": "code",
      "execution_count": null,
      "metadata": {
        "id": "Mfe2CFgFslJL"
      },
      "outputs": [],
      "source": [
        "model2.fc1.weight.data =model.fc1.weight.data.clone()\n",
        "model2.fc1.bias.data =model.fc1.bias.data.clone()\n",
        "model2.fc2.weight.data =model.fc2.weight.data.clone()\n",
        "model2.fc2.bias.data =model.fc2.bias.data.clone()"
      ]
    },
    {
      "cell_type": "code",
      "execution_count": null,
      "metadata": {
        "id": "H2kONVd-slJL"
      },
      "outputs": [],
      "source": [
        "print(model2.fc1.weight.data)"
      ]
    },
    {
      "cell_type": "code",
      "execution_count": null,
      "metadata": {
        "id": "WYvsKRP2slJL"
      },
      "outputs": [],
      "source": [
        "def train(model, dataloader, optimizer, criterion, config):\n",
        "    model2.train()  # prep model for training\n",
        "    train_loss = 0\n",
        "    for batch in tqdm(dataloader):\n",
        "        text, labels = batch\n",
        "\n",
        "        model2.zero_grad()\n",
        "\n",
        "        inputs = tokenizer.batch_encode_plus(\n",
        "            text, **config\n",
        "        )\n",
        "        input_ids = inputs['input_ids'].to(device)\n",
        "        token_type_ids = inputs['token_type_ids'].to(device)\n",
        "        attention_mask = inputs['attention_mask'].to(device)\n",
        "        labels = labels.to(device)\n",
        "\n",
        "        # move things to model\n",
        "        logs = model2(token_type_ids=token_type_ids, input_ids=input_ids, attention_mask=attention_mask)\n",
        "\n",
        "        loss = criterion(logs, labels)\n",
        "        train_loss += loss.item() * input_ids.size(0)\n",
        "        loss.backward()\n",
        "\n",
        "        # clip the the gradients to 1.0. It helps in preventing the exploding gradient problem\n",
        "        nn.utils.clip_grad_norm_(model2.parameters(), 1.0)\n",
        "        optimizer.step()\n",
        "\n",
        "    return train_loss"
      ]
    },
    {
      "cell_type": "code",
      "execution_count": null,
      "metadata": {
        "id": "oLPzVy3dslJM"
      },
      "outputs": [],
      "source": [
        "def evaluate(model, dataloader, criterion, config):\n",
        "    total = 0\n",
        "    correct = 0\n",
        "    valid_loss = 0.0\n",
        "\n",
        "    model2.eval()  # prep model for evaluation\n",
        "    for batch in dataloader:\n",
        "        text, labels = batch\n",
        "        inputs = tokenizer.batch_encode_plus(\n",
        "            text, **config\n",
        "        )\n",
        "        input_ids = inputs['input_ids'].to(device)\n",
        "        token_type_ids = inputs['token_type_ids'].to(device)\n",
        "        attention_mask = inputs['attention_mask'].to(device)\n",
        "        labels = labels.to(device)\n",
        "\n",
        "        # move things to model\n",
        "        output = model2(token_type_ids=token_type_ids, input_ids=input_ids, attention_mask=attention_mask)\n",
        "\n",
        "        loss_p = criterion(output, labels)\n",
        "        # update running validation loss\n",
        "        valid_loss += loss_p.item() * input_ids.size(0)\n",
        "        # calculate accuracy\n",
        "        proba = torch.exp(output)\n",
        "        top_p, top_class = proba.topk(1, dim=1)\n",
        "        equals = top_class == labels.view(*top_class.shape)\n",
        "        # accuracy += torch.mean(equals.type(torch.FloatTensor)).item()\n",
        "\n",
        "        _, predicted = torch.max(output.data, 1)\n",
        "        total += labels.size(0)\n",
        "        correct += (predicted == labels).sum().item()\n",
        "\n",
        "    return total, correct, valid_loss"
      ]
    },
    {
      "cell_type": "code",
      "execution_count": null,
      "metadata": {
        "id": "FYagAatBslJM"
      },
      "outputs": [],
      "source": [
        "epochs = 5\n",
        "tokenizer_config = {\n",
        "    \"max_length\": 100,\n",
        "    \"padding\": \"max_length\",\n",
        "    \"return_tensors\": \"pt\",\n",
        "    \"truncation\": True,\n",
        "    \"add_special_tokens\": True\n",
        "}"
      ]
    },
    {
      "cell_type": "code",
      "execution_count": null,
      "metadata": {
        "id": "eJSfx64JslJM"
      },
      "outputs": [],
      "source": [
        "train_loss_data, valid_loss_data = [], []\n",
        "valid_loss_min = np.Inf\n",
        "since = time.time()\n",
        "best_loss = np.inf\n",
        "\n",
        "for epoch in range(epochs):\n",
        "    print(\"Epoch: {}/{}\".format(epoch + 1, epochs))\n",
        "    # monitor training loss\n",
        "    train_loss = 0.0\n",
        "    valid_loss = 0.0\n",
        "    total = 0\n",
        "    correct = 0\n",
        "    e_since = time.time()\n",
        "\n",
        "    # Train Model\n",
        "    train_loss += train(model2, train_dataloader, optimizer, criterion, tokenizer_config)\n",
        "    # Now Evaluate\n",
        "    out = evaluate(model2, test_dataloader, criterion, tokenizer_config)\n",
        "    total += out[0]\n",
        "    correct += out[1]\n",
        "    valid_loss += out[2]\n",
        "    \n",
        "    scheduler.step()\n",
        "\n",
        "    # print training/validation statistics\n",
        "    # calculate average loss over an epoch\n",
        "    train_loss = train_loss / len(train_dataloader.dataset)\n",
        "    valid_loss = valid_loss / len(test_dataloader.dataset)\n",
        "\n",
        "    # calculate train loss and running loss\n",
        "    train_loss_data.append(train_loss * 100)\n",
        "    valid_loss_data.append(valid_loss * 100)\n",
        "    \n",
        "    if valid_loss < best_loss:\n",
        "        best_loss = valid_loss\n",
        "        torch.save(model2.state_dict(), \"/content/drive/MyDrive/Colab Notebooks/Dataset/news_model2.pth\")\n",
        "\n",
        "    print(\"\\tTrain loss:{:.6f}..\".format(train_loss),\n",
        "          \"\\tValid Loss:{:.6f}..\".format(valid_loss),\n",
        "          \"\\tAccuracy: {:.4f}\".format(correct / total * 100))\n",
        "\n",
        "time_elapsed = time.time() - since\n",
        "print('Training completed in {:.0f}m {:.0f}s'.format(\n",
        "    time_elapsed // 60, time_elapsed % 60))"
      ]
    },
    {
      "cell_type": "code",
      "execution_count": null,
      "metadata": {
        "id": "AOfUKu2eslJM"
      },
      "outputs": [],
      "source": [
        "training_acc12 = correct / total * 100\n",
        "training_acc12"
      ]
    },
    {
      "cell_type": "code",
      "execution_count": null,
      "metadata": {
        "id": "ibWWVkLNslJM"
      },
      "outputs": [],
      "source": [
        "from matplotlib import pyplot as plt\n",
        "\n",
        "plt.plot(train_loss_data, label=\"Training loss\")\n",
        "plt.plot(valid_loss_data, label=\"validation loss\")\n",
        "plt.legend(frameon=False)"
      ]
    },
    {
      "cell_type": "code",
      "execution_count": null,
      "metadata": {
        "id": "KIvP-0OtslJM"
      },
      "outputs": [],
      "source": [
        "from google.colab import output\n",
        "output.enable_custom_widget_manager()"
      ]
    },
    {
      "cell_type": "code",
      "execution_count": null,
      "metadata": {
        "id": "JsUeQUtmslJM"
      },
      "outputs": [],
      "source": [
        "from google.colab import output\n",
        "output.disable_custom_widget_manager()"
      ]
    },
    {
      "cell_type": "code",
      "execution_count": null,
      "metadata": {
        "id": "dYMs4A1rslJN"
      },
      "outputs": [],
      "source": [
        "model2.load_state_dict(torch.load(\"/content/drive/MyDrive/Colab Notebooks/Dataset/news_model2.pth\", map_location = device))"
      ]
    },
    {
      "cell_type": "code",
      "execution_count": null,
      "metadata": {
        "id": "nj2J9agWslJN"
      },
      "outputs": [],
      "source": [
        "all_preds = []\n",
        "all_labels = []\n",
        "\n",
        "for batch in test_dataloader:\n",
        "    text, labels = batch\n",
        "    inputs = tokenizer.batch_encode_plus(\n",
        "        text, **tokenizer_config\n",
        "    )\n",
        "    input_ids = inputs['input_ids'].to(device)\n",
        "    token_type_ids = inputs['token_type_ids'].to(device)\n",
        "    attention_mask = inputs['attention_mask'].to(device)\n",
        "    labels = labels.to(device)\n",
        "\n",
        "    # move things to model\n",
        "    output = model2(token_type_ids=token_type_ids, input_ids=input_ids, attention_mask=attention_mask)\n",
        "    preds = output.detach().cpu().numpy()\n",
        "    preds = np.argmax(preds, axis = 1)\n",
        "    all_preds.extend(preds)\n",
        "    all_labels.extend(labels.cpu().numpy())"
      ]
    },
    {
      "cell_type": "code",
      "execution_count": null,
      "metadata": {
        "id": "jRCqadNUslJN"
      },
      "outputs": [],
      "source": [
        "from sklearn.metrics import classification_report\n",
        "\n",
        "# preds = np.argmax(preds, axis = 1)\n",
        "print(classification_report(all_labels, all_preds))"
      ]
    },
    {
      "cell_type": "code",
      "execution_count": null,
      "metadata": {
        "id": "AId3p6odslJN"
      },
      "outputs": [],
      "source": [
        "print(model2.fc1.weight.data)"
      ]
    },
    {
      "cell_type": "code",
      "execution_count": null,
      "metadata": {
        "id": "qG7MFJLxslJN"
      },
      "outputs": [],
      "source": [
        "cf_matrix = confusion_matrix(all_labels, all_preds)  "
      ]
    },
    {
      "cell_type": "code",
      "execution_count": null,
      "metadata": {
        "id": "tlCxWj3bslJN"
      },
      "outputs": [],
      "source": [
        "import seaborn as sns\n",
        "\n",
        "ax = sns.heatmap(cf_matrix, annot=True, cmap='Blues')\n",
        "\n",
        "ax.set_title('Seaborn Confusion Matrix with labels\\n\\n');\n",
        "ax.set_xlabel('\\nPredicted Values')\n",
        "ax.set_ylabel('Actual Values ');\n",
        "\n",
        "## Ticket labels - List must be in alphabetical order\n",
        "ax.xaxis.set_ticklabels(['False','True'])\n",
        "ax.yaxis.set_ticklabels(['False','True'])\n",
        "\n",
        "## Display the visualization of the Confusion Matrix.\n",
        "plt.show()"
      ]
    },
    {
      "cell_type": "code",
      "execution_count": null,
      "metadata": {
        "id": "-lDA-KzmslJO"
      },
      "outputs": [],
      "source": [
        "from sklearn.metrics import precision_score,recall_score,f1_score,accuracy_score\n",
        "test_accuracy12 = accuracy_score(all_labels, all_preds)\n",
        "print('Accuracy: %.3f' % test_accuracy12)\n",
        "precision12 = precision_score(all_labels, all_preds, average='macro')\n",
        "print('Precision: %.3f' % precision12)\n",
        "recall12 = recall_score(all_labels, all_preds, average='macro')\n",
        "print('Recall: %.3f' % recall12)\n",
        "score12 = f1_score(all_labels, all_preds, average='macro')\n",
        "print('F-Measure: %.3f' % score12)"
      ]
    },
    {
      "cell_type": "markdown",
      "metadata": {
        "id": "pEGuduv7slJO"
      },
      "source": [
        "# For Looping"
      ]
    },
    {
      "cell_type": "code",
      "execution_count": null,
      "metadata": {
        "id": "Vf0iplfEslJO"
      },
      "outputs": [],
      "source": [
        "if precision12 >= precision and recall12 >= recall and score12 >= score :\n",
        "  torch.save(model2.state_dict(), \"/content/drive/MyDrive/Colab Notebooks/Dataset/news_model1.pth\")\n",
        "  precision = precision12\n",
        "  recall = recall12\n",
        "  score = score12\n",
        "  model.fc1.weight.data =model2.fc1.weight.data.clone()\n",
        "  model.fc1.bias.data =model2.fc1.bias.data.clone()\n",
        "  model.fc2.weight.data =model2.fc2.weight.data.clone()\n",
        "  model.fc2.bias.data =model2.fc2.bias.data.clone()"
      ]
    },
    {
      "cell_type": "code",
      "execution_count": null,
      "metadata": {
        "id": "DslgFaTYslJO"
      },
      "outputs": [],
      "source": []
    },
    {
      "cell_type": "markdown",
      "metadata": {
        "id": "yBxfGcoPslc9"
      },
      "source": [
        "# 13th Model\n"
      ]
    },
    {
      "cell_type": "code",
      "execution_count": null,
      "metadata": {
        "id": "zw6j6O8bslc9"
      },
      "outputs": [],
      "source": []
    },
    {
      "cell_type": "code",
      "execution_count": null,
      "metadata": {
        "id": "LRos1fBMslc9"
      },
      "outputs": [],
      "source": [
        "class NewsDatasets(Dataset):\n",
        "    def __init__(self, data, max_length=100):\n",
        "        self.data = data\n",
        "        \n",
        "        self.config = {\n",
        "            \"max_length\": max_length,\n",
        "            \"padding\": \"max_length\",\n",
        "            \"return_tensors\": \"pt\",\n",
        "            \"truncation\": True,\n",
        "            \"add_special_tokens\": True\n",
        "        }\n",
        "\n",
        "    def __len__(self):\n",
        "        return len(self.data)\n",
        "\n",
        "    def __getitem__(self, idx):\n",
        "        value = self.data.iloc[idx]\n",
        "        return value['head']+\"[SEP]\"+value['con'] , value['label']"
      ]
    },
    {
      "cell_type": "code",
      "execution_count": null,
      "metadata": {
        "id": "brRef_Oyslc-"
      },
      "outputs": [],
      "source": [
        "auth = pd.read_csv(\"/content/drive/MyDrive/Colab Notebooks/Dataset/For Sentiment/Division /40%/auth_set_13.csv\",encoding='UTF-8')\n",
        "fake = pd.read_csv(\"/content/drive/MyDrive/Colab Notebooks/Dataset/For Sentiment/Division /40%/fake_set_13.csv\",encoding='UTF-8')\n",
        "\n",
        "\n",
        "print(len(auth))\n",
        "print(len(fake))\n"
      ]
    },
    {
      "cell_type": "code",
      "execution_count": null,
      "metadata": {
        "id": "6liZV0THslc-"
      },
      "outputs": [],
      "source": [
        "\n",
        "#df = auth[:fake.shape[0]* 7]\n",
        "df = auth.append(fake)\n",
        "df = df.sample(frac=1).reset_index(drop=True)\n",
        "len(df)"
      ]
    },
    {
      "cell_type": "code",
      "execution_count": null,
      "metadata": {
        "id": "fYbJnNGtslc-"
      },
      "outputs": [],
      "source": [
        "from bnlp import BasicTokenizer\n",
        "from bnlp.corpus import stopwords, punctuations, letters, digits\n",
        "\n",
        "btokenizer = BasicTokenizer()\n",
        "\n",
        "def clean_text(text):\n",
        "    tokens = btokenizer.tokenize(text)\n",
        "    filtered = []\n",
        "    for i in tokens:\n",
        "        if i in stopwords:\n",
        "            continue\n",
        "    \n",
        "        if i in punctuations + '‘' + '’':\n",
        "            continue\n",
        "    \n",
        "        filtered.append(i)\n",
        "    \n",
        "    return \" \".join(filtered)\n",
        "\n",
        "print(\"********** Before ***************\")\n",
        "text = df.iloc[1]['content']\n",
        "print(text)\n",
        "print(\"\\n********** After ***************\")\n",
        "print(clean_text(text))"
      ]
    },
    {
      "cell_type": "code",
      "execution_count": null,
      "metadata": {
        "id": "97snIevVslc-"
      },
      "outputs": [],
      "source": [
        "undersample = RandomUnderSampler(sampling_strategy='majority')"
      ]
    },
    {
      "cell_type": "code",
      "execution_count": null,
      "metadata": {
        "id": "YCO_UUc2slc-"
      },
      "outputs": [],
      "source": [
        "df['head'] = df.headline.apply(clean_text)\n",
        "df['con'] = df.content.apply(clean_text)"
      ]
    },
    {
      "cell_type": "code",
      "execution_count": null,
      "metadata": {
        "id": "dXzeA4kmslc-"
      },
      "outputs": [],
      "source": [
        "x= df.drop('label', axis=1)\n",
        "y= df.label"
      ]
    },
    {
      "cell_type": "code",
      "execution_count": null,
      "metadata": {
        "id": "qTaQkhKhslc-"
      },
      "outputs": [],
      "source": [
        "X_train_resampled, y_train_resampled = undersample.fit_resample(x, y)"
      ]
    },
    {
      "cell_type": "code",
      "execution_count": null,
      "metadata": {
        "id": "N7jiro-Fslc_"
      },
      "outputs": [],
      "source": [
        "df = X_train_resampled.join(y_train_resampled)"
      ]
    },
    {
      "cell_type": "code",
      "execution_count": null,
      "metadata": {
        "id": "8eEnJ_lPslc_"
      },
      "outputs": [],
      "source": [
        "from sklearn.model_selection import train_test_split\n",
        "\n",
        "train_df, test_df = train_test_split(df, test_size=0.2, random_state=121, stratify=df['label'])"
      ]
    },
    {
      "cell_type": "code",
      "execution_count": null,
      "metadata": {
        "id": "zMbaEODmslc_"
      },
      "outputs": [],
      "source": [
        "len(train_df), len(test_df)"
      ]
    },
    {
      "cell_type": "code",
      "execution_count": null,
      "metadata": {
        "id": "C7w1Kalnslc_"
      },
      "outputs": [],
      "source": [
        "training_data = NewsDatasets(train_df)\n",
        "train_dataloader = DataLoader(training_data, batch_size=1, shuffle=True)"
      ]
    },
    {
      "cell_type": "code",
      "execution_count": null,
      "metadata": {
        "id": "nv6SqAS_slc_"
      },
      "outputs": [],
      "source": [
        "test_data = NewsDatasets(test_df)\n",
        "test_dataloader = DataLoader(test_data, batch_size=1, shuffle=True)"
      ]
    },
    {
      "cell_type": "code",
      "execution_count": null,
      "metadata": {
        "id": "xck3zBrpslc_"
      },
      "outputs": [],
      "source": [
        "class NewsBert2(nn.Module):\n",
        "\n",
        "    def __init__(self, bert):\n",
        "        super(NewsBert2, self).__init__()\n",
        "\n",
        "        self.bert = bert\n",
        "\n",
        "        # dropout layer\n",
        "        self.dropout = nn.Dropout(0.2)\n",
        "\n",
        "        # relu activation function\n",
        "        self.relu = nn.ReLU()\n",
        "\n",
        "        # dense layer 1\n",
        "        self.fc1 = nn.Linear(768, 128)\n",
        "\n",
        "        # dense layer 2 (Output layer)\n",
        "        self.fc2 = nn.Linear(128, 2)  \n",
        "\n",
        "    # define the forward pass\n",
        "    def forward(self, input_ids, token_type_ids, attention_mask):\n",
        "        # pass the inputs to the model\n",
        "        out = self.bert(input_ids, attention_mask=attention_mask, token_type_ids=token_type_ids)\n",
        "\n",
        "        x = self.fc1(out[1])\n",
        "        x = self.relu(x)\n",
        "        # output layer\n",
        "        x = self.fc2(self.dropout(x))\n",
        "        \n",
        "        return x"
      ]
    },
    {
      "cell_type": "code",
      "execution_count": null,
      "metadata": {
        "id": "ubN0sj0Aslc_"
      },
      "outputs": [],
      "source": [
        "bert_model_name = \"sagorsarker/bangla-bert-base\"\n",
        "bert = BertModel.from_pretrained(bert_model_name)\n",
        "tokenizer = BertTokenizer.from_pretrained(bert_model_name)"
      ]
    },
    {
      "cell_type": "code",
      "execution_count": null,
      "metadata": {
        "id": "HfGisoo3slc_"
      },
      "outputs": [],
      "source": [
        "device = torch.device(\"cuda\" if torch.cuda.is_available() else \"cpu\")\n",
        "model2 = NewsBert(bert)\n",
        "model2.to(device);"
      ]
    },
    {
      "cell_type": "code",
      "execution_count": null,
      "metadata": {
        "id": "I09mV01WsldA"
      },
      "outputs": [],
      "source": [
        "from torch.optim.lr_scheduler import StepLR\n",
        "\n",
        "optimizer = AdamW(model2.parameters(), lr=1e-5)\n",
        "criterion = nn.CrossEntropyLoss()\n",
        "scheduler = StepLR(optimizer, step_size=2, gamma=0.1)"
      ]
    },
    {
      "cell_type": "code",
      "execution_count": null,
      "metadata": {
        "id": "kBMaGwAesldA"
      },
      "outputs": [],
      "source": [
        "model2.fc1.weight.data =model.fc1.weight.data.clone()\n",
        "model2.fc1.bias.data =model.fc1.bias.data.clone()\n",
        "model2.fc2.weight.data =model.fc2.weight.data.clone()\n",
        "model2.fc2.bias.data =model.fc2.bias.data.clone()"
      ]
    },
    {
      "cell_type": "code",
      "execution_count": null,
      "metadata": {
        "id": "OpEA6aV8sldA"
      },
      "outputs": [],
      "source": [
        "print(model2.fc1.weight.data)"
      ]
    },
    {
      "cell_type": "code",
      "execution_count": null,
      "metadata": {
        "id": "7Nt7xmY8sldA"
      },
      "outputs": [],
      "source": [
        "def train(model, dataloader, optimizer, criterion, config):\n",
        "    model2.train()  # prep model for training\n",
        "    train_loss = 0\n",
        "    for batch in tqdm(dataloader):\n",
        "        text, labels = batch\n",
        "\n",
        "        model2.zero_grad()\n",
        "\n",
        "        inputs = tokenizer.batch_encode_plus(\n",
        "            text, **config\n",
        "        )\n",
        "        input_ids = inputs['input_ids'].to(device)\n",
        "        token_type_ids = inputs['token_type_ids'].to(device)\n",
        "        attention_mask = inputs['attention_mask'].to(device)\n",
        "        labels = labels.to(device)\n",
        "\n",
        "        # move things to model\n",
        "        logs = model2(token_type_ids=token_type_ids, input_ids=input_ids, attention_mask=attention_mask)\n",
        "\n",
        "        loss = criterion(logs, labels)\n",
        "        train_loss += loss.item() * input_ids.size(0)\n",
        "        loss.backward()\n",
        "\n",
        "        # clip the the gradients to 1.0. It helps in preventing the exploding gradient problem\n",
        "        nn.utils.clip_grad_norm_(model2.parameters(), 1.0)\n",
        "        optimizer.step()\n",
        "\n",
        "    return train_loss"
      ]
    },
    {
      "cell_type": "code",
      "execution_count": null,
      "metadata": {
        "id": "NADeS9qjsldA"
      },
      "outputs": [],
      "source": [
        "def evaluate(model, dataloader, criterion, config):\n",
        "    total = 0\n",
        "    correct = 0\n",
        "    valid_loss = 0.0\n",
        "\n",
        "    model2.eval()  # prep model for evaluation\n",
        "    for batch in dataloader:\n",
        "        text, labels = batch\n",
        "        inputs = tokenizer.batch_encode_plus(\n",
        "            text, **config\n",
        "        )\n",
        "        input_ids = inputs['input_ids'].to(device)\n",
        "        token_type_ids = inputs['token_type_ids'].to(device)\n",
        "        attention_mask = inputs['attention_mask'].to(device)\n",
        "        labels = labels.to(device)\n",
        "\n",
        "        # move things to model\n",
        "        output = model2(token_type_ids=token_type_ids, input_ids=input_ids, attention_mask=attention_mask)\n",
        "\n",
        "        loss_p = criterion(output, labels)\n",
        "        # update running validation loss\n",
        "        valid_loss += loss_p.item() * input_ids.size(0)\n",
        "        # calculate accuracy\n",
        "        proba = torch.exp(output)\n",
        "        top_p, top_class = proba.topk(1, dim=1)\n",
        "        equals = top_class == labels.view(*top_class.shape)\n",
        "        # accuracy += torch.mean(equals.type(torch.FloatTensor)).item()\n",
        "\n",
        "        _, predicted = torch.max(output.data, 1)\n",
        "        total += labels.size(0)\n",
        "        correct += (predicted == labels).sum().item()\n",
        "\n",
        "    return total, correct, valid_loss"
      ]
    },
    {
      "cell_type": "code",
      "execution_count": null,
      "metadata": {
        "id": "1W30ekh-sldA"
      },
      "outputs": [],
      "source": [
        "epochs = 5\n",
        "tokenizer_config = {\n",
        "    \"max_length\": 100,\n",
        "    \"padding\": \"max_length\",\n",
        "    \"return_tensors\": \"pt\",\n",
        "    \"truncation\": True,\n",
        "    \"add_special_tokens\": True\n",
        "}"
      ]
    },
    {
      "cell_type": "code",
      "execution_count": null,
      "metadata": {
        "id": "OoVur7JZsldA"
      },
      "outputs": [],
      "source": [
        "train_loss_data, valid_loss_data = [], []\n",
        "valid_loss_min = np.Inf\n",
        "since = time.time()\n",
        "best_loss = np.inf\n",
        "\n",
        "for epoch in range(epochs):\n",
        "    print(\"Epoch: {}/{}\".format(epoch + 1, epochs))\n",
        "    # monitor training loss\n",
        "    train_loss = 0.0\n",
        "    valid_loss = 0.0\n",
        "    total = 0\n",
        "    correct = 0\n",
        "    e_since = time.time()\n",
        "\n",
        "    # Train Model\n",
        "    train_loss += train(model2, train_dataloader, optimizer, criterion, tokenizer_config)\n",
        "    # Now Evaluate\n",
        "    out = evaluate(model2, test_dataloader, criterion, tokenizer_config)\n",
        "    total += out[0]\n",
        "    correct += out[1]\n",
        "    valid_loss += out[2]\n",
        "    \n",
        "    scheduler.step()\n",
        "\n",
        "    # print training/validation statistics\n",
        "    # calculate average loss over an epoch\n",
        "    train_loss = train_loss / len(train_dataloader.dataset)\n",
        "    valid_loss = valid_loss / len(test_dataloader.dataset)\n",
        "\n",
        "    # calculate train loss and running loss\n",
        "    train_loss_data.append(train_loss * 100)\n",
        "    valid_loss_data.append(valid_loss * 100)\n",
        "    \n",
        "    if valid_loss < best_loss:\n",
        "        best_loss = valid_loss\n",
        "        torch.save(model2.state_dict(), \"/content/drive/MyDrive/Colab Notebooks/Dataset/news_model2.pth\")\n",
        "\n",
        "    print(\"\\tTrain loss:{:.6f}..\".format(train_loss),\n",
        "          \"\\tValid Loss:{:.6f}..\".format(valid_loss),\n",
        "          \"\\tAccuracy: {:.4f}\".format(correct / total * 100))\n",
        "\n",
        "time_elapsed = time.time() - since\n",
        "print('Training completed in {:.0f}m {:.0f}s'.format(\n",
        "    time_elapsed // 60, time_elapsed % 60))"
      ]
    },
    {
      "cell_type": "code",
      "execution_count": null,
      "metadata": {
        "id": "rwubcsYdsldB"
      },
      "outputs": [],
      "source": [
        "training_acc13 = correct / total * 100\n",
        "training_acc13"
      ]
    },
    {
      "cell_type": "code",
      "execution_count": null,
      "metadata": {
        "id": "oTXBbWzksldB"
      },
      "outputs": [],
      "source": [
        "from matplotlib import pyplot as plt\n",
        "\n",
        "plt.plot(train_loss_data, label=\"Training loss\")\n",
        "plt.plot(valid_loss_data, label=\"validation loss\")\n",
        "plt.legend(frameon=False)"
      ]
    },
    {
      "cell_type": "code",
      "execution_count": null,
      "metadata": {
        "id": "_51AzWElsldB"
      },
      "outputs": [],
      "source": [
        "from google.colab import output\n",
        "output.enable_custom_widget_manager()"
      ]
    },
    {
      "cell_type": "code",
      "execution_count": null,
      "metadata": {
        "id": "6fSciOoKsldB"
      },
      "outputs": [],
      "source": [
        "from google.colab import output\n",
        "output.disable_custom_widget_manager()"
      ]
    },
    {
      "cell_type": "code",
      "execution_count": null,
      "metadata": {
        "id": "pox_nLJXsldB"
      },
      "outputs": [],
      "source": [
        "model2.load_state_dict(torch.load(\"/content/drive/MyDrive/Colab Notebooks/Dataset/news_model2.pth\", map_location = device))"
      ]
    },
    {
      "cell_type": "code",
      "execution_count": null,
      "metadata": {
        "id": "_TSsp0ebsldB"
      },
      "outputs": [],
      "source": [
        "all_preds = []\n",
        "all_labels = []\n",
        "\n",
        "for batch in test_dataloader:\n",
        "    text, labels = batch\n",
        "    inputs = tokenizer.batch_encode_plus(\n",
        "        text, **tokenizer_config\n",
        "    )\n",
        "    input_ids = inputs['input_ids'].to(device)\n",
        "    token_type_ids = inputs['token_type_ids'].to(device)\n",
        "    attention_mask = inputs['attention_mask'].to(device)\n",
        "    labels = labels.to(device)\n",
        "\n",
        "    # move things to model\n",
        "    output = model2(token_type_ids=token_type_ids, input_ids=input_ids, attention_mask=attention_mask)\n",
        "    preds = output.detach().cpu().numpy()\n",
        "    preds = np.argmax(preds, axis = 1)\n",
        "    all_preds.extend(preds)\n",
        "    all_labels.extend(labels.cpu().numpy())"
      ]
    },
    {
      "cell_type": "code",
      "execution_count": null,
      "metadata": {
        "id": "h7WAe7R8sldB"
      },
      "outputs": [],
      "source": [
        "from sklearn.metrics import classification_report\n",
        "\n",
        "# preds = np.argmax(preds, axis = 1)\n",
        "print(classification_report(all_labels, all_preds))"
      ]
    },
    {
      "cell_type": "code",
      "execution_count": null,
      "metadata": {
        "id": "kwmd-nsksldB"
      },
      "outputs": [],
      "source": [
        "print(model2.fc1.weight.data)"
      ]
    },
    {
      "cell_type": "code",
      "execution_count": null,
      "metadata": {
        "id": "LwOFd2ATsldB"
      },
      "outputs": [],
      "source": [
        "cf_matrix = confusion_matrix(all_labels, all_preds)  "
      ]
    },
    {
      "cell_type": "code",
      "execution_count": null,
      "metadata": {
        "id": "XubKIuF2sldC"
      },
      "outputs": [],
      "source": [
        "import seaborn as sns\n",
        "\n",
        "ax = sns.heatmap(cf_matrix, annot=True, cmap='Blues')\n",
        "\n",
        "ax.set_title('Seaborn Confusion Matrix with labels\\n\\n');\n",
        "ax.set_xlabel('\\nPredicted Values')\n",
        "ax.set_ylabel('Actual Values ');\n",
        "\n",
        "## Ticket labels - List must be in alphabetical order\n",
        "ax.xaxis.set_ticklabels(['False','True'])\n",
        "ax.yaxis.set_ticklabels(['False','True'])\n",
        "\n",
        "## Display the visualization of the Confusion Matrix.\n",
        "plt.show()"
      ]
    },
    {
      "cell_type": "code",
      "execution_count": null,
      "metadata": {
        "id": "Jnq0lPogsldC"
      },
      "outputs": [],
      "source": [
        "from sklearn.metrics import precision_score,recall_score,f1_score,accuracy_score\n",
        "test_accuracy13 = accuracy_score(all_labels, all_preds)\n",
        "print('Accuracy: %.3f' % test_accuracy13)\n",
        "precision13 = precision_score(all_labels, all_preds, average='macro')\n",
        "print('Precision: %.3f' % precision13)\n",
        "recall13 = recall_score(all_labels, all_preds, average='macro')\n",
        "print('Recall: %.3f' % recall13)\n",
        "score13 = f1_score(all_labels, all_preds, average='macro')\n",
        "print('F-Measure: %.3f' % score13)"
      ]
    },
    {
      "cell_type": "markdown",
      "metadata": {
        "id": "BP1xHUIVsldC"
      },
      "source": [
        "# For Looping"
      ]
    },
    {
      "cell_type": "code",
      "execution_count": null,
      "metadata": {
        "id": "rpPMuRuRsldC"
      },
      "outputs": [],
      "source": [
        "if precision13 >= precision and recall13 >= recall and score13 >= score :\n",
        "  torch.save(model2.state_dict(), \"/content/drive/MyDrive/Colab Notebooks/Dataset/news_model1.pth\")\n",
        "  precision = precision13\n",
        "  recall = recall13\n",
        "  score = score13\n",
        "  model.fc1.weight.data =model2.fc1.weight.data.clone()\n",
        "  model.fc1.bias.data =model2.fc1.bias.data.clone()\n",
        "  model.fc2.weight.data =model2.fc2.weight.data.clone()\n",
        "  model.fc2.bias.data =model2.fc2.bias.data.clone()"
      ]
    },
    {
      "cell_type": "code",
      "execution_count": null,
      "metadata": {
        "id": "PGLq1FeJsldC"
      },
      "outputs": [],
      "source": []
    }
  ],
  "metadata": {
    "accelerator": "GPU",
    "colab": {
      "provenance": [],
      "include_colab_link": true
    },
    "gpuClass": "standard",
    "kernelspec": {
      "display_name": "Python 3",
      "language": "python",
      "name": "python3"
    },
    "language_info": {
      "codemirror_mode": {
        "name": "ipython",
        "version": 3
      },
      "file_extension": ".py",
      "mimetype": "text/x-python",
      "name": "python",
      "nbconvert_exporter": "python",
      "pygments_lexer": "ipython3",
      "version": "3.7.12"
    },
    "widgets": {
      "application/vnd.jupyter.widget-state+json": {
        "02f83d2857ac4cd48fee6e1b2808ccd8": {
          "model_module": "@jupyter-widgets/controls",
          "model_module_version": "1.5.0",
          "model_name": "DescriptionStyleModel",
          "state": {
            "_model_module": "@jupyter-widgets/controls",
            "_model_module_version": "1.5.0",
            "_model_name": "DescriptionStyleModel",
            "_view_count": null,
            "_view_module": "@jupyter-widgets/base",
            "_view_module_version": "1.2.0",
            "_view_name": "StyleView",
            "description_width": ""
          }
        },
        "237ec9a46ba645f68203e82e9434fb3e": {
          "model_module": "@jupyter-widgets/base",
          "model_module_version": "1.2.0",
          "model_name": "LayoutModel",
          "state": {
            "_model_module": "@jupyter-widgets/base",
            "_model_module_version": "1.2.0",
            "_model_name": "LayoutModel",
            "_view_count": null,
            "_view_module": "@jupyter-widgets/base",
            "_view_module_version": "1.2.0",
            "_view_name": "LayoutView",
            "align_content": null,
            "align_items": null,
            "align_self": null,
            "border": null,
            "bottom": null,
            "display": null,
            "flex": null,
            "flex_flow": null,
            "grid_area": null,
            "grid_auto_columns": null,
            "grid_auto_flow": null,
            "grid_auto_rows": null,
            "grid_column": null,
            "grid_gap": null,
            "grid_row": null,
            "grid_template_areas": null,
            "grid_template_columns": null,
            "grid_template_rows": null,
            "height": null,
            "justify_content": null,
            "justify_items": null,
            "left": null,
            "margin": null,
            "max_height": null,
            "max_width": null,
            "min_height": null,
            "min_width": null,
            "object_fit": null,
            "object_position": null,
            "order": null,
            "overflow": null,
            "overflow_x": null,
            "overflow_y": null,
            "padding": null,
            "right": null,
            "top": null,
            "visibility": null,
            "width": null
          }
        },
        "2e1df52bfb5546f18153329b180fd924": {
          "model_module": "@jupyter-widgets/controls",
          "model_module_version": "1.5.0",
          "model_name": "ProgressStyleModel",
          "state": {
            "_model_module": "@jupyter-widgets/controls",
            "_model_module_version": "1.5.0",
            "_model_name": "ProgressStyleModel",
            "_view_count": null,
            "_view_module": "@jupyter-widgets/base",
            "_view_module_version": "1.2.0",
            "_view_name": "StyleView",
            "bar_color": null,
            "description_width": ""
          }
        },
        "4443dac0fca4413598a6219061a3c3bd": {
          "model_module": "@jupyter-widgets/controls",
          "model_module_version": "1.5.0",
          "model_name": "HTMLModel",
          "state": {
            "_dom_classes": [],
            "_model_module": "@jupyter-widgets/controls",
            "_model_module_version": "1.5.0",
            "_model_name": "HTMLModel",
            "_view_count": null,
            "_view_module": "@jupyter-widgets/controls",
            "_view_module_version": "1.5.0",
            "_view_name": "HTMLView",
            "description": "",
            "description_tooltip": null,
            "layout": "IPY_MODEL_237ec9a46ba645f68203e82e9434fb3e",
            "placeholder": "​",
            "style": "IPY_MODEL_7888a0ad517344e4b1566b513474222d",
            "value": " 0/0 [00:00&lt;?, ?it/s]"
          }
        },
        "4e3ed5a3f3814306afb6644007c11ec7": {
          "model_module": "@jupyter-widgets/base",
          "model_module_version": "1.2.0",
          "model_name": "LayoutModel",
          "state": {
            "_model_module": "@jupyter-widgets/base",
            "_model_module_version": "1.2.0",
            "_model_name": "LayoutModel",
            "_view_count": null,
            "_view_module": "@jupyter-widgets/base",
            "_view_module_version": "1.2.0",
            "_view_name": "LayoutView",
            "align_content": null,
            "align_items": null,
            "align_self": null,
            "border": null,
            "bottom": null,
            "display": null,
            "flex": null,
            "flex_flow": null,
            "grid_area": null,
            "grid_auto_columns": null,
            "grid_auto_flow": null,
            "grid_auto_rows": null,
            "grid_column": null,
            "grid_gap": null,
            "grid_row": null,
            "grid_template_areas": null,
            "grid_template_columns": null,
            "grid_template_rows": null,
            "height": null,
            "justify_content": null,
            "justify_items": null,
            "left": null,
            "margin": null,
            "max_height": null,
            "max_width": null,
            "min_height": null,
            "min_width": null,
            "object_fit": null,
            "object_position": null,
            "order": null,
            "overflow": null,
            "overflow_x": null,
            "overflow_y": null,
            "padding": null,
            "right": null,
            "top": null,
            "visibility": null,
            "width": "20px"
          }
        },
        "60426a7c56514c7f97d0ab2b47269b33": {
          "model_module": "@jupyter-widgets/base",
          "model_module_version": "1.2.0",
          "model_name": "LayoutModel",
          "state": {
            "_model_module": "@jupyter-widgets/base",
            "_model_module_version": "1.2.0",
            "_model_name": "LayoutModel",
            "_view_count": null,
            "_view_module": "@jupyter-widgets/base",
            "_view_module_version": "1.2.0",
            "_view_name": "LayoutView",
            "align_content": null,
            "align_items": null,
            "align_self": null,
            "border": null,
            "bottom": null,
            "display": null,
            "flex": null,
            "flex_flow": null,
            "grid_area": null,
            "grid_auto_columns": null,
            "grid_auto_flow": null,
            "grid_auto_rows": null,
            "grid_column": null,
            "grid_gap": null,
            "grid_row": null,
            "grid_template_areas": null,
            "grid_template_columns": null,
            "grid_template_rows": null,
            "height": null,
            "justify_content": null,
            "justify_items": null,
            "left": null,
            "margin": null,
            "max_height": null,
            "max_width": null,
            "min_height": null,
            "min_width": null,
            "object_fit": null,
            "object_position": null,
            "order": null,
            "overflow": null,
            "overflow_x": null,
            "overflow_y": null,
            "padding": null,
            "right": null,
            "top": null,
            "visibility": null,
            "width": null
          }
        },
        "65efc570b3d44d36a36a37b3830bfd96": {
          "model_module": "@jupyter-widgets/controls",
          "model_module_version": "1.5.0",
          "model_name": "HTMLModel",
          "state": {
            "_dom_classes": [],
            "_model_module": "@jupyter-widgets/controls",
            "_model_module_version": "1.5.0",
            "_model_name": "HTMLModel",
            "_view_count": null,
            "_view_module": "@jupyter-widgets/controls",
            "_view_module_version": "1.5.0",
            "_view_name": "HTMLView",
            "description": "",
            "description_tooltip": null,
            "layout": "IPY_MODEL_60426a7c56514c7f97d0ab2b47269b33",
            "placeholder": "​",
            "style": "IPY_MODEL_02f83d2857ac4cd48fee6e1b2808ccd8",
            "value": ""
          }
        },
        "7888a0ad517344e4b1566b513474222d": {
          "model_module": "@jupyter-widgets/controls",
          "model_module_version": "1.5.0",
          "model_name": "DescriptionStyleModel",
          "state": {
            "_model_module": "@jupyter-widgets/controls",
            "_model_module_version": "1.5.0",
            "_model_name": "DescriptionStyleModel",
            "_view_count": null,
            "_view_module": "@jupyter-widgets/base",
            "_view_module_version": "1.2.0",
            "_view_name": "StyleView",
            "description_width": ""
          }
        },
        "9f6723c362c04b59b8a75ec4e9438aba": {
          "model_module": "@jupyter-widgets/controls",
          "model_module_version": "1.5.0",
          "model_name": "HBoxModel",
          "state": {
            "_dom_classes": [],
            "_model_module": "@jupyter-widgets/controls",
            "_model_module_version": "1.5.0",
            "_model_name": "HBoxModel",
            "_view_count": null,
            "_view_module": "@jupyter-widgets/controls",
            "_view_module_version": "1.5.0",
            "_view_name": "HBoxView",
            "box_style": "",
            "children": [
              "IPY_MODEL_65efc570b3d44d36a36a37b3830bfd96",
              "IPY_MODEL_ca688adea8a94629820510e2540d70b0",
              "IPY_MODEL_4443dac0fca4413598a6219061a3c3bd"
            ],
            "layout": "IPY_MODEL_dd39a7a5eefc4a8b914c8b8bf5b84537"
          }
        },
        "ca688adea8a94629820510e2540d70b0": {
          "model_module": "@jupyter-widgets/controls",
          "model_module_version": "1.5.0",
          "model_name": "FloatProgressModel",
          "state": {
            "_dom_classes": [],
            "_model_module": "@jupyter-widgets/controls",
            "_model_module_version": "1.5.0",
            "_model_name": "FloatProgressModel",
            "_view_count": null,
            "_view_module": "@jupyter-widgets/controls",
            "_view_module_version": "1.5.0",
            "_view_name": "ProgressView",
            "bar_style": "success",
            "description": "",
            "description_tooltip": null,
            "layout": "IPY_MODEL_4e3ed5a3f3814306afb6644007c11ec7",
            "max": 1,
            "min": 0,
            "orientation": "horizontal",
            "style": "IPY_MODEL_2e1df52bfb5546f18153329b180fd924",
            "value": 0
          }
        },
        "dd39a7a5eefc4a8b914c8b8bf5b84537": {
          "model_module": "@jupyter-widgets/base",
          "model_module_version": "1.2.0",
          "model_name": "LayoutModel",
          "state": {
            "_model_module": "@jupyter-widgets/base",
            "_model_module_version": "1.2.0",
            "_model_name": "LayoutModel",
            "_view_count": null,
            "_view_module": "@jupyter-widgets/base",
            "_view_module_version": "1.2.0",
            "_view_name": "LayoutView",
            "align_content": null,
            "align_items": null,
            "align_self": null,
            "border": null,
            "bottom": null,
            "display": null,
            "flex": null,
            "flex_flow": null,
            "grid_area": null,
            "grid_auto_columns": null,
            "grid_auto_flow": null,
            "grid_auto_rows": null,
            "grid_column": null,
            "grid_gap": null,
            "grid_row": null,
            "grid_template_areas": null,
            "grid_template_columns": null,
            "grid_template_rows": null,
            "height": null,
            "justify_content": null,
            "justify_items": null,
            "left": null,
            "margin": null,
            "max_height": null,
            "max_width": null,
            "min_height": null,
            "min_width": null,
            "object_fit": null,
            "object_position": null,
            "order": null,
            "overflow": null,
            "overflow_x": null,
            "overflow_y": null,
            "padding": null,
            "right": null,
            "top": null,
            "visibility": null,
            "width": null
          }
        }
      }
    }
  },
  "nbformat": 4,
  "nbformat_minor": 0
}